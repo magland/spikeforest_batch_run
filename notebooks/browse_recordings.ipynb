{
  "nbformat": 4,
  "nbformat_minor": 0,
  "metadata": {
    "colab": {
      "name": "browse_recordings.ipynb",
      "version": "0.3.2",
      "provenance": [],
      "toc_visible": true,
      "include_colab_link": true
    },
    "kernelspec": {
      "name": "python3",
      "display_name": "Python 3"
    }
  },
  "cells": [
    {
      "cell_type": "markdown",
      "metadata": {
        "id": "view-in-github",
        "colab_type": "text"
      },
      "source": [
        "<a href=\"https://colab.research.google.com/github/magland/spikeforest_batch_run/blob/master/notebooks/browse_recordings.ipynb\" target=\"_parent\"><img src=\"https://colab.research.google.com/assets/colab-badge.svg\" alt=\"Open In Colab\"/></a>"
      ]
    },
    {
      "metadata": {
        "id": "hOKoCBylXY99",
        "colab_type": "text"
      },
      "cell_type": "markdown",
      "source": [
        "# Browse recordings\n",
        "\n",
        "This notebook allows you to browse the SpikeForest studies and recordings."
      ]
    },
    {
      "metadata": {
        "id": "UZZAEKHcXHE3",
        "colab_type": "code",
        "colab": {}
      },
      "cell_type": "code",
      "source": [
        "# Only run this cell if you are running this on a hosted runtime that does not have these packages installed\n",
        "# %%capture is used to suppress the output... this should take up to a minute to complete\n",
        "%%capture\n",
        "!pip install spikeforest"
      ],
      "execution_count": 0,
      "outputs": []
    },
    {
      "metadata": {
        "id": "fKfWo8xCXyoj",
        "colab_type": "code",
        "colab": {
          "base_uri": "https://localhost:8080/",
          "height": 105
        },
        "outputId": "5e5348a2-b3df-4454-878c-417da800a5de"
      },
      "cell_type": "code",
      "source": [
        "# Import the python packages -- autoreload is used for development purposes\n",
        "%load_ext autoreload\n",
        "%autoreload 2\n",
        "\n",
        "import spikeforest as sf\n",
        "import spikewidgets as sw\n",
        "import vdomr as vd\n",
        "import json\n",
        "\n",
        "## Configure readonly access to kbucket\n",
        "sf.kbucketConfigRemote(name='spikeforest1-readonly')\n",
        "\n",
        "## Load the SpikeForest data\n",
        "SF=sf.SFData()\n",
        "SF.loadRecordings(key=dict(name='spikeforest_bionet_recordings'))\n",
        "SF.loadRecordings(key=dict(name='spikeforest_magland_synth_recordings'))\n",
        "SF.loadRecordings(key=dict(name='spikeforest_mearec_tetrode_recordings'))\n",
        "SF.loadProcessingBatch(key=dict(batch_name='summarize_recordings_bionet',name='job_results'))\n",
        "SF.loadProcessingBatch(key=dict(batch_name='summarize_recordings_magland_synth',name='job_results'))\n",
        "SF.loadProcessingBatch(key=dict(batch_name='summarize_recordings_mearec_tetrode',name='job_results'))"
      ],
      "execution_count": 4,
      "outputs": [
        {
          "output_type": "stream",
          "text": [
            "The autoreload extension is already loaded. To reload it, use:\n",
            "  %reload_ext autoreload\n",
            "Loaded 0 sorting results and 36 recording summary results\n",
            "Loaded 0 sorting results and 80 recording summary results\n",
            "Loaded 0 sorting results and 40 recording summary results\n"
          ],
          "name": "stdout"
        }
      ]
    },
    {
      "metadata": {
        "id": "L0S6zuihqWmn",
        "colab_type": "code",
        "colab": {}
      },
      "cell_type": "code",
      "source": [
        "from PIL import Image\n",
        "from matplotlib import pyplot as plt\n",
        "import base64\n",
        "\n",
        "class SelectBox(vd.Component):\n",
        "    def __init__(self,options=[]):\n",
        "        vd.Component.__init__(self)\n",
        "        self._on_change_handlers=[]\n",
        "        self._value=None\n",
        "        self.setOptions(options)\n",
        "        \n",
        "    def setOptions(self,options):\n",
        "        self._options=options\n",
        "        if self._value not in options:\n",
        "          self._value=options[0] if options else None\n",
        "        self.refresh()\n",
        "        \n",
        "    def value(self):\n",
        "        return self._value\n",
        "    \n",
        "    def setValue(self,value):\n",
        "        self._value=value\n",
        "        self.refresh()\n",
        "        \n",
        "    def onChange(self,handler):\n",
        "        self._on_change_handlers.append(handler)\n",
        "        \n",
        "    def _on_change(self,value):\n",
        "        self._value=value\n",
        "        for handler in self._on_change_handlers:\n",
        "            handler(value=value)\n",
        "        \n",
        "    def render(self):\n",
        "        opts=[]\n",
        "        for option in self._options:\n",
        "            if option==self._value:\n",
        "              opts.append(vd.option(option,selected='selected'))\n",
        "            else:\n",
        "              opts.append(vd.option(option))\n",
        "        X=vd.select(opts,onchange=self._on_change)\n",
        "        return X\n",
        "      \n",
        "class ImageView(vd.Component):\n",
        "  def __init__(self):\n",
        "    vd.Component.__init__(self)\n",
        "    self._url=''\n",
        "  def setUrl(self,url):\n",
        "    self._url=url\n",
        "    self.refresh()\n",
        "  def render(self):\n",
        "    return vd.img(src=self._url)\n",
        "      \n",
        "class RecordingControlWidget(vd.Component):\n",
        "  def __init__(self,sfdata,recording=None):\n",
        "    vd.Component.__init__(self)\n",
        "    vd.devel.loadBootstrap()\n",
        "    self._SF=sfdata\n",
        "    \n",
        "    self._plot_select_box=SelectBox()\n",
        "    self._image_view=ImageView()\n",
        "    \n",
        "    self._plot_select_box.onChange(self._on_change)\n",
        "    \n",
        "    self._set_recording(recording)\n",
        "    self._update_image()\n",
        "    \n",
        "  def _set_recording(self,recording):\n",
        "    self._recording=recording\n",
        "    R=self._recording\n",
        "    options=[]\n",
        "    if R:\n",
        "      options=options+['electrode geometry','timeseries']\n",
        "      options=options+['pregenerated: '+str for str in R.plotNames()]\n",
        "    self._plot_select_box.setOptions(options)\n",
        "    \n",
        "  def setRecording(self,recording):\n",
        "    self._set_recording(recording)\n",
        "    self.refresh()\n",
        "    self._update_image()\n",
        "    \n",
        "  def _get_url_for_image_file(self,path,format='png'):\n",
        "    encoded=base64.b64encode(open(path, \"rb\").read()).decode()\n",
        "    url='data:image/{};base64,{}'.format(format,encoded)\n",
        "    return url\n",
        "    \n",
        "  def _get_url_for_plot(self):\n",
        "    tmp_fname='test.png'\n",
        "    plt.savefig(tmp_fname)\n",
        "    plt.close()\n",
        "    return self._get_url_for_image_file(tmp_fname)\n",
        "    \n",
        "  def _update_image(self):\n",
        "    R=self._recording\n",
        "    if not R:\n",
        "      self._image_view.setUrl('')\n",
        "      return\n",
        "    val=self._plot_select_box.value()\n",
        "    if val=='timeseries':\n",
        "      RX=R.recordingExtractor()\n",
        "      RX=sw.lazyfilters.bandpass_filter(RX)\n",
        "      sw.TimeseriesWidget(recording=RX).plot()\n",
        "      url=self._get_url_for_plot()\n",
        "      self._image_view.setUrl(url)\n",
        "    elif val=='electrode geometry':\n",
        "      RX=R.recordingExtractor()\n",
        "      sw.ElectrodeGeometryWidget(recording=RX).plot(width=1,height=1)\n",
        "      url=self._get_url_for_plot()\n",
        "      self._image_view.setUrl(url)\n",
        "    elif val in ['pregenerated: '+str for str in R.plotNames()]:\n",
        "      fname=R.plot(val[len('pregenerated: '):],format='path')\n",
        "      url=self._get_url_for_image_file(fname,format='jpg')\n",
        "      self._image_view.setUrl(url)\n",
        "      \n",
        "    #self._image_view.setUrl('https://css-tricks.com/wp-content/themes/CSS-Tricks-16/ads/wufoo/wufoo-clocks.png')\n",
        "\n",
        "  def _on_change(self,value):\n",
        "    self._update_image()\n",
        "    #self.refresh()\n",
        "  #def showSelectedView(self):\n",
        "  #  \n",
        "  #  else:\n",
        "  #    raise Exception('Unexpected option: ',val)\n",
        "  def render(self):\n",
        "    R=self._recording\n",
        "    if not R:\n",
        "      return vd.div()\n",
        "    info_header=vd.div(\n",
        "        vd.table(\n",
        "            vd.tr(\n",
        "                vd.th('Study'),vd.th('Recording'),vd.th('Directory')\n",
        "            ),\n",
        "            vd.tr(\n",
        "                vd.td(R.study().name()),vd.td(R.name()),vd.td(R.directory())\n",
        "            ),\n",
        "            class_='table',\n",
        "        )\n",
        "    )\n",
        "    body=vd.div(\n",
        "        vd.table(\n",
        "            vd.tr(\n",
        "                vd.td('Select a plot: '),\n",
        "                vd.td(self._plot_select_box)\n",
        "            ),\n",
        "            class_='table'\n",
        "        )\n",
        "    )\n",
        "    ret=vd.div(info_header,body,vd.div(self._image_view))\n",
        "    return ret"
      ],
      "execution_count": 0,
      "outputs": []
    },
    {
      "metadata": {
        "id": "nxqkURv1X1nd",
        "colab_type": "code",
        "colab": {}
      },
      "cell_type": "code",
      "source": [
        "display(vd.h1('Browse recordings'))\n",
        "X=sf.SFSelectWidget(sfdata=SF,mode='recording')\n",
        "\n",
        "C=RecordingControlWidget(sfdata=SF)\n",
        "\n",
        "def on_recording_changed():\n",
        "  C.setRecording(recording=X.recording())\n",
        "X.onChange(on_recording_changed)\n",
        "\n",
        "display(X)\n",
        "display(C)\n",
        "\n",
        "C.setRecording(recording=X.recording())"
      ],
      "execution_count": 0,
      "outputs": []
    },
    {
      "metadata": {
        "id": "SYvvgiAdkOIp",
        "colab_type": "code",
        "colab": {}
      },
      "cell_type": "code",
      "source": [
        ""
      ],
      "execution_count": 0,
      "outputs": []
    }
  ]
}