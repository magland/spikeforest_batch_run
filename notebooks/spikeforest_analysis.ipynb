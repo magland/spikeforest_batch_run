{
  "nbformat": 4,
  "nbformat_minor": 0,
  "metadata": {
    "colab": {
      "name": "spikeforest_analysis.ipynb",
      "version": "0.3.2",
      "provenance": [],
      "collapsed_sections": [
        "blWcqWOIhzkc",
        "rvCvUJ1JiZX1",
        "TKwgGlPKh5uE",
        "1vvFYgXjmetF",
        "dfDRhV7jpVgy",
        "fL2QjjBPqXS7"
      ],
      "include_colab_link": true
    },
    "kernelspec": {
      "name": "python3",
      "display_name": "Python 3"
    }
  },
  "cells": [
    {
      "cell_type": "markdown",
      "metadata": {
        "id": "view-in-github",
        "colab_type": "text"
      },
      "source": [
        "<a href=\"https://colab.research.google.com/github/magland/spikeforest_batch_run/blob/master/notebooks/spikeforest_analysis.ipynb\" target=\"_parent\"><img src=\"https://colab.research.google.com/assets/colab-badge.svg\" alt=\"Open In Colab\"/></a>"
      ]
    },
    {
      "metadata": {
        "id": "xfQAJFPFgbzE",
        "colab_type": "text"
      },
      "cell_type": "markdown",
      "source": [
        "# SpikeForest analysis"
      ]
    },
    {
      "metadata": {
        "id": "Fcx4kQoVt374",
        "colab_type": "text"
      },
      "cell_type": "markdown",
      "source": [
        "This notebook represents a complete spikeforest analysis of the bionet studies. You should execute the first few cells and then skip down to the section of interest below."
      ]
    },
    {
      "metadata": {
        "id": "vtsE5P3EgXYr",
        "colab_type": "code",
        "colab": {}
      },
      "cell_type": "code",
      "source": [
        "# Only run this cell if you are running this on a hosted runtime that does not have these packages installed\n",
        "# %%capture is used to suppress the output... this should take up to a minute to complete\n",
        "%%capture\n",
        "!pip install spikeforest\n",
        "!pip install git+https://github.com/magland/spikeforest_batch_run"
      ],
      "execution_count": 0,
      "outputs": []
    },
    {
      "metadata": {
        "id": "P3-FpNWUgWln",
        "colab_type": "code",
        "outputId": "b0343ccd-bf66-4e53-c352-9cc08d8eceb1",
        "colab": {
          "base_uri": "https://localhost:8080/",
          "height": 50
        }
      },
      "cell_type": "code",
      "source": [
        "# Import the python packages -- autoreload is used for development purposes\n",
        "%load_ext autoreload\n",
        "%autoreload 2\n",
        "\n",
        "import os\n",
        "os.environ['VDOMR_MODE']='COLAB'\n",
        "\n",
        "import spikeforest as sf\n",
        "from kbucket import client as kb\n",
        "import vdomr as vd"
      ],
      "execution_count": 18,
      "outputs": [
        {
          "output_type": "stream",
          "text": [
            "The autoreload extension is already loaded. To reload it, use:\n",
            "  %reload_ext autoreload\n"
          ],
          "name": "stdout"
        }
      ]
    },
    {
      "metadata": {
        "id": "_JHpizoTul8M",
        "colab_type": "code",
        "colab": {}
      },
      "cell_type": "code",
      "source": [
        "## Configure readonly access to kbucket -- use this if you only want to browse the results ---\n",
        "sf.kbucketConfigRemote(name='spikeforest1-readonly')"
      ],
      "execution_count": 0,
      "outputs": []
    },
    {
      "metadata": {
        "id": "3pHRiMtggkaT",
        "colab_type": "code",
        "outputId": "e4c262da-df14-446d-aa5e-f12e776b2377",
        "colab": {
          "base_uri": "https://localhost:8080/",
          "height": 50
        }
      },
      "cell_type": "code",
      "source": [
        "## Configure read/write access to kbucket -- use this if you are preparing the studies or the processing batches\n",
        "sf.kbucketConfigRemote(name='spikeforest1-readwrite',ask_password=True)"
      ],
      "execution_count": 3,
      "outputs": [
        {
          "output_type": "stream",
          "text": [
            "Enter password: ··········\n",
            "Pairio user set to spikeforest. Test succeeded.\n"
          ],
          "name": "stdout"
        }
      ]
    },
    {
      "metadata": {
        "id": "blWcqWOIhzkc",
        "colab_type": "text"
      },
      "cell_type": "markdown",
      "source": [
        "## Prepare recordings"
      ]
    },
    {
      "metadata": {
        "id": "HtbjJUirgm0s",
        "colab_type": "code",
        "colab": {}
      },
      "cell_type": "code",
      "source": [
        "def read_text_file(path):\n",
        "  path2=kb.realizeFile(path)\n",
        "  if path2 is None:\n",
        "    raise Exception('Unable to realize file: '+path)\n",
        "  with open(path2,'r') as f:\n",
        "    return f.read()\n",
        "  \n",
        "def prepare_bionet_studies(*,basedir, channels, study_set_name='bionet', suffix=''):\n",
        "  studies=[]\n",
        "  recordings=[]\n",
        "  names=['bionet_drift','bionet_shuffle','bionet_static']\n",
        "  for name in names:\n",
        "    study_name=name+suffix\n",
        "    study_dir=basedir+'/bionet/'+name\n",
        "    description=read_text_file(study_dir+'/readme.txt')\n",
        "    study0=dict(\n",
        "        name=study_name,\n",
        "        study_set=study_set_name,\n",
        "        directory=study_dir,\n",
        "        description=description\n",
        "    )\n",
        "    studies.append(study0)\n",
        "    dd=kb.readDir(study_dir)\n",
        "    for dsname in dd['dirs']:\n",
        "        dsdir='{}/{}'.format(study_dir,dsname)\n",
        "        rec0=dict(\n",
        "            name=dsname,\n",
        "            study=study_name,\n",
        "            description='',\n",
        "            directory=dsdir,\n",
        "            channels=channels\n",
        "        )\n",
        "        if len(rec0['channels'])>0:\n",
        "          units=sf.sf_batch.select_units_on_channels(\n",
        "              recording_dir=dsdir,\n",
        "              firings=dsdir+'/firings_true.mda',\n",
        "              channels=rec0['channels']\n",
        "          )\n",
        "          rec0['units_true']=units\n",
        "        recordings.append(rec0)\n",
        "  return studies, recordings\n",
        "\n",
        "def prepare_bionet8c_studies(*,basedir):\n",
        "  channels = list(range(8))\n",
        "  \n",
        "  studies, recordings = prepare_bionet_studies(basedir=basedir, channels=channels, study_set_name='bionet', suffix='_8c')\n",
        "  return studies, recordings\n",
        "\n",
        "\n",
        "def prepare_bionet32c_studies(*,basedir):\n",
        "  channels = list(range(32))\n",
        "  \n",
        "  studies, recordings = prepare_bionet_studies(basedir=basedir, channels=channels, study_set_name='bionet', suffix='_32c')\n",
        "  return studies, recordings\n",
        "\n",
        "\n",
        "def prepare_magland_synth_studies(*,basedir):\n",
        "  study_set_name='magland_synth'\n",
        "  studies=[]\n",
        "  recordings=[]\n",
        "  names=[]\n",
        "  names=names+['datasets_noise10_K10_C4','datasets_noise10_K10_C8']\n",
        "  names=names+['datasets_noise10_K20_C4','datasets_noise10_K20_C8']\n",
        "  names=names+['datasets_noise20_K10_C4','datasets_noise20_K10_C8']\n",
        "  names=names+['datasets_noise20_K20_C4','datasets_noise20_K20_C8']\n",
        "  description=read_text_file(basedir+'/magland_synth/readme.txt')\n",
        "  for name in names:\n",
        "    study_name='magland_synth_'+name[9:]\n",
        "    study_dir=basedir+'/magland_synth/'+name\n",
        "    study0=dict(\n",
        "        name=study_name,\n",
        "        study_set=study_set_name,\n",
        "        directory=study_dir,\n",
        "        description=description\n",
        "    )\n",
        "    studies.append(study0)\n",
        "    dd=kb.readDir(study_dir)\n",
        "    for dsname in dd['dirs']:\n",
        "        dsdir='{}/{}'.format(study_dir,dsname)\n",
        "        recordings.append(dict(\n",
        "            name=dsname,\n",
        "            study=study_name,\n",
        "            directory=dsdir,\n",
        "            description='One of the recordings in the {} study'.format(study_name)\n",
        "        ))\n",
        "  return studies, recordings\n",
        "\n",
        "def prepare_mearec_tetrode_studies(*,basedir):\n",
        "  study_set_name='mearec_tetrode'\n",
        "  studies=[]\n",
        "  recordings=[]\n",
        "  names=[]\n",
        "  names=names+['datasets_noise10_K10_C4','datasets_noise10_K20_C4']\n",
        "  names=names+['datasets_noise20_K10_C4','datasets_noise20_K20_C4']\n",
        "  description=read_text_file(basedir+'/mearec_synth/tetrode/readme.txt')\n",
        "  for name in names:\n",
        "    study_name='mearec_tetrode_'+name[9:]\n",
        "    study_dir=basedir+'/mearec_synth/tetrode/'+name\n",
        "    study0=dict(\n",
        "        name=study_name,\n",
        "        study_set=study_set_name,\n",
        "        directory=study_dir,\n",
        "        description=description\n",
        "    )\n",
        "    studies.append(study0)\n",
        "    dd=kb.readDir(study_dir)\n",
        "    for dsname in dd['dirs']:\n",
        "        dsdir='{}/{}'.format(study_dir,dsname)\n",
        "        recordings.append(dict(\n",
        "            name=dsname,\n",
        "            study=study_name,\n",
        "            directory=dsdir,\n",
        "            description='One of the recordings in the {} study'.format(study_name)\n",
        "        ))\n",
        "  return studies, recordings\n",
        "\n",
        "def prepare_mearec_neuronexus_studies(*,basedir):\n",
        "  study_set_name='mearec_neuronexus'\n",
        "  studies=[]\n",
        "  recordings=[]\n",
        "  names=[]\n",
        "  names=names+['datasets_noise10_K10_C32','datasets_noise10_K20_C32','datasets_noise10_K40_C32']\n",
        "  names=names+['datasets_noise20_K10_C32','datasets_noise20_K20_C32','datasets_noise20_K40_C32']\n",
        "  description=read_text_file(basedir+'/mearec_synth/neuronexus/readme.txt')\n",
        "  for name in names:\n",
        "    study_name='mearec_neuronexus_'+name[9:]\n",
        "    study_dir=basedir+'/mearec_synth/neuronexus/'+name\n",
        "    study0=dict(\n",
        "        name=study_name,\n",
        "        study_set=study_set_name,\n",
        "        directory=study_dir,\n",
        "        description=description\n",
        "    )\n",
        "    studies.append(study0)\n",
        "    dd=kb.readDir(study_dir)\n",
        "    for dsname in dd['dirs']:\n",
        "        dsdir='{}/{}'.format(study_dir,dsname)\n",
        "        recordings.append(dict(\n",
        "            name=dsname,\n",
        "            study=study_name,\n",
        "            directory=dsdir,\n",
        "            description='One of the recordings in the {} study'.format(study_name)\n",
        "        ))\n",
        "  return studies, recordings"
      ],
      "execution_count": 0,
      "outputs": []
    },
    {
      "metadata": {
        "id": "BpXkEoS8gaMn",
        "colab_type": "code",
        "colab": {}
      },
      "cell_type": "code",
      "source": [
        "basedir='kbucket://15734439d8cf/groundtruth'\n",
        "#basedir='/mnt/ceph/users/jjun/groundtruth'"
      ],
      "execution_count": 0,
      "outputs": []
    },
    {
      "metadata": {
        "id": "b92joharg0G5",
        "colab_type": "code",
        "colab": {}
      },
      "cell_type": "code",
      "source": [
        "studies,recordings=prepare_bionet8c_studies(basedir=basedir)\n",
        "kb.saveObject(dict(studies=studies,recordings=recordings),key=dict(name='spikeforest_bionet8c_recordings'))"
      ],
      "execution_count": 0,
      "outputs": []
    },
    {
      "metadata": {
        "id": "cB6hVj_J2VhG",
        "colab_type": "code",
        "colab": {}
      },
      "cell_type": "code",
      "source": [
        "studies,recordings=prepare_bionet32c_studies(basedir=basedir)\n",
        "kb.saveObject(dict(studies=studies,recordings=recordings),key=dict(name='spikeforest_bionet32c_recordings'))"
      ],
      "execution_count": 0,
      "outputs": []
    },
    {
      "metadata": {
        "id": "z3tb8UfC3VDU",
        "colab_type": "code",
        "outputId": "402c79de-43a9-41e8-d71d-48fc8513cfa7",
        "colab": {
          "base_uri": "https://localhost:8080/",
          "height": 70
        }
      },
      "cell_type": "code",
      "source": [
        "studies,recordings=prepare_mearec_neuronexus_studies(basedir=basedir)\n",
        "kb.saveObject(dict(studies=studies,recordings=recordings),key=dict(name='spikeforest_mearec_neuronexus_recordings'))"
      ],
      "execution_count": 0,
      "outputs": [
        {
          "output_type": "stream",
          "text": [
            "Downloading file --- (0.0 MB): https://kbucket.flatironinstitute.org/15734439d8cf/download/groundtruth/mearec_synth/neuronexus/readme.txt -> /home/magland/kbucket_cache/4/ea/4ea6e0b1cb2e41b9d83d73856fd3c93b9620cd18\n",
            "Already on server.\n"
          ],
          "name": "stdout"
        }
      ]
    },
    {
      "metadata": {
        "id": "XCUMPH8JgXK7",
        "colab_type": "code",
        "outputId": "be792b39-fc1c-4ff2-c899-c43e61fd174a",
        "colab": {
          "base_uri": "https://localhost:8080/",
          "height": 34
        }
      },
      "cell_type": "code",
      "source": [
        "studies,recordings=prepare_magland_synth_studies(basedir=basedir)\n",
        "kb.saveObject(dict(studies=studies,recordings=recordings),key=dict(name='spikeforest_magland_synth_recordings'))"
      ],
      "execution_count": 0,
      "outputs": [
        {
          "output_type": "stream",
          "text": [
            "Already on server.\n"
          ],
          "name": "stdout"
        }
      ]
    },
    {
      "metadata": {
        "id": "rvCvUJ1JiZX1",
        "colab_type": "text"
      },
      "cell_type": "markdown",
      "source": [
        "## Create summarize recordings batches"
      ]
    },
    {
      "metadata": {
        "id": "MWIJU5Gxic_f",
        "colab_type": "code",
        "colab": {}
      },
      "cell_type": "code",
      "source": [
        "def create_summarize_recordings_batch(*,recordings_name,batch_name):\n",
        "  print('Creating summarize_recordings batch: '+batch_name)\n",
        "  SF=sf.SFData()\n",
        "  SF.loadRecordings(key=dict(name=recordings_name))\n",
        "  \n",
        "  jobs=[]\n",
        "  for name in SF.studyNames():\n",
        "    study=SF.study(name)\n",
        "    for recname in study.recordingNames():\n",
        "      R=study.recording(recname)\n",
        "      job=dict(\n",
        "          command='summarize_recording',\n",
        "          label=R.name(),\n",
        "          recording=R.getObject()\n",
        "      )\n",
        "      jobs.append(job)\n",
        "  batch=dict(jobs=jobs)\n",
        "  print('Number of jobs: {}'.format(len(jobs)))\n",
        "  kb.saveObject(key=dict(batch_name=batch_name),object=batch)"
      ],
      "execution_count": 0,
      "outputs": []
    },
    {
      "metadata": {
        "id": "Vrw88QA5hACU",
        "colab_type": "code",
        "outputId": "74c6c219-ca2b-4430-90e7-3292869c1134",
        "colab": {
          "base_uri": "https://localhost:8080/",
          "height": 235
        }
      },
      "cell_type": "code",
      "source": [
        "create_summarize_recordings_batch(recordings_name='spikeforest_bionet8c_recordings',batch_name='summarize_recordings_bionet8c')\n",
        "create_summarize_recordings_batch(recordings_name='spikeforest_bionet32c_recordings',batch_name='summarize_recordings_bionet32c')\n",
        "create_summarize_recordings_batch(recordings_name='spikeforest_magland_synth_recordings',batch_name='summarize_recordings_magland_synth')\n",
        "create_summarize_recordings_batch(recordings_name='spikeforest_mearec_tetrode_recordings',batch_name='summarize_recordings_mearec_tetrode')\n",
        "create_summarize_recordings_batch(recordings_name='spikeforest_mearec_neuronexus_recordings',batch_name='summarize_recordings_mearec_neuronexus')"
      ],
      "execution_count": 0,
      "outputs": [
        {
          "output_type": "stream",
          "text": [
            "Creating summarize_recordings batch: summarize_recordings_bionet8c\n",
            "Number of jobs: 36\n",
            "Creating summarize_recordings batch: summarize_recordings_bionet32c\n",
            "Number of jobs: 36\n",
            "Creating summarize_recordings batch: summarize_recordings_magland_synth\n",
            "Number of jobs: 80\n",
            "Already on server.\n",
            "Creating summarize_recordings batch: summarize_recordings_mearec_tetrode\n",
            "Number of jobs: 40\n",
            "Already on server.\n",
            "Creating summarize_recordings batch: summarize_recordings_mearec_neuronexus\n",
            "Number of jobs: 60\n",
            "Already on server.\n"
          ],
          "name": "stdout"
        }
      ]
    },
    {
      "metadata": {
        "id": "weikHp2gjbwJ",
        "colab_type": "text"
      },
      "cell_type": "markdown",
      "source": [
        "To run these batches, go to a computer with resources somewhere and run something like:\n",
        "\n",
        "```\n",
        "bin/sf_run_batch [name_of_batch] --run_prefix \"srun -c 2 -n 40\"\n",
        "```\n",
        "\n",
        "\"srun\" in Flatiron cluster reqiures you to run the following before\n",
        "```\n",
        "module load srun\n",
        "module load matlab\n",
        "```\n",
        "To use GPU, run\n",
        "```\n",
        "bin/sf_run_batch [name_of_batch] --run_prefix \"srun -c 2 -n 40 --gres=gpu:2 -p gpu\"\n",
        "```\n",
        "  \n",
        "where bin/sf_run_batch is found in the spikeforest_batch_run repository.\n",
        "\n",
        "Alternatively, you can test run it in this notebook using the following commands:\n"
      ]
    },
    {
      "metadata": {
        "id": "AivwnHWOMZvx",
        "colab_type": "text"
      },
      "cell_type": "markdown",
      "source": [
        "To clear previous batch result, run\n",
        "```\n",
        "bin/sf_run_batch_command clear [name_of_batch]\n",
        "```\n",
        "\n"
      ]
    },
    {
      "metadata": {
        "id": "z5k_8AHGk0mu",
        "colab_type": "code",
        "colab": {}
      },
      "cell_type": "code",
      "source": [
        "## Note: usually you would not run this cell -- see the note above.\n",
        "\n",
        "import spikeforest_batch_run as sbr\n",
        "# Execute prepareBatch once (serially)\n",
        "sbr.prepareBatch(batch_name='summarize_recordings_bionet')\n",
        "\n",
        "# Execute runBatch many times in parallel\n",
        "sbr.runBatch(batch_name='summarize_recordings_bionet')\n",
        "\n",
        "# Execute assembleBatchResults once (serially)\n",
        "sbr.assembleBatchResults(batch_name='summarize_recordings_bionet')\n",
        "\n"
      ],
      "execution_count": 0,
      "outputs": []
    },
    {
      "metadata": {
        "id": "TKwgGlPKh5uE",
        "colab_type": "text"
      },
      "cell_type": "markdown",
      "source": [
        "## Browse recordings"
      ]
    },
    {
      "metadata": {
        "id": "-qq56y38hJpv",
        "colab_type": "code",
        "colab": {}
      },
      "cell_type": "code",
      "source": [
        "SF=sf.SFData()\n",
        "SF.loadRecordings(key=dict(name='spikeforest_bionet_recordings'))\n",
        "SF.loadRecordings(key=dict(name='spikeforest_magland_synth_recordings'))\n",
        "SF.loadProcessingBatch(key=dict(batch_name='summarize_recordings_bionet',name='job_results'))\n",
        "SF.loadProcessingBatch(key=dict(batch_name='summarize_recordings_magland_synth',name='job_results'))"
      ],
      "execution_count": 0,
      "outputs": []
    },
    {
      "metadata": {
        "id": "6o8vClJ9hrRa",
        "colab_type": "code",
        "colab": {}
      },
      "cell_type": "code",
      "source": [
        "X=sf.SFSelectWidget(sfdata=SF,mode='recording')\n",
        "display(X)"
      ],
      "execution_count": 0,
      "outputs": []
    },
    {
      "metadata": {
        "id": "CwiDbAZbiF48",
        "colab_type": "code",
        "colab": {}
      },
      "cell_type": "code",
      "source": [
        "R=X.recording()\n",
        "display(R.plot('timeseries'))\n",
        "display(R.plot('waveforms_true'))\n",
        "display(R.trueUnitsInfo())"
      ],
      "execution_count": 0,
      "outputs": []
    },
    {
      "metadata": {
        "id": "WBdqbkSNiJyS",
        "colab_type": "code",
        "colab": {}
      },
      "cell_type": "code",
      "source": [
        "R.plotNames()"
      ],
      "execution_count": 0,
      "outputs": []
    },
    {
      "metadata": {
        "id": "1vvFYgXjmetF",
        "colab_type": "text"
      },
      "cell_type": "markdown",
      "source": [
        "## Create spike sorting batches"
      ]
    },
    {
      "metadata": {
        "id": "7toleMsBnMy6",
        "colab_type": "code",
        "outputId": "9b8326e9-d646-4755-a6ea-53b8f0ecedfd",
        "colab": {
          "base_uri": "https://localhost:8080/",
          "height": 188
        }
      },
      "cell_type": "code",
      "source": [
        "SF=sf.SFData()\n",
        "SF.loadRecordings(key=dict(name='spikeforest_bionet8c_recordings'))\n",
        "SF.loadRecordings(key=dict(name='spikeforest_bionet32c_recordings'))\n",
        "SF.loadRecordings(key=dict(name='spikeforest_magland_synth_recordings'))\n",
        "SF.loadRecordings(key=dict(name='spikeforest_mearec_tetrode_recordings'))\n",
        "SF.loadRecordings(key=dict(name='spikeforest_mearec_neuronexus_recordings'))\n",
        "SF.loadProcessingBatch(key=dict(batch_name='summarize_recordings_bionet8c',name='job_results'))\n",
        "SF.loadProcessingBatch(key=dict(batch_name='summarize_recordings_bionet32c',name='job_results'))\n",
        "SF.loadProcessingBatch(key=dict(batch_name='summarize_recordings_magland_synth',name='job_results'))\n",
        "SF.loadProcessingBatch(key=dict(batch_name='summarize_recordings_mearec_tetrode',name='job_results'))\n",
        "SF.loadProcessingBatch(key=dict(batch_name='summarize_recordings_mearec_neuronexus',name='job_results'))"
      ],
      "execution_count": 0,
      "outputs": [
        {
          "output_type": "stream",
          "text": [
            "Downloading file --- (0.0 MB): http://132.249.245.245:24351/7317cea8265b/download/3/d5/3d505d9150616a85c47968a0e8936d4b911e3d46 -> /home/magland/kbucket_cache/3/d5/3d505d9150616a85c47968a0e8936d4b911e3d46\n",
            "Loaded 0 sorting results and 36 recording summary results\n",
            "Downloading file --- (0.1 MB): http://132.249.245.245:24351/7317cea8265b/download/5/f0/5f005dc6148cb9609a54463759e2b060687f4ec2 -> /home/magland/kbucket_cache/5/f0/5f005dc6148cb9609a54463759e2b060687f4ec2\n",
            "Loaded 0 sorting results and 36 recording summary results\n",
            "Loaded 0 sorting results and 80 recording summary results\n",
            "Downloading file --- (0.0 MB): http://132.249.245.245:24351/7317cea8265b/download/1/8e/18ebcc6a205058af1c7d6ececf40dfb1a8184848 -> /home/magland/kbucket_cache/1/8e/18ebcc6a205058af1c7d6ececf40dfb1a8184848\n",
            "Loaded 0 sorting results and 40 recording summary results\n",
            "Downloading file --- (0.0 MB): http://132.249.245.245:24351/7317cea8265b/download/c/15/c15d3d0b01e7d751e62eb3532b6fa7b890416dbd -> /home/magland/kbucket_cache/c/15/c15d3d0b01e7d751e62eb3532b6fa7b890416dbd\n",
            "Loaded 0 sorting results and 60 recording summary results\n"
          ],
          "name": "stdout"
        }
      ]
    },
    {
      "metadata": {
        "id": "2PHEdeuBnVJl",
        "colab_type": "code",
        "colab": {}
      },
      "cell_type": "code",
      "source": [
        "sorter_ms4_thr3=dict(\n",
        "    name='MountainSort4-thr3',\n",
        "    processor_name='MountainSort4',\n",
        "    params=dict(\n",
        "        detect_sign=-1,\n",
        "        adjacency_radius=50,\n",
        "        detect_threshold=3\n",
        "    )\n",
        ")\n",
        "\n",
        "sorter_irc_tetrode=dict(\n",
        "    name='IronClust-tetrode',\n",
        "    processor_name='IronClust',\n",
        "    params=dict(\n",
        "        detect_sign=-1,\n",
        "        adjacency_radius=50,\n",
        "        detect_threshold=5,\n",
        "        prm_template_name=\"tetrode_template.prm\"\n",
        "    )\n",
        ")\n",
        "\n",
        "sorter_irc_drift=dict(\n",
        "    name='IronClust-drift',\n",
        "    processor_name='IronClust',\n",
        "    params=dict(\n",
        "        detect_sign=-1,\n",
        "        adjacency_radius=50,\n",
        "        prm_template_name=\"template_drift.prm\"\n",
        "    )\n",
        ")\n",
        "\n",
        "sorter_sc=dict(\n",
        "    name='SpykingCircus',\n",
        "    processor_name='SpykingCircus',\n",
        "    params=dict(\n",
        "        detect_sign=-1,\n",
        "        adjacency_radius=50\n",
        "    )\n",
        ")\n",
        "\n",
        "sorter_ks=dict(\n",
        "    name='KiloSort',\n",
        "    processor_name='KiloSort',\n",
        "    params=dict(\n",
        "        detect_sign=-1,\n",
        "        adjacency_radius=50\n",
        "    )\n",
        ")"
      ],
      "execution_count": 0,
      "outputs": []
    },
    {
      "metadata": {
        "id": "NhvWMXK7mSYu",
        "colab_type": "code",
        "colab": {}
      },
      "cell_type": "code",
      "source": [
        "def create_sorting_batch(*,recordings_name,batch_name,sorters):\n",
        "  print('Creating sorting batch: '+batch_name)\n",
        "  SF=sf.SFData()\n",
        "  SF.loadRecordings(key=dict(name=recordings_name))\n",
        "  \n",
        "  jobs=[]\n",
        "  for name in SF.studyNames():\n",
        "    study=SF.study(name)\n",
        "    for rname in study.recordingNames():\n",
        "      R=study.recording(rname)\n",
        "      for sorter in sorters:\n",
        "        job=dict(\n",
        "          command='sort_recording',\n",
        "          label=sorter['name']+': '+R.name(),\n",
        "          recording=R.getObject(),\n",
        "          sorter=sorter\n",
        "        )\n",
        "        jobs.append(job)\n",
        "\n",
        "  batch=dict(jobs=jobs)\n",
        "  print('Number of jobs: {}'.format(len(jobs)))\n",
        "  kb.saveObject(key=dict(batch_name=batch_name),object=batch)"
      ],
      "execution_count": 0,
      "outputs": []
    },
    {
      "metadata": {
        "id": "yb-zTMQgnK98",
        "colab_type": "code",
        "colab": {}
      },
      "cell_type": "code",
      "source": [
        "#create_sorting_batch(recordings_name='spikeforest_magland_synth_recordings',batch_name='ms4_magland_synth',sorters=[sorter_ms4_thr3])\n",
        "#create_sorting_batch(recordings_name='spikeforest_magland_synth_recordings',batch_name='irc_magland_synth',sorters=[sorter_irc_tetrode])\n",
        "#create_sorting_batch(recordings_name='spikeforest_magland_synth_recordings',batch_name='sc_magland_synth',sorters=[sorter_sc])\n",
        "#create_sorting_batch(recordings_name='spikeforest_magland_synth_recordings',batch_name='ks_magland_synth',sorters=[sorter_ks])\n",
        "\n",
        "#create_sorting_batch(recordings_name='spikeforest_bionet_recordings',batch_name='ms4_bionet',sorters=[sorter_ms4_thr3])\n",
        "#create_sorting_batch(recordings_name='spikeforest_bionet_recordings',batch_name='irc_bionet',sorters=[sorter_irc_drift])\n",
        "#create_sorting_batch(recordings_name='spikeforest_bionet_recordings',batch_name='sc_bionet',sorters=[sorter_sc])\n",
        "#create_sorting_batch(recordings_name='spikeforest_bionet_recordings',batch_name='ks_bionet',sorters=[sorter_ks])\n",
        "\n",
        "#create_sorting_batch(recordings_name='spikeforest_bionet32c_recordings',batch_name='ms4_bionet32c',sorters=[sorter_ms4_thr3])\n",
        "#create_sorting_batch(recordings_name='spikeforest_bionet32c_recordings',batch_name='irc_bionet32c',sorters=[sorter_irc_drift])\n",
        "#create_sorting_batch(recordings_name='spikeforest_bionet32c_recordings',batch_name='sc_bionet32c',sorters=[sorter_sc])\n",
        "#create_sorting_batch(recordings_name='spikeforest_bionet32c_recordings',batch_name='ks_bionet32c',sorters=[sorter_ks])\n",
        "\n",
        "#create_sorting_batch(recordings_name='spikeforest_mearec_tetrode_recordings',batch_name='ms4_mearec_tetrode',sorters=[sorter_ms4_thr3])\n",
        "#create_sorting_batch(recordings_name='spikeforest_mearec_tetrode_recordings',batch_name='irc_mearec_tetrode',sorters=[sorter_irc_drift])\n",
        "#create_sorting_batch(recordings_name='spikeforest_mearec_tetrode_recordings',batch_name='sc_mearec_tetrode',sorters=[sorter_sc])\n",
        "#create_sorting_batch(recordings_name='spikeforest_mearec_tetrode_recordings',batch_name='ks_mearec_tetrode',sorters=[sorter_ks])\n",
        "\n",
        "#create_sorting_batch(recordings_name='spikeforest_mearec_neuronexus_recordings',batch_name='ms4_mearec_neuronexus',sorters=[sorter_ms4_thr3])\n",
        "#create_sorting_batch(recordings_name='spikeforest_mearec_neuronexus_recordings',batch_name='irc_mearec_neuronexus',sorters=[sorter_irc_drift])\n",
        "#create_sorting_batch(recordings_name='spikeforest_mearec_neuronexus_recordings',batch_name='sc_mearec_neuronexus',sorters=[sorter_sc])\n",
        "#create_sorting_batch(recordings_name='spikeforest_mearec_neuronexus_recordings',batch_name='ks_mearec_neuronexus',sorters=[sorter_ks])"
      ],
      "execution_count": 0,
      "outputs": []
    },
    {
      "metadata": {
        "id": "jartwMT-_q_z",
        "colab_type": "code",
        "outputId": "eeacdd71-8bb3-4d4c-ce32-d42f27d9b041",
        "colab": {
          "base_uri": "https://localhost:8080/",
          "height": 773
        }
      },
      "cell_type": "code",
      "source": [
        "# create batch programatically, same effect as the above cell\n",
        "\n",
        "vs_sorters = ['ms4', 'irc', 'sc', 'ks']\n",
        "v_sorters_tetrode = [sorter_ms4_thr3, sorter_irc_tetrode, sorter_sc, sorter_ks]\n",
        "v_sorters_siprobe = [sorter_ms4_thr3, sorter_irc_drift, sorter_sc, sorter_ks]\n",
        "vs_recordings_tetrode = ['magland_synth', 'mearec_tetrode']  \n",
        "vs_recordings_siprobe = ['bionet8c', 'bionet32c', 'mearec_neuronexus']\n",
        "\n",
        "for recording in vs_recordings_tetrode:\n",
        "  for sorter, s_sorter in zip(v_sorters_tetrode, vs_sorters):\n",
        "    recordings_name = 'spikeforest_{}_recordings'.format(recording)\n",
        "    batch_name = '{}_{}'.format(s_sorter, recording)\n",
        "    #print(recordings_name, batch_name)\n",
        "    create_sorting_batch(recordings_name=recordings_name, batch_name=batch_name, sorters=[sorter])\n",
        "  print()\n",
        "    \n",
        "for recording in vs_recordings_siprobe:\n",
        "  for sorter, s_sorter in zip(v_sorters_siprobe, vs_sorters):\n",
        "    recordings_name = 'spikeforest_{}_recordings'.format(recording)\n",
        "    batch_name = '{}_{}'.format(s_sorter, recording)\n",
        "    #print(recordings_name, batch_name)    \n",
        "    create_sorting_batch(recordings_name=recordings_name, batch_name=batch_name, sorters=[sorter])\n",
        "  print()\n"
      ],
      "execution_count": 0,
      "outputs": [
        {
          "output_type": "stream",
          "text": [
            "Creating sorting batch: ms4_magland_synth\n",
            "Number of jobs: 80\n",
            "Creating sorting batch: irc_magland_synth\n",
            "Number of jobs: 80\n",
            "Creating sorting batch: sc_magland_synth\n",
            "Number of jobs: 80\n",
            "Creating sorting batch: ks_magland_synth\n",
            "Number of jobs: 80\n",
            "\n",
            "Creating sorting batch: ms4_mearec_tetrode\n",
            "Number of jobs: 40\n",
            "Creating sorting batch: irc_mearec_tetrode\n",
            "Number of jobs: 40\n",
            "Creating sorting batch: sc_mearec_tetrode\n",
            "Number of jobs: 40\n",
            "Creating sorting batch: ks_mearec_tetrode\n",
            "Number of jobs: 40\n",
            "\n",
            "Creating sorting batch: ms4_bionet8c\n",
            "Number of jobs: 36\n",
            "Creating sorting batch: irc_bionet8c\n",
            "Number of jobs: 36\n",
            "Creating sorting batch: sc_bionet8c\n",
            "Number of jobs: 36\n",
            "Creating sorting batch: ks_bionet8c\n",
            "Number of jobs: 36\n",
            "\n",
            "Creating sorting batch: ms4_bionet32c\n",
            "Number of jobs: 36\n",
            "Creating sorting batch: irc_bionet32c\n",
            "Number of jobs: 36\n",
            "Creating sorting batch: sc_bionet32c\n",
            "Number of jobs: 36\n",
            "Creating sorting batch: ks_bionet32c\n",
            "Number of jobs: 36\n",
            "\n",
            "Creating sorting batch: ms4_mearec_neuronexus\n",
            "Number of jobs: 60\n",
            "Creating sorting batch: irc_mearec_neuronexus\n",
            "Number of jobs: 60\n",
            "Creating sorting batch: sc_mearec_neuronexus\n",
            "Number of jobs: 60\n",
            "Creating sorting batch: ks_mearec_neuronexus\n",
            "Number of jobs: 60\n",
            "\n"
          ],
          "name": "stdout"
        }
      ]
    },
    {
      "metadata": {
        "id": "W2VTozxFnoE3",
        "colab_type": "text"
      },
      "cell_type": "markdown",
      "source": [
        "To run these sorting batches, follow the instructions above."
      ]
    },
    {
      "metadata": {
        "id": "dfDRhV7jpVgy",
        "colab_type": "text"
      },
      "cell_type": "markdown",
      "source": [
        "## Browse sorting results"
      ]
    },
    {
      "metadata": {
        "id": "4ga6PepCpXKF",
        "colab_type": "code",
        "colab": {}
      },
      "cell_type": "code",
      "source": [
        "SF=sf.SFData()\n",
        "SF.loadRecordings(key=dict(name='spikeforest_bionet_recordings'))\n",
        "SF.loadRecordings(key=dict(name='spikeforest_magland_synth_recordings'))\n",
        "SF.loadRecordings(key=dict(name='spikeforest_mearec_tetrode_recordings'))\n",
        "\n",
        "SF.loadProcessingBatch(key=dict(batch_name='summarize_recordings_bionet',name='job_results'))\n",
        "SF.loadProcessingBatch(key=dict(batch_name='summarize_recordings_magland_synth',name='job_results'))\n",
        "SF.loadProcessingBatch(key=dict(batch_name='summarize_recordings_mearec_tetrode',name='job_results'))\n",
        "\n",
        "SF.loadProcessingBatch(key=dict(batch_name='ms4_magland_synth',name='job_results'))\n",
        "SF.loadProcessingBatch(key=dict(batch_name='sc_magland_synth',name='job_results'))\n",
        "SF.loadProcessingBatch(key=dict(batch_name='irc_magland_synth',name='job_results'))\n",
        "SF.loadProcessingBatch(key=dict(batch_name='ks_magland_synth',name='job_results'))\n",
        "\n",
        "SF.loadProcessingBatch(key=dict(batch_name='ms4_mearec_tetrode',name='job_results'))\n",
        "#SF.loadProcessingBatch(key=dict(batch_name='sc_mearec_tetrode',name='job_results'))\n",
        "SF.loadProcessingBatch(key=dict(batch_name='irc_mearec_tetrode',name='job_results'))\n",
        "SF.loadProcessingBatch(key=dict(batch_name='ks_mearec_tetrode',name='job_results'))\n",
        "\n",
        "SF.loadProcessingBatch(key=dict(batch_name='ms4_bionet',name='job_results'))\n",
        "SF.loadProcessingBatch(key=dict(batch_name='sc_bionet',name='job_results')) ## Spyking circus not working yet -- need to put into singularity container\n",
        "SF.loadProcessingBatch(key=dict(batch_name='irc_bionet',name='job_results'))\n",
        "#SF.loadProcessingBatch(key=dict(batch_name='ks_bionet',name='job_results'))\n",
        "\n"
      ],
      "execution_count": 0,
      "outputs": []
    },
    {
      "metadata": {
        "id": "D7Ilcyb0pki5",
        "colab_type": "code",
        "colab": {}
      },
      "cell_type": "code",
      "source": [
        "X=sf.SFSelectWidget(sfdata=SF,mode='sorting_result')\n",
        "display(X)"
      ],
      "execution_count": 0,
      "outputs": []
    },
    {
      "metadata": {
        "id": "Sganjg9cp56c",
        "colab_type": "code",
        "colab": {}
      },
      "cell_type": "code",
      "source": [
        "R=X.sortingResult()\n",
        "display(R.plot('unit_waveforms'))\n",
        "display(R.plot('autocorrelograms'))\n",
        "display(R.comparisonWithTruth())"
      ],
      "execution_count": 0,
      "outputs": []
    },
    {
      "metadata": {
        "id": "fL2QjjBPqXS7",
        "colab_type": "text"
      },
      "cell_type": "markdown",
      "source": [
        "## Aggregate sorting results"
      ]
    },
    {
      "metadata": {
        "id": "bBl4NBQCrXl3",
        "colab_type": "code",
        "colab": {
          "base_uri": "https://localhost:8080/",
          "height": 507
        },
        "outputId": "ff8a752c-d4ba-4e29-90b4-f3abf092820d"
      },
      "cell_type": "code",
      "source": [
        "SF=sf.SFData()\n",
        "SF.loadRecordings(key=dict(name='spikeforest_bionet8c_recordings'))\n",
        "SF.loadRecordings(key=dict(name='spikeforest_bionet32c_recordings'))\n",
        "SF.loadRecordings(key=dict(name='spikeforest_magland_synth_recordings'))\n",
        "SF.loadRecordings(key=dict(name='spikeforest_mearec_tetrode_recordings'))\n",
        "SF.loadRecordings(key=dict(name='spikeforest_mearec_neuronexus_recordings'))\n",
        "SF.loadProcessingBatch(key=dict(batch_name='summarize_recordings_bionet8c',name='job_results'))\n",
        "SF.loadProcessingBatch(key=dict(batch_name='summarize_recordings_bionet32c',name='job_results'))\n",
        "SF.loadProcessingBatch(key=dict(batch_name='summarize_recordings_magland_synth',name='job_results'))\n",
        "SF.loadProcessingBatch(key=dict(batch_name='summarize_recordings_mearec_tetrode',name='job_results'))\n",
        "SF.loadProcessingBatch(key=dict(batch_name='summarize_recordings_mearec_neuronexus',name='job_results'))\n",
        "SF.loadProcessingBatch(key=dict(batch_name='ms4_magland_synth',name='job_results'))\n",
        "SF.loadProcessingBatch(key=dict(batch_name='irc_magland_synth',name='job_results'))\n",
        "SF.loadProcessingBatch(key=dict(batch_name='sc_magland_synth',name='job_results'))\n",
        "SF.loadProcessingBatch(key=dict(batch_name='ks_magland_synth',name='job_results'))\n",
        "SF.loadProcessingBatch(key=dict(batch_name='ms4_bionet8c',name='job_results'))\n",
        "#SF.loadProcessingBatch(key=dict(batch_name='irc_bionet8c',name='job_results'))\n",
        "#SF.loadProcessingBatch(key=dict(batch_name='sc_bionet8c',name='job_results'))\n",
        "#SF.loadProcessingBatch(key=dict(batch_name='ks_bionet8c',name='job_results'))\n",
        "SF.loadProcessingBatch(key=dict(batch_name='ms4_bionet32c',name='job_results'))"
      ],
      "execution_count": 15,
      "outputs": [
        {
          "output_type": "stream",
          "text": [
            "Loading recordings: {\"name\": \"spikeforest_bionet8c_recordings\"}\n",
            "Loading recordings: {\"name\": \"spikeforest_bionet32c_recordings\"}\n",
            "Loading recordings: {\"name\": \"spikeforest_magland_synth_recordings\"}\n",
            "Loading recordings: {\"name\": \"spikeforest_mearec_tetrode_recordings\"}\n",
            "Loading recordings: {\"name\": \"spikeforest_mearec_neuronexus_recordings\"}\n",
            "Loading processing batch: {\"batch_name\": \"summarize_recordings_bionet8c\", \"name\": \"job_results\"}\n",
            "Loaded 0 sorting results and 36 recording summary results\n",
            "Loading processing batch: {\"batch_name\": \"summarize_recordings_bionet32c\", \"name\": \"job_results\"}\n",
            "Loaded 0 sorting results and 36 recording summary results\n",
            "Loading processing batch: {\"batch_name\": \"summarize_recordings_magland_synth\", \"name\": \"job_results\"}\n",
            "Loaded 0 sorting results and 80 recording summary results\n",
            "Loading processing batch: {\"batch_name\": \"summarize_recordings_mearec_tetrode\", \"name\": \"job_results\"}\n",
            "Loaded 0 sorting results and 40 recording summary results\n",
            "Loading processing batch: {\"batch_name\": \"summarize_recordings_mearec_neuronexus\", \"name\": \"job_results\"}\n",
            "Loaded 0 sorting results and 60 recording summary results\n",
            "Loading processing batch: {\"batch_name\": \"ms4_magland_synth\", \"name\": \"job_results\"}\n",
            "Loaded 80 sorting results and 0 recording summary results\n",
            "Loading processing batch: {\"batch_name\": \"irc_magland_synth\", \"name\": \"job_results\"}\n",
            "Loaded 80 sorting results and 0 recording summary results\n",
            "Loading processing batch: {\"batch_name\": \"sc_magland_synth\", \"name\": \"job_results\"}\n",
            "Loaded 80 sorting results and 0 recording summary results\n",
            "Loading processing batch: {\"batch_name\": \"ks_magland_synth\", \"name\": \"job_results\"}\n",
            "Loaded 80 sorting results and 0 recording summary results\n",
            "Loading processing batch: {\"batch_name\": \"ms4_bionet8c\", \"name\": \"job_results\"}\n",
            "Loaded 36 sorting results and 0 recording summary results\n",
            "Loading processing batch: {\"batch_name\": \"ms4_bionet32c\", \"name\": \"job_results\"}\n",
            "Downloading file --- (0.1 MB): http://132.249.245.245:24351/7317cea8265b/download/1/72/17272e5d610fb79a684e073e52a5e7a6e1249131 -> /home/magland/kbucket_cache/1/72/17272e5d610fb79a684e073e52a5e7a6e1249131\n",
            "Loaded 36 sorting results and 0 recording summary results\n"
          ],
          "name": "stdout"
        }
      ]
    },
    {
      "metadata": {
        "id": "XyBRKILPp-0h",
        "colab_type": "code",
        "colab": {}
      },
      "cell_type": "code",
      "source": [
        "import pandas as pd\n",
        "import random\n",
        "import altair as alt\n",
        "alt.renderers.enable('colab')\n",
        "\n",
        "# Accumulate the sorting results\n",
        "def accumulate_comparison_with_ground_truth(*,SF,studies,sorter_name,fieldnames):\n",
        "  ret=[]\n",
        "  for study in studies:\n",
        "    recordings=[study.recording(name) for name in study.recordingNames()]\n",
        "    for R in recordings:\n",
        "      result=R.sortingResult(sorter_name)\n",
        "      A=result.comparisonWithTruth(format='json')\n",
        "      B=R.trueUnitsInfo(format='json')\n",
        "      snr_by_true_unit=dict()\n",
        "      for b in B:\n",
        "        snr_by_true_unit[b['unit_id']]=b['snr']\n",
        "      for i in A:\n",
        "        a=A[i]\n",
        "        rec=dict()\n",
        "        rec['recording_name']=R.name()\n",
        "        rec['unit_id']=a.get('unit_id',a.get('Unit ID'))\n",
        "        rec['snr']=snr_by_true_unit[rec['unit_id']]\n",
        "        for fieldname in fieldnames:\n",
        "          rec[fieldname]=float(a.get(fieldname,a.get('Accuracy')))\n",
        "        ret.append(rec)\n",
        "  return ret\n",
        "\n",
        "def show_accuracy_plot(*,SF,study_name,sorter_name,title):\n",
        "  \n",
        "  study=SF.study(study_name)\n",
        "  X=accumulate_comparison_with_ground_truth(\n",
        "      SF=SF,\n",
        "      studies=[study],\n",
        "      sorter_name=sorter_name,\n",
        "      fieldnames=['accuracy']\n",
        "  )\n",
        "  \n",
        "  # Display the accumulated sorting results\n",
        "  cc=alt.Chart(pd.DataFrame(X),title=title).mark_point().encode(\n",
        "      x='snr',\n",
        "      y='accuracy',\n",
        "      color='recording_name',\n",
        "      tooltip='recording_name'\n",
        "  ).interactive()\n",
        "  display(cc)"
      ],
      "execution_count": 0,
      "outputs": []
    },
    {
      "metadata": {
        "id": "amd_Wh_oCP_S",
        "colab_type": "code",
        "colab": {
          "base_uri": "https://localhost:8080/",
          "height": 171
        },
        "outputId": "3ce07129-1144-45ea-853e-54c9418020fd"
      },
      "cell_type": "code",
      "source": [
        "display(vd.h1('Select a result'))\n",
        "X=sf.SFSelectWidget(sfdata=SF,mode='sorting_result')\n",
        "display(X)"
      ],
      "execution_count": 20,
      "outputs": [
        {
          "output_type": "display_data",
          "data": {
            "text/plain": [
              "<vdomr.vdom.VDOM at 0x7fd1f8568a58>"
            ],
            "text/html": [
              "<h1>Select a result</h1>"
            ]
          },
          "metadata": {
            "tags": []
          }
        },
        {
          "output_type": "display_data",
          "data": {
            "text/plain": [
              "<IPython.core.display.Javascript object>"
            ],
            "application/javascript": [
              "window.vdomr_invokeFunction=google.colab.kernel.invokeFunction"
            ]
          },
          "metadata": {
            "tags": []
          }
        },
        {
          "output_type": "display_data",
          "data": {
            "text/plain": [
              "<IPython.core.display.Javascript object>"
            ],
            "application/javascript": [
              "{console.log('test 1'); var elmt=document.getElementById('2ddce1ac-4290-4563-a77c-4e94bf25be72'); if (elmt) elmt.innerHTML=atob('PHNlbGVjdCBvbmNoYW5nZT0id2luZG93LnZkb21yX2ludm9rZUZ1bmN0aW9uKCYjeDI3O29uY2hhbmdlY2FsbGJhY2stYjA4YmU2MDYtMmRmNC00Nzk2LWFlNjYtOGYxYjM5MDNkZjQ4JiN4Mjc7LCBbXSwge3ZhbHVlOnRoaXMudmFsdWV9KSI+PC9zZWxlY3Q+'); console.log('test 2')}"
            ]
          },
          "metadata": {
            "tags": []
          }
        },
        {
          "output_type": "display_data",
          "data": {
            "text/plain": [
              "<IPython.core.display.Javascript object>"
            ],
            "application/javascript": [
              "window.vdomr_invokeFunction=google.colab.kernel.invokeFunction"
            ]
          },
          "metadata": {
            "tags": []
          }
        },
        {
          "output_type": "display_data",
          "data": {
            "text/plain": [
              "<IPython.core.display.Javascript object>"
            ],
            "application/javascript": [
              "{console.log('test 1'); var elmt=document.getElementById('5e6561c9-56bc-4d94-bedb-70d5f4c48a66'); if (elmt) elmt.innerHTML=atob('PHNlbGVjdCBvbmNoYW5nZT0id2luZG93LnZkb21yX2ludm9rZUZ1bmN0aW9uKCYjeDI3O29uY2hhbmdlY2FsbGJhY2stNzM5MzgyN2QtYWE4NS00ZTk3LWEwZTktZTczMzU5MTY1NzM1JiN4Mjc7LCBbXSwge3ZhbHVlOnRoaXMudmFsdWV9KSI+PC9zZWxlY3Q+'); console.log('test 2')}"
            ]
          },
          "metadata": {
            "tags": []
          }
        },
        {
          "output_type": "display_data",
          "data": {
            "text/plain": [
              "<IPython.core.display.Javascript object>"
            ],
            "application/javascript": [
              "window.vdomr_invokeFunction=google.colab.kernel.invokeFunction"
            ]
          },
          "metadata": {
            "tags": []
          }
        },
        {
          "output_type": "display_data",
          "data": {
            "text/plain": [
              "<IPython.core.display.Javascript object>"
            ],
            "application/javascript": [
              "{console.log('test 1'); var elmt=document.getElementById('df136fa9-3738-48ae-8c44-40ae345e21a1'); if (elmt) elmt.innerHTML=atob('PHNlbGVjdCBvbmNoYW5nZT0id2luZG93LnZkb21yX2ludm9rZUZ1bmN0aW9uKCYjeDI3O29uY2hhbmdlY2FsbGJhY2stNWJjMDllNDMtOTFhZi00YmU2LWFlODctNTEzMjVlZDQzOTYxJiN4Mjc7LCBbXSwge3ZhbHVlOnRoaXMudmFsdWV9KSI+PC9zZWxlY3Q+'); console.log('test 2')}"
            ]
          },
          "metadata": {
            "tags": []
          }
        },
        {
          "output_type": "display_data",
          "data": {
            "text/plain": [
              "<IPython.core.display.Javascript object>"
            ],
            "application/javascript": [
              "window.vdomr_invokeFunction=google.colab.kernel.invokeFunction"
            ]
          },
          "metadata": {
            "tags": []
          }
        },
        {
          "output_type": "display_data",
          "data": {
            "text/plain": [
              "<IPython.core.display.Javascript object>"
            ],
            "application/javascript": [
              "{console.log('test 1'); var elmt=document.getElementById('2ddce1ac-4290-4563-a77c-4e94bf25be72'); if (elmt) elmt.innerHTML=atob('PHNlbGVjdCBvbmNoYW5nZT0id2luZG93LnZkb21yX2ludm9rZUZ1bmN0aW9uKCYjeDI3O29uY2hhbmdlY2FsbGJhY2stMDFlM2QwODEtOTA0Yi00ZTkwLWE2YTItYWVkMDhlN2FlMWRhJiN4Mjc7LCBbXSwge3ZhbHVlOnRoaXMudmFsdWV9KSI+PG9wdGlvbiBzZWxlY3RlZD0ic2VsZWN0ZWQiPmJpb25ldF9kcmlmdF84Yzwvb3B0aW9uPjxvcHRpb24+YmlvbmV0X3NodWZmbGVfOGM8L29wdGlvbj48b3B0aW9uPmJpb25ldF9zdGF0aWNfOGM8L29wdGlvbj48b3B0aW9uPmJpb25ldF9kcmlmdF8zMmM8L29wdGlvbj48b3B0aW9uPmJpb25ldF9zaHVmZmxlXzMyYzwvb3B0aW9uPjxvcHRpb24+YmlvbmV0X3N0YXRpY18zMmM8L29wdGlvbj48b3B0aW9uPm1hZ2xhbmRfc3ludGhfbm9pc2UxMF9LMTBfQzQ8L29wdGlvbj48b3B0aW9uPm1hZ2xhbmRfc3ludGhfbm9pc2UxMF9LMTBfQzg8L29wdGlvbj48b3B0aW9uPm1hZ2xhbmRfc3ludGhfbm9pc2UxMF9LMjBfQzQ8L29wdGlvbj48b3B0aW9uPm1hZ2xhbmRfc3ludGhfbm9pc2UxMF9LMjBfQzg8L29wdGlvbj48b3B0aW9uPm1hZ2xhbmRfc3ludGhfbm9pc2UyMF9LMTBfQzQ8L29wdGlvbj48b3B0aW9uPm1hZ2xhbmRfc3ludGhfbm9pc2UyMF9LMTBfQzg8L29wdGlvbj48b3B0aW9uPm1hZ2xhbmRfc3ludGhfbm9pc2UyMF9LMjBfQzQ8L29wdGlvbj48b3B0aW9uPm1hZ2xhbmRfc3ludGhfbm9pc2UyMF9LMjBfQzg8L29wdGlvbj48b3B0aW9uPm1lYXJlY190ZXRyb2RlX25vaXNlMTBfSzEwX0M0PC9vcHRpb24+PG9wdGlvbj5tZWFyZWNfdGV0cm9kZV9ub2lzZTEwX0syMF9DNDwvb3B0aW9uPjxvcHRpb24+bWVhcmVjX3RldHJvZGVfbm9pc2UyMF9LMTBfQzQ8L29wdGlvbj48b3B0aW9uPm1lYXJlY190ZXRyb2RlX25vaXNlMjBfSzIwX0M0PC9vcHRpb24+PG9wdGlvbj5tZWFyZWNfbmV1cm9uZXh1c19ub2lzZTEwX0sxMF9DMzI8L29wdGlvbj48b3B0aW9uPm1lYXJlY19uZXVyb25leHVzX25vaXNlMTBfSzIwX0MzMjwvb3B0aW9uPjxvcHRpb24+bWVhcmVjX25ldXJvbmV4dXNfbm9pc2UxMF9LNDBfQzMyPC9vcHRpb24+PG9wdGlvbj5tZWFyZWNfbmV1cm9uZXh1c19ub2lzZTIwX0sxMF9DMzI8L29wdGlvbj48b3B0aW9uPm1lYXJlY19uZXVyb25leHVzX25vaXNlMjBfSzIwX0MzMjwvb3B0aW9uPjxvcHRpb24+bWVhcmVjX25ldXJvbmV4dXNfbm9pc2UyMF9LNDBfQzMyPC9vcHRpb24+PC9zZWxlY3Q+'); console.log('test 2')}"
            ]
          },
          "metadata": {
            "tags": []
          }
        },
        {
          "output_type": "display_data",
          "data": {
            "text/plain": [
              "<IPython.core.display.Javascript object>"
            ],
            "application/javascript": [
              "window.vdomr_invokeFunction=google.colab.kernel.invokeFunction"
            ]
          },
          "metadata": {
            "tags": []
          }
        },
        {
          "output_type": "display_data",
          "data": {
            "text/plain": [
              "<IPython.core.display.Javascript object>"
            ],
            "application/javascript": [
              "{console.log('test 1'); var elmt=document.getElementById('5e6561c9-56bc-4d94-bedb-70d5f4c48a66'); if (elmt) elmt.innerHTML=atob('PHNlbGVjdCBvbmNoYW5nZT0id2luZG93LnZkb21yX2ludm9rZUZ1bmN0aW9uKCYjeDI3O29uY2hhbmdlY2FsbGJhY2stNDUxYzdiNjQtMDhhMS00NTg2LWE5OGQtMmRiODllODZlZDkzJiN4Mjc7LCBbXSwge3ZhbHVlOnRoaXMudmFsdWV9KSI+PG9wdGlvbiBzZWxlY3RlZD0ic2VsZWN0ZWQiPmRyaWZ0Xzh4X0FfMkE8L29wdGlvbj48b3B0aW9uPmRyaWZ0Xzh4X0FfMkI8L29wdGlvbj48b3B0aW9uPmRyaWZ0Xzh4X0FfNEE8L29wdGlvbj48b3B0aW9uPmRyaWZ0Xzh4X0FfNEI8L29wdGlvbj48b3B0aW9uPmRyaWZ0Xzh4X0JfMkE8L29wdGlvbj48b3B0aW9uPmRyaWZ0Xzh4X0JfMkI8L29wdGlvbj48b3B0aW9uPmRyaWZ0Xzh4X0JfNEE8L29wdGlvbj48b3B0aW9uPmRyaWZ0Xzh4X0JfNEI8L29wdGlvbj48b3B0aW9uPmRyaWZ0Xzh4X0NfMkE8L29wdGlvbj48b3B0aW9uPmRyaWZ0Xzh4X0NfMkI8L29wdGlvbj48b3B0aW9uPmRyaWZ0Xzh4X0NfNEE8L29wdGlvbj48b3B0aW9uPmRyaWZ0Xzh4X0NfNEI8L29wdGlvbj48L3NlbGVjdD4='); console.log('test 2')}"
            ]
          },
          "metadata": {
            "tags": []
          }
        },
        {
          "output_type": "display_data",
          "data": {
            "text/plain": [
              "<IPython.core.display.Javascript object>"
            ],
            "application/javascript": [
              "window.vdomr_invokeFunction=google.colab.kernel.invokeFunction"
            ]
          },
          "metadata": {
            "tags": []
          }
        },
        {
          "output_type": "display_data",
          "data": {
            "text/plain": [
              "<IPython.core.display.Javascript object>"
            ],
            "application/javascript": [
              "{console.log('test 1'); var elmt=document.getElementById('df136fa9-3738-48ae-8c44-40ae345e21a1'); if (elmt) elmt.innerHTML=atob('PHNlbGVjdCBvbmNoYW5nZT0id2luZG93LnZkb21yX2ludm9rZUZ1bmN0aW9uKCYjeDI3O29uY2hhbmdlY2FsbGJhY2stZDUyMGRkYWItMDIzNy00NGNlLTg5ODgtNTliODhlZGJiZWRmJiN4Mjc7LCBbXSwge3ZhbHVlOnRoaXMudmFsdWV9KSI+PG9wdGlvbiBzZWxlY3RlZD0ic2VsZWN0ZWQiPk1vdW50YWluU29ydDQtdGhyMzwvb3B0aW9uPjwvc2VsZWN0Pg=='); console.log('test 2')}"
            ]
          },
          "metadata": {
            "tags": []
          }
        },
        {
          "output_type": "display_data",
          "data": {
            "text/plain": [
              "<IPython.core.display.Javascript object>"
            ],
            "application/javascript": [
              "window.vdomr_invokeFunction=google.colab.kernel.invokeFunction"
            ]
          },
          "metadata": {
            "tags": []
          }
        },
        {
          "output_type": "display_data",
          "data": {
            "text/plain": [
              "<IPython.core.display.Javascript object>"
            ],
            "application/javascript": [
              "window.vdomr_invokeFunction=google.colab.kernel.invokeFunction"
            ]
          },
          "metadata": {
            "tags": []
          }
        },
        {
          "output_type": "display_data",
          "data": {
            "text/plain": [
              "<IPython.core.display.Javascript object>"
            ],
            "application/javascript": [
              "window.vdomr_invokeFunction=google.colab.kernel.invokeFunction"
            ]
          },
          "metadata": {
            "tags": []
          }
        },
        {
          "output_type": "display_data",
          "data": {
            "text/plain": [
              "<spikeforest.sfselectwidget.SFSelectWidget at 0x7fd1f85687b8>"
            ],
            "text/html": [
              "<div id=862c3fb0-bfeb-456d-80d3-9eed4483c3a9><div><hr></hr><table><tr><td>Study **: </td><td><div id=2ddce1ac-4290-4563-a77c-4e94bf25be72><select onchange=\"window.vdomr_invokeFunction(&#x27;onchangecallback-ce5e37e9-6f45-4f55-8bb5-18cdc3e54248&#x27;, [], {value:this.value})\"><option selected=\"selected\">bionet_drift_8c</option><option>bionet_shuffle_8c</option><option>bionet_static_8c</option><option>bionet_drift_32c</option><option>bionet_shuffle_32c</option><option>bionet_static_32c</option><option>magland_synth_noise10_K10_C4</option><option>magland_synth_noise10_K10_C8</option><option>magland_synth_noise10_K20_C4</option><option>magland_synth_noise10_K20_C8</option><option>magland_synth_noise20_K10_C4</option><option>magland_synth_noise20_K10_C8</option><option>magland_synth_noise20_K20_C4</option><option>magland_synth_noise20_K20_C8</option><option>mearec_tetrode_noise10_K10_C4</option><option>mearec_tetrode_noise10_K20_C4</option><option>mearec_tetrode_noise20_K10_C4</option><option>mearec_tetrode_noise20_K20_C4</option><option>mearec_neuronexus_noise10_K10_C32</option><option>mearec_neuronexus_noise10_K20_C32</option><option>mearec_neuronexus_noise10_K40_C32</option><option>mearec_neuronexus_noise20_K10_C32</option><option>mearec_neuronexus_noise20_K20_C32</option><option>mearec_neuronexus_noise20_K40_C32</option></select></div></td></tr><tr><td>Recording: </td><td><div id=5e6561c9-56bc-4d94-bedb-70d5f4c48a66><select onchange=\"window.vdomr_invokeFunction(&#x27;onchangecallback-a5d8dbfb-19f8-4bf9-b091-215efb09feb5&#x27;, [], {value:this.value})\"><option selected=\"selected\">drift_8x_A_2A</option><option>drift_8x_A_2B</option><option>drift_8x_A_4A</option><option>drift_8x_A_4B</option><option>drift_8x_B_2A</option><option>drift_8x_B_2B</option><option>drift_8x_B_4A</option><option>drift_8x_B_4B</option><option>drift_8x_C_2A</option><option>drift_8x_C_2B</option><option>drift_8x_C_4A</option><option>drift_8x_C_4B</option></select></div></td></tr><tr><td>Sorting result: </td><td><div id=df136fa9-3738-48ae-8c44-40ae345e21a1><select onchange=\"window.vdomr_invokeFunction(&#x27;onchangecallback-ae1944d0-5b6e-4869-8f3e-44ed5bc1db7f&#x27;, [], {value:this.value})\"><option selected=\"selected\">MountainSort4-thr3</option></select></div></td></tr></table><hr></hr></div></div>"
            ]
          },
          "metadata": {
            "tags": []
          }
        },
        {
          "output_type": "display_data",
          "data": {
            "text/plain": [
              "<IPython.core.display.Javascript object>"
            ],
            "application/javascript": [
              "window.vdomr_invokeFunction=google.colab.kernel.invokeFunction"
            ]
          },
          "metadata": {
            "tags": []
          }
        },
        {
          "output_type": "display_data",
          "data": {
            "text/plain": [
              "<IPython.core.display.Javascript object>"
            ],
            "application/javascript": [
              "{console.log('test 1'); var elmt=document.getElementById('2ddce1ac-4290-4563-a77c-4e94bf25be72'); if (elmt) elmt.innerHTML=atob('PHNlbGVjdCBvbmNoYW5nZT0id2luZG93LnZkb21yX2ludm9rZUZ1bmN0aW9uKCYjeDI3O29uY2hhbmdlY2FsbGJhY2stMWI5ZGE2YmMtOWFiZi00Y2U3LWI4MGUtNjBjMDhjNTZhOTA3JiN4Mjc7LCBbXSwge3ZhbHVlOnRoaXMudmFsdWV9KSI+PG9wdGlvbj5iaW9uZXRfZHJpZnRfOGM8L29wdGlvbj48b3B0aW9uPmJpb25ldF9zaHVmZmxlXzhjPC9vcHRpb24+PG9wdGlvbj5iaW9uZXRfc3RhdGljXzhjPC9vcHRpb24+PG9wdGlvbiBzZWxlY3RlZD0ic2VsZWN0ZWQiPmJpb25ldF9kcmlmdF8zMmM8L29wdGlvbj48b3B0aW9uPmJpb25ldF9zaHVmZmxlXzMyYzwvb3B0aW9uPjxvcHRpb24+YmlvbmV0X3N0YXRpY18zMmM8L29wdGlvbj48b3B0aW9uPm1hZ2xhbmRfc3ludGhfbm9pc2UxMF9LMTBfQzQ8L29wdGlvbj48b3B0aW9uPm1hZ2xhbmRfc3ludGhfbm9pc2UxMF9LMTBfQzg8L29wdGlvbj48b3B0aW9uPm1hZ2xhbmRfc3ludGhfbm9pc2UxMF9LMjBfQzQ8L29wdGlvbj48b3B0aW9uPm1hZ2xhbmRfc3ludGhfbm9pc2UxMF9LMjBfQzg8L29wdGlvbj48b3B0aW9uPm1hZ2xhbmRfc3ludGhfbm9pc2UyMF9LMTBfQzQ8L29wdGlvbj48b3B0aW9uPm1hZ2xhbmRfc3ludGhfbm9pc2UyMF9LMTBfQzg8L29wdGlvbj48b3B0aW9uPm1hZ2xhbmRfc3ludGhfbm9pc2UyMF9LMjBfQzQ8L29wdGlvbj48b3B0aW9uPm1hZ2xhbmRfc3ludGhfbm9pc2UyMF9LMjBfQzg8L29wdGlvbj48b3B0aW9uPm1lYXJlY190ZXRyb2RlX25vaXNlMTBfSzEwX0M0PC9vcHRpb24+PG9wdGlvbj5tZWFyZWNfdGV0cm9kZV9ub2lzZTEwX0syMF9DNDwvb3B0aW9uPjxvcHRpb24+bWVhcmVjX3RldHJvZGVfbm9pc2UyMF9LMTBfQzQ8L29wdGlvbj48b3B0aW9uPm1lYXJlY190ZXRyb2RlX25vaXNlMjBfSzIwX0M0PC9vcHRpb24+PG9wdGlvbj5tZWFyZWNfbmV1cm9uZXh1c19ub2lzZTEwX0sxMF9DMzI8L29wdGlvbj48b3B0aW9uPm1lYXJlY19uZXVyb25leHVzX25vaXNlMTBfSzIwX0MzMjwvb3B0aW9uPjxvcHRpb24+bWVhcmVjX25ldXJvbmV4dXNfbm9pc2UxMF9LNDBfQzMyPC9vcHRpb24+PG9wdGlvbj5tZWFyZWNfbmV1cm9uZXh1c19ub2lzZTIwX0sxMF9DMzI8L29wdGlvbj48b3B0aW9uPm1lYXJlY19uZXVyb25leHVzX25vaXNlMjBfSzIwX0MzMjwvb3B0aW9uPjxvcHRpb24+bWVhcmVjX25ldXJvbmV4dXNfbm9pc2UyMF9LNDBfQzMyPC9vcHRpb24+PC9zZWxlY3Q+'); console.log('test 2')}"
            ]
          },
          "metadata": {
            "tags": []
          }
        },
        {
          "output_type": "display_data",
          "data": {
            "text/plain": [
              "<IPython.core.display.Javascript object>"
            ],
            "application/javascript": [
              "window.vdomr_invokeFunction=google.colab.kernel.invokeFunction"
            ]
          },
          "metadata": {
            "tags": []
          }
        },
        {
          "output_type": "display_data",
          "data": {
            "text/plain": [
              "<IPython.core.display.Javascript object>"
            ],
            "application/javascript": [
              "{console.log('test 1'); var elmt=document.getElementById('5e6561c9-56bc-4d94-bedb-70d5f4c48a66'); if (elmt) elmt.innerHTML=atob('PHNlbGVjdCBvbmNoYW5nZT0id2luZG93LnZkb21yX2ludm9rZUZ1bmN0aW9uKCYjeDI3O29uY2hhbmdlY2FsbGJhY2stZjliNmY2MDctMzJiYS00Zjc3LTgxNzItNTVhZjZiODM5MTU4JiN4Mjc7LCBbXSwge3ZhbHVlOnRoaXMudmFsdWV9KSI+PG9wdGlvbiBzZWxlY3RlZD0ic2VsZWN0ZWQiPmRyaWZ0Xzh4X0FfMkE8L29wdGlvbj48b3B0aW9uPmRyaWZ0Xzh4X0FfMkI8L29wdGlvbj48b3B0aW9uPmRyaWZ0Xzh4X0FfNEE8L29wdGlvbj48b3B0aW9uPmRyaWZ0Xzh4X0FfNEI8L29wdGlvbj48b3B0aW9uPmRyaWZ0Xzh4X0JfMkE8L29wdGlvbj48b3B0aW9uPmRyaWZ0Xzh4X0JfMkI8L29wdGlvbj48b3B0aW9uPmRyaWZ0Xzh4X0JfNEE8L29wdGlvbj48b3B0aW9uPmRyaWZ0Xzh4X0JfNEI8L29wdGlvbj48b3B0aW9uPmRyaWZ0Xzh4X0NfMkE8L29wdGlvbj48b3B0aW9uPmRyaWZ0Xzh4X0NfMkI8L29wdGlvbj48b3B0aW9uPmRyaWZ0Xzh4X0NfNEE8L29wdGlvbj48b3B0aW9uPmRyaWZ0Xzh4X0NfNEI8L29wdGlvbj48L3NlbGVjdD4='); console.log('test 2')}"
            ]
          },
          "metadata": {
            "tags": []
          }
        },
        {
          "output_type": "display_data",
          "data": {
            "text/plain": [
              "<IPython.core.display.Javascript object>"
            ],
            "application/javascript": [
              "window.vdomr_invokeFunction=google.colab.kernel.invokeFunction"
            ]
          },
          "metadata": {
            "tags": []
          }
        },
        {
          "output_type": "display_data",
          "data": {
            "text/plain": [
              "<IPython.core.display.Javascript object>"
            ],
            "application/javascript": [
              "{console.log('test 1'); var elmt=document.getElementById('df136fa9-3738-48ae-8c44-40ae345e21a1'); if (elmt) elmt.innerHTML=atob('PHNlbGVjdCBvbmNoYW5nZT0id2luZG93LnZkb21yX2ludm9rZUZ1bmN0aW9uKCYjeDI3O29uY2hhbmdlY2FsbGJhY2stNzE5OTQ4YjQtOWY3ZC00M2Q3LTliZjUtM2EwOGJjMDk0MzAwJiN4Mjc7LCBbXSwge3ZhbHVlOnRoaXMudmFsdWV9KSI+PG9wdGlvbiBzZWxlY3RlZD0ic2VsZWN0ZWQiPk1vdW50YWluU29ydDQtdGhyMzwvb3B0aW9uPjwvc2VsZWN0Pg=='); console.log('test 2')}"
            ]
          },
          "metadata": {
            "tags": []
          }
        },
        {
          "output_type": "display_data",
          "data": {
            "text/plain": [
              "<IPython.core.display.Javascript object>"
            ],
            "application/javascript": [
              "window.vdomr_invokeFunction=google.colab.kernel.invokeFunction"
            ]
          },
          "metadata": {
            "tags": []
          }
        },
        {
          "output_type": "display_data",
          "data": {
            "text/plain": [
              "<IPython.core.display.Javascript object>"
            ],
            "application/javascript": [
              "window.vdomr_invokeFunction=google.colab.kernel.invokeFunction"
            ]
          },
          "metadata": {
            "tags": []
          }
        },
        {
          "output_type": "display_data",
          "data": {
            "text/plain": [
              "<IPython.core.display.Javascript object>"
            ],
            "application/javascript": [
              "window.vdomr_invokeFunction=google.colab.kernel.invokeFunction"
            ]
          },
          "metadata": {
            "tags": []
          }
        },
        {
          "output_type": "display_data",
          "data": {
            "text/plain": [
              "<IPython.core.display.Javascript object>"
            ],
            "application/javascript": [
              "{console.log('test 1'); var elmt=document.getElementById('862c3fb0-bfeb-456d-80d3-9eed4483c3a9'); if (elmt) elmt.innerHTML=atob('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'); console.log('test 2')}"
            ]
          },
          "metadata": {
            "tags": []
          }
        }
      ]
    },
    {
      "metadata": {
        "id": "fI6RItt-q5pM",
        "colab_type": "code",
        "colab": {}
      },
      "cell_type": "code",
      "source": [
        "study_name=X.study().name()\n",
        "sorter_name=X.sortingResult().sorterName()\n",
        "show_accuracy_plot(\n",
        "    SF=SF,\n",
        "    study_name=study_name,\n",
        "    sorter_name=sorter_name,\n",
        "    title=sorter_name+' '+study_name\n",
        ")"
      ],
      "execution_count": 0,
      "outputs": []
    },
    {
      "metadata": {
        "id": "1QKWzWzMAk4O",
        "colab_type": "code",
        "colab": {}
      },
      "cell_type": "code",
      "source": [
        ""
      ],
      "execution_count": 0,
      "outputs": []
    }
  ]
}