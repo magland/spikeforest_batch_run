{
  "nbformat": 4,
  "nbformat_minor": 0,
  "metadata": {
    "colab": {
      "name": "spikeforest_analysis.ipynb",
      "version": "0.3.2",
      "provenance": [],
      "collapsed_sections": [
        "blWcqWOIhzkc",
        "rvCvUJ1JiZX1",
        "TKwgGlPKh5uE",
        "1vvFYgXjmetF",
        "dfDRhV7jpVgy",
        "fL2QjjBPqXS7"
      ],
      "include_colab_link": true
    },
    "kernelspec": {
      "name": "python3",
      "display_name": "Python 3"
    }
  },
  "cells": [
    {
      "cell_type": "markdown",
      "metadata": {
        "id": "view-in-github",
        "colab_type": "text"
      },
      "source": [
        "<a href=\"https://colab.research.google.com/github/magland/spikeforest_batch_run/blob/master/notebooks/spikeforest_analysis.ipynb\" target=\"_parent\"><img src=\"https://colab.research.google.com/assets/colab-badge.svg\" alt=\"Open In Colab\"/></a>"
      ]
    },
    {
      "metadata": {
        "id": "xfQAJFPFgbzE",
        "colab_type": "text"
      },
      "cell_type": "markdown",
      "source": [
        "## SpikeForest bionet analysis"
      ]
    },
    {
      "metadata": {
        "id": "Fcx4kQoVt374",
        "colab_type": "text"
      },
      "cell_type": "markdown",
      "source": [
        "This notebook represents a complete spikeforest analysis of the bionet studies. You should execute the first few cells and then skip down to the section of interest below."
      ]
    },
    {
      "metadata": {
        "id": "vtsE5P3EgXYr",
        "colab_type": "code",
        "colab": {}
      },
      "cell_type": "code",
      "source": [
        "# Only run this cell if you are running this on a hosted runtime that does not have these packages installed\n",
        "# %%capture is used to suppress the output... this should take up to a minute to complete\n",
        "%%capture\n",
        "!pip install spikeforest\n",
        "!pip install git+https://github.com/magland/spikeforest_batch_run"
      ],
      "execution_count": 0,
      "outputs": []
    },
    {
      "metadata": {
        "id": "P3-FpNWUgWln",
        "colab_type": "code",
        "colab": {}
      },
      "cell_type": "code",
      "source": [
        "# Import the python packages -- autoreload is used for development purposes\n",
        "%load_ext autoreload\n",
        "%autoreload 2\n",
        "\n",
        "import spikeforest as sf\n",
        "from kbucket import client as kb"
      ],
      "execution_count": 0,
      "outputs": []
    },
    {
      "metadata": {
        "id": "_JHpizoTul8M",
        "colab_type": "code",
        "colab": {}
      },
      "cell_type": "code",
      "source": [
        "## Configure readonly access to kbucket -- use this if you only want to browse the results ---\n",
        "sf.kbucketConfigRemote(name='spikeforest1-readonly')"
      ],
      "execution_count": 0,
      "outputs": []
    },
    {
      "metadata": {
        "id": "3pHRiMtggkaT",
        "colab_type": "code",
        "outputId": "96c2a240-7d3c-46bb-b83e-d569d571d2eb",
        "colab": {
          "base_uri": "https://localhost:8080/",
          "height": 51
        }
      },
      "cell_type": "code",
      "source": [
        "## Configure read/write access to kbucket -- use this if you are preparing the studies or the processing batches\n",
        "sf.kbucketConfigRemote(name='spikeforest1-readwrite',ask_password=True)"
      ],
      "execution_count": 3,
      "outputs": [
        {
          "output_type": "stream",
          "text": [
            "Enter password: ··········\n",
            "Pairio user set to spikeforest. Test succeeded.\n"
          ],
          "name": "stdout"
        }
      ]
    },
    {
      "metadata": {
        "id": "blWcqWOIhzkc",
        "colab_type": "text"
      },
      "cell_type": "markdown",
      "source": [
        "## Prepare recordings"
      ]
    },
    {
      "metadata": {
        "id": "HtbjJUirgm0s",
        "colab_type": "code",
        "colab": {}
      },
      "cell_type": "code",
      "source": [
        "def read_text_file(path):\n",
        "  path2=kb.realizeFile(path)\n",
        "  if path2 is None:\n",
        "    raise Exception('Unable to realize file: '+path)\n",
        "  with open(path2,'r') as f:\n",
        "    return f.read()\n",
        "  \n",
        "def prepare_bionet_studies(*,basedir,channels):\n",
        "  study_set_name='bionet'\n",
        "  studies=[]\n",
        "  recordings=[]\n",
        "  names=['bionet_drift','bionet_shuffle','bionet_static']\n",
        "  for name in names:\n",
        "    study_name=name\n",
        "    study_dir=basedir+'/bionet/'+name\n",
        "    description=read_text_file(study_dir+'/readme.txt')\n",
        "    study0=dict(\n",
        "        name=study_name,\n",
        "        study_set=study_set_name,\n",
        "        directory=study_dir,\n",
        "        description=description\n",
        "    )\n",
        "    studies.append(study0)\n",
        "    dd=kb.readDir(study_dir)\n",
        "    for dsname in dd['dirs']:\n",
        "        dsdir='{}/{}'.format(study_dir,dsname)\n",
        "        rec0=dict(\n",
        "            name=dsname,\n",
        "            study=study_name,\n",
        "            description='',\n",
        "            directory=dsdir,\n",
        "            channels=channels\n",
        "        )\n",
        "        if len(rec0['channels'])>0:\n",
        "          units=sf.sf_batch.select_units_on_channels(\n",
        "              recording_dir=dsdir,\n",
        "              firings=dsdir+'/firings_true.mda',\n",
        "              channels=rec0['channels']\n",
        "          )\n",
        "          rec0['units_true']=units\n",
        "        recordings.append(rec0)\n",
        "  return studies, recordings\n",
        "\n",
        "def prepare_magland_synth_studies(*,basedir):\n",
        "  study_set_name='magland_synth'\n",
        "  studies=[]\n",
        "  recordings=[]\n",
        "  names=[]\n",
        "  names=names+['datasets_noise10_K10_C4','datasets_noise10_K10_C8']\n",
        "  names=names+['datasets_noise10_K20_C4','datasets_noise10_K20_C8']\n",
        "  names=names+['datasets_noise20_K10_C4','datasets_noise20_K10_C8']\n",
        "  names=names+['datasets_noise20_K20_C4','datasets_noise20_K20_C8']\n",
        "  description=read_text_file(basedir+'/magland_synth/readme.txt')\n",
        "  for name in names:\n",
        "    study_name='magland_synth_'+name[9:]\n",
        "    study_dir=basedir+'/magland_synth/'+name\n",
        "    study0=dict(\n",
        "        name=study_name,\n",
        "        study_set=study_set_name,\n",
        "        directory=study_dir,\n",
        "        description=description\n",
        "    )\n",
        "    studies.append(study0)\n",
        "    dd=kb.readDir(study_dir)\n",
        "    for dsname in dd['dirs']:\n",
        "        dsdir='{}/{}'.format(study_dir,dsname)\n",
        "        recordings.append(dict(\n",
        "            name=dsname,\n",
        "            study=study_name,\n",
        "            directory=dsdir,\n",
        "            description='One of the recordings in the {} study'.format(study_name)\n",
        "        ))\n",
        "  return studies, recordings"
      ],
      "execution_count": 0,
      "outputs": []
    },
    {
      "metadata": {
        "id": "BpXkEoS8gaMn",
        "colab_type": "code",
        "colab": {}
      },
      "cell_type": "code",
      "source": [
        "basedir='kbucket://15734439d8cf/groundtruth'"
      ],
      "execution_count": 0,
      "outputs": []
    },
    {
      "metadata": {
        "id": "b92joharg0G5",
        "colab_type": "code",
        "colab": {}
      },
      "cell_type": "code",
      "source": [
        "channels=[0,1,2,3,4,5,6,7]\n",
        "studies,recordings=prepare_bionet_studies(basedir=basedir,channels=channels)\n",
        "kb.saveObject(dict(studies=studies,recordings=recordings),key=dict(name='spikeforest_bionet_recordings'))"
      ],
      "execution_count": 0,
      "outputs": []
    },
    {
      "metadata": {
        "id": "XCUMPH8JgXK7",
        "colab_type": "code",
        "outputId": "98e5a738-2d09-4a88-e29c-01211964fb92",
        "colab": {
          "base_uri": "https://localhost:8080/",
          "height": 34
        }
      },
      "cell_type": "code",
      "source": [
        "studies,recordings=prepare_magland_synth_studies(basedir=basedir)\n",
        "kb.saveObject(dict(studies=studies,recordings=recordings),key=dict(name='spikeforest_magland_synth_recordings'))"
      ],
      "execution_count": 0,
      "outputs": [
        {
          "output_type": "stream",
          "text": [
            "Already on server.\n"
          ],
          "name": "stdout"
        }
      ]
    },
    {
      "metadata": {
        "id": "rvCvUJ1JiZX1",
        "colab_type": "text"
      },
      "cell_type": "markdown",
      "source": [
        "## Create summarize recordings batches"
      ]
    },
    {
      "metadata": {
        "id": "MWIJU5Gxic_f",
        "colab_type": "code",
        "colab": {}
      },
      "cell_type": "code",
      "source": [
        "def create_summarize_recordings_batch(*,recordings_name,batch_name):\n",
        "  print('Creating summarize_recordings batch: '+batch_name)\n",
        "  SF=sf.SFData()\n",
        "  SF.loadRecordings(key=dict(name=recordings_name))\n",
        "  \n",
        "  jobs=[]\n",
        "  for name in SF.studyNames():\n",
        "    study=SF.study(name)\n",
        "    for recname in study.recordingNames():\n",
        "      R=study.recording(recname)\n",
        "      job=dict(\n",
        "          command='summarize_recording',\n",
        "          label=R.name(),\n",
        "          recording=R.getObject()\n",
        "      )\n",
        "      jobs.append(job)\n",
        "  batch=dict(jobs=jobs)\n",
        "  print('Number of jobs: {}'.format(len(jobs)))\n",
        "  kb.saveObject(key=dict(batch_name=batch_name),object=batch)"
      ],
      "execution_count": 0,
      "outputs": []
    },
    {
      "metadata": {
        "id": "Vrw88QA5hACU",
        "colab_type": "code",
        "outputId": "71ece4cc-ad87-4c7e-c7f8-3aed3a64d1ca",
        "colab": {
          "base_uri": "https://localhost:8080/",
          "height": 102
        }
      },
      "cell_type": "code",
      "source": [
        "create_summarize_recordings_batch(recordings_name='spikeforest_bionet_recordings',batch_name='summarize_recordings_bionet')\n",
        "create_summarize_recordings_batch(recordings_name='spikeforest_magland_synth_recordings',batch_name='summarize_recordings_magland_synth')"
      ],
      "execution_count": 0,
      "outputs": [
        {
          "output_type": "stream",
          "text": [
            "Creating summarize_recordings batch: summarize_recordings_bionet\n",
            "Number of jobs: 36\n",
            "Already on server.\n",
            "Creating summarize_recordings batch: summarize_recordings_magland_synth\n",
            "Number of jobs: 80\n"
          ],
          "name": "stdout"
        }
      ]
    },
    {
      "metadata": {
        "id": "weikHp2gjbwJ",
        "colab_type": "text"
      },
      "cell_type": "markdown",
      "source": [
        "To run these batches, go to a computer with resources somewhere and run something like:\n",
        "\n",
        "```\n",
        "bin/sf_run_batch [name_of_batch] --run_prefix \"srun -c 2 -n 40\"\n",
        "```\n",
        "\n",
        "where bin/sf_run_batch is found in the spikeforest_batch_run repository.\n",
        "\n",
        "Alternatively, you can test run it in this notebook using the following commands:"
      ]
    },
    {
      "metadata": {
        "id": "z5k_8AHGk0mu",
        "colab_type": "code",
        "outputId": "416499f3-7ffc-467e-b994-34f66e226d2e",
        "colab": {
          "base_uri": "https://localhost:8080/",
          "height": 731
        }
      },
      "cell_type": "code",
      "source": [
        "## Note: usually you would not run this cell -- see the note above.\n",
        "\n",
        "import spikeforest_batch_run as sbr\n",
        "# Execute prepareBatch once (serially)\n",
        "sbr.prepareBatch(batch_name='summarize_recordings_bionet')\n",
        "\n",
        "# Execute runBatch many times in parallel\n",
        "sbr.runBatch(batch_name='summarize_recordings_bionet')\n",
        "\n",
        "# Execute assembleBatchResults once (serially)\n",
        "sbr.assembleBatchResults(batch_name='summarize_recordings_bionet')"
      ],
      "execution_count": 0,
      "outputs": [
        {
          "output_type": "stream",
          "text": [
            "Preparing batch summarize_recordings_bionet with 36 jobs\n",
            "Running batch summarize_recordings_bionet with 36 jobs\n",
            "Assembling results for batch summarize_recordings_bionet with 36 jobs\n",
            "ASSEMBLING: drift_8x_A_2A\n",
            "ASSEMBLING: drift_8x_A_2B\n",
            "ASSEMBLING: drift_8x_A_4A\n",
            "ASSEMBLING: drift_8x_A_4B\n",
            "ASSEMBLING: drift_8x_B_2A\n",
            "ASSEMBLING: drift_8x_B_2B\n",
            "ASSEMBLING: drift_8x_B_4A\n",
            "ASSEMBLING: drift_8x_B_4B\n",
            "ASSEMBLING: drift_8x_C_2A\n",
            "ASSEMBLING: drift_8x_C_2B\n",
            "ASSEMBLING: drift_8x_C_4A\n",
            "ASSEMBLING: drift_8x_C_4B\n",
            "ASSEMBLING: shuffle_8x_A_2A\n",
            "ASSEMBLING: shuffle_8x_A_2B\n",
            "ASSEMBLING: shuffle_8x_A_4A\n",
            "ASSEMBLING: shuffle_8x_A_4B\n",
            "ASSEMBLING: shuffle_8x_B_2A\n",
            "ASSEMBLING: shuffle_8x_B_2B\n",
            "ASSEMBLING: shuffle_8x_B_4A\n",
            "ASSEMBLING: shuffle_8x_B_4B\n",
            "ASSEMBLING: shuffle_8x_C_2A\n",
            "ASSEMBLING: shuffle_8x_C_2B\n",
            "ASSEMBLING: shuffle_8x_C_4A\n",
            "ASSEMBLING: shuffle_8x_C_4B\n",
            "ASSEMBLING: static_8x_A_2A\n",
            "ASSEMBLING: static_8x_A_2B\n",
            "ASSEMBLING: static_8x_A_4A\n",
            "ASSEMBLING: static_8x_A_4B\n",
            "ASSEMBLING: static_8x_B_2A\n",
            "ASSEMBLING: static_8x_B_2B\n",
            "ASSEMBLING: static_8x_B_4A\n",
            "ASSEMBLING: static_8x_B_4B\n",
            "ASSEMBLING: static_8x_C_2A\n",
            "ASSEMBLING: static_8x_C_2B\n",
            "ASSEMBLING: static_8x_C_4A\n",
            "ASSEMBLING: static_8x_C_4B\n",
            "Saving results...\n",
            "Already on server.\n",
            "Done.\n"
          ],
          "name": "stdout"
        }
      ]
    },
    {
      "metadata": {
        "id": "TKwgGlPKh5uE",
        "colab_type": "text"
      },
      "cell_type": "markdown",
      "source": [
        "## Browse recordings"
      ]
    },
    {
      "metadata": {
        "id": "-qq56y38hJpv",
        "colab_type": "code",
        "outputId": "43ad502f-c6b8-407f-90a9-90c1e9429cc6",
        "colab": {
          "base_uri": "https://localhost:8080/",
          "height": 68
        }
      },
      "cell_type": "code",
      "source": [
        "SF=sf.SFData()\n",
        "SF.loadRecordings(key=dict(name='spikeforest_bionet_recordings'))\n",
        "SF.loadRecordings(key=dict(name='spikeforest_magland_synth_recordings'))\n",
        "SF.loadProcessingBatch(key=dict(batch_name='summarize_recordings_bionet',name='job_results'))\n",
        "SF.loadProcessingBatch(key=dict(batch_name='summarize_recordings_magland_synth',name='job_results'))"
      ],
      "execution_count": 0,
      "outputs": [
        {
          "output_type": "stream",
          "text": [
            "Loaded 0 sorting results and 36 recording summary results\n",
            "Downloading file --- (0.0 MB): http://132.249.245.245:24351/7317cea8265b/download/1/e5/1e55d734f322497acaee334660f373bd270cf2cd -> /home/magland/kbucket_cache/1/e5/1e55d734f322497acaee334660f373bd270cf2cd\n",
            "Loaded 0 sorting results and 80 recording summary results\n"
          ],
          "name": "stdout"
        }
      ]
    },
    {
      "metadata": {
        "id": "6o8vClJ9hrRa",
        "colab_type": "code",
        "outputId": "0379a936-5617-446d-ed25-3d1e8dde8cd1",
        "colab": {
          "base_uri": "https://localhost:8080/",
          "height": 97
        }
      },
      "cell_type": "code",
      "source": [
        "X=sf.SFSelectWidget(sfdata=SF,mode='recording')\n",
        "display(X)"
      ],
      "execution_count": 0,
      "outputs": [
        {
          "output_type": "display_data",
          "data": {
            "text/plain": [
              "<IPython.core.display.Javascript object>"
            ],
            "application/javascript": [
              "document.getElementById('78c13603-b05b-4eeb-a633-a293398aeef9').innerHTML=atob('PHNlbGVjdCBvbmNoYW5nZT0iZ29vZ2xlLmNvbGFiLmtlcm5lbC5pbnZva2VGdW5jdGlvbigmI3gyNztvbmNoYW5nZWNhbGxiYWNrLTZkNzJmNmI1LTczMDUtNDdkOC1iMDIwLTlmNmZhZTU4MzM3ZiYjeDI3OywgW10sIHt2YWx1ZTp0aGlzLnZhbHVlfSkiPjwvc2VsZWN0Pg=='); console.log('test1');"
            ]
          },
          "metadata": {
            "tags": []
          }
        },
        {
          "output_type": "display_data",
          "data": {
            "text/plain": [
              "<IPython.core.display.Javascript object>"
            ],
            "application/javascript": [
              "document.getElementById('36ac824a-3272-477e-a44a-928437712a6f').innerHTML=atob('PHNlbGVjdCBvbmNoYW5nZT0iZ29vZ2xlLmNvbGFiLmtlcm5lbC5pbnZva2VGdW5jdGlvbigmI3gyNztvbmNoYW5nZWNhbGxiYWNrLTc1M2Y3NjA5LTE2NjItNDZjOS04YzI2LTFhY2RlMDc1NTAwYSYjeDI3OywgW10sIHt2YWx1ZTp0aGlzLnZhbHVlfSkiPjwvc2VsZWN0Pg=='); console.log('test1');"
            ]
          },
          "metadata": {
            "tags": []
          }
        },
        {
          "output_type": "display_data",
          "data": {
            "text/plain": [
              "<IPython.core.display.Javascript object>"
            ],
            "application/javascript": [
              "document.getElementById('20ee1f45-6597-4cce-8d0c-27c94df06a27').innerHTML=atob('PHNlbGVjdCBvbmNoYW5nZT0iZ29vZ2xlLmNvbGFiLmtlcm5lbC5pbnZva2VGdW5jdGlvbigmI3gyNztvbmNoYW5nZWNhbGxiYWNrLWI3NDliOWUzLTUwYmUtNDBlYS1hZjIxLWI4NWY1YWU3MTg3YSYjeDI3OywgW10sIHt2YWx1ZTp0aGlzLnZhbHVlfSkiPjwvc2VsZWN0Pg=='); console.log('test1');"
            ]
          },
          "metadata": {
            "tags": []
          }
        },
        {
          "output_type": "display_data",
          "data": {
            "text/plain": [
              "<IPython.core.display.Javascript object>"
            ],
            "application/javascript": [
              "document.getElementById('78c13603-b05b-4eeb-a633-a293398aeef9').innerHTML=atob('PHNlbGVjdCBvbmNoYW5nZT0iZ29vZ2xlLmNvbGFiLmtlcm5lbC5pbnZva2VGdW5jdGlvbigmI3gyNztvbmNoYW5nZWNhbGxiYWNrLTMzYTZhYjIxLTFlMzEtNGY1ZC1iYmIxLTExODNkNjc0NDg3OCYjeDI3OywgW10sIHt2YWx1ZTp0aGlzLnZhbHVlfSkiPjxvcHRpb24gc2VsZWN0ZWQ9InNlbGVjdGVkIj5iaW9uZXRfZHJpZnQ8L29wdGlvbj48b3B0aW9uPmJpb25ldF9zaHVmZmxlPC9vcHRpb24+PG9wdGlvbj5iaW9uZXRfc3RhdGljPC9vcHRpb24+PG9wdGlvbj5tYWdsYW5kX3N5bnRoX25vaXNlMTBfSzEwX0M0PC9vcHRpb24+PG9wdGlvbj5tYWdsYW5kX3N5bnRoX25vaXNlMTBfSzEwX0M4PC9vcHRpb24+PG9wdGlvbj5tYWdsYW5kX3N5bnRoX25vaXNlMTBfSzIwX0M0PC9vcHRpb24+PG9wdGlvbj5tYWdsYW5kX3N5bnRoX25vaXNlMTBfSzIwX0M4PC9vcHRpb24+PG9wdGlvbj5tYWdsYW5kX3N5bnRoX25vaXNlMjBfSzEwX0M0PC9vcHRpb24+PG9wdGlvbj5tYWdsYW5kX3N5bnRoX25vaXNlMjBfSzEwX0M4PC9vcHRpb24+PG9wdGlvbj5tYWdsYW5kX3N5bnRoX25vaXNlMjBfSzIwX0M0PC9vcHRpb24+PG9wdGlvbj5tYWdsYW5kX3N5bnRoX25vaXNlMjBfSzIwX0M4PC9vcHRpb24+PC9zZWxlY3Q+'); console.log('test1');"
            ]
          },
          "metadata": {
            "tags": []
          }
        },
        {
          "output_type": "display_data",
          "data": {
            "text/plain": [
              "<IPython.core.display.Javascript object>"
            ],
            "application/javascript": [
              "document.getElementById('36ac824a-3272-477e-a44a-928437712a6f').innerHTML=atob('PHNlbGVjdCBvbmNoYW5nZT0iZ29vZ2xlLmNvbGFiLmtlcm5lbC5pbnZva2VGdW5jdGlvbigmI3gyNztvbmNoYW5nZWNhbGxiYWNrLWJlZGQ2NzdkLWJiNDItNGQ1NC04NjRlLTJmODM5ZDZkOTI2NSYjeDI3OywgW10sIHt2YWx1ZTp0aGlzLnZhbHVlfSkiPjxvcHRpb24gc2VsZWN0ZWQ9InNlbGVjdGVkIj5kcmlmdF84eF9BXzJBPC9vcHRpb24+PG9wdGlvbj5kcmlmdF84eF9BXzJCPC9vcHRpb24+PG9wdGlvbj5kcmlmdF84eF9BXzRBPC9vcHRpb24+PG9wdGlvbj5kcmlmdF84eF9BXzRCPC9vcHRpb24+PG9wdGlvbj5kcmlmdF84eF9CXzJBPC9vcHRpb24+PG9wdGlvbj5kcmlmdF84eF9CXzJCPC9vcHRpb24+PG9wdGlvbj5kcmlmdF84eF9CXzRBPC9vcHRpb24+PG9wdGlvbj5kcmlmdF84eF9CXzRCPC9vcHRpb24+PG9wdGlvbj5kcmlmdF84eF9DXzJBPC9vcHRpb24+PG9wdGlvbj5kcmlmdF84eF9DXzJCPC9vcHRpb24+PG9wdGlvbj5kcmlmdF84eF9DXzRBPC9vcHRpb24+PG9wdGlvbj5kcmlmdF84eF9DXzRCPC9vcHRpb24+PC9zZWxlY3Q+'); console.log('test1');"
            ]
          },
          "metadata": {
            "tags": []
          }
        },
        {
          "output_type": "display_data",
          "data": {
            "text/plain": [
              "<IPython.core.display.Javascript object>"
            ],
            "application/javascript": [
              "document.getElementById('20ee1f45-6597-4cce-8d0c-27c94df06a27').innerHTML=atob('PHNlbGVjdCBvbmNoYW5nZT0iZ29vZ2xlLmNvbGFiLmtlcm5lbC5pbnZva2VGdW5jdGlvbigmI3gyNztvbmNoYW5nZWNhbGxiYWNrLWU3YTVmNmU4LTg1NzMtNGJhZS05ZTczLTczNzhjZDQ5OGQ5NyYjeDI3OywgW10sIHt2YWx1ZTp0aGlzLnZhbHVlfSkiPjwvc2VsZWN0Pg=='); console.log('test1');"
            ]
          },
          "metadata": {
            "tags": []
          }
        },
        {
          "output_type": "display_data",
          "data": {
            "text/plain": [
              "<spikeforest.sfselectwidget.SFSelectWidget at 0x7f353ac56860>"
            ],
            "text/html": [
              "<div id=4f704f07-146c-4225-a0df-23a624138169><div><hr></hr><table><tr><td>Study **: </td><td><div id=78c13603-b05b-4eeb-a633-a293398aeef9><select onchange=\"google.colab.kernel.invokeFunction(&#x27;onchangecallback-5a340658-f199-43be-8cce-f68abb99c625&#x27;, [], {value:this.value})\"><option selected=\"selected\">bionet_drift</option><option>bionet_shuffle</option><option>bionet_static</option><option>magland_synth_noise10_K10_C4</option><option>magland_synth_noise10_K10_C8</option><option>magland_synth_noise10_K20_C4</option><option>magland_synth_noise10_K20_C8</option><option>magland_synth_noise20_K10_C4</option><option>magland_synth_noise20_K10_C8</option><option>magland_synth_noise20_K20_C4</option><option>magland_synth_noise20_K20_C8</option></select></div></td></tr><tr><td>Recording: </td><td><div id=36ac824a-3272-477e-a44a-928437712a6f><select onchange=\"google.colab.kernel.invokeFunction(&#x27;onchangecallback-e142c448-ec85-4190-8865-d6d47a9b8df6&#x27;, [], {value:this.value})\"><option selected=\"selected\">drift_8x_A_2A</option><option>drift_8x_A_2B</option><option>drift_8x_A_4A</option><option>drift_8x_A_4B</option><option>drift_8x_B_2A</option><option>drift_8x_B_2B</option><option>drift_8x_B_4A</option><option>drift_8x_B_4B</option><option>drift_8x_C_2A</option><option>drift_8x_C_2B</option><option>drift_8x_C_4A</option><option>drift_8x_C_4B</option></select></div></td></tr></table><hr></hr></div></div>"
            ]
          },
          "metadata": {
            "tags": []
          }
        }
      ]
    },
    {
      "metadata": {
        "id": "CwiDbAZbiF48",
        "colab_type": "code",
        "colab": {}
      },
      "cell_type": "code",
      "source": [
        "R=X.recording()\n",
        "display(R.plot('timeseries'))\n",
        "display(R.plot('waveforms_true'))\n",
        "display(R.trueUnitsInfo())"
      ],
      "execution_count": 0,
      "outputs": []
    },
    {
      "metadata": {
        "id": "WBdqbkSNiJyS",
        "colab_type": "code",
        "outputId": "91e60e18-03d8-49a2-b780-a1bbdb1117a2",
        "colab": {
          "base_uri": "https://localhost:8080/",
          "height": 34
        }
      },
      "cell_type": "code",
      "source": [
        "R.plotNames()"
      ],
      "execution_count": 0,
      "outputs": [
        {
          "output_type": "execute_result",
          "data": {
            "text/plain": [
              "['timeseries', 'waveforms_true']"
            ]
          },
          "metadata": {
            "tags": []
          },
          "execution_count": 51
        }
      ]
    },
    {
      "metadata": {
        "id": "1vvFYgXjmetF",
        "colab_type": "text"
      },
      "cell_type": "markdown",
      "source": [
        "## Create spike sorting batches"
      ]
    },
    {
      "metadata": {
        "id": "7toleMsBnMy6",
        "colab_type": "code",
        "outputId": "e06ab4fe-b59d-4bf4-a269-743be352d988",
        "colab": {
          "base_uri": "https://localhost:8080/",
          "height": 139
        }
      },
      "cell_type": "code",
      "source": [
        "SF=sf.SFData()\n",
        "SF.loadRecordings(key=dict(name='spikeforest_bionet_recordings'))\n",
        "SF.loadRecordings(key=dict(name='spikeforest_magland_synth_recordings'))\n",
        "SF.loadProcessingBatch(key=dict(batch_name='summarize_recordings_bionet',name='job_results'))\n",
        "SF.loadProcessingBatch(key=dict(batch_name='summarize_recordings_magland_synth',name='job_results'))"
      ],
      "execution_count": 4,
      "outputs": [
        {
          "output_type": "stream",
          "text": [
            "Downloading file --- (0.0 MB): http://132.249.245.245:24351/7317cea8265b/download/3/b6/3b673117cec90f6e040220b4da908dd22cc20957 -> /tmp/sha1-cache/3/b6/3b673117cec90f6e040220b4da908dd22cc20957\n",
            "Downloading file --- (0.0 MB): http://132.249.245.245:24351/7317cea8265b/download/d/41/d41ed6b9b22ba7cf651c230b07aca996320298c6 -> /tmp/sha1-cache/d/41/d41ed6b9b22ba7cf651c230b07aca996320298c6\n",
            "Downloading file --- (0.0 MB): http://132.249.245.245:24351/7317cea8265b/download/1/ab/1abdcd3ef2ec66da41a759ca3a2a580a114c2321 -> /tmp/sha1-cache/1/ab/1abdcd3ef2ec66da41a759ca3a2a580a114c2321\n",
            "Loaded 0 sorting results and 36 recording summary results\n",
            "Downloading file --- (0.0 MB): http://132.249.245.245:24351/7317cea8265b/download/1/e5/1e55d734f322497acaee334660f373bd270cf2cd -> /tmp/sha1-cache/1/e5/1e55d734f322497acaee334660f373bd270cf2cd\n",
            "Loaded 0 sorting results and 80 recording summary results\n"
          ],
          "name": "stdout"
        }
      ]
    },
    {
      "metadata": {
        "id": "2PHEdeuBnVJl",
        "colab_type": "code",
        "colab": {}
      },
      "cell_type": "code",
      "source": [
        "sorter_ms4_thr3=dict(\n",
        "    name='MountainSort4-thr3',\n",
        "    processor_name='MountainSort4',\n",
        "    params=dict(\n",
        "        detect_sign=-1,\n",
        "        adjacency_radius=100,\n",
        "        detect_threshold=3\n",
        "    )\n",
        ")\n",
        "\n",
        "sorter_irc_tetrode=dict(\n",
        "    name='IronClust-tetrode',\n",
        "    processor_name='IronClust',\n",
        "    params=dict(\n",
        "        detect_sign=-1,\n",
        "        adjacency_radius=100,\n",
        "        detect_threshold=5,\n",
        "        prm_template_name=\"tetrode_template.prm\"\n",
        "    )\n",
        ")\n",
        "\n",
        "sorter_irc_drift=dict(\n",
        "    name='IronClust-drift',\n",
        "    processor_name='IronClust',\n",
        "    params=dict(\n",
        "        detect_sign=-1,\n",
        "        adjacency_radius=100,\n",
        "        prm_template_name=\"drift_template.prm\"\n",
        "    )\n",
        ")\n",
        "\n",
        "sorter_sc=dict(\n",
        "    name='SpykingCircus',\n",
        "    processor_name='SpykingCircus',\n",
        "    params=dict(\n",
        "        detect_sign=-1,\n",
        "        adjacency_radius=100\n",
        "    )\n",
        ")\n",
        "\n",
        "sorter_ks_tetrode=dict(\n",
        "    name='KiloSort',\n",
        "    processor_name='KiloSort',\n",
        "    params=dict(\n",
        "        detect_sign=-1,\n",
        "        adjacency_radius=-1\n",
        "    )\n",
        ")\n",
        "\n",
        "sorter_ks_drift=dict(\n",
        "    name='KiloSort',\n",
        "    processor_name='KiloSort',\n",
        "    params=dict(\n",
        "        detect_sign=-1,\n",
        "        adjacency_radius=100\n",
        "    )\n",
        ")"
      ],
      "execution_count": 0,
      "outputs": []
    },
    {
      "metadata": {
        "id": "NhvWMXK7mSYu",
        "colab_type": "code",
        "colab": {}
      },
      "cell_type": "code",
      "source": [
        "def create_sorting_batch(*,recordings_name,batch_name,sorters):\n",
        "  print('Creating sorting batch: '+batch_name)\n",
        "  SF=sf.SFData()\n",
        "  SF.loadRecordings(key=dict(name=recordings_name))\n",
        "  \n",
        "  jobs=[]\n",
        "  for name in SF.studyNames():\n",
        "    study=SF.study(name)\n",
        "    for rname in study.recordingNames():\n",
        "      R=study.recording(rname)\n",
        "      for sorter in sorters:\n",
        "        job=dict(\n",
        "          command='sort_recording',\n",
        "          label=sorter['name']+': '+R.name(),\n",
        "          recording=R.getObject(),\n",
        "          sorter=sorter\n",
        "        )\n",
        "        jobs.append(job)\n",
        "\n",
        "  batch=dict(jobs=jobs)\n",
        "  print('Number of jobs: {}'.format(len(jobs)))\n",
        "  kb.saveObject(key=dict(batch_name=batch_name),object=batch)"
      ],
      "execution_count": 0,
      "outputs": []
    },
    {
      "metadata": {
        "id": "yb-zTMQgnK98",
        "colab_type": "code",
        "outputId": "809c529f-34dd-4e00-bb75-573f9c2d8268",
        "colab": {
          "base_uri": "https://localhost:8080/",
          "height": 391
        }
      },
      "cell_type": "code",
      "source": [
        "create_sorting_batch(recordings_name='spikeforest_magland_synth_recordings',batch_name='ms4_magland_synth',sorters=[sorter_ms4_thr3])\n",
        "create_sorting_batch(recordings_name='spikeforest_magland_synth_recordings',batch_name='irc_magland_synth',sorters=[sorter_irc_tetrode])\n",
        "create_sorting_batch(recordings_name='spikeforest_magland_synth_recordings',batch_name='sc_magland_synth',sorters=[sorter_sc])\n",
        "create_sorting_batch(recordings_name='spikeforest_magland_synth_recordings',batch_name='ks_magland_synth',sorters=[sorter_ks_tetrode])\n",
        "\n",
        "create_sorting_batch(recordings_name='spikeforest_bionet_recordings',batch_name='ms4_bionet',sorters=[sorter_ms4_thr3])\n",
        "create_sorting_batch(recordings_name='spikeforest_bionet_recordings',batch_name='irc_bionet',sorters=[sorter_irc_drift])\n",
        "create_sorting_batch(recordings_name='spikeforest_bionet_recordings',batch_name='sc_bionet',sorters=[sorter_sc])\n",
        "create_sorting_batch(recordings_name='spikeforest_bionet_recordings',batch_name='ks_bionet',sorters=[sorter_ks_drift])"
      ],
      "execution_count": 10,
      "outputs": [
        {
          "output_type": "stream",
          "text": [
            "Creating sorting batch: ms4_magland_synth\n",
            "Number of jobs: 80\n",
            "Already on server.\n",
            "Creating sorting batch: irc_magland_synth\n",
            "Number of jobs: 80\n",
            "Already on server.\n",
            "Creating sorting batch: sc_magland_synth\n",
            "Number of jobs: 80\n",
            "Already on server.\n",
            "Creating sorting batch: ks_magland_synth\n",
            "Number of jobs: 80\n",
            "Creating sorting batch: ms4_bionet\n",
            "Number of jobs: 36\n",
            "Already on server.\n",
            "Creating sorting batch: irc_bionet\n",
            "Number of jobs: 36\n",
            "Already on server.\n",
            "Creating sorting batch: sc_bionet\n",
            "Number of jobs: 36\n",
            "Already on server.\n",
            "Creating sorting batch: ks_bionet\n",
            "Number of jobs: 36\n"
          ],
          "name": "stdout"
        }
      ]
    },
    {
      "metadata": {
        "id": "W2VTozxFnoE3",
        "colab_type": "text"
      },
      "cell_type": "markdown",
      "source": [
        "To run these sorting batches, follow the instructions above."
      ]
    },
    {
      "metadata": {
        "id": "dfDRhV7jpVgy",
        "colab_type": "text"
      },
      "cell_type": "markdown",
      "source": [
        "## Browse sorting results"
      ]
    },
    {
      "metadata": {
        "id": "4ga6PepCpXKF",
        "colab_type": "code",
        "outputId": "13268d3e-76a9-4ff0-e888-88f9c2e70897",
        "colab": {
          "base_uri": "https://localhost:8080/",
          "height": 190
        }
      },
      "cell_type": "code",
      "source": [
        "SF=sf.SFData()\n",
        "SF.loadRecordings(key=dict(name='spikeforest_bionet_recordings'))\n",
        "SF.loadRecordings(key=dict(name='spikeforest_magland_synth_recordings'))\n",
        "SF.loadProcessingBatch(key=dict(batch_name='summarize_recordings_bionet',name='job_results'))\n",
        "SF.loadProcessingBatch(key=dict(batch_name='summarize_recordings_magland_synth',name='job_results'))\n",
        "\n",
        "SF.loadProcessingBatch(key=dict(batch_name='ms4_magland_synth',name='job_results'))\n",
        "SF.loadProcessingBatch(key=dict(batch_name='sc_magland_synth',name='job_results'))\n",
        "SF.loadProcessingBatch(key=dict(batch_name='irc_magland_synth',name='job_results'))\n",
        "\n",
        "SF.loadProcessingBatch(key=dict(batch_name='ms4_bionet',name='job_results'))\n",
        "#SF.loadProcessingBatch(key=dict(batch_name='sc_bionet',name='job_results')) ## Spyking circus not working yet -- need to put into singularity container\n",
        "SF.loadProcessingBatch(key=dict(batch_name='irc_bionet',name='job_results'))"
      ],
      "execution_count": 0,
      "outputs": [
        {
          "output_type": "stream",
          "text": [
            "Loaded 0 sorting results and 36 recording summary results\n",
            "Loaded 0 sorting results and 80 recording summary results\n",
            "Loaded 80 sorting results and 0 recording summary results\n",
            "Downloading file --- (0.1 MB): http://132.249.245.245:24351/7317cea8265b/download/f/f8/ff85038b9726cf723cddfe72c607cc34f13fe811 -> /home/magland/kbucket_cache/f/f8/ff85038b9726cf723cddfe72c607cc34f13fe811\n",
            "Loaded 80 sorting results and 0 recording summary results\n",
            "Downloading file --- (0.1 MB): http://132.249.245.245:24351/7317cea8265b/download/6/af/6af92f0f8e99625c1bacaee907d45998a6767e27 -> /home/magland/kbucket_cache/6/af/6af92f0f8e99625c1bacaee907d45998a6767e27\n",
            "Loaded 80 sorting results and 0 recording summary results\n",
            "Loaded 36 sorting results and 0 recording summary results\n",
            "Loaded 36 sorting results and 0 recording summary results\n"
          ],
          "name": "stdout"
        }
      ]
    },
    {
      "metadata": {
        "id": "D7Ilcyb0pki5",
        "colab_type": "code",
        "outputId": "febd1b8a-828d-40b0-8fa7-23fcdf93b7b8",
        "colab": {
          "base_uri": "https://localhost:8080/",
          "height": 120
        }
      },
      "cell_type": "code",
      "source": [
        "X=sf.SFSelectWidget(sfdata=SF,mode='sorting_result')\n",
        "display(X)"
      ],
      "execution_count": 0,
      "outputs": [
        {
          "output_type": "display_data",
          "data": {
            "text/plain": [
              "<IPython.core.display.Javascript object>"
            ],
            "application/javascript": [
              "document.getElementById('8b9c17f3-2b04-4427-b0c2-424ef5192fc1').innerHTML=atob('PHNlbGVjdCBvbmNoYW5nZT0iZ29vZ2xlLmNvbGFiLmtlcm5lbC5pbnZva2VGdW5jdGlvbigmI3gyNztvbmNoYW5nZWNhbGxiYWNrLTVhNzI3MTU2LTgzNTMtNDU3NC1iZWUxLTViMDUzZGVjNTA5OCYjeDI3OywgW10sIHt2YWx1ZTp0aGlzLnZhbHVlfSkiPjwvc2VsZWN0Pg=='); console.log('test1');"
            ]
          },
          "metadata": {
            "tags": []
          }
        },
        {
          "output_type": "display_data",
          "data": {
            "text/plain": [
              "<IPython.core.display.Javascript object>"
            ],
            "application/javascript": [
              "document.getElementById('ccb0bd7b-60e6-40f5-9c55-36f60061a97a').innerHTML=atob('PHNlbGVjdCBvbmNoYW5nZT0iZ29vZ2xlLmNvbGFiLmtlcm5lbC5pbnZva2VGdW5jdGlvbigmI3gyNztvbmNoYW5nZWNhbGxiYWNrLTI1NDNhNzNmLTU2ZDItNDJjMy1iNWEwLWVmMmI0YmJlMjkwYyYjeDI3OywgW10sIHt2YWx1ZTp0aGlzLnZhbHVlfSkiPjwvc2VsZWN0Pg=='); console.log('test1');"
            ]
          },
          "metadata": {
            "tags": []
          }
        },
        {
          "output_type": "display_data",
          "data": {
            "text/plain": [
              "<IPython.core.display.Javascript object>"
            ],
            "application/javascript": [
              "document.getElementById('e0e23c3b-22e4-4029-8f2f-fcf373007245').innerHTML=atob('PHNlbGVjdCBvbmNoYW5nZT0iZ29vZ2xlLmNvbGFiLmtlcm5lbC5pbnZva2VGdW5jdGlvbigmI3gyNztvbmNoYW5nZWNhbGxiYWNrLThiZjA0YjZhLTVmNjItNGEyNC1iMDFhLTBhNTc3NzE1ODM0ZSYjeDI3OywgW10sIHt2YWx1ZTp0aGlzLnZhbHVlfSkiPjwvc2VsZWN0Pg=='); console.log('test1');"
            ]
          },
          "metadata": {
            "tags": []
          }
        },
        {
          "output_type": "display_data",
          "data": {
            "text/plain": [
              "<IPython.core.display.Javascript object>"
            ],
            "application/javascript": [
              "document.getElementById('8b9c17f3-2b04-4427-b0c2-424ef5192fc1').innerHTML=atob('PHNlbGVjdCBvbmNoYW5nZT0iZ29vZ2xlLmNvbGFiLmtlcm5lbC5pbnZva2VGdW5jdGlvbigmI3gyNztvbmNoYW5nZWNhbGxiYWNrLTJiMjJjYWY2LTRlZmQtNDgxOC1hYmNjLWMyYjBhNTI0NjI5NCYjeDI3OywgW10sIHt2YWx1ZTp0aGlzLnZhbHVlfSkiPjxvcHRpb24gc2VsZWN0ZWQ9InNlbGVjdGVkIj5iaW9uZXRfZHJpZnQ8L29wdGlvbj48b3B0aW9uPmJpb25ldF9zaHVmZmxlPC9vcHRpb24+PG9wdGlvbj5iaW9uZXRfc3RhdGljPC9vcHRpb24+PG9wdGlvbj5tYWdsYW5kX3N5bnRoX25vaXNlMTBfSzEwX0M0PC9vcHRpb24+PG9wdGlvbj5tYWdsYW5kX3N5bnRoX25vaXNlMTBfSzEwX0M4PC9vcHRpb24+PG9wdGlvbj5tYWdsYW5kX3N5bnRoX25vaXNlMTBfSzIwX0M0PC9vcHRpb24+PG9wdGlvbj5tYWdsYW5kX3N5bnRoX25vaXNlMTBfSzIwX0M4PC9vcHRpb24+PG9wdGlvbj5tYWdsYW5kX3N5bnRoX25vaXNlMjBfSzEwX0M0PC9vcHRpb24+PG9wdGlvbj5tYWdsYW5kX3N5bnRoX25vaXNlMjBfSzEwX0M4PC9vcHRpb24+PG9wdGlvbj5tYWdsYW5kX3N5bnRoX25vaXNlMjBfSzIwX0M0PC9vcHRpb24+PG9wdGlvbj5tYWdsYW5kX3N5bnRoX25vaXNlMjBfSzIwX0M4PC9vcHRpb24+PC9zZWxlY3Q+'); console.log('test1');"
            ]
          },
          "metadata": {
            "tags": []
          }
        },
        {
          "output_type": "display_data",
          "data": {
            "text/plain": [
              "<IPython.core.display.Javascript object>"
            ],
            "application/javascript": [
              "document.getElementById('ccb0bd7b-60e6-40f5-9c55-36f60061a97a').innerHTML=atob('PHNlbGVjdCBvbmNoYW5nZT0iZ29vZ2xlLmNvbGFiLmtlcm5lbC5pbnZva2VGdW5jdGlvbigmI3gyNztvbmNoYW5nZWNhbGxiYWNrLWFmM2Y1ZjRiLTRiN2YtNDMxMC05ZTI3LWRiZGJjYWNjNDAyYSYjeDI3OywgW10sIHt2YWx1ZTp0aGlzLnZhbHVlfSkiPjxvcHRpb24gc2VsZWN0ZWQ9InNlbGVjdGVkIj5kcmlmdF84eF9BXzJBPC9vcHRpb24+PG9wdGlvbj5kcmlmdF84eF9BXzJCPC9vcHRpb24+PG9wdGlvbj5kcmlmdF84eF9BXzRBPC9vcHRpb24+PG9wdGlvbj5kcmlmdF84eF9BXzRCPC9vcHRpb24+PG9wdGlvbj5kcmlmdF84eF9CXzJBPC9vcHRpb24+PG9wdGlvbj5kcmlmdF84eF9CXzJCPC9vcHRpb24+PG9wdGlvbj5kcmlmdF84eF9CXzRBPC9vcHRpb24+PG9wdGlvbj5kcmlmdF84eF9CXzRCPC9vcHRpb24+PG9wdGlvbj5kcmlmdF84eF9DXzJBPC9vcHRpb24+PG9wdGlvbj5kcmlmdF84eF9DXzJCPC9vcHRpb24+PG9wdGlvbj5kcmlmdF84eF9DXzRBPC9vcHRpb24+PG9wdGlvbj5kcmlmdF84eF9DXzRCPC9vcHRpb24+PC9zZWxlY3Q+'); console.log('test1');"
            ]
          },
          "metadata": {
            "tags": []
          }
        },
        {
          "output_type": "display_data",
          "data": {
            "text/plain": [
              "<IPython.core.display.Javascript object>"
            ],
            "application/javascript": [
              "document.getElementById('e0e23c3b-22e4-4029-8f2f-fcf373007245').innerHTML=atob('PHNlbGVjdCBvbmNoYW5nZT0iZ29vZ2xlLmNvbGFiLmtlcm5lbC5pbnZva2VGdW5jdGlvbigmI3gyNztvbmNoYW5nZWNhbGxiYWNrLTY0ZjgxYjQzLTE1MTAtNDYzOS1hYTE5LTczZDczMmQ2NDM2YyYjeDI3OywgW10sIHt2YWx1ZTp0aGlzLnZhbHVlfSkiPjxvcHRpb24gc2VsZWN0ZWQ9InNlbGVjdGVkIj5Nb3VudGFpblNvcnQ0LXRocjM8L29wdGlvbj48b3B0aW9uPklyb25DbHVzdC1kcmlmdDwvb3B0aW9uPjwvc2VsZWN0Pg=='); console.log('test1');"
            ]
          },
          "metadata": {
            "tags": []
          }
        },
        {
          "output_type": "display_data",
          "data": {
            "text/plain": [
              "<spikeforest.sfselectwidget.SFSelectWidget at 0x7f353abe25c0>"
            ],
            "text/html": [
              "<div id=3308e37a-0991-495e-9ef7-7a2fdfd8ee8f><div><hr></hr><table><tr><td>Study **: </td><td><div id=8b9c17f3-2b04-4427-b0c2-424ef5192fc1><select onchange=\"google.colab.kernel.invokeFunction(&#x27;onchangecallback-7ae7d866-ef31-4c11-bee5-40f9cb77537b&#x27;, [], {value:this.value})\"><option selected=\"selected\">bionet_drift</option><option>bionet_shuffle</option><option>bionet_static</option><option>magland_synth_noise10_K10_C4</option><option>magland_synth_noise10_K10_C8</option><option>magland_synth_noise10_K20_C4</option><option>magland_synth_noise10_K20_C8</option><option>magland_synth_noise20_K10_C4</option><option>magland_synth_noise20_K10_C8</option><option>magland_synth_noise20_K20_C4</option><option>magland_synth_noise20_K20_C8</option></select></div></td></tr><tr><td>Recording: </td><td><div id=ccb0bd7b-60e6-40f5-9c55-36f60061a97a><select onchange=\"google.colab.kernel.invokeFunction(&#x27;onchangecallback-14c28cab-b204-42cf-b233-1dfd58317dc6&#x27;, [], {value:this.value})\"><option selected=\"selected\">drift_8x_A_2A</option><option>drift_8x_A_2B</option><option>drift_8x_A_4A</option><option>drift_8x_A_4B</option><option>drift_8x_B_2A</option><option>drift_8x_B_2B</option><option>drift_8x_B_4A</option><option>drift_8x_B_4B</option><option>drift_8x_C_2A</option><option>drift_8x_C_2B</option><option>drift_8x_C_4A</option><option>drift_8x_C_4B</option></select></div></td></tr><tr><td>Sorting result: </td><td><div id=e0e23c3b-22e4-4029-8f2f-fcf373007245><select onchange=\"google.colab.kernel.invokeFunction(&#x27;onchangecallback-e32b3ae9-417a-488b-b198-9e206c778377&#x27;, [], {value:this.value})\"><option selected=\"selected\">MountainSort4-thr3</option><option>IronClust-drift</option></select></div></td></tr></table><hr></hr></div></div>"
            ]
          },
          "metadata": {
            "tags": []
          }
        }
      ]
    },
    {
      "metadata": {
        "id": "Sganjg9cp56c",
        "colab_type": "code",
        "colab": {}
      },
      "cell_type": "code",
      "source": [
        "R=X.sortingResult()\n",
        "display(R.plot('unit_waveforms'))\n",
        "display(R.plot('autocorrelograms'))\n",
        "display(R.comparisonWithTruth())"
      ],
      "execution_count": 0,
      "outputs": []
    },
    {
      "metadata": {
        "id": "fL2QjjBPqXS7",
        "colab_type": "text"
      },
      "cell_type": "markdown",
      "source": [
        "## Aggregate sorting results"
      ]
    },
    {
      "metadata": {
        "id": "bBl4NBQCrXl3",
        "colab_type": "code",
        "outputId": "4531b9bd-7cda-436f-c963-d9fbfaa90c33",
        "colab": {
          "base_uri": "https://localhost:8080/",
          "height": 136
        }
      },
      "cell_type": "code",
      "source": [
        "SF=sf.SFData()\n",
        "SF.loadRecordings(key=dict(name='spikeforest_bionet_recordings'))\n",
        "SF.loadProcessingBatch(key=dict(batch_name='summarize_recordings_bionet',name='job_results'))\n",
        "SF.loadProcessingBatch(key=dict(batch_name='ms4_bionet',name='job_results'))\n",
        "#SF.loadProcessingBatch(key=dict(batch_name='sc_bionet',name='job_results')) ## Spyking circus not working yet -- need to put into singularity container\n",
        "SF.loadProcessingBatch(key=dict(batch_name='irc_bionet',name='job_results'))"
      ],
      "execution_count": 0,
      "outputs": [
        {
          "output_type": "stream",
          "text": [
            "Downloading file --- (0.0 MB): http://132.249.245.245:24351/7317cea8265b/download/3/b6/3b673117cec90f6e040220b4da908dd22cc20957 -> /tmp/sha1-cache/3/b6/3b673117cec90f6e040220b4da908dd22cc20957\n",
            "Downloading file --- (0.0 MB): http://132.249.245.245:24351/7317cea8265b/download/1/ab/1abdcd3ef2ec66da41a759ca3a2a580a114c2321 -> /tmp/sha1-cache/1/ab/1abdcd3ef2ec66da41a759ca3a2a580a114c2321\n",
            "Loaded 0 sorting results and 36 recording summary results\n",
            "Downloading file --- (0.0 MB): http://132.249.245.245:24351/7317cea8265b/download/c/0f/c0f25b500d9f436bed530f52214d6ea6498bc4f9 -> /tmp/sha1-cache/c/0f/c0f25b500d9f436bed530f52214d6ea6498bc4f9\n",
            "Loaded 36 sorting results and 0 recording summary results\n",
            "Downloading file --- (0.0 MB): http://132.249.245.245:24351/7317cea8265b/download/c/b6/cb67707c116546cf6aff907c7bd73df00dc9e8ff -> /tmp/sha1-cache/c/b6/cb67707c116546cf6aff907c7bd73df00dc9e8ff\n",
            "Loaded 36 sorting results and 0 recording summary results\n"
          ],
          "name": "stdout"
        }
      ]
    },
    {
      "metadata": {
        "id": "XyBRKILPp-0h",
        "colab_type": "code",
        "colab": {}
      },
      "cell_type": "code",
      "source": [
        "import pandas as pd\n",
        "import random\n",
        "import altair as alt\n",
        "alt.renderers.enable('colab')\n",
        "\n",
        "# Accumulate the sorting results\n",
        "def accumulate_comparison_with_ground_truth(*,SF,studies,sorter_name,fieldnames):\n",
        "  ret=[]\n",
        "  for study in studies:\n",
        "    recordings=[study.recording(name) for name in study.recordingNames()]\n",
        "    for R in recordings:\n",
        "      result=R.sortingResult(sorter_name)\n",
        "      A=result.comparisonWithTruth(format='json')\n",
        "      B=R.trueUnitsInfo(format='json')\n",
        "      snr_by_true_unit=dict()\n",
        "      for b in B:\n",
        "        snr_by_true_unit[b['unit_id']]=b['snr']\n",
        "      for i in A:\n",
        "        a=A[i]\n",
        "        rec=dict()\n",
        "        rec['recording_name']=R.name()\n",
        "        rec['unit_id']=a['Unit ID']\n",
        "        rec['snr']=snr_by_true_unit[rec['unit_id']]\n",
        "        for fieldname in fieldnames:\n",
        "          rec[fieldname]=float(a[fieldname])\n",
        "        ret.append(rec)\n",
        "  return ret\n",
        "\n",
        "def show_accuracy_plot(*,SF,study_name,sorter_name,title):\n",
        "  \n",
        "  study=SF.study(study_name)\n",
        "  X=accumulate_comparison_with_ground_truth(\n",
        "      SF=SF,\n",
        "      studies=[study],\n",
        "      sorter_name=sorter_name,\n",
        "      fieldnames=['Accuracy']\n",
        "  )\n",
        "  \n",
        "  # Display the accumulated sorting results\n",
        "  cc=alt.Chart(pd.DataFrame(X),title=title).mark_point().encode(\n",
        "      x='snr',\n",
        "      y='Accuracy',\n",
        "      color='recording_name',\n",
        "      tooltip='recording_name'\n",
        "  ).interactive()\n",
        "  display(cc)"
      ],
      "execution_count": 0,
      "outputs": []
    },
    {
      "metadata": {
        "id": "8-bIDoH1rkYW",
        "colab_type": "code",
        "colab": {}
      },
      "cell_type": "code",
      "source": [
        "import vdomr as vd\n",
        "\n",
        "class SelectBox(vd.Component):\n",
        "    def __init__(self,options=[]):\n",
        "        vd.Component.__init__(self)\n",
        "        self._on_change_handlers=[]\n",
        "        self._value=None\n",
        "        self.setOptions(options)\n",
        "        \n",
        "    def setOptions(self,options):\n",
        "        self._options=options\n",
        "        if self._value not in options:\n",
        "          self._value=options[0] if options else None\n",
        "        self.refresh()\n",
        "        \n",
        "    def value(self):\n",
        "        return self._value\n",
        "    \n",
        "    def setValue(self,value):\n",
        "        self._value=value\n",
        "        self.refresh()\n",
        "        \n",
        "    def onChange(self,handler):\n",
        "        self._on_change_handlers.append(handler)\n",
        "        \n",
        "    def _on_change(self,value):\n",
        "        self._value=value\n",
        "        for handler in self._on_change_handlers:\n",
        "            handler(value=value)\n",
        "        \n",
        "    def render(self):\n",
        "        opts=[]\n",
        "        for option in self._options:\n",
        "            if option==self._value:\n",
        "              opts.append(vd.option(option,selected='selected'))\n",
        "            else:\n",
        "              opts.append(vd.option(option))\n",
        "        X=vd.select(opts,onchange=self._on_change)\n",
        "        return X"
      ],
      "execution_count": 0,
      "outputs": []
    },
    {
      "metadata": {
        "id": "THJyQ4V4rGT6",
        "colab_type": "code",
        "outputId": "b6cc5a40-723e-4064-a1ab-0c73b285e754",
        "colab": {
          "base_uri": "https://localhost:8080/",
          "height": 55
        }
      },
      "cell_type": "code",
      "source": [
        "STUDY=SelectBox(options=SF.studyNames())\n",
        "SORTER=SelectBox(options=['MountainSort4-thr3','IronClust-drift'])\n",
        "display(STUDY)\n",
        "display(SORTER)"
      ],
      "execution_count": 0,
      "outputs": [
        {
          "output_type": "display_data",
          "data": {
            "application/javascript": [
              "document.getElementById('165de563-e0e3-4a57-91e9-8ad7ed5dfb08').innerHTML=atob('PHNlbGVjdCBvbmNoYW5nZT0iZ29vZ2xlLmNvbGFiLmtlcm5lbC5pbnZva2VGdW5jdGlvbigmI3gyNztvbmNoYW5nZWNhbGxiYWNrLWQ0YmU1M2Y4LWE5YTUtNDJmZi04NmMyLTAwY2U2MDg4MWYyNCYjeDI3OywgW10sIHt2YWx1ZTp0aGlzLnZhbHVlfSkiPjxvcHRpb24gc2VsZWN0ZWQ9InNlbGVjdGVkIj5iaW9uZXRfZHJpZnQ8L29wdGlvbj48b3B0aW9uPmJpb25ldF9zaHVmZmxlPC9vcHRpb24+PG9wdGlvbj5iaW9uZXRfc3RhdGljPC9vcHRpb24+PC9zZWxlY3Q+'); console.log('test1');"
            ],
            "text/plain": [
              "<IPython.core.display.Javascript object>"
            ]
          },
          "metadata": {
            "tags": []
          }
        },
        {
          "output_type": "display_data",
          "data": {
            "application/javascript": [
              "document.getElementById('68fe3d85-753e-47cf-aba4-6c5cae3e8dea').innerHTML=atob('PHNlbGVjdCBvbmNoYW5nZT0iZ29vZ2xlLmNvbGFiLmtlcm5lbC5pbnZva2VGdW5jdGlvbigmI3gyNztvbmNoYW5nZWNhbGxiYWNrLWZjMzkyOWFjLWVmZmItNDlmNi05ZjVmLWQzN2Y1OWU4NDRkMSYjeDI3OywgW10sIHt2YWx1ZTp0aGlzLnZhbHVlfSkiPjxvcHRpb24gc2VsZWN0ZWQ9InNlbGVjdGVkIj5Nb3VudGFpblNvcnQ0LXRocjM8L29wdGlvbj48b3B0aW9uPklyb25DbHVzdC1kcmlmdDwvb3B0aW9uPjwvc2VsZWN0Pg=='); console.log('test1');"
            ],
            "text/plain": [
              "<IPython.core.display.Javascript object>"
            ]
          },
          "metadata": {
            "tags": []
          }
        },
        {
          "output_type": "display_data",
          "data": {
            "text/html": [
              "<div id=165de563-e0e3-4a57-91e9-8ad7ed5dfb08><select onchange=\"google.colab.kernel.invokeFunction(&#x27;onchangecallback-33e34f55-ef8c-4146-a6ee-42c14285652c&#x27;, [], {value:this.value})\"><option selected=\"selected\">bionet_drift</option><option>bionet_shuffle</option><option>bionet_static</option></select></div>"
            ],
            "text/plain": [
              "<__main__.SelectBox at 0x7f123e753630>"
            ]
          },
          "metadata": {
            "tags": []
          }
        },
        {
          "output_type": "display_data",
          "data": {
            "text/html": [
              "<div id=68fe3d85-753e-47cf-aba4-6c5cae3e8dea><select onchange=\"google.colab.kernel.invokeFunction(&#x27;onchangecallback-8e6470ec-3728-4b1b-97a0-7e9e0a25eced&#x27;, [], {value:this.value})\"><option selected=\"selected\">MountainSort4-thr3</option><option>IronClust-drift</option></select></div>"
            ],
            "text/plain": [
              "<__main__.SelectBox at 0x7f123eee6470>"
            ]
          },
          "metadata": {
            "tags": []
          }
        }
      ]
    },
    {
      "metadata": {
        "id": "fI6RItt-q5pM",
        "colab_type": "code",
        "outputId": "5df12ff5-914d-415e-ffa0-797bf9c147f3",
        "colab": {
          "base_uri": "https://localhost:8080/",
          "height": 815
        }
      },
      "cell_type": "code",
      "source": [
        "show_accuracy_plot(\n",
        "    SF=SF,\n",
        "    study_name=STUDY.value(),\n",
        "    sorter_name=SORTER.value(),\n",
        "    title=SORTER.value()+' '+STUDY.value()\n",
        ")"
      ],
      "execution_count": 0,
      "outputs": [
        {
          "output_type": "stream",
          "text": [
            "Downloading file --- (0.0 MB): http://132.249.245.245:24351/7317cea8265b/download/f/e4/fe4ee41e93b3602f9141059642859016e39892b0 -> /tmp/sha1-cache/f/e4/fe4ee41e93b3602f9141059642859016e39892b0\n",
            "Downloading file --- (0.0 MB): http://132.249.245.245:24351/7317cea8265b/download/1/e1/1e1e2d84977661c448c4af999275a2e70f912fb3 -> /tmp/sha1-cache/1/e1/1e1e2d84977661c448c4af999275a2e70f912fb3\n",
            "Downloading file --- (0.0 MB): http://132.249.245.245:24351/7317cea8265b/download/f/a1/fa1d7128c11479ed8c674f93bc27833f2cda745c -> /tmp/sha1-cache/f/a1/fa1d7128c11479ed8c674f93bc27833f2cda745c\n",
            "Downloading file --- (0.0 MB): http://132.249.245.245:24351/7317cea8265b/download/0/96/09672a44f05bac622db112aaece46554db6fa83c -> /tmp/sha1-cache/0/96/09672a44f05bac622db112aaece46554db6fa83c\n",
            "Downloading file --- (0.0 MB): http://132.249.245.245:24351/7317cea8265b/download/8/d1/8d1b0f8b9a0f0fc656df5659221108cde9cf74e5 -> /tmp/sha1-cache/8/d1/8d1b0f8b9a0f0fc656df5659221108cde9cf74e5\n",
            "Downloading file --- (0.0 MB): http://132.249.245.245:24351/7317cea8265b/download/2/c9/2c9b482595ab397da35edc62ac9d17f296f1769d -> /tmp/sha1-cache/2/c9/2c9b482595ab397da35edc62ac9d17f296f1769d\n",
            "Downloading file --- (0.0 MB): http://132.249.245.245:24351/7317cea8265b/download/b/6b/b6b6796e0c2473381966e0a3dcbd30e4e672bac4 -> /tmp/sha1-cache/b/6b/b6b6796e0c2473381966e0a3dcbd30e4e672bac4\n",
            "Downloading file --- (0.0 MB): http://132.249.245.245:24351/7317cea8265b/download/5/34/534bf74981466ebc4aebd3fe68009f86693451fd -> /tmp/sha1-cache/5/34/534bf74981466ebc4aebd3fe68009f86693451fd\n",
            "Downloading file --- (0.0 MB): http://132.249.245.245:24351/7317cea8265b/download/5/4f/54f59c84a033562b7440ec4c6c41d1e9aa53a0f4 -> /tmp/sha1-cache/5/4f/54f59c84a033562b7440ec4c6c41d1e9aa53a0f4\n",
            "Downloading file --- (0.0 MB): http://132.249.245.245:24351/7317cea8265b/download/5/76/576a1af931f08db8228ba2793d9fe00008b744b1 -> /tmp/sha1-cache/5/76/576a1af931f08db8228ba2793d9fe00008b744b1\n",
            "Downloading file --- (0.0 MB): http://132.249.245.245:24351/7317cea8265b/download/a/2a/a2aeee99712f14a92ef752a3c0046a6b935061cd -> /tmp/sha1-cache/a/2a/a2aeee99712f14a92ef752a3c0046a6b935061cd\n",
            "Downloading file --- (0.0 MB): http://132.249.245.245:24351/7317cea8265b/download/5/77/5776498bfb4b733f2e5e329e7e88bda232c7fe27 -> /tmp/sha1-cache/5/77/5776498bfb4b733f2e5e329e7e88bda232c7fe27\n",
            "Downloading file --- (0.0 MB): http://132.249.245.245:24351/7317cea8265b/download/f/42/f42f7c6cf6231a50a2de8926392fea3d2f472ce4 -> /tmp/sha1-cache/f/42/f42f7c6cf6231a50a2de8926392fea3d2f472ce4\n",
            "Downloading file --- (0.0 MB): http://132.249.245.245:24351/7317cea8265b/download/7/02/7028e0385a6d7a9647d53458d3c0cf21b7797b69 -> /tmp/sha1-cache/7/02/7028e0385a6d7a9647d53458d3c0cf21b7797b69\n",
            "Downloading file --- (0.0 MB): http://132.249.245.245:24351/7317cea8265b/download/6/78/6787313eb4082707e664c74dc152049026b63215 -> /tmp/sha1-cache/6/78/6787313eb4082707e664c74dc152049026b63215\n",
            "Downloading file --- (0.0 MB): http://132.249.245.245:24351/7317cea8265b/download/6/7a/67a019f1ce79cf4108f1368c5b812710db074453 -> /tmp/sha1-cache/6/7a/67a019f1ce79cf4108f1368c5b812710db074453\n",
            "Downloading file --- (0.0 MB): http://132.249.245.245:24351/7317cea8265b/download/3/71/371253cf22a818008047a4d4396b621f37a8d5ee -> /tmp/sha1-cache/3/71/371253cf22a818008047a4d4396b621f37a8d5ee\n",
            "Downloading file --- (0.0 MB): http://132.249.245.245:24351/7317cea8265b/download/e/4a/e4a48747781bb36573b10b864f7852cba379859c -> /tmp/sha1-cache/e/4a/e4a48747781bb36573b10b864f7852cba379859c\n",
            "Downloading file --- (0.0 MB): http://132.249.245.245:24351/7317cea8265b/download/c/1c/c1cf445795a9d44be91fcb32f7033fbdfd7b85ea -> /tmp/sha1-cache/c/1c/c1cf445795a9d44be91fcb32f7033fbdfd7b85ea\n",
            "Downloading file --- (0.0 MB): http://132.249.245.245:24351/7317cea8265b/download/3/ed/3edbce785dbe17d0f58e09074a5f62d37546a682 -> /tmp/sha1-cache/3/ed/3edbce785dbe17d0f58e09074a5f62d37546a682\n",
            "Downloading file --- (0.0 MB): http://132.249.245.245:24351/7317cea8265b/download/4/41/441b389f0a4672cec3caeb6cf8faedc197e81976 -> /tmp/sha1-cache/4/41/441b389f0a4672cec3caeb6cf8faedc197e81976\n",
            "Downloading file --- (0.0 MB): http://132.249.245.245:24351/7317cea8265b/download/4/32/432e5e73aa845d650fe16b00a714c7f6c13e8850 -> /tmp/sha1-cache/4/32/432e5e73aa845d650fe16b00a714c7f6c13e8850\n",
            "Downloading file --- (0.0 MB): http://132.249.245.245:24351/7317cea8265b/download/6/24/624ae82caa33f84f0bf2720e2a27d32824d3a285 -> /tmp/sha1-cache/6/24/624ae82caa33f84f0bf2720e2a27d32824d3a285\n",
            "Downloading file --- (0.0 MB): http://132.249.245.245:24351/7317cea8265b/download/3/f8/3f8b52af40d079d4c0d78090988af2743b62617f -> /tmp/sha1-cache/3/f8/3f8b52af40d079d4c0d78090988af2743b62617f\n"
          ],
          "name": "stdout"
        },
        {
          "output_type": "display_data",
          "data": {
            "text/plain": [
              "Chart({\n",
              "  data:       Accuracy recording_name        snr  unit_id\n",
              "  0         0.00  drift_8x_A_2A   3.343870        1\n",
              "  1         0.00  drift_8x_A_2A   3.443811        3\n",
              "  2         0.84  drift_8x_A_2A  52.485138        4\n",
              "  3         0.92  drift_8x_A_2A  27.300165        6\n",
              "  4         0.00  drift_8x_A_2A   2.593275       16\n",
              "  5         0.00  drift_8x_A_2A   4.721575       21\n",
              "  6         0.01  drift_8x_A_2A  14.430388       26\n",
              "  7         0.00  drift_8x_A_2A   2.585488       28\n",
              "  8         0.53  drift_8x_A_2A  36.712619       50\n",
              "  9         0.00  drift_8x_A_2A   3.441622       76\n",
              "  10        0.00  drift_8x_A_2A   2.688525       83\n",
              "  11        0.00  drift_8x_A_2A   2.651218       84\n",
              "  12        0.00  drift_8x_A_2A   4.311581       85\n",
              "  13        0.01  drift_8x_A_2A   8.701670      101\n",
              "  14        0.49  drift_8x_A_2A  39.065159      104\n",
              "  15        0.01  drift_8x_A_2A  12.539603      105\n",
              "  16        0.00  drift_8x_A_2A   5.921046      114\n",
              "  17        0.00  drift_8x_A_2A   7.030059      120\n",
              "  18        0.00  drift_8x_A_2A   5.039221      125\n",
              "  19        0.00  drift_8x_A_2A   9.906497      135\n",
              "  20        0.01  drift_8x_A_2A  10.537055      143\n",
              "  21        0.00  drift_8x_A_2A   5.959964      148\n",
              "  22        0.00  drift_8x_A_2A   7.627100      163\n",
              "  23        0.01  drift_8x_A_2A   3.508632      170\n",
              "  24        0.00  drift_8x_A_2A   4.660825      171\n",
              "  25        0.01  drift_8x_A_2A  13.201525      176\n",
              "  26        0.50  drift_8x_A_2A  24.188160      186\n",
              "  27        0.00  drift_8x_A_2A  11.198612      188\n",
              "  28        0.00  drift_8x_A_2A   3.891501      195\n",
              "  29        0.00  drift_8x_A_2A   3.700030      204\n",
              "  ...        ...            ...        ...      ...\n",
              "  1020      0.15  drift_8x_C_4B  21.739477      456\n",
              "  1021      0.00  drift_8x_C_4B   4.187031      457\n",
              "  1022      0.01  drift_8x_C_4B   6.194982      473\n",
              "  1023      0.01  drift_8x_C_4B  10.411781      486\n",
              "  1024      0.00  drift_8x_C_4B  10.661051      487\n",
              "  1025      0.77  drift_8x_C_4B  23.407474      490\n",
              "  1026      0.00  drift_8x_C_4B   6.054980      512\n",
              "  1027      0.00  drift_8x_C_4B   7.571607      519\n",
              "  1028      0.00  drift_8x_C_4B  13.817746      521\n",
              "  1029      0.00  drift_8x_C_4B  12.378136      531\n",
              "  1030      0.00  drift_8x_C_4B   2.885893      549\n",
              "  1031      0.41  drift_8x_C_4B  23.086075      550\n",
              "  1032      0.00  drift_8x_C_4B   5.378435      552\n",
              "  1033      0.00  drift_8x_C_4B  10.277856      563\n",
              "  1034      0.21  drift_8x_C_4B  13.682997      567\n",
              "  1035      0.39  drift_8x_C_4B  23.287324      570\n",
              "  1036      0.00  drift_8x_C_4B  12.398745      572\n",
              "  1037      0.00  drift_8x_C_4B   4.196825      575\n",
              "  1038      0.00  drift_8x_C_4B   6.829102      585\n",
              "  1039      0.00  drift_8x_C_4B   5.193873      595\n",
              "  1040      0.01  drift_8x_C_4B   2.823507      615\n",
              "  1041      0.00  drift_8x_C_4B   3.365126      629\n",
              "  1042      0.00  drift_8x_C_4B   3.963504      635\n",
              "  1043      0.00  drift_8x_C_4B  14.316911      641\n",
              "  1044      0.01  drift_8x_C_4B   4.140479      676\n",
              "  1045      0.01  drift_8x_C_4B   5.746295      688\n",
              "  1046      0.97  drift_8x_C_4B  37.525818      696\n",
              "  1047      0.00  drift_8x_C_4B   4.552759      697\n",
              "  1048      0.00  drift_8x_C_4B  14.454435      701\n",
              "  1049      0.01  drift_8x_C_4B  17.360271      703\n",
              "  \n",
              "  [1050 rows x 4 columns],\n",
              "  encoding: EncodingWithFacet({\n",
              "    color: Color({\n",
              "      shorthand: 'recording_name'\n",
              "    }),\n",
              "    tooltip: Tooltip({\n",
              "      shorthand: 'recording_name'\n",
              "    }),\n",
              "    x: X({\n",
              "      shorthand: 'snr'\n",
              "    }),\n",
              "    y: Y({\n",
              "      shorthand: 'Accuracy'\n",
              "    })\n",
              "  }),\n",
              "  mark: 'point',\n",
              "  selection: SelectionMapping({\n",
              "    selector001: SelectionDef({\n",
              "      bind: 'scales',\n",
              "      encodings: ['x', 'y'],\n",
              "      type: 'interval'\n",
              "    })\n",
              "  }),\n",
              "  title: 'MountainSort4-thr3 bionet_drift'\n",
              "})"
            ],
            "text/html": [
              "\n",
              "<!DOCTYPE html>\n",
              "<html>\n",
              "<head>\n",
              "  <style>\n",
              "    .vega-actions a {\n",
              "        margin-right: 12px;\n",
              "        color: #757575;\n",
              "        font-weight: normal;\n",
              "        font-size: 13px;\n",
              "    }\n",
              "    .error {\n",
              "        color: red;\n",
              "    }\n",
              "  </style>\n",
              "\n",
              "<script src=\"https://cdn.jsdelivr.net/npm//vega@3.3.1\"></script>\n",
              "<script src=\"https://cdn.jsdelivr.net/npm//vega-lite@2.6.0\"></script>\n",
              "<script src=\"https://cdn.jsdelivr.net/npm//vega-embed@3.14\"></script>\n",
              "\n",
              "</head>\n",
              "<body>\n",
              "  <div id=\"vis\"></div>\n",
              "  <script type=\"text/javascript\">\n",
              "    var spec = {\"config\": {\"view\": {\"width\": 400, \"height\": 300}}, \"data\": {\"name\": \"data-a3c54b3ef42254ef3c7ca8313aa4cd75\"}, \"mark\": \"point\", \"encoding\": {\"color\": {\"type\": \"nominal\", \"field\": \"recording_name\"}, \"tooltip\": {\"type\": \"nominal\", \"field\": \"recording_name\"}, \"x\": {\"type\": \"quantitative\", \"field\": \"snr\"}, \"y\": {\"type\": \"quantitative\", \"field\": \"Accuracy\"}}, \"selection\": {\"selector001\": {\"type\": \"interval\", \"bind\": \"scales\", \"encodings\": [\"x\", \"y\"]}}, \"title\": \"MountainSort4-thr3 bionet_drift\", \"$schema\": \"https://vega.github.io/schema/vega-lite/v2.6.0.json\", \"datasets\": {\"data-a3c54b3ef42254ef3c7ca8313aa4cd75\": [{\"Accuracy\": 0.0, \"recording_name\": \"drift_8x_A_2A\", \"snr\": 3.3438702505568227, \"unit_id\": 1}, {\"Accuracy\": 0.0, \"recording_name\": \"drift_8x_A_2A\", \"snr\": 3.443810516788597, \"unit_id\": 3}, {\"Accuracy\": 0.84, \"recording_name\": \"drift_8x_A_2A\", \"snr\": 52.485138065718765, \"unit_id\": 4}, {\"Accuracy\": 0.92, \"recording_name\": \"drift_8x_A_2A\", \"snr\": 27.30016493933969, \"unit_id\": 6}, {\"Accuracy\": 0.0, \"recording_name\": \"drift_8x_A_2A\", \"snr\": 2.5932753065497187, \"unit_id\": 16}, {\"Accuracy\": 0.0, \"recording_name\": \"drift_8x_A_2A\", \"snr\": 4.7215751838626385, \"unit_id\": 21}, {\"Accuracy\": 0.01, \"recording_name\": \"drift_8x_A_2A\", \"snr\": 14.430388337324105, \"unit_id\": 26}, {\"Accuracy\": 0.0, \"recording_name\": \"drift_8x_A_2A\", \"snr\": 2.585487787372935, \"unit_id\": 28}, {\"Accuracy\": 0.53, \"recording_name\": \"drift_8x_A_2A\", \"snr\": 36.71261924958939, \"unit_id\": 50}, {\"Accuracy\": 0.0, \"recording_name\": \"drift_8x_A_2A\", \"snr\": 3.4416219292523835, \"unit_id\": 76}, {\"Accuracy\": 0.0, \"recording_name\": \"drift_8x_A_2A\", \"snr\": 2.688524510984466, \"unit_id\": 83}, {\"Accuracy\": 0.0, \"recording_name\": \"drift_8x_A_2A\", \"snr\": 2.6512177767167473, \"unit_id\": 84}, {\"Accuracy\": 0.0, \"recording_name\": \"drift_8x_A_2A\", \"snr\": 4.311580850520967, \"unit_id\": 85}, {\"Accuracy\": 0.01, \"recording_name\": \"drift_8x_A_2A\", \"snr\": 8.701669682349609, \"unit_id\": 101}, {\"Accuracy\": 0.49, \"recording_name\": \"drift_8x_A_2A\", \"snr\": 39.06515919189281, \"unit_id\": 104}, {\"Accuracy\": 0.01, \"recording_name\": \"drift_8x_A_2A\", \"snr\": 12.539603122114892, \"unit_id\": 105}, {\"Accuracy\": 0.0, \"recording_name\": \"drift_8x_A_2A\", \"snr\": 5.921046270444324, \"unit_id\": 114}, {\"Accuracy\": 0.0, \"recording_name\": \"drift_8x_A_2A\", \"snr\": 7.030058880721546, \"unit_id\": 120}, {\"Accuracy\": 0.0, \"recording_name\": \"drift_8x_A_2A\", \"snr\": 5.039220536052175, \"unit_id\": 125}, {\"Accuracy\": 0.0, \"recording_name\": \"drift_8x_A_2A\", \"snr\": 9.906497460616649, \"unit_id\": 135}, {\"Accuracy\": 0.01, \"recording_name\": \"drift_8x_A_2A\", \"snr\": 10.537055294917396, \"unit_id\": 143}, {\"Accuracy\": 0.0, \"recording_name\": \"drift_8x_A_2A\", \"snr\": 5.959964498402826, \"unit_id\": 148}, {\"Accuracy\": 0.0, \"recording_name\": \"drift_8x_A_2A\", \"snr\": 7.62710018023944, \"unit_id\": 163}, {\"Accuracy\": 0.01, \"recording_name\": \"drift_8x_A_2A\", \"snr\": 3.5086323440936753, \"unit_id\": 170}, {\"Accuracy\": 0.0, \"recording_name\": \"drift_8x_A_2A\", \"snr\": 4.6608253780605695, \"unit_id\": 171}, {\"Accuracy\": 0.01, \"recording_name\": \"drift_8x_A_2A\", \"snr\": 13.201524508512776, \"unit_id\": 176}, {\"Accuracy\": 0.5, \"recording_name\": \"drift_8x_A_2A\", \"snr\": 24.188159995926483, \"unit_id\": 186}, {\"Accuracy\": 0.0, \"recording_name\": \"drift_8x_A_2A\", \"snr\": 11.198612029201614, \"unit_id\": 188}, {\"Accuracy\": 0.0, \"recording_name\": \"drift_8x_A_2A\", \"snr\": 3.891501493651513, \"unit_id\": 195}, {\"Accuracy\": 0.0, \"recording_name\": \"drift_8x_A_2A\", \"snr\": 3.700029567837954, \"unit_id\": 204}, {\"Accuracy\": 0.1, \"recording_name\": \"drift_8x_A_2A\", \"snr\": 21.335168516249123, \"unit_id\": 206}, {\"Accuracy\": 0.01, \"recording_name\": \"drift_8x_A_2A\", \"snr\": 5.344979732959996, \"unit_id\": 213}, {\"Accuracy\": 0.01, \"recording_name\": \"drift_8x_A_2A\", \"snr\": 8.93608496603187, \"unit_id\": 222}, {\"Accuracy\": 0.0, \"recording_name\": \"drift_8x_A_2A\", \"snr\": 4.099352651669886, \"unit_id\": 229}, {\"Accuracy\": 0.01, \"recording_name\": \"drift_8x_A_2A\", \"snr\": 9.239271100751077, \"unit_id\": 230}, {\"Accuracy\": 0.01, \"recording_name\": \"drift_8x_A_2A\", \"snr\": 6.714001992206954, \"unit_id\": 233}, {\"Accuracy\": 0.26, \"recording_name\": \"drift_8x_A_2A\", \"snr\": 19.12130991495997, \"unit_id\": 234}, {\"Accuracy\": 0.01, \"recording_name\": \"drift_8x_A_2A\", \"snr\": 8.723455314467461, \"unit_id\": 245}, {\"Accuracy\": 0.5, \"recording_name\": \"drift_8x_A_2A\", \"snr\": 17.25013961476162, \"unit_id\": 247}, {\"Accuracy\": 0.8, \"recording_name\": \"drift_8x_A_2A\", \"snr\": 23.75394040089972, \"unit_id\": 253}, {\"Accuracy\": 0.89, \"recording_name\": \"drift_8x_A_2A\", \"snr\": 28.449613524313904, \"unit_id\": 258}, {\"Accuracy\": 0.03, \"recording_name\": \"drift_8x_A_2A\", \"snr\": 12.333700936591287, \"unit_id\": 275}, {\"Accuracy\": 0.0, \"recording_name\": \"drift_8x_A_2A\", \"snr\": 3.6863768241051846, \"unit_id\": 286}, {\"Accuracy\": 0.0, \"recording_name\": \"drift_8x_A_2A\", \"snr\": 4.750206660598422, \"unit_id\": 324}, {\"Accuracy\": 0.0, \"recording_name\": \"drift_8x_A_2A\", \"snr\": 7.2319182179344885, \"unit_id\": 345}, {\"Accuracy\": 0.0, \"recording_name\": \"drift_8x_A_2A\", \"snr\": 8.959563810646895, \"unit_id\": 354}, {\"Accuracy\": 0.0, \"recording_name\": \"drift_8x_A_2A\", \"snr\": 2.3970383548698866, \"unit_id\": 364}, {\"Accuracy\": 0.99, \"recording_name\": \"drift_8x_A_2A\", \"snr\": 75.44408521895578, \"unit_id\": 391}, {\"Accuracy\": 0.96, \"recording_name\": \"drift_8x_A_2A\", \"snr\": 38.367466536910655, \"unit_id\": 393}, {\"Accuracy\": 0.01, \"recording_name\": \"drift_8x_A_2A\", \"snr\": 7.128897679371444, \"unit_id\": 397}, {\"Accuracy\": 0.0, \"recording_name\": \"drift_8x_A_2A\", \"snr\": 3.330592083814135, \"unit_id\": 404}, {\"Accuracy\": 0.0, \"recording_name\": \"drift_8x_A_2A\", \"snr\": 4.912954090772739, \"unit_id\": 409}, {\"Accuracy\": 0.0, \"recording_name\": \"drift_8x_A_2A\", \"snr\": 3.38871438745994, \"unit_id\": 410}, {\"Accuracy\": 0.99, \"recording_name\": \"drift_8x_A_2A\", \"snr\": 50.55089572787102, \"unit_id\": 417}, {\"Accuracy\": 0.0, \"recording_name\": \"drift_8x_A_2A\", \"snr\": 4.014605218922683, \"unit_id\": 432}, {\"Accuracy\": 0.0, \"recording_name\": \"drift_8x_A_2A\", \"snr\": 3.0047743910812432, \"unit_id\": 438}, {\"Accuracy\": 0.63, \"recording_name\": \"drift_8x_A_2A\", \"snr\": 29.866200635682933, \"unit_id\": 443}, {\"Accuracy\": 0.0, \"recording_name\": \"drift_8x_A_2A\", \"snr\": 7.9424494975979085, \"unit_id\": 455}, {\"Accuracy\": 0.35, \"recording_name\": \"drift_8x_A_2A\", \"snr\": 21.82000008333738, \"unit_id\": 456}, {\"Accuracy\": 0.0, \"recording_name\": \"drift_8x_A_2A\", \"snr\": 4.837954349961498, \"unit_id\": 457}, {\"Accuracy\": 0.01, \"recording_name\": \"drift_8x_A_2A\", \"snr\": 7.311971490580382, \"unit_id\": 473}, {\"Accuracy\": 0.0, \"recording_name\": \"drift_8x_A_2A\", \"snr\": 10.332366646711334, \"unit_id\": 487}, {\"Accuracy\": 0.4, \"recording_name\": \"drift_8x_A_2A\", \"snr\": 24.499233010052823, \"unit_id\": 490}, {\"Accuracy\": 0.01, \"recording_name\": \"drift_8x_A_2A\", \"snr\": 11.504325172339241, \"unit_id\": 504}, {\"Accuracy\": 0.01, \"recording_name\": \"drift_8x_A_2A\", \"snr\": 12.532581466713701, \"unit_id\": 531}, {\"Accuracy\": 0.84, \"recording_name\": \"drift_8x_A_2A\", \"snr\": 26.008838712985483, \"unit_id\": 550}, {\"Accuracy\": 0.0, \"recording_name\": \"drift_8x_A_2A\", \"snr\": 6.367813303703341, \"unit_id\": 552}, {\"Accuracy\": 0.0, \"recording_name\": \"drift_8x_A_2A\", \"snr\": 7.273899955966348, \"unit_id\": 563}, {\"Accuracy\": 0.0, \"recording_name\": \"drift_8x_A_2A\", \"snr\": 9.780317923448202, \"unit_id\": 567}, {\"Accuracy\": 0.33, \"recording_name\": \"drift_8x_A_2A\", \"snr\": 23.047107125161787, \"unit_id\": 570}, {\"Accuracy\": 0.0, \"recording_name\": \"drift_8x_A_2A\", \"snr\": 8.562214565520563, \"unit_id\": 572}, {\"Accuracy\": 0.0, \"recording_name\": \"drift_8x_A_2A\", \"snr\": 5.863559217139414, \"unit_id\": 585}, {\"Accuracy\": 0.0, \"recording_name\": \"drift_8x_A_2A\", \"snr\": 10.521989551668575, \"unit_id\": 592}, {\"Accuracy\": 0.0, \"recording_name\": \"drift_8x_A_2A\", \"snr\": 5.502739972862402, \"unit_id\": 595}, {\"Accuracy\": 0.01, \"recording_name\": \"drift_8x_A_2A\", \"snr\": 2.007877748064644, \"unit_id\": 615}, {\"Accuracy\": 0.01, \"recording_name\": \"drift_8x_A_2A\", \"snr\": 3.9664083658720117, \"unit_id\": 635}, {\"Accuracy\": 0.0, \"recording_name\": \"drift_8x_A_2A\", \"snr\": 4.795482309078044, \"unit_id\": 640}, {\"Accuracy\": 0.16, \"recording_name\": \"drift_8x_A_2A\", \"snr\": 23.298317042221765, \"unit_id\": 641}, {\"Accuracy\": 0.0, \"recording_name\": \"drift_8x_A_2A\", \"snr\": 2.685333103385696, \"unit_id\": 668}, {\"Accuracy\": 0.01, \"recording_name\": \"drift_8x_A_2A\", \"snr\": 2.8196556095219676, \"unit_id\": 673}, {\"Accuracy\": 0.0, \"recording_name\": \"drift_8x_A_2A\", \"snr\": 3.0123014754377158, \"unit_id\": 676}, {\"Accuracy\": 0.01, \"recording_name\": \"drift_8x_A_2A\", \"snr\": 5.8081872846828055, \"unit_id\": 688}, {\"Accuracy\": 0.0, \"recording_name\": \"drift_8x_A_2A\", \"snr\": 5.086393122963197, \"unit_id\": 697}, {\"Accuracy\": 0.0, \"recording_name\": \"drift_8x_A_2A\", \"snr\": 8.6964591617171, \"unit_id\": 701}, {\"Accuracy\": 0.57, \"recording_name\": \"drift_8x_A_2A\", \"snr\": 19.740775412675386, \"unit_id\": 703}, {\"Accuracy\": 0.0, \"recording_name\": \"drift_8x_A_2B\", \"snr\": 2.965159084641203, \"unit_id\": 1}, {\"Accuracy\": 0.0, \"recording_name\": \"drift_8x_A_2B\", \"snr\": 3.675995588205143, \"unit_id\": 3}, {\"Accuracy\": 0.68, \"recording_name\": \"drift_8x_A_2B\", \"snr\": 18.390950698094823, \"unit_id\": 4}, {\"Accuracy\": 0.02, \"recording_name\": \"drift_8x_A_2B\", \"snr\": 15.432044653316547, \"unit_id\": 6}, {\"Accuracy\": 0.0, \"recording_name\": \"drift_8x_A_2B\", \"snr\": 3.027402272063868, \"unit_id\": 16}, {\"Accuracy\": 0.0, \"recording_name\": \"drift_8x_A_2B\", \"snr\": 4.165113161862071, \"unit_id\": 21}, {\"Accuracy\": 0.0, \"recording_name\": \"drift_8x_A_2B\", \"snr\": 11.581017328202332, \"unit_id\": 26}, {\"Accuracy\": 0.0, \"recording_name\": \"drift_8x_A_2B\", \"snr\": 2.1678341147752858, \"unit_id\": 42}, {\"Accuracy\": 0.0, \"recording_name\": \"drift_8x_A_2B\", \"snr\": 3.592849806247846, \"unit_id\": 46}, {\"Accuracy\": 0.0, \"recording_name\": \"drift_8x_A_2B\", \"snr\": 12.989609689457652, \"unit_id\": 50}, {\"Accuracy\": 0.0, \"recording_name\": \"drift_8x_A_2B\", \"snr\": 2.6494083500279926, \"unit_id\": 76}, {\"Accuracy\": 0.0, \"recording_name\": \"drift_8x_A_2B\", \"snr\": 3.755908006521609, \"unit_id\": 84}, {\"Accuracy\": 0.0, \"recording_name\": \"drift_8x_A_2B\", \"snr\": 4.8163608267962035, \"unit_id\": 85}, {\"Accuracy\": 0.0, \"recording_name\": \"drift_8x_A_2B\", \"snr\": 8.704848136372133, \"unit_id\": 101}, {\"Accuracy\": 0.01, \"recording_name\": \"drift_8x_A_2B\", \"snr\": 21.683733401812358, \"unit_id\": 104}, {\"Accuracy\": 0.01, \"recording_name\": \"drift_8x_A_2B\", \"snr\": 7.643256639532996, \"unit_id\": 105}, {\"Accuracy\": 0.0, \"recording_name\": \"drift_8x_A_2B\", \"snr\": 4.9437257163852015, \"unit_id\": 114}, {\"Accuracy\": 0.0, \"recording_name\": \"drift_8x_A_2B\", \"snr\": 5.828598258779598, \"unit_id\": 118}, {\"Accuracy\": 0.0, \"recording_name\": \"drift_8x_A_2B\", \"snr\": 7.207398347605019, \"unit_id\": 120}, {\"Accuracy\": 0.0, \"recording_name\": \"drift_8x_A_2B\", \"snr\": 6.680807518206779, \"unit_id\": 125}, {\"Accuracy\": 0.0, \"recording_name\": \"drift_8x_A_2B\", \"snr\": 3.180095827913537, \"unit_id\": 131}, {\"Accuracy\": 0.0, \"recording_name\": \"drift_8x_A_2B\", \"snr\": 12.40722683845982, \"unit_id\": 135}, {\"Accuracy\": 0.01, \"recording_name\": \"drift_8x_A_2B\", \"snr\": 16.885893277226018, \"unit_id\": 143}, {\"Accuracy\": 0.0, \"recording_name\": \"drift_8x_A_2B\", \"snr\": 5.5998169801508855, \"unit_id\": 148}, {\"Accuracy\": 0.0, \"recording_name\": \"drift_8x_A_2B\", \"snr\": 6.977455818529327, \"unit_id\": 163}, {\"Accuracy\": 0.0, \"recording_name\": \"drift_8x_A_2B\", \"snr\": 4.175246204827802, \"unit_id\": 170}, {\"Accuracy\": 0.0, \"recording_name\": \"drift_8x_A_2B\", \"snr\": 10.464984358533277, \"unit_id\": 176}, {\"Accuracy\": 0.53, \"recording_name\": \"drift_8x_A_2B\", \"snr\": 48.843527726616905, \"unit_id\": 186}, {\"Accuracy\": 0.02, \"recording_name\": \"drift_8x_A_2B\", \"snr\": 8.713109712721558, \"unit_id\": 188}, {\"Accuracy\": 0.0, \"recording_name\": \"drift_8x_A_2B\", \"snr\": 4.781079179186376, \"unit_id\": 195}, {\"Accuracy\": 0.0, \"recording_name\": \"drift_8x_A_2B\", \"snr\": 5.13202936110052, \"unit_id\": 200}, {\"Accuracy\": 0.0, \"recording_name\": \"drift_8x_A_2B\", \"snr\": 5.932135049412693, \"unit_id\": 204}, {\"Accuracy\": 0.46, \"recording_name\": \"drift_8x_A_2B\", \"snr\": 24.904054100519687, \"unit_id\": 206}, {\"Accuracy\": 0.0, \"recording_name\": \"drift_8x_A_2B\", \"snr\": 4.767002299425086, \"unit_id\": 213}, {\"Accuracy\": 0.01, \"recording_name\": \"drift_8x_A_2B\", \"snr\": 12.425501975644893, \"unit_id\": 222}, {\"Accuracy\": 0.01, \"recording_name\": \"drift_8x_A_2B\", \"snr\": 5.421320295955642, \"unit_id\": 230}, {\"Accuracy\": 0.0, \"recording_name\": \"drift_8x_A_2B\", \"snr\": 11.33633555452691, \"unit_id\": 233}, {\"Accuracy\": 0.0, \"recording_name\": \"drift_8x_A_2B\", \"snr\": 16.478988825939044, \"unit_id\": 234}, {\"Accuracy\": 0.0, \"recording_name\": \"drift_8x_A_2B\", \"snr\": 17.459312973611272, \"unit_id\": 247}, {\"Accuracy\": 1.0, \"recording_name\": \"drift_8x_A_2B\", \"snr\": 43.40085048451503, \"unit_id\": 253}, {\"Accuracy\": 0.0, \"recording_name\": \"drift_8x_A_2B\", \"snr\": 4.838985478536788, \"unit_id\": 255}, {\"Accuracy\": 0.93, \"recording_name\": \"drift_8x_A_2B\", \"snr\": 28.061603872114087, \"unit_id\": 258}, {\"Accuracy\": 0.99, \"recording_name\": \"drift_8x_A_2B\", \"snr\": 54.454956986542896, \"unit_id\": 275}, {\"Accuracy\": 0.0, \"recording_name\": \"drift_8x_A_2B\", \"snr\": 4.6939751332315085, \"unit_id\": 286}, {\"Accuracy\": 0.0, \"recording_name\": \"drift_8x_A_2B\", \"snr\": 2.8855086160981545, \"unit_id\": 310}, {\"Accuracy\": 0.0, \"recording_name\": \"drift_8x_A_2B\", \"snr\": 4.798009454910329, \"unit_id\": 311}, {\"Accuracy\": 0.01, \"recording_name\": \"drift_8x_A_2B\", \"snr\": 8.283057395207344, \"unit_id\": 345}, {\"Accuracy\": 0.0, \"recording_name\": \"drift_8x_A_2B\", \"snr\": 3.3592178561610675, \"unit_id\": 349}, {\"Accuracy\": 0.01, \"recording_name\": \"drift_8x_A_2B\", \"snr\": 10.992167967831536, \"unit_id\": 354}, {\"Accuracy\": 0.99, \"recording_name\": \"drift_8x_A_2B\", \"snr\": 80.81695353117259, \"unit_id\": 391}, {\"Accuracy\": 0.39, \"recording_name\": \"drift_8x_A_2B\", \"snr\": 18.274510765439313, \"unit_id\": 393}, {\"Accuracy\": 0.0, \"recording_name\": \"drift_8x_A_2B\", \"snr\": 5.003937164101822, \"unit_id\": 397}, {\"Accuracy\": 0.0, \"recording_name\": \"drift_8x_A_2B\", \"snr\": 4.212790857207301, \"unit_id\": 404}, {\"Accuracy\": 0.0, \"recording_name\": \"drift_8x_A_2B\", \"snr\": 5.602527234414048, \"unit_id\": 409}, {\"Accuracy\": 0.0, \"recording_name\": \"drift_8x_A_2B\", \"snr\": 3.0568737220305597, \"unit_id\": 410}, {\"Accuracy\": 0.59, \"recording_name\": \"drift_8x_A_2B\", \"snr\": 19.673808080485284, \"unit_id\": 417}, {\"Accuracy\": 0.0, \"recording_name\": \"drift_8x_A_2B\", \"snr\": 3.743714992502597, \"unit_id\": 432}, {\"Accuracy\": 0.0, \"recording_name\": \"drift_8x_A_2B\", \"snr\": 2.3987021240310424, \"unit_id\": 438}, {\"Accuracy\": 0.87, \"recording_name\": \"drift_8x_A_2B\", \"snr\": 28.13234877789376, \"unit_id\": 443}, {\"Accuracy\": 0.0, \"recording_name\": \"drift_8x_A_2B\", \"snr\": 6.966767609249701, \"unit_id\": 455}, {\"Accuracy\": 0.06, \"recording_name\": \"drift_8x_A_2B\", \"snr\": 20.575892837098706, \"unit_id\": 456}, {\"Accuracy\": 0.0, \"recording_name\": \"drift_8x_A_2B\", \"snr\": 4.580078263100696, \"unit_id\": 457}, {\"Accuracy\": 0.0, \"recording_name\": \"drift_8x_A_2B\", \"snr\": 5.964387807974238, \"unit_id\": 473}, {\"Accuracy\": 0.01, \"recording_name\": \"drift_8x_A_2B\", \"snr\": 10.256835303213654, \"unit_id\": 486}, {\"Accuracy\": 0.0, \"recording_name\": \"drift_8x_A_2B\", \"snr\": 9.069535869501443, \"unit_id\": 487}, {\"Accuracy\": 0.02, \"recording_name\": \"drift_8x_A_2B\", \"snr\": 13.898565057533082, \"unit_id\": 490}, {\"Accuracy\": 0.01, \"recording_name\": \"drift_8x_A_2B\", \"snr\": 19.173922670433, \"unit_id\": 504}, {\"Accuracy\": 0.01, \"recording_name\": \"drift_8x_A_2B\", \"snr\": 8.217433699465001, \"unit_id\": 531}, {\"Accuracy\": 0.0, \"recording_name\": \"drift_8x_A_2B\", \"snr\": 4.448597632752584, \"unit_id\": 547}, {\"Accuracy\": 0.0, \"recording_name\": \"drift_8x_A_2B\", \"snr\": 12.913837862407915, \"unit_id\": 550}, {\"Accuracy\": 0.0, \"recording_name\": \"drift_8x_A_2B\", \"snr\": 4.464654230239645, \"unit_id\": 552}, {\"Accuracy\": 0.0, \"recording_name\": \"drift_8x_A_2B\", \"snr\": 10.505508323431203, \"unit_id\": 563}, {\"Accuracy\": 0.0, \"recording_name\": \"drift_8x_A_2B\", \"snr\": 5.67059683377748, \"unit_id\": 564}, {\"Accuracy\": 0.37, \"recording_name\": \"drift_8x_A_2B\", \"snr\": 13.977559719343985, \"unit_id\": 567}, {\"Accuracy\": 0.01, \"recording_name\": \"drift_8x_A_2B\", \"snr\": 14.315822174697335, \"unit_id\": 570}, {\"Accuracy\": 0.05, \"recording_name\": \"drift_8x_A_2B\", \"snr\": 13.275034763386811, \"unit_id\": 572}, {\"Accuracy\": 0.0, \"recording_name\": \"drift_8x_A_2B\", \"snr\": 4.622748663197321, \"unit_id\": 575}, {\"Accuracy\": 0.0, \"recording_name\": \"drift_8x_A_2B\", \"snr\": 7.648258371519383, \"unit_id\": 585}, {\"Accuracy\": 0.0, \"recording_name\": \"drift_8x_A_2B\", \"snr\": 5.663668492389533, \"unit_id\": 595}, {\"Accuracy\": 0.0, \"recording_name\": \"drift_8x_A_2B\", \"snr\": 6.082872949508016, \"unit_id\": 596}, {\"Accuracy\": 0.0, \"recording_name\": \"drift_8x_A_2B\", \"snr\": 3.2501822003941636, \"unit_id\": 635}, {\"Accuracy\": 0.0, \"recording_name\": \"drift_8x_A_2B\", \"snr\": 14.096658670995907, \"unit_id\": 641}, {\"Accuracy\": 0.0, \"recording_name\": \"drift_8x_A_2B\", \"snr\": 5.726712363990452, \"unit_id\": 676}, {\"Accuracy\": 0.01, \"recording_name\": \"drift_8x_A_2B\", \"snr\": 4.795358392195693, \"unit_id\": 688}, {\"Accuracy\": 0.0, \"recording_name\": \"drift_8x_A_2B\", \"snr\": 3.921987480804713, \"unit_id\": 697}, {\"Accuracy\": 0.0, \"recording_name\": \"drift_8x_A_2B\", \"snr\": 13.347903749189308, \"unit_id\": 701}, {\"Accuracy\": 0.01, \"recording_name\": \"drift_8x_A_2B\", \"snr\": 10.551636039359591, \"unit_id\": 703}, {\"Accuracy\": 0.0, \"recording_name\": \"drift_8x_A_4A\", \"snr\": 3.051205982112459, \"unit_id\": 1}, {\"Accuracy\": 0.0, \"recording_name\": \"drift_8x_A_4A\", \"snr\": 3.468807951353096, \"unit_id\": 3}, {\"Accuracy\": 0.98, \"recording_name\": \"drift_8x_A_4A\", \"snr\": 52.11160541475069, \"unit_id\": 4}, {\"Accuracy\": 0.32, \"recording_name\": \"drift_8x_A_4A\", \"snr\": 27.288674885822694, \"unit_id\": 6}, {\"Accuracy\": 0.0, \"recording_name\": \"drift_8x_A_4A\", \"snr\": 4.510857232202445, \"unit_id\": 21}, {\"Accuracy\": 0.51, \"recording_name\": \"drift_8x_A_4A\", \"snr\": 11.581017328202332, \"unit_id\": 26}, {\"Accuracy\": 0.0, \"recording_name\": \"drift_8x_A_4A\", \"snr\": 2.1678341147752858, \"unit_id\": 42}, {\"Accuracy\": 0.0, \"recording_name\": \"drift_8x_A_4A\", \"snr\": 3.592849806247846, \"unit_id\": 46}, {\"Accuracy\": 0.92, \"recording_name\": \"drift_8x_A_4A\", \"snr\": 21.73230710344792, \"unit_id\": 50}, {\"Accuracy\": 0.0, \"recording_name\": \"drift_8x_A_4A\", \"snr\": 3.4416219292523835, \"unit_id\": 76}, {\"Accuracy\": 0.0, \"recording_name\": \"drift_8x_A_4A\", \"snr\": 3.0804071205416435, \"unit_id\": 84}, {\"Accuracy\": 0.0, \"recording_name\": \"drift_8x_A_4A\", \"snr\": 4.7530248667535036, \"unit_id\": 85}, {\"Accuracy\": 0.0, \"recording_name\": \"drift_8x_A_4A\", \"snr\": 8.704848136372133, \"unit_id\": 101}, {\"Accuracy\": 0.5, \"recording_name\": \"drift_8x_A_4A\", \"snr\": 39.06515919189281, \"unit_id\": 104}, {\"Accuracy\": 0.0, \"recording_name\": \"drift_8x_A_4A\", \"snr\": 12.539603122114892, \"unit_id\": 105}, {\"Accuracy\": 0.0, \"recording_name\": \"drift_8x_A_4A\", \"snr\": 5.921046270444324, \"unit_id\": 114}, {\"Accuracy\": 0.0, \"recording_name\": \"drift_8x_A_4A\", \"snr\": 7.207398347605019, \"unit_id\": 120}, {\"Accuracy\": 0.0, \"recording_name\": \"drift_8x_A_4A\", \"snr\": 6.680807518206779, \"unit_id\": 125}, {\"Accuracy\": 0.04, \"recording_name\": \"drift_8x_A_4A\", \"snr\": 13.32159874903623, \"unit_id\": 132}, {\"Accuracy\": 0.03, \"recording_name\": \"drift_8x_A_4A\", \"snr\": 12.40722683845982, \"unit_id\": 135}, {\"Accuracy\": 0.14, \"recording_name\": \"drift_8x_A_4A\", \"snr\": 14.886955493792811, \"unit_id\": 143}, {\"Accuracy\": 0.0, \"recording_name\": \"drift_8x_A_4A\", \"snr\": 5.5998169801508855, \"unit_id\": 148}, {\"Accuracy\": 0.0, \"recording_name\": \"drift_8x_A_4A\", \"snr\": 6.977455818529327, \"unit_id\": 163}, {\"Accuracy\": 0.01, \"recording_name\": \"drift_8x_A_4A\", \"snr\": 4.26528615510643, \"unit_id\": 170}, {\"Accuracy\": 0.01, \"recording_name\": \"drift_8x_A_4A\", \"snr\": 4.4837604947054555, \"unit_id\": 171}, {\"Accuracy\": 0.01, \"recording_name\": \"drift_8x_A_4A\", \"snr\": 14.02294490518221, \"unit_id\": 176}, {\"Accuracy\": 0.52, \"recording_name\": \"drift_8x_A_4A\", \"snr\": 39.78348586238835, \"unit_id\": 186}, {\"Accuracy\": 0.0, \"recording_name\": \"drift_8x_A_4A\", \"snr\": 4.058795949024623, \"unit_id\": 195}, {\"Accuracy\": 0.01, \"recording_name\": \"drift_8x_A_4A\", \"snr\": 4.027713151999788, \"unit_id\": 196}, {\"Accuracy\": 0.01, \"recording_name\": \"drift_8x_A_4A\", \"snr\": 4.88908303802598, \"unit_id\": 204}, {\"Accuracy\": 0.48, \"recording_name\": \"drift_8x_A_4A\", \"snr\": 25.164927416408787, \"unit_id\": 206}, {\"Accuracy\": 0.01, \"recording_name\": \"drift_8x_A_4A\", \"snr\": 4.941478153602398, \"unit_id\": 213}, {\"Accuracy\": 0.1, \"recording_name\": \"drift_8x_A_4A\", \"snr\": 10.445707776629979, \"unit_id\": 222}, {\"Accuracy\": 0.01, \"recording_name\": \"drift_8x_A_4A\", \"snr\": 5.312671684325603, \"unit_id\": 223}, {\"Accuracy\": 0.01, \"recording_name\": \"drift_8x_A_4A\", \"snr\": 9.095606146296086, \"unit_id\": 230}, {\"Accuracy\": 0.1, \"recording_name\": \"drift_8x_A_4A\", \"snr\": 9.320206138475289, \"unit_id\": 233}, {\"Accuracy\": 0.25, \"recording_name\": \"drift_8x_A_4A\", \"snr\": 19.769480076024283, \"unit_id\": 234}, {\"Accuracy\": 0.15, \"recording_name\": \"drift_8x_A_4A\", \"snr\": 13.880362954458892, \"unit_id\": 245}, {\"Accuracy\": 0.4, \"recording_name\": \"drift_8x_A_4A\", \"snr\": 17.016818449296505, \"unit_id\": 247}, {\"Accuracy\": 0.98, \"recording_name\": \"drift_8x_A_4A\", \"snr\": 43.40085048451503, \"unit_id\": 253}, {\"Accuracy\": 0.95, \"recording_name\": \"drift_8x_A_4A\", \"snr\": 28.449613524313904, \"unit_id\": 258}, {\"Accuracy\": 0.98, \"recording_name\": \"drift_8x_A_4A\", \"snr\": 31.370748546401998, \"unit_id\": 275}, {\"Accuracy\": 0.0, \"recording_name\": \"drift_8x_A_4A\", \"snr\": 4.6939751332315085, \"unit_id\": 286}, {\"Accuracy\": 0.0, \"recording_name\": \"drift_8x_A_4A\", \"snr\": 2.8855086160981545, \"unit_id\": 310}, {\"Accuracy\": 0.03, \"recording_name\": \"drift_8x_A_4A\", \"snr\": 7.619165282007637, \"unit_id\": 345}, {\"Accuracy\": 0.0, \"recording_name\": \"drift_8x_A_4A\", \"snr\": 2.62988420668486, \"unit_id\": 349}, {\"Accuracy\": 0.17, \"recording_name\": \"drift_8x_A_4A\", \"snr\": 10.630093248086457, \"unit_id\": 354}, {\"Accuracy\": 0.99, \"recording_name\": \"drift_8x_A_4A\", \"snr\": 81.01566920168328, \"unit_id\": 391}, {\"Accuracy\": 0.01, \"recording_name\": \"drift_8x_A_4A\", \"snr\": 7.257335730432221, \"unit_id\": 397}, {\"Accuracy\": 0.0, \"recording_name\": \"drift_8x_A_4A\", \"snr\": 4.5194534284586, \"unit_id\": 404}, {\"Accuracy\": 0.01, \"recording_name\": \"drift_8x_A_4A\", \"snr\": 5.420981766282114, \"unit_id\": 409}, {\"Accuracy\": 0.0, \"recording_name\": \"drift_8x_A_4A\", \"snr\": 3.3500707098058933, \"unit_id\": 410}, {\"Accuracy\": 0.87, \"recording_name\": \"drift_8x_A_4A\", \"snr\": 50.37640856751976, \"unit_id\": 417}, {\"Accuracy\": 0.0, \"recording_name\": \"drift_8x_A_4A\", \"snr\": 3.0049355130571582, \"unit_id\": 438}, {\"Accuracy\": 0.84, \"recording_name\": \"drift_8x_A_4A\", \"snr\": 29.613956163562477, \"unit_id\": 443}, {\"Accuracy\": 0.0, \"recording_name\": \"drift_8x_A_4A\", \"snr\": 8.34561247811033, \"unit_id\": 455}, {\"Accuracy\": 0.62, \"recording_name\": \"drift_8x_A_4A\", \"snr\": 21.000340136673397, \"unit_id\": 456}, {\"Accuracy\": 0.0, \"recording_name\": \"drift_8x_A_4A\", \"snr\": 4.741509221629754, \"unit_id\": 457}, {\"Accuracy\": 0.01, \"recording_name\": \"drift_8x_A_4A\", \"snr\": 8.701748925095396, \"unit_id\": 467}, {\"Accuracy\": 0.01, \"recording_name\": \"drift_8x_A_4A\", \"snr\": 7.005006935665598, \"unit_id\": 473}, {\"Accuracy\": 0.0, \"recording_name\": \"drift_8x_A_4A\", \"snr\": 9.97772356121765, \"unit_id\": 487}, {\"Accuracy\": 0.34, \"recording_name\": \"drift_8x_A_4A\", \"snr\": 23.55561815546427, \"unit_id\": 490}, {\"Accuracy\": 0.12, \"recording_name\": \"drift_8x_A_4A\", \"snr\": 19.597839097937275, \"unit_id\": 504}, {\"Accuracy\": 0.0, \"recording_name\": \"drift_8x_A_4A\", \"snr\": 11.456770346486975, \"unit_id\": 531}, {\"Accuracy\": 0.88, \"recording_name\": \"drift_8x_A_4A\", \"snr\": 26.126424648008157, \"unit_id\": 550}, {\"Accuracy\": 0.0, \"recording_name\": \"drift_8x_A_4A\", \"snr\": 5.757081761890085, \"unit_id\": 552}, {\"Accuracy\": 0.01, \"recording_name\": \"drift_8x_A_4A\", \"snr\": 10.318656375290288, \"unit_id\": 563}, {\"Accuracy\": 0.03, \"recording_name\": \"drift_8x_A_4A\", \"snr\": 12.03226939605785, \"unit_id\": 567}, {\"Accuracy\": 0.44, \"recording_name\": \"drift_8x_A_4A\", \"snr\": 24.148438854375623, \"unit_id\": 570}, {\"Accuracy\": 0.0, \"recording_name\": \"drift_8x_A_4A\", \"snr\": 10.133125308381494, \"unit_id\": 572}, {\"Accuracy\": 0.0, \"recording_name\": \"drift_8x_A_4A\", \"snr\": 3.6926738331580746, \"unit_id\": 575}, {\"Accuracy\": 0.0, \"recording_name\": \"drift_8x_A_4A\", \"snr\": 7.193312208498699, \"unit_id\": 585}, {\"Accuracy\": 0.0, \"recording_name\": \"drift_8x_A_4A\", \"snr\": 5.663668492389533, \"unit_id\": 595}, {\"Accuracy\": 0.01, \"recording_name\": \"drift_8x_A_4A\", \"snr\": 2.6281105587006133, \"unit_id\": 615}, {\"Accuracy\": 0.01, \"recording_name\": \"drift_8x_A_4A\", \"snr\": 4.192586130709347, \"unit_id\": 635}, {\"Accuracy\": 0.0, \"recording_name\": \"drift_8x_A_4A\", \"snr\": 4.453424893743637, \"unit_id\": 640}, {\"Accuracy\": 0.13, \"recording_name\": \"drift_8x_A_4A\", \"snr\": 23.298317042221765, \"unit_id\": 641}, {\"Accuracy\": 0.01, \"recording_name\": \"drift_8x_A_4A\", \"snr\": 5.404134279710348, \"unit_id\": 676}, {\"Accuracy\": 0.01, \"recording_name\": \"drift_8x_A_4A\", \"snr\": 5.721057865048379, \"unit_id\": 688}, {\"Accuracy\": 0.0, \"recording_name\": \"drift_8x_A_4A\", \"snr\": 4.977127318616818, \"unit_id\": 697}, {\"Accuracy\": 0.09, \"recording_name\": \"drift_8x_A_4A\", \"snr\": 13.15933980148197, \"unit_id\": 701}, {\"Accuracy\": 0.71, \"recording_name\": \"drift_8x_A_4A\", \"snr\": 18.195100469931315, \"unit_id\": 703}, {\"Accuracy\": 0.0, \"recording_name\": \"drift_8x_A_4B\", \"snr\": 2.8914817172848952, \"unit_id\": 1}, {\"Accuracy\": 0.0, \"recording_name\": \"drift_8x_A_4B\", \"snr\": 3.675995588205143, \"unit_id\": 3}, {\"Accuracy\": 0.95, \"recording_name\": \"drift_8x_A_4B\", \"snr\": 28.42817027066591, \"unit_id\": 4}, {\"Accuracy\": 0.79, \"recording_name\": \"drift_8x_A_4B\", \"snr\": 27.275309778498936, \"unit_id\": 6}, {\"Accuracy\": 0.0, \"recording_name\": \"drift_8x_A_4B\", \"snr\": 3.4805340986732913, \"unit_id\": 16}, {\"Accuracy\": 0.0, \"recording_name\": \"drift_8x_A_4B\", \"snr\": 4.863409328676652, \"unit_id\": 21}, {\"Accuracy\": 0.3, \"recording_name\": \"drift_8x_A_4B\", \"snr\": 14.430388337324105, \"unit_id\": 26}, {\"Accuracy\": 0.0, \"recording_name\": \"drift_8x_A_4B\", \"snr\": 2.6095816075569296, \"unit_id\": 28}, {\"Accuracy\": 0.08, \"recording_name\": \"drift_8x_A_4B\", \"snr\": 18.20577380553689, \"unit_id\": 44}, {\"Accuracy\": 0.0, \"recording_name\": \"drift_8x_A_4B\", \"snr\": 3.3747548920948383, \"unit_id\": 46}, {\"Accuracy\": 0.89, \"recording_name\": \"drift_8x_A_4B\", \"snr\": 36.36714439964181, \"unit_id\": 50}, {\"Accuracy\": 0.0, \"recording_name\": \"drift_8x_A_4B\", \"snr\": 3.549571302312582, \"unit_id\": 84}, {\"Accuracy\": 0.0, \"recording_name\": \"drift_8x_A_4B\", \"snr\": 4.8163608267962035, \"unit_id\": 85}, {\"Accuracy\": 0.02, \"recording_name\": \"drift_8x_A_4B\", \"snr\": 8.53940232404596, \"unit_id\": 101}, {\"Accuracy\": 0.23, \"recording_name\": \"drift_8x_A_4B\", \"snr\": 31.547425414430585, \"unit_id\": 104}, {\"Accuracy\": 0.0, \"recording_name\": \"drift_8x_A_4B\", \"snr\": 10.912943919557637, \"unit_id\": 105}, {\"Accuracy\": 0.0, \"recording_name\": \"drift_8x_A_4B\", \"snr\": 5.920834988631195, \"unit_id\": 114}, {\"Accuracy\": 0.0, \"recording_name\": \"drift_8x_A_4B\", \"snr\": 5.76141087849589, \"unit_id\": 125}, {\"Accuracy\": 0.07, \"recording_name\": \"drift_8x_A_4B\", \"snr\": 12.110962915955449, \"unit_id\": 135}, {\"Accuracy\": 0.01, \"recording_name\": \"drift_8x_A_4B\", \"snr\": 16.885893277226018, \"unit_id\": 143}, {\"Accuracy\": 0.0, \"recording_name\": \"drift_8x_A_4B\", \"snr\": 5.959964498402826, \"unit_id\": 148}, {\"Accuracy\": 0.0, \"recording_name\": \"drift_8x_A_4B\", \"snr\": 7.62710018023944, \"unit_id\": 163}, {\"Accuracy\": 0.0, \"recording_name\": \"drift_8x_A_4B\", \"snr\": 5.015309871683724, \"unit_id\": 171}, {\"Accuracy\": 0.0, \"recording_name\": \"drift_8x_A_4B\", \"snr\": 3.1117747424055895, \"unit_id\": 172}, {\"Accuracy\": 0.01, \"recording_name\": \"drift_8x_A_4B\", \"snr\": 11.930944023313325, \"unit_id\": 176}, {\"Accuracy\": 0.01, \"recording_name\": \"drift_8x_A_4B\", \"snr\": 5.693759631617702, \"unit_id\": 182}, {\"Accuracy\": 0.53, \"recording_name\": \"drift_8x_A_4B\", \"snr\": 47.660622738315965, \"unit_id\": 186}, {\"Accuracy\": 0.03, \"recording_name\": \"drift_8x_A_4B\", \"snr\": 10.593735644624763, \"unit_id\": 188}, {\"Accuracy\": 0.0, \"recording_name\": \"drift_8x_A_4B\", \"snr\": 3.3919251191266575, \"unit_id\": 195}, {\"Accuracy\": 0.01, \"recording_name\": \"drift_8x_A_4B\", \"snr\": 5.156477958391483, \"unit_id\": 204}, {\"Accuracy\": 0.46, \"recording_name\": \"drift_8x_A_4B\", \"snr\": 22.194731332969738, \"unit_id\": 206}, {\"Accuracy\": 0.01, \"recording_name\": \"drift_8x_A_4B\", \"snr\": 6.555825156450477, \"unit_id\": 213}, {\"Accuracy\": 0.02, \"recording_name\": \"drift_8x_A_4B\", \"snr\": 12.559493643323677, \"unit_id\": 222}, {\"Accuracy\": 0.01, \"recording_name\": \"drift_8x_A_4B\", \"snr\": 5.545916763288748, \"unit_id\": 223}, {\"Accuracy\": 0.0, \"recording_name\": \"drift_8x_A_4B\", \"snr\": 3.280836527845549, \"unit_id\": 229}, {\"Accuracy\": 0.01, \"recording_name\": \"drift_8x_A_4B\", \"snr\": 8.615950093428244, \"unit_id\": 230}, {\"Accuracy\": 0.01, \"recording_name\": \"drift_8x_A_4B\", \"snr\": 10.506030748603012, \"unit_id\": 233}, {\"Accuracy\": 0.25, \"recording_name\": \"drift_8x_A_4B\", \"snr\": 19.472982118212723, \"unit_id\": 234}, {\"Accuracy\": 0.52, \"recording_name\": \"drift_8x_A_4B\", \"snr\": 60.20393698437594, \"unit_id\": 242}, {\"Accuracy\": 0.45, \"recording_name\": \"drift_8x_A_4B\", \"snr\": 17.536620941169552, \"unit_id\": 247}, {\"Accuracy\": 0.0, \"recording_name\": \"drift_8x_A_4B\", \"snr\": 5.585370141837528, \"unit_id\": 250}, {\"Accuracy\": 0.31, \"recording_name\": \"drift_8x_A_4B\", \"snr\": 35.818577834187565, \"unit_id\": 253}, {\"Accuracy\": 0.95, \"recording_name\": \"drift_8x_A_4B\", \"snr\": 28.061603872114087, \"unit_id\": 258}, {\"Accuracy\": 0.91, \"recording_name\": \"drift_8x_A_4B\", \"snr\": 54.454956986542896, \"unit_id\": 275}, {\"Accuracy\": 0.0, \"recording_name\": \"drift_8x_A_4B\", \"snr\": 4.679515705183373, \"unit_id\": 286}, {\"Accuracy\": 0.0, \"recording_name\": \"drift_8x_A_4B\", \"snr\": 6.157747009582668, \"unit_id\": 314}, {\"Accuracy\": 0.0, \"recording_name\": \"drift_8x_A_4B\", \"snr\": 4.750206660598422, \"unit_id\": 324}, {\"Accuracy\": 0.01, \"recording_name\": \"drift_8x_A_4B\", \"snr\": 9.432948596697189, \"unit_id\": 345}, {\"Accuracy\": 0.0, \"recording_name\": \"drift_8x_A_4B\", \"snr\": 3.3464603230811534, \"unit_id\": 349}, {\"Accuracy\": 0.01, \"recording_name\": \"drift_8x_A_4B\", \"snr\": 11.183297630948116, \"unit_id\": 354}, {\"Accuracy\": 0.0, \"recording_name\": \"drift_8x_A_4B\", \"snr\": 2.3304330417832153, \"unit_id\": 364}, {\"Accuracy\": 0.96, \"recording_name\": \"drift_8x_A_4B\", \"snr\": 74.85482205309093, \"unit_id\": 391}, {\"Accuracy\": 0.93, \"recording_name\": \"drift_8x_A_4B\", \"snr\": 38.27538352154852, \"unit_id\": 393}, {\"Accuracy\": 0.0, \"recording_name\": \"drift_8x_A_4B\", \"snr\": 6.978250867352583, \"unit_id\": 397}, {\"Accuracy\": 0.0, \"recording_name\": \"drift_8x_A_4B\", \"snr\": 4.012801806882015, \"unit_id\": 404}, {\"Accuracy\": 0.01, \"recording_name\": \"drift_8x_A_4B\", \"snr\": 5.127461927016467, \"unit_id\": 409}, {\"Accuracy\": 0.0, \"recording_name\": \"drift_8x_A_4B\", \"snr\": 2.8665213889825565, \"unit_id\": 410}, {\"Accuracy\": 0.99, \"recording_name\": \"drift_8x_A_4B\", \"snr\": 43.08947048460662, \"unit_id\": 417}, {\"Accuracy\": 0.0, \"recording_name\": \"drift_8x_A_4B\", \"snr\": 3.6164617024702657, \"unit_id\": 432}, {\"Accuracy\": 0.0, \"recording_name\": \"drift_8x_A_4B\", \"snr\": 2.649560025624401, \"unit_id\": 438}, {\"Accuracy\": 0.53, \"recording_name\": \"drift_8x_A_4B\", \"snr\": 27.88809902675393, \"unit_id\": 443}, {\"Accuracy\": 0.0, \"recording_name\": \"drift_8x_A_4B\", \"snr\": 8.457079825769501, \"unit_id\": 455}, {\"Accuracy\": 0.33, \"recording_name\": \"drift_8x_A_4B\", \"snr\": 21.272121913924927, \"unit_id\": 456}, {\"Accuracy\": 0.0, \"recording_name\": \"drift_8x_A_4B\", \"snr\": 4.971154851981647, \"unit_id\": 457}, {\"Accuracy\": 0.01, \"recording_name\": \"drift_8x_A_4B\", \"snr\": 7.0478963171368125, \"unit_id\": 473}, {\"Accuracy\": 0.01, \"recording_name\": \"drift_8x_A_4B\", \"snr\": 10.528054526467637, \"unit_id\": 486}, {\"Accuracy\": 0.01, \"recording_name\": \"drift_8x_A_4B\", \"snr\": 9.67419723543762, \"unit_id\": 487}, {\"Accuracy\": 0.74, \"recording_name\": \"drift_8x_A_4B\", \"snr\": 22.470515551456835, \"unit_id\": 490}, {\"Accuracy\": 0.01, \"recording_name\": \"drift_8x_A_4B\", \"snr\": 7.608691509611813, \"unit_id\": 519}, {\"Accuracy\": 0.01, \"recording_name\": \"drift_8x_A_4B\", \"snr\": 12.470683740218762, \"unit_id\": 531}, {\"Accuracy\": 0.0, \"recording_name\": \"drift_8x_A_4B\", \"snr\": 3.2373712139695945, \"unit_id\": 549}, {\"Accuracy\": 0.43, \"recording_name\": \"drift_8x_A_4B\", \"snr\": 24.731256342898444, \"unit_id\": 550}, {\"Accuracy\": 0.0, \"recording_name\": \"drift_8x_A_4B\", \"snr\": 5.962000478774797, \"unit_id\": 552}, {\"Accuracy\": 0.01, \"recording_name\": \"drift_8x_A_4B\", \"snr\": 9.460796075232272, \"unit_id\": 563}, {\"Accuracy\": 0.48, \"recording_name\": \"drift_8x_A_4B\", \"snr\": 14.041663109679144, \"unit_id\": 567}, {\"Accuracy\": 0.42, \"recording_name\": \"drift_8x_A_4B\", \"snr\": 23.29015309311989, \"unit_id\": 570}, {\"Accuracy\": 0.04, \"recording_name\": \"drift_8x_A_4B\", \"snr\": 12.62434560670776, \"unit_id\": 572}, {\"Accuracy\": 0.0, \"recording_name\": \"drift_8x_A_4B\", \"snr\": 5.122176939965852, \"unit_id\": 575}, {\"Accuracy\": 0.0, \"recording_name\": \"drift_8x_A_4B\", \"snr\": 7.1347129526651525, \"unit_id\": 585}, {\"Accuracy\": 0.0, \"recording_name\": \"drift_8x_A_4B\", \"snr\": 5.379635522174066, \"unit_id\": 595}, {\"Accuracy\": 0.01, \"recording_name\": \"drift_8x_A_4B\", \"snr\": 2.72709507501614, \"unit_id\": 615}, {\"Accuracy\": 0.01, \"recording_name\": \"drift_8x_A_4B\", \"snr\": 3.5519764465711434, \"unit_id\": 635}, {\"Accuracy\": 0.01, \"recording_name\": \"drift_8x_A_4B\", \"snr\": 14.651777866386334, \"unit_id\": 641}, {\"Accuracy\": 0.01, \"recording_name\": \"drift_8x_A_4B\", \"snr\": 5.9584793758286985, \"unit_id\": 688}, {\"Accuracy\": 0.94, \"recording_name\": \"drift_8x_A_4B\", \"snr\": 30.42231825400716, \"unit_id\": 696}, {\"Accuracy\": 0.0, \"recording_name\": \"drift_8x_A_4B\", \"snr\": 5.34106643955249, \"unit_id\": 697}, {\"Accuracy\": 0.44, \"recording_name\": \"drift_8x_A_4B\", \"snr\": 13.491540328336912, \"unit_id\": 701}, {\"Accuracy\": 0.71, \"recording_name\": \"drift_8x_A_4B\", \"snr\": 19.88980736449783, \"unit_id\": 703}, {\"Accuracy\": 0.0, \"recording_name\": \"drift_8x_B_2A\", \"snr\": 3.3147744324528308, \"unit_id\": 1}, {\"Accuracy\": 0.0, \"recording_name\": \"drift_8x_B_2A\", \"snr\": 3.5745513839733105, \"unit_id\": 3}, {\"Accuracy\": 0.69, \"recording_name\": \"drift_8x_B_2A\", \"snr\": 54.57008212768416, \"unit_id\": 4}, {\"Accuracy\": 0.94, \"recording_name\": \"drift_8x_B_2A\", \"snr\": 30.664456628072855, \"unit_id\": 6}, {\"Accuracy\": 0.0, \"recording_name\": \"drift_8x_B_2A\", \"snr\": 4.779595230570939, \"unit_id\": 21}, {\"Accuracy\": 0.01, \"recording_name\": \"drift_8x_B_2A\", \"snr\": 12.751288224154072, \"unit_id\": 26}, {\"Accuracy\": 0.0, \"recording_name\": \"drift_8x_B_2A\", \"snr\": 2.810775863468763, \"unit_id\": 28}, {\"Accuracy\": 0.94, \"recording_name\": \"drift_8x_B_2A\", \"snr\": 35.550494986508475, \"unit_id\": 50}, {\"Accuracy\": 0.0, \"recording_name\": \"drift_8x_B_2A\", \"snr\": 2.5590882417461254, \"unit_id\": 84}, {\"Accuracy\": 0.0, \"recording_name\": \"drift_8x_B_2A\", \"snr\": 4.388657778181993, \"unit_id\": 85}, {\"Accuracy\": 0.01, \"recording_name\": \"drift_8x_B_2A\", \"snr\": 9.105325883516665, \"unit_id\": 101}, {\"Accuracy\": 0.5, \"recording_name\": \"drift_8x_B_2A\", \"snr\": 37.622710988764716, \"unit_id\": 104}, {\"Accuracy\": 0.02, \"recording_name\": \"drift_8x_B_2A\", \"snr\": 11.9854106169484, \"unit_id\": 105}, {\"Accuracy\": 0.0, \"recording_name\": \"drift_8x_B_2A\", \"snr\": 5.99152488274764, \"unit_id\": 114}, {\"Accuracy\": 0.0, \"recording_name\": \"drift_8x_B_2A\", \"snr\": 6.812395067641358, \"unit_id\": 120}, {\"Accuracy\": 0.0, \"recording_name\": \"drift_8x_B_2A\", \"snr\": 5.25012539259897, \"unit_id\": 125}, {\"Accuracy\": 0.01, \"recording_name\": \"drift_8x_B_2A\", \"snr\": 9.237284469255606, \"unit_id\": 132}, {\"Accuracy\": 0.0, \"recording_name\": \"drift_8x_B_2A\", \"snr\": 10.063624586649972, \"unit_id\": 135}, {\"Accuracy\": 0.01, \"recording_name\": \"drift_8x_B_2A\", \"snr\": 10.369573572570367, \"unit_id\": 143}, {\"Accuracy\": 0.0, \"recording_name\": \"drift_8x_B_2A\", \"snr\": 6.151185138825487, \"unit_id\": 148}, {\"Accuracy\": 0.0, \"recording_name\": \"drift_8x_B_2A\", \"snr\": 7.038761049722381, \"unit_id\": 163}, {\"Accuracy\": 0.01, \"recording_name\": \"drift_8x_B_2A\", \"snr\": 4.350911187400367, \"unit_id\": 170}, {\"Accuracy\": 0.0, \"recording_name\": \"drift_8x_B_2A\", \"snr\": 4.737923473458589, \"unit_id\": 171}, {\"Accuracy\": 0.01, \"recording_name\": \"drift_8x_B_2A\", \"snr\": 13.362558565753007, \"unit_id\": 176}, {\"Accuracy\": 0.51, \"recording_name\": \"drift_8x_B_2A\", \"snr\": 24.218645609832674, \"unit_id\": 186}, {\"Accuracy\": 0.01, \"recording_name\": \"drift_8x_B_2A\", \"snr\": 11.092593295515453, \"unit_id\": 188}, {\"Accuracy\": 0.0, \"recording_name\": \"drift_8x_B_2A\", \"snr\": 4.423761727004804, \"unit_id\": 195}, {\"Accuracy\": 0.11, \"recording_name\": \"drift_8x_B_2A\", \"snr\": 21.394414615104424, \"unit_id\": 206}, {\"Accuracy\": 0.01, \"recording_name\": \"drift_8x_B_2A\", \"snr\": 5.69872519500785, \"unit_id\": 213}, {\"Accuracy\": 0.01, \"recording_name\": \"drift_8x_B_2A\", \"snr\": 8.128914104811807, \"unit_id\": 222}, {\"Accuracy\": 0.0, \"recording_name\": \"drift_8x_B_2A\", \"snr\": 3.5712643949428107, \"unit_id\": 229}, {\"Accuracy\": 0.01, \"recording_name\": \"drift_8x_B_2A\", \"snr\": 9.144765218393724, \"unit_id\": 230}, {\"Accuracy\": 0.01, \"recording_name\": \"drift_8x_B_2A\", \"snr\": 7.0978258435723935, \"unit_id\": 233}, {\"Accuracy\": 0.01, \"recording_name\": \"drift_8x_B_2A\", \"snr\": 20.274990835964527, \"unit_id\": 234}, {\"Accuracy\": 0.0, \"recording_name\": \"drift_8x_B_2A\", \"snr\": 8.405371020209625, \"unit_id\": 245}, {\"Accuracy\": 0.62, \"recording_name\": \"drift_8x_B_2A\", \"snr\": 17.290619503778185, \"unit_id\": 247}, {\"Accuracy\": 0.0, \"recording_name\": \"drift_8x_B_2A\", \"snr\": 6.120348174906243, \"unit_id\": 250}, {\"Accuracy\": 0.74, \"recording_name\": \"drift_8x_B_2A\", \"snr\": 21.74456501460656, \"unit_id\": 253}, {\"Accuracy\": 0.92, \"recording_name\": \"drift_8x_B_2A\", \"snr\": 28.370957074910514, \"unit_id\": 258}, {\"Accuracy\": 0.02, \"recording_name\": \"drift_8x_B_2A\", \"snr\": 12.267200301965495, \"unit_id\": 275}, {\"Accuracy\": 0.0, \"recording_name\": \"drift_8x_B_2A\", \"snr\": 3.5704520767513426, \"unit_id\": 286}, {\"Accuracy\": 0.0, \"recording_name\": \"drift_8x_B_2A\", \"snr\": 3.005232405141055, \"unit_id\": 305}, {\"Accuracy\": 0.0, \"recording_name\": \"drift_8x_B_2A\", \"snr\": 7.904730143528959, \"unit_id\": 345}, {\"Accuracy\": 0.0, \"recording_name\": \"drift_8x_B_2A\", \"snr\": 8.368525569362376, \"unit_id\": 354}, {\"Accuracy\": 0.99, \"recording_name\": \"drift_8x_B_2A\", \"snr\": 72.4725682849404, \"unit_id\": 391}, {\"Accuracy\": 0.97, \"recording_name\": \"drift_8x_B_2A\", \"snr\": 38.63601499999838, \"unit_id\": 393}, {\"Accuracy\": 0.0, \"recording_name\": \"drift_8x_B_2A\", \"snr\": 7.3095450548562155, \"unit_id\": 397}, {\"Accuracy\": 0.0, \"recording_name\": \"drift_8x_B_2A\", \"snr\": 3.0962430358975968, \"unit_id\": 404}, {\"Accuracy\": 0.0, \"recording_name\": \"drift_8x_B_2A\", \"snr\": 5.757008414891812, \"unit_id\": 409}, {\"Accuracy\": 0.0, \"recording_name\": \"drift_8x_B_2A\", \"snr\": 3.339637848831073, \"unit_id\": 410}, {\"Accuracy\": 0.98, \"recording_name\": \"drift_8x_B_2A\", \"snr\": 50.16481706201208, \"unit_id\": 417}, {\"Accuracy\": 0.0, \"recording_name\": \"drift_8x_B_2A\", \"snr\": 3.4576655006961365, \"unit_id\": 418}, {\"Accuracy\": 0.0, \"recording_name\": \"drift_8x_B_2A\", \"snr\": 3.55827966965527, \"unit_id\": 432}, {\"Accuracy\": 0.0, \"recording_name\": \"drift_8x_B_2A\", \"snr\": 2.77549767284359, \"unit_id\": 438}, {\"Accuracy\": 0.85, \"recording_name\": \"drift_8x_B_2A\", \"snr\": 30.555384139771437, \"unit_id\": 443}, {\"Accuracy\": 0.0, \"recording_name\": \"drift_8x_B_2A\", \"snr\": 8.231265909997832, \"unit_id\": 455}, {\"Accuracy\": 0.37, \"recording_name\": \"drift_8x_B_2A\", \"snr\": 20.65223089116108, \"unit_id\": 456}, {\"Accuracy\": 0.0, \"recording_name\": \"drift_8x_B_2A\", \"snr\": 4.488226478255623, \"unit_id\": 457}, {\"Accuracy\": 0.01, \"recording_name\": \"drift_8x_B_2A\", \"snr\": 7.690499542263085, \"unit_id\": 473}, {\"Accuracy\": 0.01, \"recording_name\": \"drift_8x_B_2A\", \"snr\": 10.779937752806914, \"unit_id\": 486}, {\"Accuracy\": 0.0, \"recording_name\": \"drift_8x_B_2A\", \"snr\": 9.740850954124054, \"unit_id\": 487}, {\"Accuracy\": 0.81, \"recording_name\": \"drift_8x_B_2A\", \"snr\": 25.018838976411022, \"unit_id\": 490}, {\"Accuracy\": 0.0, \"recording_name\": \"drift_8x_B_2A\", \"snr\": 11.481323384551109, \"unit_id\": 504}, {\"Accuracy\": 0.0, \"recording_name\": \"drift_8x_B_2A\", \"snr\": 7.180914323669977, \"unit_id\": 519}, {\"Accuracy\": 0.01, \"recording_name\": \"drift_8x_B_2A\", \"snr\": 12.924243684839663, \"unit_id\": 531}, {\"Accuracy\": 0.85, \"recording_name\": \"drift_8x_B_2A\", \"snr\": 25.909869777210034, \"unit_id\": 550}, {\"Accuracy\": 0.0, \"recording_name\": \"drift_8x_B_2A\", \"snr\": 6.327693341667051, \"unit_id\": 552}, {\"Accuracy\": 0.0, \"recording_name\": \"drift_8x_B_2A\", \"snr\": 7.52757850801616, \"unit_id\": 563}, {\"Accuracy\": 0.0, \"recording_name\": \"drift_8x_B_2A\", \"snr\": 9.920666867580813, \"unit_id\": 567}, {\"Accuracy\": 0.62, \"recording_name\": \"drift_8x_B_2A\", \"snr\": 25.06448333927815, \"unit_id\": 570}, {\"Accuracy\": 0.0, \"recording_name\": \"drift_8x_B_2A\", \"snr\": 8.428716571338708, \"unit_id\": 572}, {\"Accuracy\": 0.0, \"recording_name\": \"drift_8x_B_2A\", \"snr\": 3.6913526128036556, \"unit_id\": 575}, {\"Accuracy\": 0.0, \"recording_name\": \"drift_8x_B_2A\", \"snr\": 5.440732971921955, \"unit_id\": 585}, {\"Accuracy\": 0.0, \"recording_name\": \"drift_8x_B_2A\", \"snr\": 9.523323804659688, \"unit_id\": 592}, {\"Accuracy\": 0.0, \"recording_name\": \"drift_8x_B_2A\", \"snr\": 5.57505044468582, \"unit_id\": 595}, {\"Accuracy\": 0.01, \"recording_name\": \"drift_8x_B_2A\", \"snr\": 2.9046832028867793, \"unit_id\": 615}, {\"Accuracy\": 0.0, \"recording_name\": \"drift_8x_B_2A\", \"snr\": 2.1898737751404522, \"unit_id\": 621}, {\"Accuracy\": 0.01, \"recording_name\": \"drift_8x_B_2A\", \"snr\": 4.17987626364497, \"unit_id\": 635}, {\"Accuracy\": 0.13, \"recording_name\": \"drift_8x_B_2A\", \"snr\": 21.858176822236118, \"unit_id\": 641}, {\"Accuracy\": 0.01, \"recording_name\": \"drift_8x_B_2A\", \"snr\": 4.068751929864428, \"unit_id\": 676}, {\"Accuracy\": 0.01, \"recording_name\": \"drift_8x_B_2A\", \"snr\": 1.8176942112592014, \"unit_id\": 682}, {\"Accuracy\": 0.01, \"recording_name\": \"drift_8x_B_2A\", \"snr\": 6.215537204527102, \"unit_id\": 688}, {\"Accuracy\": 0.96, \"recording_name\": \"drift_8x_B_2A\", \"snr\": 35.676057978603154, \"unit_id\": 696}, {\"Accuracy\": 0.0, \"recording_name\": \"drift_8x_B_2A\", \"snr\": 5.327226307159578, \"unit_id\": 697}, {\"Accuracy\": 0.0, \"recording_name\": \"drift_8x_B_2A\", \"snr\": 9.088099142633006, \"unit_id\": 701}, {\"Accuracy\": 0.76, \"recording_name\": \"drift_8x_B_2A\", \"snr\": 19.915051484265536, \"unit_id\": 703}, {\"Accuracy\": 0.0, \"recording_name\": \"drift_8x_B_2B\", \"snr\": 2.8584291655131833, \"unit_id\": 1}, {\"Accuracy\": 0.0, \"recording_name\": \"drift_8x_B_2B\", \"snr\": 3.869504882619008, \"unit_id\": 3}, {\"Accuracy\": 0.11, \"recording_name\": \"drift_8x_B_2B\", \"snr\": 18.599055752283146, \"unit_id\": 4}, {\"Accuracy\": 0.05, \"recording_name\": \"drift_8x_B_2B\", \"snr\": 15.493142540763623, \"unit_id\": 6}, {\"Accuracy\": 0.0, \"recording_name\": \"drift_8x_B_2B\", \"snr\": 3.015289415170722, \"unit_id\": 16}, {\"Accuracy\": 0.0, \"recording_name\": \"drift_8x_B_2B\", \"snr\": 4.208963495108515, \"unit_id\": 21}, {\"Accuracy\": 0.0, \"recording_name\": \"drift_8x_B_2B\", \"snr\": 12.218066054762659, \"unit_id\": 26}, {\"Accuracy\": 0.0, \"recording_name\": \"drift_8x_B_2B\", \"snr\": 3.6374784114941554, \"unit_id\": 46}, {\"Accuracy\": 0.18, \"recording_name\": \"drift_8x_B_2B\", \"snr\": 13.30632289455551, \"unit_id\": 50}, {\"Accuracy\": 0.0, \"recording_name\": \"drift_8x_B_2B\", \"snr\": 3.9079280470744275, \"unit_id\": 84}, {\"Accuracy\": 0.0, \"recording_name\": \"drift_8x_B_2B\", \"snr\": 4.871538298095575, \"unit_id\": 85}, {\"Accuracy\": 0.0, \"recording_name\": \"drift_8x_B_2B\", \"snr\": 8.953789067582191, \"unit_id\": 101}, {\"Accuracy\": 0.01, \"recording_name\": \"drift_8x_B_2B\", \"snr\": 22.15071062755339, \"unit_id\": 104}, {\"Accuracy\": 0.0, \"recording_name\": \"drift_8x_B_2B\", \"snr\": 7.771083537279655, \"unit_id\": 105}, {\"Accuracy\": 0.0, \"recording_name\": \"drift_8x_B_2B\", \"snr\": 5.2040338561882935, \"unit_id\": 114}, {\"Accuracy\": 0.0, \"recording_name\": \"drift_8x_B_2B\", \"snr\": 5.7920302056609385, \"unit_id\": 118}, {\"Accuracy\": 0.0, \"recording_name\": \"drift_8x_B_2B\", \"snr\": 6.971149377665138, \"unit_id\": 120}, {\"Accuracy\": 0.0, \"recording_name\": \"drift_8x_B_2B\", \"snr\": 6.684298606732145, \"unit_id\": 125}, {\"Accuracy\": 0.05, \"recording_name\": \"drift_8x_B_2B\", \"snr\": 13.027544420282025, \"unit_id\": 135}, {\"Accuracy\": 0.0, \"recording_name\": \"drift_8x_B_2B\", \"snr\": 16.048016802988183, \"unit_id\": 143}, {\"Accuracy\": 0.0, \"recording_name\": \"drift_8x_B_2B\", \"snr\": 5.588987544149273, \"unit_id\": 148}, {\"Accuracy\": 0.0, \"recording_name\": \"drift_8x_B_2B\", \"snr\": 6.79497012550928, \"unit_id\": 163}, {\"Accuracy\": 0.0, \"recording_name\": \"drift_8x_B_2B\", \"snr\": 10.86407369127173, \"unit_id\": 176}, {\"Accuracy\": 0.53, \"recording_name\": \"drift_8x_B_2B\", \"snr\": 46.01102287288371, \"unit_id\": 186}, {\"Accuracy\": 0.01, \"recording_name\": \"drift_8x_B_2B\", \"snr\": 7.717031960219567, \"unit_id\": 188}, {\"Accuracy\": 0.0, \"recording_name\": \"drift_8x_B_2B\", \"snr\": 3.177272062816749, \"unit_id\": 191}, {\"Accuracy\": 0.0, \"recording_name\": \"drift_8x_B_2B\", \"snr\": 4.974908488506863, \"unit_id\": 200}, {\"Accuracy\": 0.01, \"recording_name\": \"drift_8x_B_2B\", \"snr\": 6.30862483632456, \"unit_id\": 204}, {\"Accuracy\": 0.49, \"recording_name\": \"drift_8x_B_2B\", \"snr\": 25.096576788767383, \"unit_id\": 206}, {\"Accuracy\": 0.0, \"recording_name\": \"drift_8x_B_2B\", \"snr\": 5.577609859147114, \"unit_id\": 213}, {\"Accuracy\": 0.01, \"recording_name\": \"drift_8x_B_2B\", \"snr\": 12.745689977232324, \"unit_id\": 222}, {\"Accuracy\": 0.0, \"recording_name\": \"drift_8x_B_2B\", \"snr\": 4.753556137503065, \"unit_id\": 223}, {\"Accuracy\": 0.01, \"recording_name\": \"drift_8x_B_2B\", \"snr\": 5.759369015320914, \"unit_id\": 230}, {\"Accuracy\": 0.01, \"recording_name\": \"drift_8x_B_2B\", \"snr\": 9.36928043831258, \"unit_id\": 233}, {\"Accuracy\": 0.0, \"recording_name\": \"drift_8x_B_2B\", \"snr\": 16.403001330852476, \"unit_id\": 234}, {\"Accuracy\": 0.45, \"recording_name\": \"drift_8x_B_2B\", \"snr\": 33.19650233613632, \"unit_id\": 242}, {\"Accuracy\": 0.0, \"recording_name\": \"drift_8x_B_2B\", \"snr\": 2.3335667742445887, \"unit_id\": 243}, {\"Accuracy\": 0.15, \"recording_name\": \"drift_8x_B_2B\", \"snr\": 14.135413332264218, \"unit_id\": 245}, {\"Accuracy\": 0.0, \"recording_name\": \"drift_8x_B_2B\", \"snr\": 17.801351536170575, \"unit_id\": 247}, {\"Accuracy\": 1.0, \"recording_name\": \"drift_8x_B_2B\", \"snr\": 47.29932181398932, \"unit_id\": 253}, {\"Accuracy\": 0.0, \"recording_name\": \"drift_8x_B_2B\", \"snr\": 4.710061489692335, \"unit_id\": 255}, {\"Accuracy\": 0.93, \"recording_name\": \"drift_8x_B_2B\", \"snr\": 29.139558523105332, \"unit_id\": 258}, {\"Accuracy\": 0.98, \"recording_name\": \"drift_8x_B_2B\", \"snr\": 51.92794753778085, \"unit_id\": 275}, {\"Accuracy\": 0.0, \"recording_name\": \"drift_8x_B_2B\", \"snr\": 4.675411249338688, \"unit_id\": 286}, {\"Accuracy\": 0.0, \"recording_name\": \"drift_8x_B_2B\", \"snr\": 4.636832361543964, \"unit_id\": 311}, {\"Accuracy\": 0.0, \"recording_name\": \"drift_8x_B_2B\", \"snr\": 6.0216291839066995, \"unit_id\": 314}, {\"Accuracy\": 0.0, \"recording_name\": \"drift_8x_B_2B\", \"snr\": 8.124054712262113, \"unit_id\": 345}, {\"Accuracy\": 0.0, \"recording_name\": \"drift_8x_B_2B\", \"snr\": 2.902774676607051, \"unit_id\": 349}, {\"Accuracy\": 0.01, \"recording_name\": \"drift_8x_B_2B\", \"snr\": 11.042504045275216, \"unit_id\": 354}, {\"Accuracy\": 1.0, \"recording_name\": \"drift_8x_B_2B\", \"snr\": 79.79611968124756, \"unit_id\": 391}, {\"Accuracy\": 0.6, \"recording_name\": \"drift_8x_B_2B\", \"snr\": 17.74564050832512, \"unit_id\": 393}, {\"Accuracy\": 0.0, \"recording_name\": \"drift_8x_B_2B\", \"snr\": 5.213167815846386, \"unit_id\": 397}, {\"Accuracy\": 0.0, \"recording_name\": \"drift_8x_B_2B\", \"snr\": 3.8363908170854106, \"unit_id\": 404}, {\"Accuracy\": 0.01, \"recording_name\": \"drift_8x_B_2B\", \"snr\": 6.042727184494897, \"unit_id\": 409}, {\"Accuracy\": 0.0, \"recording_name\": \"drift_8x_B_2B\", \"snr\": 2.806262840881424, \"unit_id\": 410}, {\"Accuracy\": 0.72, \"recording_name\": \"drift_8x_B_2B\", \"snr\": 21.20610794998328, \"unit_id\": 417}, {\"Accuracy\": 0.0, \"recording_name\": \"drift_8x_B_2B\", \"snr\": 3.6046760230866957, \"unit_id\": 432}, {\"Accuracy\": 0.86, \"recording_name\": \"drift_8x_B_2B\", \"snr\": 28.774778255515656, \"unit_id\": 443}, {\"Accuracy\": 0.0, \"recording_name\": \"drift_8x_B_2B\", \"snr\": 7.359847394264887, \"unit_id\": 455}, {\"Accuracy\": 0.13, \"recording_name\": \"drift_8x_B_2B\", \"snr\": 22.998242685536617, \"unit_id\": 456}, {\"Accuracy\": 0.0, \"recording_name\": \"drift_8x_B_2B\", \"snr\": 4.124470158646812, \"unit_id\": 457}, {\"Accuracy\": 0.0, \"recording_name\": \"drift_8x_B_2B\", \"snr\": 6.576286150420336, \"unit_id\": 473}, {\"Accuracy\": 0.0, \"recording_name\": \"drift_8x_B_2B\", \"snr\": 10.647911397998602, \"unit_id\": 486}, {\"Accuracy\": 0.01, \"recording_name\": \"drift_8x_B_2B\", \"snr\": 9.061320122714417, \"unit_id\": 487}, {\"Accuracy\": 0.02, \"recording_name\": \"drift_8x_B_2B\", \"snr\": 14.740426728482225, \"unit_id\": 490}, {\"Accuracy\": 0.15, \"recording_name\": \"drift_8x_B_2B\", \"snr\": 20.023716298051184, \"unit_id\": 504}, {\"Accuracy\": 0.0, \"recording_name\": \"drift_8x_B_2B\", \"snr\": 6.121169003919454, \"unit_id\": 519}, {\"Accuracy\": 0.0, \"recording_name\": \"drift_8x_B_2B\", \"snr\": 7.554450886065348, \"unit_id\": 531}, {\"Accuracy\": 0.0, \"recording_name\": \"drift_8x_B_2B\", \"snr\": 2.8499390366777644, \"unit_id\": 549}, {\"Accuracy\": 0.0, \"recording_name\": \"drift_8x_B_2B\", \"snr\": 13.408758422185585, \"unit_id\": 550}, {\"Accuracy\": 0.0, \"recording_name\": \"drift_8x_B_2B\", \"snr\": 5.085903604580574, \"unit_id\": 552}, {\"Accuracy\": 0.0, \"recording_name\": \"drift_8x_B_2B\", \"snr\": 10.551074882739414, \"unit_id\": 563}, {\"Accuracy\": 0.01, \"recording_name\": \"drift_8x_B_2B\", \"snr\": 13.559390782435127, \"unit_id\": 567}, {\"Accuracy\": 0.02, \"recording_name\": \"drift_8x_B_2B\", \"snr\": 14.431448906344151, \"unit_id\": 570}, {\"Accuracy\": 0.01, \"recording_name\": \"drift_8x_B_2B\", \"snr\": 12.408057185506884, \"unit_id\": 572}, {\"Accuracy\": 0.0, \"recording_name\": \"drift_8x_B_2B\", \"snr\": 4.7557232887671, \"unit_id\": 575}, {\"Accuracy\": 0.0, \"recording_name\": \"drift_8x_B_2B\", \"snr\": 8.002898257011669, \"unit_id\": 585}, {\"Accuracy\": 0.0, \"recording_name\": \"drift_8x_B_2B\", \"snr\": 5.707644124957076, \"unit_id\": 595}, {\"Accuracy\": 0.0, \"recording_name\": \"drift_8x_B_2B\", \"snr\": 5.885192926726047, \"unit_id\": 596}, {\"Accuracy\": 0.0, \"recording_name\": \"drift_8x_B_2B\", \"snr\": 3.907739945716971, \"unit_id\": 635}, {\"Accuracy\": 0.0, \"recording_name\": \"drift_8x_B_2B\", \"snr\": 14.80424267778364, \"unit_id\": 641}, {\"Accuracy\": 0.01, \"recording_name\": \"drift_8x_B_2B\", \"snr\": 5.879840259220351, \"unit_id\": 676}, {\"Accuracy\": 0.0, \"recording_name\": \"drift_8x_B_2B\", \"snr\": 4.047280741012857, \"unit_id\": 697}, {\"Accuracy\": 0.3, \"recording_name\": \"drift_8x_B_2B\", \"snr\": 14.04314271268849, \"unit_id\": 701}, {\"Accuracy\": 0.0, \"recording_name\": \"drift_8x_B_2B\", \"snr\": 10.090131166429572, \"unit_id\": 703}, {\"Accuracy\": 0.0, \"recording_name\": \"drift_8x_B_4A\", \"snr\": 3.1274444065246385, \"unit_id\": 1}, {\"Accuracy\": 0.0, \"recording_name\": \"drift_8x_B_4A\", \"snr\": 3.779952856278644, \"unit_id\": 3}, {\"Accuracy\": 0.97, \"recording_name\": \"drift_8x_B_4A\", \"snr\": 54.705483102792655, \"unit_id\": 4}, {\"Accuracy\": 0.32, \"recording_name\": \"drift_8x_B_4A\", \"snr\": 24.891812532186215, \"unit_id\": 6}, {\"Accuracy\": 0.0, \"recording_name\": \"drift_8x_B_4A\", \"snr\": 4.187521160418544, \"unit_id\": 21}, {\"Accuracy\": 0.38, \"recording_name\": \"drift_8x_B_4A\", \"snr\": 12.218066054762659, \"unit_id\": 26}, {\"Accuracy\": 0.0, \"recording_name\": \"drift_8x_B_4A\", \"snr\": 2.536958473950257, \"unit_id\": 28}, {\"Accuracy\": 0.0, \"recording_name\": \"drift_8x_B_4A\", \"snr\": 3.6374784114941554, \"unit_id\": 46}, {\"Accuracy\": 0.94, \"recording_name\": \"drift_8x_B_4A\", \"snr\": 24.485308099006602, \"unit_id\": 50}, {\"Accuracy\": 0.0, \"recording_name\": \"drift_8x_B_4A\", \"snr\": 2.9483514913061826, \"unit_id\": 76}, {\"Accuracy\": 0.0, \"recording_name\": \"drift_8x_B_4A\", \"snr\": 3.2232210478922854, \"unit_id\": 84}, {\"Accuracy\": 0.0, \"recording_name\": \"drift_8x_B_4A\", \"snr\": 4.871538298095575, \"unit_id\": 85}, {\"Accuracy\": 0.04, \"recording_name\": \"drift_8x_B_4A\", \"snr\": 8.59084546633702, \"unit_id\": 101}, {\"Accuracy\": 0.5, \"recording_name\": \"drift_8x_B_4A\", \"snr\": 37.622710988764716, \"unit_id\": 104}, {\"Accuracy\": 0.0, \"recording_name\": \"drift_8x_B_4A\", \"snr\": 11.9854106169484, \"unit_id\": 105}, {\"Accuracy\": 0.0, \"recording_name\": \"drift_8x_B_4A\", \"snr\": 5.99152488274764, \"unit_id\": 114}, {\"Accuracy\": 0.0, \"recording_name\": \"drift_8x_B_4A\", \"snr\": 6.971149377665138, \"unit_id\": 120}, {\"Accuracy\": 0.0, \"recording_name\": \"drift_8x_B_4A\", \"snr\": 6.684298606732145, \"unit_id\": 125}, {\"Accuracy\": 0.05, \"recording_name\": \"drift_8x_B_4A\", \"snr\": 13.934267731261123, \"unit_id\": 132}, {\"Accuracy\": 0.01, \"recording_name\": \"drift_8x_B_4A\", \"snr\": 12.236331593139463, \"unit_id\": 135}, {\"Accuracy\": 0.01, \"recording_name\": \"drift_8x_B_4A\", \"snr\": 15.168966403685719, \"unit_id\": 143}, {\"Accuracy\": 0.0, \"recording_name\": \"drift_8x_B_4A\", \"snr\": 5.588987544149273, \"unit_id\": 148}, {\"Accuracy\": 0.0, \"recording_name\": \"drift_8x_B_4A\", \"snr\": 6.79497012550928, \"unit_id\": 163}, {\"Accuracy\": 0.01, \"recording_name\": \"drift_8x_B_4A\", \"snr\": 4.42300821664248, \"unit_id\": 170}, {\"Accuracy\": 0.01, \"recording_name\": \"drift_8x_B_4A\", \"snr\": 12.109418389520735, \"unit_id\": 176}, {\"Accuracy\": 0.52, \"recording_name\": \"drift_8x_B_4A\", \"snr\": 39.18500580095266, \"unit_id\": 186}, {\"Accuracy\": 0.01, \"recording_name\": \"drift_8x_B_4A\", \"snr\": 10.079243110830992, \"unit_id\": 188}, {\"Accuracy\": 0.0, \"recording_name\": \"drift_8x_B_4A\", \"snr\": 4.278666588441932, \"unit_id\": 195}, {\"Accuracy\": 0.0, \"recording_name\": \"drift_8x_B_4A\", \"snr\": 3.2655344806555155, \"unit_id\": 196}, {\"Accuracy\": 0.01, \"recording_name\": \"drift_8x_B_4A\", \"snr\": 5.42689579658597, \"unit_id\": 204}, {\"Accuracy\": 0.46, \"recording_name\": \"drift_8x_B_4A\", \"snr\": 27.281249849835856, \"unit_id\": 206}, {\"Accuracy\": 0.01, \"recording_name\": \"drift_8x_B_4A\", \"snr\": 5.749981323738119, \"unit_id\": 213}, {\"Accuracy\": 0.01, \"recording_name\": \"drift_8x_B_4A\", \"snr\": 10.909323700694866, \"unit_id\": 222}, {\"Accuracy\": 0.0, \"recording_name\": \"drift_8x_B_4A\", \"snr\": 2.8700834067937415, \"unit_id\": 229}, {\"Accuracy\": 0.01, \"recording_name\": \"drift_8x_B_4A\", \"snr\": 9.38543391322158, \"unit_id\": 230}, {\"Accuracy\": 0.01, \"recording_name\": \"drift_8x_B_4A\", \"snr\": 10.645939229232491, \"unit_id\": 233}, {\"Accuracy\": 0.3, \"recording_name\": \"drift_8x_B_4A\", \"snr\": 18.9452528262313, \"unit_id\": 234}, {\"Accuracy\": 0.01, \"recording_name\": \"drift_8x_B_4A\", \"snr\": 3.7873299900761923, \"unit_id\": 243}, {\"Accuracy\": 0.25, \"recording_name\": \"drift_8x_B_4A\", \"snr\": 13.785119241810735, \"unit_id\": 245}, {\"Accuracy\": 0.45, \"recording_name\": \"drift_8x_B_4A\", \"snr\": 16.054694688611132, \"unit_id\": 247}, {\"Accuracy\": 0.97, \"recording_name\": \"drift_8x_B_4A\", \"snr\": 47.29932181398932, \"unit_id\": 253}, {\"Accuracy\": 0.94, \"recording_name\": \"drift_8x_B_4A\", \"snr\": 28.370957074910514, \"unit_id\": 258}, {\"Accuracy\": 0.0, \"recording_name\": \"drift_8x_B_4A\", \"snr\": 5.0806901080100895, \"unit_id\": 268}, {\"Accuracy\": 0.97, \"recording_name\": \"drift_8x_B_4A\", \"snr\": 29.370310215656524, \"unit_id\": 275}, {\"Accuracy\": 0.0, \"recording_name\": \"drift_8x_B_4A\", \"snr\": 4.561193270689433, \"unit_id\": 286}, {\"Accuracy\": 0.0, \"recording_name\": \"drift_8x_B_4A\", \"snr\": 8.091853107067495, \"unit_id\": 345}, {\"Accuracy\": 0.0, \"recording_name\": \"drift_8x_B_4A\", \"snr\": 3.0610578917365063, \"unit_id\": 349}, {\"Accuracy\": 0.0, \"recording_name\": \"drift_8x_B_4A\", \"snr\": 11.1819488218019, \"unit_id\": 354}, {\"Accuracy\": 0.99, \"recording_name\": \"drift_8x_B_4A\", \"snr\": 79.74752498252985, \"unit_id\": 391}, {\"Accuracy\": 0.97, \"recording_name\": \"drift_8x_B_4A\", \"snr\": 29.93115867662056, \"unit_id\": 393}, {\"Accuracy\": 0.0, \"recording_name\": \"drift_8x_B_4A\", \"snr\": 6.65786237095364, \"unit_id\": 397}, {\"Accuracy\": 0.0, \"recording_name\": \"drift_8x_B_4A\", \"snr\": 4.133073526301852, \"unit_id\": 404}, {\"Accuracy\": 0.01, \"recording_name\": \"drift_8x_B_4A\", \"snr\": 5.794588525935839, \"unit_id\": 409}, {\"Accuracy\": 0.0, \"recording_name\": \"drift_8x_B_4A\", \"snr\": 3.03863510965843, \"unit_id\": 410}, {\"Accuracy\": 0.68, \"recording_name\": \"drift_8x_B_4A\", \"snr\": 50.08104228343452, \"unit_id\": 417}, {\"Accuracy\": 0.0, \"recording_name\": \"drift_8x_B_4A\", \"snr\": 4.003098808514129, \"unit_id\": 432}, {\"Accuracy\": 0.86, \"recording_name\": \"drift_8x_B_4A\", \"snr\": 30.31844734215384, \"unit_id\": 443}, {\"Accuracy\": 0.0, \"recording_name\": \"drift_8x_B_4A\", \"snr\": 7.81539994864211, \"unit_id\": 455}, {\"Accuracy\": 0.77, \"recording_name\": \"drift_8x_B_4A\", \"snr\": 20.760917687045875, \"unit_id\": 456}, {\"Accuracy\": 0.0, \"recording_name\": \"drift_8x_B_4A\", \"snr\": 5.085414271798008, \"unit_id\": 457}, {\"Accuracy\": 0.01, \"recording_name\": \"drift_8x_B_4A\", \"snr\": 9.518346719383073, \"unit_id\": 467}, {\"Accuracy\": 0.01, \"recording_name\": \"drift_8x_B_4A\", \"snr\": 6.773519757756481, \"unit_id\": 473}, {\"Accuracy\": 0.0, \"recording_name\": \"drift_8x_B_4A\", \"snr\": 11.516392108114463, \"unit_id\": 487}, {\"Accuracy\": 0.51, \"recording_name\": \"drift_8x_B_4A\", \"snr\": 23.012987862288107, \"unit_id\": 490}, {\"Accuracy\": 0.25, \"recording_name\": \"drift_8x_B_4A\", \"snr\": 19.86681683008083, \"unit_id\": 504}, {\"Accuracy\": 0.0, \"recording_name\": \"drift_8x_B_4A\", \"snr\": 11.527010390625383, \"unit_id\": 531}, {\"Accuracy\": 0.0, \"recording_name\": \"drift_8x_B_4A\", \"snr\": 3.9102178040829716, \"unit_id\": 547}, {\"Accuracy\": 0.0, \"recording_name\": \"drift_8x_B_4A\", \"snr\": 3.033921883385227, \"unit_id\": 549}, {\"Accuracy\": 0.84, \"recording_name\": \"drift_8x_B_4A\", \"snr\": 25.109699033712687, \"unit_id\": 550}, {\"Accuracy\": 0.0, \"recording_name\": \"drift_8x_B_4A\", \"snr\": 5.482380350219853, \"unit_id\": 552}, {\"Accuracy\": 0.0, \"recording_name\": \"drift_8x_B_4A\", \"snr\": 10.574481998853363, \"unit_id\": 563}, {\"Accuracy\": 0.0, \"recording_name\": \"drift_8x_B_4A\", \"snr\": 11.650969115986511, \"unit_id\": 567}, {\"Accuracy\": 0.71, \"recording_name\": \"drift_8x_B_4A\", \"snr\": 21.939478178032683, \"unit_id\": 570}, {\"Accuracy\": 0.0, \"recording_name\": \"drift_8x_B_4A\", \"snr\": 9.95606155125929, \"unit_id\": 572}, {\"Accuracy\": 0.0, \"recording_name\": \"drift_8x_B_4A\", \"snr\": 3.5834021651951513, \"unit_id\": 575}, {\"Accuracy\": 0.0, \"recording_name\": \"drift_8x_B_4A\", \"snr\": 7.80266912668121, \"unit_id\": 585}, {\"Accuracy\": 0.0, \"recording_name\": \"drift_8x_B_4A\", \"snr\": 5.707644124957076, \"unit_id\": 595}, {\"Accuracy\": 0.01, \"recording_name\": \"drift_8x_B_4A\", \"snr\": 3.4103908055124887, \"unit_id\": 635}, {\"Accuracy\": 0.0, \"recording_name\": \"drift_8x_B_4A\", \"snr\": 4.365023358555727, \"unit_id\": 640}, {\"Accuracy\": 0.12, \"recording_name\": \"drift_8x_B_4A\", \"snr\": 21.858176822236118, \"unit_id\": 641}, {\"Accuracy\": 0.01, \"recording_name\": \"drift_8x_B_4A\", \"snr\": 5.710670406189657, \"unit_id\": 676}, {\"Accuracy\": 0.01, \"recording_name\": \"drift_8x_B_4A\", \"snr\": 5.114639457000997, \"unit_id\": 688}, {\"Accuracy\": 0.0, \"recording_name\": \"drift_8x_B_4A\", \"snr\": 4.594253319808791, \"unit_id\": 697}, {\"Accuracy\": 0.02, \"recording_name\": \"drift_8x_B_4A\", \"snr\": 12.853173662598792, \"unit_id\": 701}, {\"Accuracy\": 0.68, \"recording_name\": \"drift_8x_B_4A\", \"snr\": 17.97971820419664, \"unit_id\": 703}, {\"Accuracy\": 0.0, \"recording_name\": \"drift_8x_B_4B\", \"snr\": 3.5124172084054575, \"unit_id\": 1}, {\"Accuracy\": 0.0, \"recording_name\": \"drift_8x_B_4B\", \"snr\": 3.869504882619008, \"unit_id\": 3}, {\"Accuracy\": 0.94, \"recording_name\": \"drift_8x_B_4B\", \"snr\": 25.493453375148682, \"unit_id\": 4}, {\"Accuracy\": 0.87, \"recording_name\": \"drift_8x_B_4B\", \"snr\": 30.864377255129888, \"unit_id\": 6}, {\"Accuracy\": 0.0, \"recording_name\": \"drift_8x_B_4B\", \"snr\": 4.753460846019731, \"unit_id\": 21}, {\"Accuracy\": 0.01, \"recording_name\": \"drift_8x_B_4B\", \"snr\": 12.751288224154072, \"unit_id\": 26}, {\"Accuracy\": 0.0, \"recording_name\": \"drift_8x_B_4B\", \"snr\": 2.281664031479804, \"unit_id\": 28}, {\"Accuracy\": 0.01, \"recording_name\": \"drift_8x_B_4B\", \"snr\": 19.723265071910063, \"unit_id\": 44}, {\"Accuracy\": 0.0, \"recording_name\": \"drift_8x_B_4B\", \"snr\": 3.28065607652469, \"unit_id\": 46}, {\"Accuracy\": 0.89, \"recording_name\": \"drift_8x_B_4B\", \"snr\": 34.9359596007805, \"unit_id\": 50}, {\"Accuracy\": 0.0, \"recording_name\": \"drift_8x_B_4B\", \"snr\": 4.028273193441391, \"unit_id\": 84}, {\"Accuracy\": 0.0, \"recording_name\": \"drift_8x_B_4B\", \"snr\": 4.821602859439438, \"unit_id\": 85}, {\"Accuracy\": 0.0, \"recording_name\": \"drift_8x_B_4B\", \"snr\": 5.542446426255993, \"unit_id\": 96}, {\"Accuracy\": 0.0, \"recording_name\": \"drift_8x_B_4B\", \"snr\": 9.105325883516665, \"unit_id\": 101}, {\"Accuracy\": 0.27, \"recording_name\": \"drift_8x_B_4B\", \"snr\": 32.32773078730335, \"unit_id\": 104}, {\"Accuracy\": 0.0, \"recording_name\": \"drift_8x_B_4B\", \"snr\": 10.978103789281036, \"unit_id\": 105}, {\"Accuracy\": 0.0, \"recording_name\": \"drift_8x_B_4B\", \"snr\": 5.8744899800195745, \"unit_id\": 114}, {\"Accuracy\": 0.0, \"recording_name\": \"drift_8x_B_4B\", \"snr\": 6.812395067641358, \"unit_id\": 120}, {\"Accuracy\": 0.0, \"recording_name\": \"drift_8x_B_4B\", \"snr\": 6.444957130047263, \"unit_id\": 125}, {\"Accuracy\": 0.06, \"recording_name\": \"drift_8x_B_4B\", \"snr\": 13.027544420282025, \"unit_id\": 135}, {\"Accuracy\": 0.01, \"recording_name\": \"drift_8x_B_4B\", \"snr\": 16.048016802988183, \"unit_id\": 143}, {\"Accuracy\": 0.0, \"recording_name\": \"drift_8x_B_4B\", \"snr\": 6.151185138825487, \"unit_id\": 148}, {\"Accuracy\": 0.0, \"recording_name\": \"drift_8x_B_4B\", \"snr\": 7.038761049722381, \"unit_id\": 163}, {\"Accuracy\": 0.01, \"recording_name\": \"drift_8x_B_4B\", \"snr\": 4.247581897845019, \"unit_id\": 170}, {\"Accuracy\": 0.01, \"recording_name\": \"drift_8x_B_4B\", \"snr\": 5.028628925770987, \"unit_id\": 171}, {\"Accuracy\": 0.0, \"recording_name\": \"drift_8x_B_4B\", \"snr\": 13.592257470590676, \"unit_id\": 176}, {\"Accuracy\": 0.53, \"recording_name\": \"drift_8x_B_4B\", \"snr\": 45.729689700587066, \"unit_id\": 186}, {\"Accuracy\": 0.01, \"recording_name\": \"drift_8x_B_4B\", \"snr\": 11.38844941637631, \"unit_id\": 188}, {\"Accuracy\": 0.0, \"recording_name\": \"drift_8x_B_4B\", \"snr\": 3.9835899992467976, \"unit_id\": 195}, {\"Accuracy\": 0.0, \"recording_name\": \"drift_8x_B_4B\", \"snr\": 7.012964842683048, \"unit_id\": 200}, {\"Accuracy\": 0.01, \"recording_name\": \"drift_8x_B_4B\", \"snr\": 6.162202890531023, \"unit_id\": 204}, {\"Accuracy\": 0.45, \"recording_name\": \"drift_8x_B_4B\", \"snr\": 24.906972266017263, \"unit_id\": 206}, {\"Accuracy\": 0.01, \"recording_name\": \"drift_8x_B_4B\", \"snr\": 5.51341921796706, \"unit_id\": 213}, {\"Accuracy\": 0.01, \"recording_name\": \"drift_8x_B_4B\", \"snr\": 12.182009165238808, \"unit_id\": 222}, {\"Accuracy\": 0.0, \"recording_name\": \"drift_8x_B_4B\", \"snr\": 3.956676160862783, \"unit_id\": 229}, {\"Accuracy\": 0.01, \"recording_name\": \"drift_8x_B_4B\", \"snr\": 9.124289424501898, \"unit_id\": 230}, {\"Accuracy\": 0.01, \"recording_name\": \"drift_8x_B_4B\", \"snr\": 10.485941320199956, \"unit_id\": 233}, {\"Accuracy\": 0.0, \"recording_name\": \"drift_8x_B_4B\", \"snr\": 19.970224401169183, \"unit_id\": 234}, {\"Accuracy\": 0.52, \"recording_name\": \"drift_8x_B_4B\", \"snr\": 61.34523683165552, \"unit_id\": 242}, {\"Accuracy\": 0.01, \"recording_name\": \"drift_8x_B_4B\", \"snr\": 2.860025531486827, \"unit_id\": 243}, {\"Accuracy\": 0.0, \"recording_name\": \"drift_8x_B_4B\", \"snr\": 17.62410491398522, \"unit_id\": 247}, {\"Accuracy\": 0.22, \"recording_name\": \"drift_8x_B_4B\", \"snr\": 34.07900800182578, \"unit_id\": 253}, {\"Accuracy\": 0.94, \"recording_name\": \"drift_8x_B_4B\", \"snr\": 29.139558523105332, \"unit_id\": 258}, {\"Accuracy\": 0.79, \"recording_name\": \"drift_8x_B_4B\", \"snr\": 51.92794753778085, \"unit_id\": 275}, {\"Accuracy\": 0.0, \"recording_name\": \"drift_8x_B_4B\", \"snr\": 4.675411249338688, \"unit_id\": 286}, {\"Accuracy\": 0.0, \"recording_name\": \"drift_8x_B_4B\", \"snr\": 3.005232405141055, \"unit_id\": 305}, {\"Accuracy\": 0.0, \"recording_name\": \"drift_8x_B_4B\", \"snr\": 6.0216291839066995, \"unit_id\": 314}, {\"Accuracy\": 0.0, \"recording_name\": \"drift_8x_B_4B\", \"snr\": 4.594293023935744, \"unit_id\": 324}, {\"Accuracy\": 0.01, \"recording_name\": \"drift_8x_B_4B\", \"snr\": 8.956216561772917, \"unit_id\": 345}, {\"Accuracy\": 0.0, \"recording_name\": \"drift_8x_B_4B\", \"snr\": 3.4901446606357442, \"unit_id\": 349}, {\"Accuracy\": 0.01, \"recording_name\": \"drift_8x_B_4B\", \"snr\": 10.781182026249025, \"unit_id\": 354}, {\"Accuracy\": 0.0, \"recording_name\": \"drift_8x_B_4B\", \"snr\": 2.510876822574058, \"unit_id\": 364}, {\"Accuracy\": 0.99, \"recording_name\": \"drift_8x_B_4B\", \"snr\": 72.0676615424755, \"unit_id\": 391}, {\"Accuracy\": 0.92, \"recording_name\": \"drift_8x_B_4B\", \"snr\": 38.992429016551284, \"unit_id\": 393}, {\"Accuracy\": 0.0, \"recording_name\": \"drift_8x_B_4B\", \"snr\": 7.549739240923015, \"unit_id\": 397}, {\"Accuracy\": 0.0, \"recording_name\": \"drift_8x_B_4B\", \"snr\": 4.14663789563724, \"unit_id\": 404}, {\"Accuracy\": 0.01, \"recording_name\": \"drift_8x_B_4B\", \"snr\": 6.387765459446237, \"unit_id\": 409}, {\"Accuracy\": 0.0, \"recording_name\": \"drift_8x_B_4B\", \"snr\": 3.3770962844849004, \"unit_id\": 410}, {\"Accuracy\": 0.97, \"recording_name\": \"drift_8x_B_4B\", \"snr\": 40.697544055836005, \"unit_id\": 417}, {\"Accuracy\": 0.0, \"recording_name\": \"drift_8x_B_4B\", \"snr\": 3.1400904196591615, \"unit_id\": 418}, {\"Accuracy\": 0.86, \"recording_name\": \"drift_8x_B_4B\", \"snr\": 29.072874152022997, \"unit_id\": 443}, {\"Accuracy\": 0.0, \"recording_name\": \"drift_8x_B_4B\", \"snr\": 8.686972520502504, \"unit_id\": 455}, {\"Accuracy\": 0.16, \"recording_name\": \"drift_8x_B_4B\", \"snr\": 21.677016595165046, \"unit_id\": 456}, {\"Accuracy\": 0.0, \"recording_name\": \"drift_8x_B_4B\", \"snr\": 5.053254546808655, \"unit_id\": 457}, {\"Accuracy\": 0.01, \"recording_name\": \"drift_8x_B_4B\", \"snr\": 6.89141197576842, \"unit_id\": 473}, {\"Accuracy\": 0.01, \"recording_name\": \"drift_8x_B_4B\", \"snr\": 10.886822225890459, \"unit_id\": 486}, {\"Accuracy\": 0.01, \"recording_name\": \"drift_8x_B_4B\", \"snr\": 10.179859960354701, \"unit_id\": 487}, {\"Accuracy\": 0.75, \"recording_name\": \"drift_8x_B_4B\", \"snr\": 25.423710254954074, \"unit_id\": 490}, {\"Accuracy\": 0.0, \"recording_name\": \"drift_8x_B_4B\", \"snr\": 7.795417363997657, \"unit_id\": 519}, {\"Accuracy\": 0.0, \"recording_name\": \"drift_8x_B_4B\", \"snr\": 12.34175017651994, \"unit_id\": 531}, {\"Accuracy\": 0.0, \"recording_name\": \"drift_8x_B_4B\", \"snr\": 4.2765289450149275, \"unit_id\": 547}, {\"Accuracy\": 0.0, \"recording_name\": \"drift_8x_B_4B\", \"snr\": 3.0799071084673533, \"unit_id\": 549}, {\"Accuracy\": 0.43, \"recording_name\": \"drift_8x_B_4B\", \"snr\": 25.453036849485375, \"unit_id\": 550}, {\"Accuracy\": 0.0, \"recording_name\": \"drift_8x_B_4B\", \"snr\": 5.967317895783347, \"unit_id\": 552}, {\"Accuracy\": 0.01, \"recording_name\": \"drift_8x_B_4B\", \"snr\": 9.648293718691258, \"unit_id\": 563}, {\"Accuracy\": 0.45, \"recording_name\": \"drift_8x_B_4B\", \"snr\": 13.69416238857314, \"unit_id\": 567}, {\"Accuracy\": 0.42, \"recording_name\": \"drift_8x_B_4B\", \"snr\": 25.688491574178876, \"unit_id\": 570}, {\"Accuracy\": 0.03, \"recording_name\": \"drift_8x_B_4B\", \"snr\": 12.58618905690262, \"unit_id\": 572}, {\"Accuracy\": 0.0, \"recording_name\": \"drift_8x_B_4B\", \"snr\": 4.470519273241243, \"unit_id\": 575}, {\"Accuracy\": 0.0, \"recording_name\": \"drift_8x_B_4B\", \"snr\": 7.251723477849803, \"unit_id\": 585}, {\"Accuracy\": 0.0, \"recording_name\": \"drift_8x_B_4B\", \"snr\": 5.57505044468582, \"unit_id\": 595}, {\"Accuracy\": 0.01, \"recording_name\": \"drift_8x_B_4B\", \"snr\": 3.0755399412198927, \"unit_id\": 615}, {\"Accuracy\": 0.0, \"recording_name\": \"drift_8x_B_4B\", \"snr\": 3.8470114650082783, \"unit_id\": 629}, {\"Accuracy\": 0.01, \"recording_name\": \"drift_8x_B_4B\", \"snr\": 3.7454175189909553, \"unit_id\": 635}, {\"Accuracy\": 0.01, \"recording_name\": \"drift_8x_B_4B\", \"snr\": 14.80979705844687, \"unit_id\": 641}, {\"Accuracy\": 0.01, \"recording_name\": \"drift_8x_B_4B\", \"snr\": 5.2401458090685615, \"unit_id\": 676}, {\"Accuracy\": 0.01, \"recording_name\": \"drift_8x_B_4B\", \"snr\": 6.701978955989522, \"unit_id\": 688}, {\"Accuracy\": 0.96, \"recording_name\": \"drift_8x_B_4B\", \"snr\": 34.49113164227105, \"unit_id\": 696}, {\"Accuracy\": 0.0, \"recording_name\": \"drift_8x_B_4B\", \"snr\": 5.403500042780891, \"unit_id\": 697}, {\"Accuracy\": 0.16, \"recording_name\": \"drift_8x_B_4B\", \"snr\": 14.290727692688009, \"unit_id\": 701}, {\"Accuracy\": 0.01, \"recording_name\": \"drift_8x_B_4B\", \"snr\": 19.256501733322086, \"unit_id\": 703}, {\"Accuracy\": 0.0, \"recording_name\": \"drift_8x_C_2A\", \"snr\": 3.036188480454814, \"unit_id\": 1}, {\"Accuracy\": 0.0, \"recording_name\": \"drift_8x_C_2A\", \"snr\": 3.390547168505909, \"unit_id\": 3}, {\"Accuracy\": 0.59, \"recording_name\": \"drift_8x_C_2A\", \"snr\": 55.6896015867369, \"unit_id\": 4}, {\"Accuracy\": 0.41, \"recording_name\": \"drift_8x_C_2A\", \"snr\": 28.661746714638564, \"unit_id\": 6}, {\"Accuracy\": 0.0, \"recording_name\": \"drift_8x_C_2A\", \"snr\": 4.463212667506956, \"unit_id\": 21}, {\"Accuracy\": 0.01, \"recording_name\": \"drift_8x_C_2A\", \"snr\": 13.237447577450778, \"unit_id\": 26}, {\"Accuracy\": 0.0, \"recording_name\": \"drift_8x_C_2A\", \"snr\": 2.9882752447231398, \"unit_id\": 28}, {\"Accuracy\": 0.0, \"recording_name\": \"drift_8x_C_2A\", \"snr\": 2.4100091721948056, \"unit_id\": 42}, {\"Accuracy\": 0.0, \"recording_name\": \"drift_8x_C_2A\", \"snr\": 3.4387374874951804, \"unit_id\": 46}, {\"Accuracy\": 0.95, \"recording_name\": \"drift_8x_C_2A\", \"snr\": 34.23365566333443, \"unit_id\": 50}, {\"Accuracy\": 0.0, \"recording_name\": \"drift_8x_C_2A\", \"snr\": 2.478918546851113, \"unit_id\": 61}, {\"Accuracy\": 0.0, \"recording_name\": \"drift_8x_C_2A\", \"snr\": 8.00513098004378, \"unit_id\": 74}, {\"Accuracy\": 0.0, \"recording_name\": \"drift_8x_C_2A\", \"snr\": 3.1898359687980222, \"unit_id\": 76}, {\"Accuracy\": 0.0, \"recording_name\": \"drift_8x_C_2A\", \"snr\": 2.723219179930502, \"unit_id\": 84}, {\"Accuracy\": 0.0, \"recording_name\": \"drift_8x_C_2A\", \"snr\": 4.4496053782098, \"unit_id\": 85}, {\"Accuracy\": 0.0, \"recording_name\": \"drift_8x_C_2A\", \"snr\": 8.639784537870295, \"unit_id\": 101}, {\"Accuracy\": 0.5, \"recording_name\": \"drift_8x_C_2A\", \"snr\": 38.50193952595641, \"unit_id\": 104}, {\"Accuracy\": 0.02, \"recording_name\": \"drift_8x_C_2A\", \"snr\": 12.694565355608612, \"unit_id\": 105}, {\"Accuracy\": 0.0, \"recording_name\": \"drift_8x_C_2A\", \"snr\": 6.053662183939043, \"unit_id\": 114}, {\"Accuracy\": 0.0, \"recording_name\": \"drift_8x_C_2A\", \"snr\": 7.143820596672259, \"unit_id\": 120}, {\"Accuracy\": 0.0, \"recording_name\": \"drift_8x_C_2A\", \"snr\": 5.397862971344923, \"unit_id\": 125}, {\"Accuracy\": 0.01, \"recording_name\": \"drift_8x_C_2A\", \"snr\": 9.621854980856563, \"unit_id\": 132}, {\"Accuracy\": 0.0, \"recording_name\": \"drift_8x_C_2A\", \"snr\": 10.319394833660407, \"unit_id\": 135}, {\"Accuracy\": 0.01, \"recording_name\": \"drift_8x_C_2A\", \"snr\": 10.851706628481917, \"unit_id\": 143}, {\"Accuracy\": 0.0, \"recording_name\": \"drift_8x_C_2A\", \"snr\": 6.0929232783630365, \"unit_id\": 148}, {\"Accuracy\": 0.0, \"recording_name\": \"drift_8x_C_2A\", \"snr\": 7.292078886828547, \"unit_id\": 163}, {\"Accuracy\": 0.0, \"recording_name\": \"drift_8x_C_2A\", \"snr\": 4.8079444738233965, \"unit_id\": 165}, {\"Accuracy\": 0.01, \"recording_name\": \"drift_8x_C_2A\", \"snr\": 4.361522074457347, \"unit_id\": 170}, {\"Accuracy\": 0.0, \"recording_name\": \"drift_8x_C_2A\", \"snr\": 4.213943334137076, \"unit_id\": 171}, {\"Accuracy\": 0.01, \"recording_name\": \"drift_8x_C_2A\", \"snr\": 12.6616468009401, \"unit_id\": 176}, {\"Accuracy\": 0.49, \"recording_name\": \"drift_8x_C_2A\", \"snr\": 25.279966357061706, \"unit_id\": 186}, {\"Accuracy\": 0.01, \"recording_name\": \"drift_8x_C_2A\", \"snr\": 11.068952829326205, \"unit_id\": 188}, {\"Accuracy\": 0.0, \"recording_name\": \"drift_8x_C_2A\", \"snr\": 4.547807475499707, \"unit_id\": 195}, {\"Accuracy\": 0.0, \"recording_name\": \"drift_8x_C_2A\", \"snr\": 3.9824229109291736, \"unit_id\": 196}, {\"Accuracy\": 0.0, \"recording_name\": \"drift_8x_C_2A\", \"snr\": 7.151767467722708, \"unit_id\": 200}, {\"Accuracy\": 0.0, \"recording_name\": \"drift_8x_C_2A\", \"snr\": 3.822252321126589, \"unit_id\": 204}, {\"Accuracy\": 0.15, \"recording_name\": \"drift_8x_C_2A\", \"snr\": 21.871911088388234, \"unit_id\": 206}, {\"Accuracy\": 0.01, \"recording_name\": \"drift_8x_C_2A\", \"snr\": 6.038968368747657, \"unit_id\": 213}, {\"Accuracy\": 0.01, \"recording_name\": \"drift_8x_C_2A\", \"snr\": 8.392674943282296, \"unit_id\": 222}, {\"Accuracy\": 0.01, \"recording_name\": \"drift_8x_C_2A\", \"snr\": 9.18168350556545, \"unit_id\": 230}, {\"Accuracy\": 0.0, \"recording_name\": \"drift_8x_C_2A\", \"snr\": 6.782869196057219, \"unit_id\": 233}, {\"Accuracy\": 0.01, \"recording_name\": \"drift_8x_C_2A\", \"snr\": 18.555521444319346, \"unit_id\": 234}, {\"Accuracy\": 0.01, \"recording_name\": \"drift_8x_C_2A\", \"snr\": 3.0169733213026073, \"unit_id\": 243}, {\"Accuracy\": 0.01, \"recording_name\": \"drift_8x_C_2A\", \"snr\": 8.521218510594881, \"unit_id\": 245}, {\"Accuracy\": 0.39, \"recording_name\": \"drift_8x_C_2A\", \"snr\": 16.25474057932752, \"unit_id\": 247}, {\"Accuracy\": 0.57, \"recording_name\": \"drift_8x_C_2A\", \"snr\": 23.33767856007026, \"unit_id\": 253}, {\"Accuracy\": 0.9, \"recording_name\": \"drift_8x_C_2A\", \"snr\": 29.383526709517774, \"unit_id\": 258}, {\"Accuracy\": 0.01, \"recording_name\": \"drift_8x_C_2A\", \"snr\": 11.921273834331343, \"unit_id\": 275}, {\"Accuracy\": 0.0, \"recording_name\": \"drift_8x_C_2A\", \"snr\": 3.496665629249099, \"unit_id\": 286}, {\"Accuracy\": 0.0, \"recording_name\": \"drift_8x_C_2A\", \"snr\": 8.17464138681751, \"unit_id\": 345}, {\"Accuracy\": 0.01, \"recording_name\": \"drift_8x_C_2A\", \"snr\": 8.120243732559539, \"unit_id\": 354}, {\"Accuracy\": 0.0, \"recording_name\": \"drift_8x_C_2A\", \"snr\": 2.8968890566571233, \"unit_id\": 377}, {\"Accuracy\": 0.99, \"recording_name\": \"drift_8x_C_2A\", \"snr\": 70.31009118526579, \"unit_id\": 391}, {\"Accuracy\": 0.97, \"recording_name\": \"drift_8x_C_2A\", \"snr\": 36.40572847534155, \"unit_id\": 393}, {\"Accuracy\": 0.0, \"recording_name\": \"drift_8x_C_2A\", \"snr\": 7.332459853045595, \"unit_id\": 397}, {\"Accuracy\": 0.0, \"recording_name\": \"drift_8x_C_2A\", \"snr\": 4.449216381720828, \"unit_id\": 409}, {\"Accuracy\": 0.0, \"recording_name\": \"drift_8x_C_2A\", \"snr\": 3.6989535079206246, \"unit_id\": 410}, {\"Accuracy\": 0.99, \"recording_name\": \"drift_8x_C_2A\", \"snr\": 49.28714063367433, \"unit_id\": 417}, {\"Accuracy\": 0.0, \"recording_name\": \"drift_8x_C_2A\", \"snr\": 4.006933287223925, \"unit_id\": 432}, {\"Accuracy\": 0.84, \"recording_name\": \"drift_8x_C_2A\", \"snr\": 30.138823914224393, \"unit_id\": 443}, {\"Accuracy\": 0.0, \"recording_name\": \"drift_8x_C_2A\", \"snr\": 8.396474504789055, \"unit_id\": 455}, {\"Accuracy\": 0.48, \"recording_name\": \"drift_8x_C_2A\", \"snr\": 22.78931602060661, \"unit_id\": 456}, {\"Accuracy\": 0.0, \"recording_name\": \"drift_8x_C_2A\", \"snr\": 5.00094082634578, \"unit_id\": 457}, {\"Accuracy\": 0.01, \"recording_name\": \"drift_8x_C_2A\", \"snr\": 6.043248563944667, \"unit_id\": 467}, {\"Accuracy\": 0.01, \"recording_name\": \"drift_8x_C_2A\", \"snr\": 7.293682326513732, \"unit_id\": 473}, {\"Accuracy\": 0.0, \"recording_name\": \"drift_8x_C_2A\", \"snr\": 1.6987878264735108, \"unit_id\": 478}, {\"Accuracy\": 0.01, \"recording_name\": \"drift_8x_C_2A\", \"snr\": 10.32345071183699, \"unit_id\": 486}, {\"Accuracy\": 0.0, \"recording_name\": \"drift_8x_C_2A\", \"snr\": 10.488204837645418, \"unit_id\": 487}, {\"Accuracy\": 0.5, \"recording_name\": \"drift_8x_C_2A\", \"snr\": 24.26476738134554, \"unit_id\": 490}, {\"Accuracy\": 0.01, \"recording_name\": \"drift_8x_C_2A\", \"snr\": 11.56326072974173, \"unit_id\": 504}, {\"Accuracy\": 0.0, \"recording_name\": \"drift_8x_C_2A\", \"snr\": 7.836649298989509, \"unit_id\": 519}, {\"Accuracy\": 0.01, \"recording_name\": \"drift_8x_C_2A\", \"snr\": 12.00558051833048, \"unit_id\": 531}, {\"Accuracy\": 0.85, \"recording_name\": \"drift_8x_C_2A\", \"snr\": 25.953145651446064, \"unit_id\": 550}, {\"Accuracy\": 0.0, \"recording_name\": \"drift_8x_C_2A\", \"snr\": 6.1591652277837055, \"unit_id\": 552}, {\"Accuracy\": 0.0, \"recording_name\": \"drift_8x_C_2A\", \"snr\": 7.929624400978488, \"unit_id\": 563}, {\"Accuracy\": 0.0, \"recording_name\": \"drift_8x_C_2A\", \"snr\": 9.704502933331176, \"unit_id\": 567}, {\"Accuracy\": 0.61, \"recording_name\": \"drift_8x_C_2A\", \"snr\": 23.892314739528977, \"unit_id\": 570}, {\"Accuracy\": 0.0, \"recording_name\": \"drift_8x_C_2A\", \"snr\": 8.434404977439625, \"unit_id\": 572}, {\"Accuracy\": 0.0, \"recording_name\": \"drift_8x_C_2A\", \"snr\": 4.152811004089127, \"unit_id\": 575}, {\"Accuracy\": 0.0, \"recording_name\": \"drift_8x_C_2A\", \"snr\": 5.302753415860736, \"unit_id\": 585}, {\"Accuracy\": 0.0, \"recording_name\": \"drift_8x_C_2A\", \"snr\": 9.571433990698772, \"unit_id\": 592}, {\"Accuracy\": 0.0, \"recording_name\": \"drift_8x_C_2A\", \"snr\": 5.7210643737112905, \"unit_id\": 595}, {\"Accuracy\": 0.01, \"recording_name\": \"drift_8x_C_2A\", \"snr\": 2.756905725949756, \"unit_id\": 615}, {\"Accuracy\": 0.01, \"recording_name\": \"drift_8x_C_2A\", \"snr\": 3.8305175084845784, \"unit_id\": 635}, {\"Accuracy\": 0.11, \"recording_name\": \"drift_8x_C_2A\", \"snr\": 22.035602837581028, \"unit_id\": 641}, {\"Accuracy\": 0.01, \"recording_name\": \"drift_8x_C_2A\", \"snr\": 2.4445388630560645, \"unit_id\": 663}, {\"Accuracy\": 0.01, \"recording_name\": \"drift_8x_C_2A\", \"snr\": 6.003524871682361, \"unit_id\": 688}, {\"Accuracy\": 0.98, \"recording_name\": \"drift_8x_C_2A\", \"snr\": 37.40634891194045, \"unit_id\": 696}, {\"Accuracy\": 0.0, \"recording_name\": \"drift_8x_C_2A\", \"snr\": 4.79208994345938, \"unit_id\": 697}, {\"Accuracy\": 0.0, \"recording_name\": \"drift_8x_C_2A\", \"snr\": 8.780934274981432, \"unit_id\": 701}, {\"Accuracy\": 0.76, \"recording_name\": \"drift_8x_C_2A\", \"snr\": 19.12716255204907, \"unit_id\": 703}, {\"Accuracy\": 0.0, \"recording_name\": \"drift_8x_C_2B\", \"snr\": 2.9411822100616636, \"unit_id\": 1}, {\"Accuracy\": 0.0, \"recording_name\": \"drift_8x_C_2B\", \"snr\": 3.8697344446355175, \"unit_id\": 3}, {\"Accuracy\": 0.7, \"recording_name\": \"drift_8x_C_2B\", \"snr\": 18.198190528467737, \"unit_id\": 4}, {\"Accuracy\": 0.01, \"recording_name\": \"drift_8x_C_2B\", \"snr\": 15.114753280615286, \"unit_id\": 6}, {\"Accuracy\": 0.0, \"recording_name\": \"drift_8x_C_2B\", \"snr\": 3.096244355385798, \"unit_id\": 16}, {\"Accuracy\": 0.0, \"recording_name\": \"drift_8x_C_2B\", \"snr\": 4.987823550840872, \"unit_id\": 21}, {\"Accuracy\": 0.0, \"recording_name\": \"drift_8x_C_2B\", \"snr\": 12.309820964567368, \"unit_id\": 26}, {\"Accuracy\": 0.01, \"recording_name\": \"drift_8x_C_2B\", \"snr\": 10.811683125432605, \"unit_id\": 44}, {\"Accuracy\": 0.0, \"recording_name\": \"drift_8x_C_2B\", \"snr\": 3.4755833039142363, \"unit_id\": 46}, {\"Accuracy\": 0.2, \"recording_name\": \"drift_8x_C_2B\", \"snr\": 12.297142441529205, \"unit_id\": 50}, {\"Accuracy\": 0.0, \"recording_name\": \"drift_8x_C_2B\", \"snr\": 2.5217275282866964, \"unit_id\": 76}, {\"Accuracy\": 0.0, \"recording_name\": \"drift_8x_C_2B\", \"snr\": 4.0410317758132654, \"unit_id\": 84}, {\"Accuracy\": 0.0, \"recording_name\": \"drift_8x_C_2B\", \"snr\": 5.032375458242193, \"unit_id\": 85}, {\"Accuracy\": 0.0, \"recording_name\": \"drift_8x_C_2B\", \"snr\": 8.824904776791344, \"unit_id\": 101}, {\"Accuracy\": 0.44, \"recording_name\": \"drift_8x_C_2B\", \"snr\": 21.863531710284793, \"unit_id\": 104}, {\"Accuracy\": 0.0, \"recording_name\": \"drift_8x_C_2B\", \"snr\": 8.014205893379788, \"unit_id\": 105}, {\"Accuracy\": 0.0, \"recording_name\": \"drift_8x_C_2B\", \"snr\": 5.206731824226266, \"unit_id\": 114}, {\"Accuracy\": 0.0, \"recording_name\": \"drift_8x_C_2B\", \"snr\": 7.2344894344864015, \"unit_id\": 120}, {\"Accuracy\": 0.0, \"recording_name\": \"drift_8x_C_2B\", \"snr\": 6.436767710224955, \"unit_id\": 125}, {\"Accuracy\": 0.03, \"recording_name\": \"drift_8x_C_2B\", \"snr\": 13.313267270892897, \"unit_id\": 135}, {\"Accuracy\": 0.18, \"recording_name\": \"drift_8x_C_2B\", \"snr\": 16.38171556898203, \"unit_id\": 143}, {\"Accuracy\": 0.0, \"recording_name\": \"drift_8x_C_2B\", \"snr\": 5.639928775179946, \"unit_id\": 148}, {\"Accuracy\": 0.0, \"recording_name\": \"drift_8x_C_2B\", \"snr\": 6.974005514011203, \"unit_id\": 163}, {\"Accuracy\": 0.0, \"recording_name\": \"drift_8x_C_2B\", \"snr\": 4.684372463654057, \"unit_id\": 170}, {\"Accuracy\": 0.0, \"recording_name\": \"drift_8x_C_2B\", \"snr\": 9.628044988904275, \"unit_id\": 176}, {\"Accuracy\": 0.53, \"recording_name\": \"drift_8x_C_2B\", \"snr\": 46.603714417147565, \"unit_id\": 186}, {\"Accuracy\": 0.0, \"recording_name\": \"drift_8x_C_2B\", \"snr\": 3.3172995627665585, \"unit_id\": 195}, {\"Accuracy\": 0.01, \"recording_name\": \"drift_8x_C_2B\", \"snr\": 2.887695453409204, \"unit_id\": 199}, {\"Accuracy\": 0.0, \"recording_name\": \"drift_8x_C_2B\", \"snr\": 4.989835048703094, \"unit_id\": 200}, {\"Accuracy\": 0.0, \"recording_name\": \"drift_8x_C_2B\", \"snr\": 5.75712024509498, \"unit_id\": 204}, {\"Accuracy\": 0.49, \"recording_name\": \"drift_8x_C_2B\", \"snr\": 24.298294053497255, \"unit_id\": 206}, {\"Accuracy\": 0.0, \"recording_name\": \"drift_8x_C_2B\", \"snr\": 5.47871380256688, \"unit_id\": 213}, {\"Accuracy\": 0.22, \"recording_name\": \"drift_8x_C_2B\", \"snr\": 11.947620709707682, \"unit_id\": 222}, {\"Accuracy\": 0.0, \"recording_name\": \"drift_8x_C_2B\", \"snr\": 2.8699419230557868, \"unit_id\": 229}, {\"Accuracy\": 0.01, \"recording_name\": \"drift_8x_C_2B\", \"snr\": 6.477504523948689, \"unit_id\": 230}, {\"Accuracy\": 0.07, \"recording_name\": \"drift_8x_C_2B\", \"snr\": 10.080591143196726, \"unit_id\": 233}, {\"Accuracy\": 0.01, \"recording_name\": \"drift_8x_C_2B\", \"snr\": 16.330206759995672, \"unit_id\": 234}, {\"Accuracy\": 0.45, \"recording_name\": \"drift_8x_C_2B\", \"snr\": 33.98905571401613, \"unit_id\": 242}, {\"Accuracy\": 0.0, \"recording_name\": \"drift_8x_C_2B\", \"snr\": 3.5510919046425307, \"unit_id\": 243}, {\"Accuracy\": 0.13, \"recording_name\": \"drift_8x_C_2B\", \"snr\": 13.368669806196543, \"unit_id\": 245}, {\"Accuracy\": 0.01, \"recording_name\": \"drift_8x_C_2B\", \"snr\": 17.529134450585985, \"unit_id\": 247}, {\"Accuracy\": 0.99, \"recording_name\": \"drift_8x_C_2B\", \"snr\": 48.64094137433965, \"unit_id\": 253}, {\"Accuracy\": 0.0, \"recording_name\": \"drift_8x_C_2B\", \"snr\": 4.629972477821937, \"unit_id\": 255}, {\"Accuracy\": 0.0, \"recording_name\": \"drift_8x_C_2B\", \"snr\": 2.607081723988875, \"unit_id\": 256}, {\"Accuracy\": 0.91, \"recording_name\": \"drift_8x_C_2B\", \"snr\": 28.135744569166597, \"unit_id\": 258}, {\"Accuracy\": 0.0, \"recording_name\": \"drift_8x_C_2B\", \"snr\": 5.0864071312470855, \"unit_id\": 268}, {\"Accuracy\": 0.98, \"recording_name\": \"drift_8x_C_2B\", \"snr\": 52.00874939380904, \"unit_id\": 275}, {\"Accuracy\": 0.0, \"recording_name\": \"drift_8x_C_2B\", \"snr\": 4.926183108177405, \"unit_id\": 286}, {\"Accuracy\": 0.0, \"recording_name\": \"drift_8x_C_2B\", \"snr\": 4.400030363109803, \"unit_id\": 311}, {\"Accuracy\": 0.02, \"recording_name\": \"drift_8x_C_2B\", \"snr\": 8.085320541164576, \"unit_id\": 345}, {\"Accuracy\": 0.0, \"recording_name\": \"drift_8x_C_2B\", \"snr\": 2.7132388904032556, \"unit_id\": 349}, {\"Accuracy\": 0.04, \"recording_name\": \"drift_8x_C_2B\", \"snr\": 11.291714225882131, \"unit_id\": 354}, {\"Accuracy\": 0.99, \"recording_name\": \"drift_8x_C_2B\", \"snr\": 78.77557637263587, \"unit_id\": 391}, {\"Accuracy\": 0.01, \"recording_name\": \"drift_8x_C_2B\", \"snr\": 17.780993953839605, \"unit_id\": 393}, {\"Accuracy\": 0.0, \"recording_name\": \"drift_8x_C_2B\", \"snr\": 5.45821450748872, \"unit_id\": 397}, {\"Accuracy\": 0.01, \"recording_name\": \"drift_8x_C_2B\", \"snr\": 5.788135638404143, \"unit_id\": 409}, {\"Accuracy\": 0.78, \"recording_name\": \"drift_8x_C_2B\", \"snr\": 20.07628768026135, \"unit_id\": 417}, {\"Accuracy\": 0.0, \"recording_name\": \"drift_8x_C_2B\", \"snr\": 2.9690888535688864, \"unit_id\": 418}, {\"Accuracy\": 0.86, \"recording_name\": \"drift_8x_C_2B\", \"snr\": 28.418800314064544, \"unit_id\": 443}, {\"Accuracy\": 0.0, \"recording_name\": \"drift_8x_C_2B\", \"snr\": 7.42140011004761, \"unit_id\": 455}, {\"Accuracy\": 0.02, \"recording_name\": \"drift_8x_C_2B\", \"snr\": 21.370432970703185, \"unit_id\": 456}, {\"Accuracy\": 0.0, \"recording_name\": \"drift_8x_C_2B\", \"snr\": 4.540546838197014, \"unit_id\": 457}, {\"Accuracy\": 0.0, \"recording_name\": \"drift_8x_C_2B\", \"snr\": 6.264273551092234, \"unit_id\": 473}, {\"Accuracy\": 0.0, \"recording_name\": \"drift_8x_C_2B\", \"snr\": 10.830597202616804, \"unit_id\": 486}, {\"Accuracy\": 0.01, \"recording_name\": \"drift_8x_C_2B\", \"snr\": 9.205812607255552, \"unit_id\": 487}, {\"Accuracy\": 0.04, \"recording_name\": \"drift_8x_C_2B\", \"snr\": 15.18396664784408, \"unit_id\": 490}, {\"Accuracy\": 0.17, \"recording_name\": \"drift_8x_C_2B\", \"snr\": 19.027866639265508, \"unit_id\": 504}, {\"Accuracy\": 0.0, \"recording_name\": \"drift_8x_C_2B\", \"snr\": 6.70955547830326, \"unit_id\": 519}, {\"Accuracy\": 0.0, \"recording_name\": \"drift_8x_C_2B\", \"snr\": 7.825848061286931, \"unit_id\": 531}, {\"Accuracy\": 0.0, \"recording_name\": \"drift_8x_C_2B\", \"snr\": 3.1090307667634214, \"unit_id\": 549}, {\"Accuracy\": 0.0, \"recording_name\": \"drift_8x_C_2B\", \"snr\": 12.595920419375686, \"unit_id\": 550}, {\"Accuracy\": 0.0, \"recording_name\": \"drift_8x_C_2B\", \"snr\": 4.629828878326428, \"unit_id\": 552}, {\"Accuracy\": 0.01, \"recording_name\": \"drift_8x_C_2B\", \"snr\": 10.393835020303882, \"unit_id\": 563}, {\"Accuracy\": 0.0, \"recording_name\": \"drift_8x_C_2B\", \"snr\": 5.933377547325448, \"unit_id\": 564}, {\"Accuracy\": 0.11, \"recording_name\": \"drift_8x_C_2B\", \"snr\": 14.001654440191807, \"unit_id\": 567}, {\"Accuracy\": 0.01, \"recording_name\": \"drift_8x_C_2B\", \"snr\": 15.466313922117576, \"unit_id\": 570}, {\"Accuracy\": 0.01, \"recording_name\": \"drift_8x_C_2B\", \"snr\": 12.488473825654868, \"unit_id\": 572}, {\"Accuracy\": 0.0, \"recording_name\": \"drift_8x_C_2B\", \"snr\": 3.890838968617982, \"unit_id\": 575}, {\"Accuracy\": 0.0, \"recording_name\": \"drift_8x_C_2B\", \"snr\": 8.006801383481346, \"unit_id\": 585}, {\"Accuracy\": 0.0, \"recording_name\": \"drift_8x_C_2B\", \"snr\": 5.536225264968317, \"unit_id\": 595}, {\"Accuracy\": 0.0, \"recording_name\": \"drift_8x_C_2B\", \"snr\": 5.9897263116078365, \"unit_id\": 596}, {\"Accuracy\": 0.0, \"recording_name\": \"drift_8x_C_2B\", \"snr\": 2.760476700382255, \"unit_id\": 624}, {\"Accuracy\": 0.0, \"recording_name\": \"drift_8x_C_2B\", \"snr\": 3.4301423587596767, \"unit_id\": 635}, {\"Accuracy\": 0.0, \"recording_name\": \"drift_8x_C_2B\", \"snr\": 14.316911023376468, \"unit_id\": 641}, {\"Accuracy\": 0.01, \"recording_name\": \"drift_8x_C_2B\", \"snr\": 4.488497339742642, \"unit_id\": 676}, {\"Accuracy\": 0.01, \"recording_name\": \"drift_8x_C_2B\", \"snr\": 2.0416602946492404, \"unit_id\": 682}, {\"Accuracy\": 0.01, \"recording_name\": \"drift_8x_C_2B\", \"snr\": 4.765580563024724, \"unit_id\": 688}, {\"Accuracy\": 0.0, \"recording_name\": \"drift_8x_C_2B\", \"snr\": 1.7032669041432347, \"unit_id\": 690}, {\"Accuracy\": 0.51, \"recording_name\": \"drift_8x_C_2B\", \"snr\": 14.661503822729253, \"unit_id\": 696}, {\"Accuracy\": 0.0, \"recording_name\": \"drift_8x_C_2B\", \"snr\": 4.198738468745359, \"unit_id\": 697}, {\"Accuracy\": 0.35, \"recording_name\": \"drift_8x_C_2B\", \"snr\": 14.244713165924905, \"unit_id\": 701}, {\"Accuracy\": 0.0, \"recording_name\": \"drift_8x_C_2B\", \"snr\": 10.898994904727878, \"unit_id\": 703}, {\"Accuracy\": 0.0, \"recording_name\": \"drift_8x_C_4A\", \"snr\": 3.4305975549040326, \"unit_id\": 1}, {\"Accuracy\": 0.0, \"recording_name\": \"drift_8x_C_4A\", \"snr\": 3.787109758009588, \"unit_id\": 3}, {\"Accuracy\": 0.97, \"recording_name\": \"drift_8x_C_4A\", \"snr\": 56.07910968339163, \"unit_id\": 4}, {\"Accuracy\": 0.24, \"recording_name\": \"drift_8x_C_4A\", \"snr\": 25.509998415521636, \"unit_id\": 6}, {\"Accuracy\": 0.0, \"recording_name\": \"drift_8x_C_4A\", \"snr\": 4.472137772936089, \"unit_id\": 21}, {\"Accuracy\": 0.01, \"recording_name\": \"drift_8x_C_4A\", \"snr\": 4.110530151282409, \"unit_id\": 23}, {\"Accuracy\": 0.36, \"recording_name\": \"drift_8x_C_4A\", \"snr\": 12.562748211767113, \"unit_id\": 26}, {\"Accuracy\": 0.0, \"recording_name\": \"drift_8x_C_4A\", \"snr\": 2.495179018377834, \"unit_id\": 28}, {\"Accuracy\": 0.0, \"recording_name\": \"drift_8x_C_4A\", \"snr\": 3.4755833039142363, \"unit_id\": 46}, {\"Accuracy\": 0.93, \"recording_name\": \"drift_8x_C_4A\", \"snr\": 26.697792580002762, \"unit_id\": 50}, {\"Accuracy\": 0.0, \"recording_name\": \"drift_8x_C_4A\", \"snr\": 3.1898359687980222, \"unit_id\": 76}, {\"Accuracy\": 0.0, \"recording_name\": \"drift_8x_C_4A\", \"snr\": 2.880500917576345, \"unit_id\": 84}, {\"Accuracy\": 0.0, \"recording_name\": \"drift_8x_C_4A\", \"snr\": 5.032375458242193, \"unit_id\": 85}, {\"Accuracy\": 0.01, \"recording_name\": \"drift_8x_C_4A\", \"snr\": 8.824904776791344, \"unit_id\": 101}, {\"Accuracy\": 0.49, \"recording_name\": \"drift_8x_C_4A\", \"snr\": 38.50193952595641, \"unit_id\": 104}, {\"Accuracy\": 0.01, \"recording_name\": \"drift_8x_C_4A\", \"snr\": 12.694565355608612, \"unit_id\": 105}, {\"Accuracy\": 0.0, \"recording_name\": \"drift_8x_C_4A\", \"snr\": 6.053662183939043, \"unit_id\": 114}, {\"Accuracy\": 0.0, \"recording_name\": \"drift_8x_C_4A\", \"snr\": 7.2344894344864015, \"unit_id\": 120}, {\"Accuracy\": 0.0, \"recording_name\": \"drift_8x_C_4A\", \"snr\": 6.39723981675861, \"unit_id\": 125}, {\"Accuracy\": 0.05, \"recording_name\": \"drift_8x_C_4A\", \"snr\": 14.041160243887843, \"unit_id\": 132}, {\"Accuracy\": 0.0, \"recording_name\": \"drift_8x_C_4A\", \"snr\": 11.45269910632468, \"unit_id\": 135}, {\"Accuracy\": 0.01, \"recording_name\": \"drift_8x_C_4A\", \"snr\": 14.843640028692343, \"unit_id\": 143}, {\"Accuracy\": 0.0, \"recording_name\": \"drift_8x_C_4A\", \"snr\": 5.66440646993453, \"unit_id\": 148}, {\"Accuracy\": 0.0, \"recording_name\": \"drift_8x_C_4A\", \"snr\": 6.974005514011203, \"unit_id\": 163}, {\"Accuracy\": 0.0, \"recording_name\": \"drift_8x_C_4A\", \"snr\": 4.573609069839066, \"unit_id\": 170}, {\"Accuracy\": 0.01, \"recording_name\": \"drift_8x_C_4A\", \"snr\": 4.472406485393639, \"unit_id\": 171}, {\"Accuracy\": 0.01, \"recording_name\": \"drift_8x_C_4A\", \"snr\": 12.68519963754635, \"unit_id\": 176}, {\"Accuracy\": 0.52, \"recording_name\": \"drift_8x_C_4A\", \"snr\": 38.30928245357153, \"unit_id\": 186}, {\"Accuracy\": 0.0, \"recording_name\": \"drift_8x_C_4A\", \"snr\": 11.766331672825672, \"unit_id\": 188}, {\"Accuracy\": 0.0, \"recording_name\": \"drift_8x_C_4A\", \"snr\": 4.180177436201815, \"unit_id\": 195}, {\"Accuracy\": 0.01, \"recording_name\": \"drift_8x_C_4A\", \"snr\": 3.3256523857540574, \"unit_id\": 196}, {\"Accuracy\": 0.01, \"recording_name\": \"drift_8x_C_4A\", \"snr\": 5.199707063784697, \"unit_id\": 204}, {\"Accuracy\": 0.25, \"recording_name\": \"drift_8x_C_4A\", \"snr\": 24.495571468696934, \"unit_id\": 206}, {\"Accuracy\": 0.0, \"recording_name\": \"drift_8x_C_4A\", \"snr\": 5.801479325226818, \"unit_id\": 213}, {\"Accuracy\": 0.01, \"recording_name\": \"drift_8x_C_4A\", \"snr\": 10.386610520599165, \"unit_id\": 222}, {\"Accuracy\": 0.0, \"recording_name\": \"drift_8x_C_4A\", \"snr\": 3.6657563290761486, \"unit_id\": 229}, {\"Accuracy\": 0.01, \"recording_name\": \"drift_8x_C_4A\", \"snr\": 9.501419374848174, \"unit_id\": 230}, {\"Accuracy\": 0.01, \"recording_name\": \"drift_8x_C_4A\", \"snr\": 10.185347084429889, \"unit_id\": 233}, {\"Accuracy\": 0.35, \"recording_name\": \"drift_8x_C_4A\", \"snr\": 19.913473322401234, \"unit_id\": 234}, {\"Accuracy\": 0.15, \"recording_name\": \"drift_8x_C_4A\", \"snr\": 14.0759988547007, \"unit_id\": 245}, {\"Accuracy\": 0.32, \"recording_name\": \"drift_8x_C_4A\", \"snr\": 17.32169978171903, \"unit_id\": 247}, {\"Accuracy\": 0.96, \"recording_name\": \"drift_8x_C_4A\", \"snr\": 48.64094137433965, \"unit_id\": 253}, {\"Accuracy\": 0.94, \"recording_name\": \"drift_8x_C_4A\", \"snr\": 29.383526709517774, \"unit_id\": 258}, {\"Accuracy\": 0.0, \"recording_name\": \"drift_8x_C_4A\", \"snr\": 4.695431509442875, \"unit_id\": 268}, {\"Accuracy\": 0.97, \"recording_name\": \"drift_8x_C_4A\", \"snr\": 26.671191683181412, \"unit_id\": 275}, {\"Accuracy\": 0.0, \"recording_name\": \"drift_8x_C_4A\", \"snr\": 4.926183108177405, \"unit_id\": 286}, {\"Accuracy\": 0.0, \"recording_name\": \"drift_8x_C_4A\", \"snr\": 5.19838408092146, \"unit_id\": 320}, {\"Accuracy\": 0.01, \"recording_name\": \"drift_8x_C_4A\", \"snr\": 8.046247658239533, \"unit_id\": 345}, {\"Accuracy\": 0.0, \"recording_name\": \"drift_8x_C_4A\", \"snr\": 10.931082098573649, \"unit_id\": 354}, {\"Accuracy\": 0.97, \"recording_name\": \"drift_8x_C_4A\", \"snr\": 78.76192493370311, \"unit_id\": 391}, {\"Accuracy\": 0.96, \"recording_name\": \"drift_8x_C_4A\", \"snr\": 33.99259076916184, \"unit_id\": 393}, {\"Accuracy\": 0.01, \"recording_name\": \"drift_8x_C_4A\", \"snr\": 7.087667130112059, \"unit_id\": 397}, {\"Accuracy\": 0.0, \"recording_name\": \"drift_8x_C_4A\", \"snr\": 5.374125161255895, \"unit_id\": 409}, {\"Accuracy\": 0.0, \"recording_name\": \"drift_8x_C_4A\", \"snr\": 3.3254695255408513, \"unit_id\": 410}, {\"Accuracy\": 0.61, \"recording_name\": \"drift_8x_C_4A\", \"snr\": 48.57477024823317, \"unit_id\": 417}, {\"Accuracy\": 0.0, \"recording_name\": \"drift_8x_C_4A\", \"snr\": 2.81122805707895, \"unit_id\": 438}, {\"Accuracy\": 0.88, \"recording_name\": \"drift_8x_C_4A\", \"snr\": 30.280115094821642, \"unit_id\": 443}, {\"Accuracy\": 0.0, \"recording_name\": \"drift_8x_C_4A\", \"snr\": 8.104414538073861, \"unit_id\": 455}, {\"Accuracy\": 0.78, \"recording_name\": \"drift_8x_C_4A\", \"snr\": 21.953491505105134, \"unit_id\": 456}, {\"Accuracy\": 0.0, \"recording_name\": \"drift_8x_C_4A\", \"snr\": 4.692793376308786, \"unit_id\": 457}, {\"Accuracy\": 0.01, \"recording_name\": \"drift_8x_C_4A\", \"snr\": 8.399856973690522, \"unit_id\": 467}, {\"Accuracy\": 0.0, \"recording_name\": \"drift_8x_C_4A\", \"snr\": 1.6248726561535372, \"unit_id\": 471}, {\"Accuracy\": 0.01, \"recording_name\": \"drift_8x_C_4A\", \"snr\": 7.03799991983769, \"unit_id\": 473}, {\"Accuracy\": 0.01, \"recording_name\": \"drift_8x_C_4A\", \"snr\": 10.644779853949757, \"unit_id\": 486}, {\"Accuracy\": 0.0, \"recording_name\": \"drift_8x_C_4A\", \"snr\": 10.218582953621599, \"unit_id\": 487}, {\"Accuracy\": 0.3, \"recording_name\": \"drift_8x_C_4A\", \"snr\": 23.956358847163752, \"unit_id\": 490}, {\"Accuracy\": 0.14, \"recording_name\": \"drift_8x_C_4A\", \"snr\": 20.068847952415126, \"unit_id\": 504}, {\"Accuracy\": 0.01, \"recording_name\": \"drift_8x_C_4A\", \"snr\": 12.338220310820361, \"unit_id\": 531}, {\"Accuracy\": 0.83, \"recording_name\": \"drift_8x_C_4A\", \"snr\": 25.171016659050917, \"unit_id\": 550}, {\"Accuracy\": 0.0, \"recording_name\": \"drift_8x_C_4A\", \"snr\": 6.4067428479631126, \"unit_id\": 552}, {\"Accuracy\": 0.0, \"recording_name\": \"drift_8x_C_4A\", \"snr\": 10.341283072902998, \"unit_id\": 563}, {\"Accuracy\": 0.0, \"recording_name\": \"drift_8x_C_4A\", \"snr\": 10.774880393704088, \"unit_id\": 567}, {\"Accuracy\": 0.36, \"recording_name\": \"drift_8x_C_4A\", \"snr\": 24.10903876431467, \"unit_id\": 570}, {\"Accuracy\": 0.0, \"recording_name\": \"drift_8x_C_4A\", \"snr\": 9.185586507275666, \"unit_id\": 572}, {\"Accuracy\": 0.0, \"recording_name\": \"drift_8x_C_4A\", \"snr\": 3.8334776328493416, \"unit_id\": 575}, {\"Accuracy\": 0.0, \"recording_name\": \"drift_8x_C_4A\", \"snr\": 8.245772547790198, \"unit_id\": 585}, {\"Accuracy\": 0.0, \"recording_name\": \"drift_8x_C_4A\", \"snr\": 5.7210643737112905, \"unit_id\": 595}, {\"Accuracy\": 0.01, \"recording_name\": \"drift_8x_C_4A\", \"snr\": 3.3791581790803513, \"unit_id\": 615}, {\"Accuracy\": 0.01, \"recording_name\": \"drift_8x_C_4A\", \"snr\": 3.7442702559195005, \"unit_id\": 635}, {\"Accuracy\": 0.12, \"recording_name\": \"drift_8x_C_4A\", \"snr\": 22.035602837581028, \"unit_id\": 641}, {\"Accuracy\": 0.01, \"recording_name\": \"drift_8x_C_4A\", \"snr\": 5.433604535330789, \"unit_id\": 676}, {\"Accuracy\": 0.01, \"recording_name\": \"drift_8x_C_4A\", \"snr\": 1.745389133176771, \"unit_id\": 682}, {\"Accuracy\": 0.01, \"recording_name\": \"drift_8x_C_4A\", \"snr\": 5.626217562335993, \"unit_id\": 688}, {\"Accuracy\": 0.0, \"recording_name\": \"drift_8x_C_4A\", \"snr\": 5.379706872335251, \"unit_id\": 697}, {\"Accuracy\": 0.01, \"recording_name\": \"drift_8x_C_4A\", \"snr\": 12.327011554712692, \"unit_id\": 701}, {\"Accuracy\": 0.75, \"recording_name\": \"drift_8x_C_4A\", \"snr\": 19.28085292244902, \"unit_id\": 703}, {\"Accuracy\": 0.0, \"recording_name\": \"drift_8x_C_4B\", \"snr\": 3.133198356382199, \"unit_id\": 1}, {\"Accuracy\": 0.0, \"recording_name\": \"drift_8x_C_4B\", \"snr\": 3.8697344446355175, \"unit_id\": 3}, {\"Accuracy\": 0.96, \"recording_name\": \"drift_8x_C_4B\", \"snr\": 28.95090038621474, \"unit_id\": 4}, {\"Accuracy\": 0.86, \"recording_name\": \"drift_8x_C_4B\", \"snr\": 28.71510061506844, \"unit_id\": 6}, {\"Accuracy\": 0.0, \"recording_name\": \"drift_8x_C_4B\", \"snr\": 4.314887924930963, \"unit_id\": 21}, {\"Accuracy\": 0.15, \"recording_name\": \"drift_8x_C_4B\", \"snr\": 13.237447577450778, \"unit_id\": 26}, {\"Accuracy\": 0.0, \"recording_name\": \"drift_8x_C_4B\", \"snr\": 2.14129466112008, \"unit_id\": 28}, {\"Accuracy\": 0.0, \"recording_name\": \"drift_8x_C_4B\", \"snr\": 2.4100091721948056, \"unit_id\": 42}, {\"Accuracy\": 0.01, \"recording_name\": \"drift_8x_C_4B\", \"snr\": 20.022788158131085, \"unit_id\": 44}, {\"Accuracy\": 0.0, \"recording_name\": \"drift_8x_C_4B\", \"snr\": 3.4387374874951804, \"unit_id\": 46}, {\"Accuracy\": 0.88, \"recording_name\": \"drift_8x_C_4B\", \"snr\": 34.52981920693086, \"unit_id\": 50}, {\"Accuracy\": 0.0, \"recording_name\": \"drift_8x_C_4B\", \"snr\": 4.0519457957116085, \"unit_id\": 84}, {\"Accuracy\": 0.0, \"recording_name\": \"drift_8x_C_4B\", \"snr\": 4.946405585114811, \"unit_id\": 85}, {\"Accuracy\": 0.0, \"recording_name\": \"drift_8x_C_4B\", \"snr\": 6.465303808838868, \"unit_id\": 96}, {\"Accuracy\": 0.0, \"recording_name\": \"drift_8x_C_4B\", \"snr\": 8.779933489729956, \"unit_id\": 101}, {\"Accuracy\": 0.07, \"recording_name\": \"drift_8x_C_4B\", \"snr\": 27.883755302552537, \"unit_id\": 104}, {\"Accuracy\": 0.0, \"recording_name\": \"drift_8x_C_4B\", \"snr\": 9.83009472485859, \"unit_id\": 105}, {\"Accuracy\": 0.0, \"recording_name\": \"drift_8x_C_4B\", \"snr\": 5.870312353916728, \"unit_id\": 114}, {\"Accuracy\": 0.0, \"recording_name\": \"drift_8x_C_4B\", \"snr\": 7.143820596672259, \"unit_id\": 120}, {\"Accuracy\": 0.0, \"recording_name\": \"drift_8x_C_4B\", \"snr\": 6.436767710224955, \"unit_id\": 125}, {\"Accuracy\": 0.0, \"recording_name\": \"drift_8x_C_4B\", \"snr\": 13.313267270892897, \"unit_id\": 135}, {\"Accuracy\": 0.26, \"recording_name\": \"drift_8x_C_4B\", \"snr\": 16.38171556898203, \"unit_id\": 143}, {\"Accuracy\": 0.0, \"recording_name\": \"drift_8x_C_4B\", \"snr\": 6.0929232783630365, \"unit_id\": 148}, {\"Accuracy\": 0.0, \"recording_name\": \"drift_8x_C_4B\", \"snr\": 7.292078886828547, \"unit_id\": 163}, {\"Accuracy\": 0.0, \"recording_name\": \"drift_8x_C_4B\", \"snr\": 4.8079444738233965, \"unit_id\": 165}, {\"Accuracy\": 0.0, \"recording_name\": \"drift_8x_C_4B\", \"snr\": 4.925890372571688, \"unit_id\": 170}, {\"Accuracy\": 0.0, \"recording_name\": \"drift_8x_C_4B\", \"snr\": 2.725382714234378, \"unit_id\": 172}, {\"Accuracy\": 0.01, \"recording_name\": \"drift_8x_C_4B\", \"snr\": 11.443229300998121, \"unit_id\": 176}, {\"Accuracy\": 0.53, \"recording_name\": \"drift_8x_C_4B\", \"snr\": 46.442394517842686, \"unit_id\": 186}, {\"Accuracy\": 0.01, \"recording_name\": \"drift_8x_C_4B\", \"snr\": 9.394184991515687, \"unit_id\": 188}, {\"Accuracy\": 0.0, \"recording_name\": \"drift_8x_C_4B\", \"snr\": 4.0494355588308215, \"unit_id\": 191}, {\"Accuracy\": 0.0, \"recording_name\": \"drift_8x_C_4B\", \"snr\": 4.6552602218348635, \"unit_id\": 195}, {\"Accuracy\": 0.01, \"recording_name\": \"drift_8x_C_4B\", \"snr\": 6.088931096345888, \"unit_id\": 204}, {\"Accuracy\": 0.44, \"recording_name\": \"drift_8x_C_4B\", \"snr\": 24.594568736236372, \"unit_id\": 206}, {\"Accuracy\": 0.01, \"recording_name\": \"drift_8x_C_4B\", \"snr\": 5.639031895087081, \"unit_id\": 213}, {\"Accuracy\": 0.01, \"recording_name\": \"drift_8x_C_4B\", \"snr\": 4.240319902703406, \"unit_id\": 221}, {\"Accuracy\": 0.2, \"recording_name\": \"drift_8x_C_4B\", \"snr\": 11.162132018664094, \"unit_id\": 222}, {\"Accuracy\": 0.0, \"recording_name\": \"drift_8x_C_4B\", \"snr\": 3.4662943542070463, \"unit_id\": 229}, {\"Accuracy\": 0.01, \"recording_name\": \"drift_8x_C_4B\", \"snr\": 7.869281397333149, \"unit_id\": 230}, {\"Accuracy\": 0.07, \"recording_name\": \"drift_8x_C_4B\", \"snr\": 10.58201332644869, \"unit_id\": 233}, {\"Accuracy\": 0.01, \"recording_name\": \"drift_8x_C_4B\", \"snr\": 18.15790522529396, \"unit_id\": 234}, {\"Accuracy\": 0.52, \"recording_name\": \"drift_8x_C_4B\", \"snr\": 65.53245315286034, \"unit_id\": 242}, {\"Accuracy\": 0.38, \"recording_name\": \"drift_8x_C_4B\", \"snr\": 16.412953103230507, \"unit_id\": 247}, {\"Accuracy\": 0.35, \"recording_name\": \"drift_8x_C_4B\", \"snr\": 31.51964405923362, \"unit_id\": 253}, {\"Accuracy\": 0.0, \"recording_name\": \"drift_8x_C_4B\", \"snr\": 2.607081723988875, \"unit_id\": 256}, {\"Accuracy\": 0.91, \"recording_name\": \"drift_8x_C_4B\", \"snr\": 28.135744569166597, \"unit_id\": 258}, {\"Accuracy\": 0.92, \"recording_name\": \"drift_8x_C_4B\", \"snr\": 52.00874939380904, \"unit_id\": 275}, {\"Accuracy\": 0.0, \"recording_name\": \"drift_8x_C_4B\", \"snr\": 4.478551960549119, \"unit_id\": 286}, {\"Accuracy\": 0.89, \"recording_name\": \"drift_8x_C_4B\", \"snr\": 27.410126686746402, \"unit_id\": 302}, {\"Accuracy\": 0.01, \"recording_name\": \"drift_8x_C_4B\", \"snr\": 9.00233609858665, \"unit_id\": 345}, {\"Accuracy\": 0.0, \"recording_name\": \"drift_8x_C_4B\", \"snr\": 3.123520708345896, \"unit_id\": 349}, {\"Accuracy\": 0.05, \"recording_name\": \"drift_8x_C_4B\", \"snr\": 11.279600941090436, \"unit_id\": 354}, {\"Accuracy\": 1.0, \"recording_name\": \"drift_8x_C_4B\", \"snr\": 70.71989886301314, \"unit_id\": 391}, {\"Accuracy\": 0.92, \"recording_name\": \"drift_8x_C_4B\", \"snr\": 36.265764663506566, \"unit_id\": 393}, {\"Accuracy\": 0.0, \"recording_name\": \"drift_8x_C_4B\", \"snr\": 6.784007769057477, \"unit_id\": 397}, {\"Accuracy\": 0.0, \"recording_name\": \"drift_8x_C_4B\", \"snr\": 4.04203508217366, \"unit_id\": 404}, {\"Accuracy\": 0.0, \"recording_name\": \"drift_8x_C_4B\", \"snr\": 6.325679158063225, \"unit_id\": 409}, {\"Accuracy\": 0.0, \"recording_name\": \"drift_8x_C_4B\", \"snr\": 2.9315692655951398, \"unit_id\": 410}, {\"Accuracy\": 0.98, \"recording_name\": \"drift_8x_C_4B\", \"snr\": 44.34707532261004, \"unit_id\": 417}, {\"Accuracy\": 0.0, \"recording_name\": \"drift_8x_C_4B\", \"snr\": 4.247714836495218, \"unit_id\": 432}, {\"Accuracy\": 0.88, \"recording_name\": \"drift_8x_C_4B\", \"snr\": 28.927221733060822, \"unit_id\": 443}, {\"Accuracy\": 0.0, \"recording_name\": \"drift_8x_C_4B\", \"snr\": 7.556987280973068, \"unit_id\": 455}, {\"Accuracy\": 0.15, \"recording_name\": \"drift_8x_C_4B\", \"snr\": 21.739476617743207, \"unit_id\": 456}, {\"Accuracy\": 0.0, \"recording_name\": \"drift_8x_C_4B\", \"snr\": 4.187030883247342, \"unit_id\": 457}, {\"Accuracy\": 0.01, \"recording_name\": \"drift_8x_C_4B\", \"snr\": 6.194982110880731, \"unit_id\": 473}, {\"Accuracy\": 0.01, \"recording_name\": \"drift_8x_C_4B\", \"snr\": 10.41178093984651, \"unit_id\": 486}, {\"Accuracy\": 0.0, \"recording_name\": \"drift_8x_C_4B\", \"snr\": 10.661051068645522, \"unit_id\": 487}, {\"Accuracy\": 0.77, \"recording_name\": \"drift_8x_C_4B\", \"snr\": 23.407474173726996, \"unit_id\": 490}, {\"Accuracy\": 0.0, \"recording_name\": \"drift_8x_C_4B\", \"snr\": 6.054979848391841, \"unit_id\": 512}, {\"Accuracy\": 0.0, \"recording_name\": \"drift_8x_C_4B\", \"snr\": 7.571606818578971, \"unit_id\": 519}, {\"Accuracy\": 0.0, \"recording_name\": \"drift_8x_C_4B\", \"snr\": 13.817745819796924, \"unit_id\": 521}, {\"Accuracy\": 0.0, \"recording_name\": \"drift_8x_C_4B\", \"snr\": 12.37813591227473, \"unit_id\": 531}, {\"Accuracy\": 0.0, \"recording_name\": \"drift_8x_C_4B\", \"snr\": 2.885893165778313, \"unit_id\": 549}, {\"Accuracy\": 0.41, \"recording_name\": \"drift_8x_C_4B\", \"snr\": 23.086074805144158, \"unit_id\": 550}, {\"Accuracy\": 0.0, \"recording_name\": \"drift_8x_C_4B\", \"snr\": 5.3784349284265565, \"unit_id\": 552}, {\"Accuracy\": 0.0, \"recording_name\": \"drift_8x_C_4B\", \"snr\": 10.277855676026967, \"unit_id\": 563}, {\"Accuracy\": 0.21, \"recording_name\": \"drift_8x_C_4B\", \"snr\": 13.682996595771382, \"unit_id\": 567}, {\"Accuracy\": 0.39, \"recording_name\": \"drift_8x_C_4B\", \"snr\": 23.287324471098476, \"unit_id\": 570}, {\"Accuracy\": 0.0, \"recording_name\": \"drift_8x_C_4B\", \"snr\": 12.398744924257604, \"unit_id\": 572}, {\"Accuracy\": 0.0, \"recording_name\": \"drift_8x_C_4B\", \"snr\": 4.196825390399305, \"unit_id\": 575}, {\"Accuracy\": 0.0, \"recording_name\": \"drift_8x_C_4B\", \"snr\": 6.829102299620826, \"unit_id\": 585}, {\"Accuracy\": 0.0, \"recording_name\": \"drift_8x_C_4B\", \"snr\": 5.193872697937978, \"unit_id\": 595}, {\"Accuracy\": 0.01, \"recording_name\": \"drift_8x_C_4B\", \"snr\": 2.823506851880488, \"unit_id\": 615}, {\"Accuracy\": 0.0, \"recording_name\": \"drift_8x_C_4B\", \"snr\": 3.365126194684896, \"unit_id\": 629}, {\"Accuracy\": 0.0, \"recording_name\": \"drift_8x_C_4B\", \"snr\": 3.9635043981211067, \"unit_id\": 635}, {\"Accuracy\": 0.0, \"recording_name\": \"drift_8x_C_4B\", \"snr\": 14.316911023376468, \"unit_id\": 641}, {\"Accuracy\": 0.01, \"recording_name\": \"drift_8x_C_4B\", \"snr\": 4.14047867607866, \"unit_id\": 676}, {\"Accuracy\": 0.01, \"recording_name\": \"drift_8x_C_4B\", \"snr\": 5.746294818436868, \"unit_id\": 688}, {\"Accuracy\": 0.97, \"recording_name\": \"drift_8x_C_4B\", \"snr\": 37.52581806764629, \"unit_id\": 696}, {\"Accuracy\": 0.0, \"recording_name\": \"drift_8x_C_4B\", \"snr\": 4.552759360460334, \"unit_id\": 697}, {\"Accuracy\": 0.0, \"recording_name\": \"drift_8x_C_4B\", \"snr\": 14.454434671944409, \"unit_id\": 701}, {\"Accuracy\": 0.01, \"recording_name\": \"drift_8x_C_4B\", \"snr\": 17.360270542520293, \"unit_id\": 703}]}};\n",
              "    var embed_opt = {\"mode\": \"vega-lite\"};\n",
              "\n",
              "    function showError(el, error){\n",
              "        el.innerHTML = ('<div class=\"error\">'\n",
              "                        + '<p>JavaScript Error: ' + error.message + '</p>'\n",
              "                        + \"<p>This usually means there's a typo in your chart specification. \"\n",
              "                        + \"See the javascript console for the full traceback.</p>\"\n",
              "                        + '</div>');\n",
              "        throw error;\n",
              "    }\n",
              "    const el = document.getElementById('vis');\n",
              "    vegaEmbed(\"#vis\", spec, embed_opt)\n",
              "      .catch(error => showError(el, error));\n",
              "  </script>\n",
              "</body>\n",
              "</html>\n"
            ]
          },
          "metadata": {
            "tags": []
          }
        }
      ]
    },
    {
      "metadata": {
        "id": "Opz2K0VPrZAm",
        "colab_type": "code",
        "colab": {}
      },
      "cell_type": "code",
      "source": [
        ""
      ],
      "execution_count": 0,
      "outputs": []
    }
  ]
}