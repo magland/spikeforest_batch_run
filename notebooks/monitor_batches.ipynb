{
  "nbformat": 4,
  "nbformat_minor": 0,
  "metadata": {
    "colab": {
      "name": "monitor_batches.ipynb",
      "version": "0.3.2",
      "provenance": [],
      "toc_visible": true,
      "include_colab_link": true
    },
    "kernelspec": {
      "name": "python3",
      "display_name": "Python 3"
    }
  },
  "cells": [
    {
      "cell_type": "markdown",
      "metadata": {
        "id": "view-in-github",
        "colab_type": "text"
      },
      "source": [
        "<a href=\"https://colab.research.google.com/github/magland/spikeforest_batch_run/blob/master/notebooks/monitor_batches.ipynb\" target=\"_parent\"><img src=\"https://colab.research.google.com/assets/colab-badge.svg\" alt=\"Open In Colab\"/></a>"
      ]
    },
    {
      "metadata": {
        "id": "hOKoCBylXY99",
        "colab_type": "text"
      },
      "cell_type": "markdown",
      "source": [
        "# Monitor batches\n",
        "\n",
        "This notebook allow you to monitor the spikeforest processing batches"
      ]
    },
    {
      "metadata": {
        "id": "UZZAEKHcXHE3",
        "colab_type": "code",
        "colab": {}
      },
      "cell_type": "code",
      "source": [
        "# Only run this cell if you are running this on a hosted runtime that does not have these packages installed\n",
        "# %%capture is used to suppress the output... this should take up to a minute to complete\n",
        "%%capture\n",
        "!pip install spikeforest"
      ],
      "execution_count": 0,
      "outputs": []
    },
    {
      "metadata": {
        "id": "fKfWo8xCXyoj",
        "colab_type": "code",
        "outputId": "e92450ab-6e8f-4867-f50c-f89d8295e029",
        "colab": {
          "base_uri": "https://localhost:8080/",
          "height": 34
        }
      },
      "cell_type": "code",
      "source": [
        "# Import the python packages -- autoreload is used for development purposes\n",
        "%load_ext autoreload\n",
        "%autoreload 2\n",
        "\n",
        "import spikeforest as sf\n",
        "import spikewidgets as sw\n",
        "import vdomr as vd\n",
        "import json\n",
        "\n",
        "## Configure readonly access to kbucket\n",
        "sf.kbucketConfigRemote(name='spikeforest1-readonly')\n",
        "\n",
        "## Load the SpikeForest data\n",
        "#SF=sf.SFData()\n",
        "#SF.loadRecordings(key=dict(name='spikeforest_bionet_recordings'))\n",
        "#SF.loadRecordings(key=dict(name='spikeforest_magland_synth_recordings'))\n",
        "#SF.loadProcessingBatch(key=dict(batch_name='summarize_recordings_bionet',name='job_results'))\n",
        "#SF.loadProcessingBatch(key=dict(batch_name='summarize_recordings_magland_synth',name='job_results'))"
      ],
      "execution_count": 0,
      "outputs": [
        {
          "output_type": "stream",
          "text": [
            "vdomr: using colab because of VDOMR_MODE environment variable\n"
          ],
          "name": "stdout"
        }
      ]
    },
    {
      "metadata": {
        "id": "u9CiYhx4s_Bp",
        "colab_type": "code",
        "colab": {}
      },
      "cell_type": "code",
      "source": [
        "from kbucket import client as kb\n",
        "from pairio import client as pa\n",
        "\n",
        "class BatchJob():\n",
        "  def __init__(self,object):\n",
        "    self._object=object\n",
        "  def command(self):\n",
        "    return self._object['command']\n",
        "  def label(self):\n",
        "    return self._object['label']\n",
        "  def object(self):\n",
        "    return self._object\n",
        "  def getStatus(self):\n",
        "    val=pa.get(key=self._object)\n",
        "    if not val:\n",
        "      return 'not-started'\n",
        "    if val.startswith('in-process-'):\n",
        "      return 'in-process'\n",
        "    elif val.startswith('error-'):\n",
        "      return 'error'\n",
        "    result=kb.loadObject(key=self._object)\n",
        "    if not result:\n",
        "      return 'result-not-found'\n",
        "    return 'finished'\n",
        "\n",
        "class Batch():\n",
        "  def __init__(self,batch_name):\n",
        "    self._batch_name=batch_name\n",
        "    self._batch=kb.loadObject(key=dict(batch_name=batch_name))\n",
        "  def numJobs(self):\n",
        "    return len(self._batch['jobs'])\n",
        "  def job(self,index):\n",
        "    return BatchJob(self._batch['jobs'][index])"
      ],
      "execution_count": 0,
      "outputs": []
    },
    {
      "metadata": {
        "id": "HRgLwqxMtxOM",
        "colab_type": "code",
        "colab": {}
      },
      "cell_type": "code",
      "source": [
        "class BatchViewTable(vd.Component):\n",
        "  def __init__(self):\n",
        "    vd.Component.__init__(self)\n",
        "    self._batch=None\n",
        "  def setBatch(self,batch):\n",
        "    self._batch=batch\n",
        "    self.refresh()\n",
        "  def render(self):\n",
        "    if not self._batch:\n",
        "      return vd.span('...')\n",
        "    \n",
        "    rows=[]\n",
        "    header_row=vd.tr(\n",
        "        vd.th('Job'),\n",
        "        vd.th('Command'),\n",
        "        vd.th('Status')\n",
        "    )\n",
        "    rows.append(header_row)\n",
        "    for i in range(self._batch.numJobs()):\n",
        "      job=self._batch.job(i)\n",
        "      \n",
        "      try:\n",
        "        status=job.getStatus()\n",
        "      except:\n",
        "        status='not found'\n",
        "      \n",
        "      row=vd.tr(\n",
        "          vd.td(job.label()),\n",
        "          vd.td(job.command()),\n",
        "          vd.td(status)\n",
        "      )\n",
        "      rows.append(row)\n",
        "    table=vd.table(rows,class_='table')\n",
        "    table2=vd.div(table,style=dict(width='700px',height='400px',overflow='auto'))\n",
        "    return table2\n",
        "\n",
        "class BatchView(vd.Component):\n",
        "  def __init__(self,batch_name):\n",
        "    vd.devel.loadBootstrap()\n",
        "    vd.Component.__init__(self)\n",
        "    self._batch_name=batch_name\n",
        "    self._batch_view_table=BatchViewTable()\n",
        "  def _reload_batch(self):\n",
        "    batch=Batch(batch_name=self._batch_name)\n",
        "    self._batch_view_table.setBatch(batch)\n",
        "    self.refresh()\n",
        "  def reloadBatch(self):\n",
        "    self._reload_batch()\n",
        "  def render(self):\n",
        "    heading=vd.div(\n",
        "        vd.h3('Batch: '+self._batch_name)\n",
        "    )\n",
        "    button_bar=vd.div(\n",
        "        vd.components.Button('Refresh',onclick=self._reload_batch,class_='btn')\n",
        "    )\n",
        "    table=self._batch_view_table\n",
        "    div=vd.div(\n",
        "        heading,\n",
        "        button_bar,\n",
        "        table\n",
        "    )\n",
        "    return div"
      ],
      "execution_count": 0,
      "outputs": []
    },
    {
      "metadata": {
        "id": "FHKXcuShulEw",
        "colab_type": "code",
        "outputId": "c271fb82-caf3-4c9b-db11-259fbcbde459",
        "colab": {
          "base_uri": "https://localhost:8080/",
          "height": 505
        }
      },
      "cell_type": "code",
      "source": [
        "BV=BatchView(batch_name='ms4_mearec_tetrode')\n",
        "display(BV)\n",
        "BV.reloadBatch()"
      ],
      "execution_count": 30,
      "outputs": [
        {
          "output_type": "display_data",
          "data": {
            "text/plain": [
              "<IPython.core.display.HTML object>"
            ],
            "text/html": [
              "<link rel=\"stylesheet\" href=\"https://maxcdn.bootstrapcdn.com/bootstrap/3.3.7/css/bootstrap.min.css\" integrity=\"sha384-BVYiiSIFeK1dGmJRAkycuHAHRg32OmUcww7on3RYdg4Va+PmSTsz/K68vbdEjh4u\" crossorigin=\"anonymous\">"
            ]
          },
          "metadata": {
            "tags": []
          }
        },
        {
          "output_type": "display_data",
          "data": {
            "text/plain": [
              "<IPython.core.display.Javascript object>"
            ],
            "application/javascript": [
              "window.vdomr_invokeFunction=google.colab.kernel.invokeFunction"
            ]
          },
          "metadata": {
            "tags": []
          }
        },
        {
          "output_type": "display_data",
          "data": {
            "text/plain": [
              "<__main__.BatchView at 0x7fc88ef2ba20>"
            ],
            "text/html": [
              "<div id=224cbbcc-6fb9-4ccc-ab49-35bc7639bbbe><div><div><h3>Batch: ms4_mearec_tetrode</h3></div><div><div id=c47bc6a4-a497-40a5-9ea9-77a24c91c178><button onclick=\"window.vdomr_invokeFunction(&#x27;onclickcallback-9dd26310-814e-4118-ae2a-50aee77182df&#x27;, [], {})\" class=\"btn\">Refresh</button></div></div><div id=49243060-7b56-4230-8184-c0e53d380c6f><span>...</span></div></div></div>"
            ]
          },
          "metadata": {
            "tags": []
          }
        },
        {
          "output_type": "display_data",
          "data": {
            "text/plain": [
              "<IPython.core.display.Javascript object>"
            ],
            "application/javascript": [
              "{console.log('test 1'); var elmt=document.getElementById('49243060-7b56-4230-8184-c0e53d380c6f'); if (elmt) elmt.innerHTML=atob('PGRpdiBzdHlsZT0id2lkdGg6IDcwMHB4OyBoZWlnaHQ6IDQwMHB4OyBvdmVyZmxvdzogYXV0byI+PHRhYmxlIGNsYXNzPSJ0YWJsZSI+PHRyPjx0aD5Kb2I8L3RoPjx0aD5Db21tYW5kPC90aD48dGg+U3RhdHVzPC90aD48L3RyPjx0cj48dGQ+TW91bnRhaW5Tb3J0NC10aHIzOiAwMDFfc3ludGg8L3RkPjx0ZD5zb3J0X3JlY29yZGluZzwvdGQ+PHRkPm5vdCBmb3VuZDwvdGQ+PC90cj48dHI+PHRkPk1vdW50YWluU29ydDQtdGhyMzogMDAyX3N5bnRoPC90ZD48dGQ+c29ydF9yZWNvcmRpbmc8L3RkPjx0ZD5ub3QgZm91bmQ8L3RkPjwvdHI+PHRyPjx0ZD5Nb3VudGFpblNvcnQ0LXRocjM6IDAwM19zeW50aDwvdGQ+PHRkPnNvcnRfcmVjb3JkaW5nPC90ZD48dGQ+aW4tcHJvY2VzczwvdGQ+PC90cj48dHI+PHRkPk1vdW50YWluU29ydDQtdGhyMzogMDA0X3N5bnRoPC90ZD48dGQ+c29ydF9yZWNvcmRpbmc8L3RkPjx0ZD5ub3Qtc3RhcnRlZDwvdGQ+PC90cj48dHI+PHRkPk1vdW50YWluU29ydDQtdGhyMzogMDA1X3N5bnRoPC90ZD48dGQ+c29ydF9yZWNvcmRpbmc8L3RkPjx0ZD5ub3Qtc3RhcnRlZDwvdGQ+PC90cj48dHI+PHRkPk1vdW50YWluU29ydDQtdGhyMzogMDA2X3N5bnRoPC90ZD48dGQ+c29ydF9yZWNvcmRpbmc8L3RkPjx0ZD5ub3Qtc3RhcnRlZDwvdGQ+PC90cj48dHI+PHRkPk1vdW50YWluU29ydDQtdGhyMzogMDA3X3N5bnRoPC90ZD48dGQ+c29ydF9yZWNvcmRpbmc8L3RkPjx0ZD5ub3Qtc3RhcnRlZDwvdGQ+PC90cj48dHI+PHRkPk1vdW50YWluU29ydDQtdGhyMzogMDA4X3N5bnRoPC90ZD48dGQ+c29ydF9yZWNvcmRpbmc8L3RkPjx0ZD5ub3Qtc3RhcnRlZDwvdGQ+PC90cj48dHI+PHRkPk1vdW50YWluU29ydDQtdGhyMzogMDA5X3N5bnRoPC90ZD48dGQ+c29ydF9yZWNvcmRpbmc8L3RkPjx0ZD5ub3Qtc3RhcnRlZDwvdGQ+PC90cj48dHI+PHRkPk1vdW50YWluU29ydDQtdGhyMzogMDEwX3N5bnRoPC90ZD48dGQ+c29ydF9yZWNvcmRpbmc8L3RkPjx0ZD5ub3Qtc3RhcnRlZDwvdGQ+PC90cj48dHI+PHRkPk1vdW50YWluU29ydDQtdGhyMzogMDAxX3N5bnRoPC90ZD48dGQ+c29ydF9yZWNvcmRpbmc8L3RkPjx0ZD5ub3Qtc3RhcnRlZDwvdGQ+PC90cj48dHI+PHRkPk1vdW50YWluU29ydDQtdGhyMzogMDAyX3N5bnRoPC90ZD48dGQ+c29ydF9yZWNvcmRpbmc8L3RkPjx0ZD5ub3Qtc3RhcnRlZDwvdGQ+PC90cj48dHI+PHRkPk1vdW50YWluU29ydDQtdGhyMzogMDAzX3N5bnRoPC90ZD48dGQ+c29ydF9yZWNvcmRpbmc8L3RkPjx0ZD5ub3Qtc3RhcnRlZDwvdGQ+PC90cj48dHI+PHRkPk1vdW50YWluU29ydDQtdGhyMzogMDA0X3N5bnRoPC90ZD48dGQ+c29ydF9yZWNvcmRpbmc8L3RkPjx0ZD5ub3Qtc3RhcnRlZDwvdGQ+PC90cj48dHI+PHRkPk1vdW50YWluU29ydDQtdGhyMzogMDA1X3N5bnRoPC90ZD48dGQ+c29ydF9yZWNvcmRpbmc8L3RkPjx0ZD5ub3Qtc3RhcnRlZDwvdGQ+PC90cj48dHI+PHRkPk1vdW50YWluU29ydDQtdGhyMzogMDA2X3N5bnRoPC90ZD48dGQ+c29ydF9yZWNvcmRpbmc8L3RkPjx0ZD5ub3Qtc3RhcnRlZDwvdGQ+PC90cj48dHI+PHRkPk1vdW50YWluU29ydDQtdGhyMzogMDA3X3N5bnRoPC90ZD48dGQ+c29ydF9yZWNvcmRpbmc8L3RkPjx0ZD5ub3Qtc3RhcnRlZDwvdGQ+PC90cj48dHI+PHRkPk1vdW50YWluU29ydDQtdGhyMzogMDA4X3N5bnRoPC90ZD48dGQ+c29ydF9yZWNvcmRpbmc8L3RkPjx0ZD5ub3Qtc3RhcnRlZDwvdGQ+PC90cj48dHI+PHRkPk1vdW50YWluU29ydDQtdGhyMzogMDA5X3N5bnRoPC90ZD48dGQ+c29ydF9yZWNvcmRpbmc8L3RkPjx0ZD5ub3Qtc3RhcnRlZDwvdGQ+PC90cj48dHI+PHRkPk1vdW50YWluU29ydDQtdGhyMzogMDEwX3N5bnRoPC90ZD48dGQ+c29ydF9yZWNvcmRpbmc8L3RkPjx0ZD5ub3Qtc3RhcnRlZDwvdGQ+PC90cj48dHI+PHRkPk1vdW50YWluU29ydDQtdGhyMzogMDAxX3N5bnRoPC90ZD48dGQ+c29ydF9yZWNvcmRpbmc8L3RkPjx0ZD5ub3Qtc3RhcnRlZDwvdGQ+PC90cj48dHI+PHRkPk1vdW50YWluU29ydDQtdGhyMzogMDAyX3N5bnRoPC90ZD48dGQ+c29ydF9yZWNvcmRpbmc8L3RkPjx0ZD5ub3Qtc3RhcnRlZDwvdGQ+PC90cj48dHI+PHRkPk1vdW50YWluU29ydDQtdGhyMzogMDAzX3N5bnRoPC90ZD48dGQ+c29ydF9yZWNvcmRpbmc8L3RkPjx0ZD5ub3Qtc3RhcnRlZDwvdGQ+PC90cj48dHI+PHRkPk1vdW50YWluU29ydDQtdGhyMzogMDA0X3N5bnRoPC90ZD48dGQ+c29ydF9yZWNvcmRpbmc8L3RkPjx0ZD5ub3Qtc3RhcnRlZDwvdGQ+PC90cj48dHI+PHRkPk1vdW50YWluU29ydDQtdGhyMzogMDA1X3N5bnRoPC90ZD48dGQ+c29ydF9yZWNvcmRpbmc8L3RkPjx0ZD5ub3Qtc3RhcnRlZDwvdGQ+PC90cj48dHI+PHRkPk1vdW50YWluU29ydDQtdGhyMzogMDA2X3N5bnRoPC90ZD48dGQ+c29ydF9yZWNvcmRpbmc8L3RkPjx0ZD5ub3Qtc3RhcnRlZDwvdGQ+PC90cj48dHI+PHRkPk1vdW50YWluU29ydDQtdGhyMzogMDA3X3N5bnRoPC90ZD48dGQ+c29ydF9yZWNvcmRpbmc8L3RkPjx0ZD5ub3Qtc3RhcnRlZDwvdGQ+PC90cj48dHI+PHRkPk1vdW50YWluU29ydDQtdGhyMzogMDA4X3N5bnRoPC90ZD48dGQ+c29ydF9yZWNvcmRpbmc8L3RkPjx0ZD5ub3Qtc3RhcnRlZDwvdGQ+PC90cj48dHI+PHRkPk1vdW50YWluU29ydDQtdGhyMzogMDA5X3N5bnRoPC90ZD48dGQ+c29ydF9yZWNvcmRpbmc8L3RkPjx0ZD5ub3Qtc3RhcnRlZDwvdGQ+PC90cj48dHI+PHRkPk1vdW50YWluU29ydDQtdGhyMzogMDEwX3N5bnRoPC90ZD48dGQ+c29ydF9yZWNvcmRpbmc8L3RkPjx0ZD5ub3Qtc3RhcnRlZDwvdGQ+PC90cj48dHI+PHRkPk1vdW50YWluU29ydDQtdGhyMzogMDAxX3N5bnRoPC90ZD48dGQ+c29ydF9yZWNvcmRpbmc8L3RkPjx0ZD5ub3Qtc3RhcnRlZDwvdGQ+PC90cj48dHI+PHRkPk1vdW50YWluU29ydDQtdGhyMzogMDAyX3N5bnRoPC90ZD48dGQ+c29ydF9yZWNvcmRpbmc8L3RkPjx0ZD5ub3Qtc3RhcnRlZDwvdGQ+PC90cj48dHI+PHRkPk1vdW50YWluU29ydDQtdGhyMzogMDAzX3N5bnRoPC90ZD48dGQ+c29ydF9yZWNvcmRpbmc8L3RkPjx0ZD5ub3Qtc3RhcnRlZDwvdGQ+PC90cj48dHI+PHRkPk1vdW50YWluU29ydDQtdGhyMzogMDA0X3N5bnRoPC90ZD48dGQ+c29ydF9yZWNvcmRpbmc8L3RkPjx0ZD5ub3Qtc3RhcnRlZDwvdGQ+PC90cj48dHI+PHRkPk1vdW50YWluU29ydDQtdGhyMzogMDA1X3N5bnRoPC90ZD48dGQ+c29ydF9yZWNvcmRpbmc8L3RkPjx0ZD5ub3Qtc3RhcnRlZDwvdGQ+PC90cj48dHI+PHRkPk1vdW50YWluU29ydDQtdGhyMzogMDA2X3N5bnRoPC90ZD48dGQ+c29ydF9yZWNvcmRpbmc8L3RkPjx0ZD5ub3Qtc3RhcnRlZDwvdGQ+PC90cj48dHI+PHRkPk1vdW50YWluU29ydDQtdGhyMzogMDA3X3N5bnRoPC90ZD48dGQ+c29ydF9yZWNvcmRpbmc8L3RkPjx0ZD5ub3Qtc3RhcnRlZDwvdGQ+PC90cj48dHI+PHRkPk1vdW50YWluU29ydDQtdGhyMzogMDA4X3N5bnRoPC90ZD48dGQ+c29ydF9yZWNvcmRpbmc8L3RkPjx0ZD5ub3Qtc3RhcnRlZDwvdGQ+PC90cj48dHI+PHRkPk1vdW50YWluU29ydDQtdGhyMzogMDA5X3N5bnRoPC90ZD48dGQ+c29ydF9yZWNvcmRpbmc8L3RkPjx0ZD5ub3Qtc3RhcnRlZDwvdGQ+PC90cj48dHI+PHRkPk1vdW50YWluU29ydDQtdGhyMzogMDEwX3N5bnRoPC90ZD48dGQ+c29ydF9yZWNvcmRpbmc8L3RkPjx0ZD5ub3Qtc3RhcnRlZDwvdGQ+PC90cj48L3RhYmxlPjwvZGl2Pg=='); console.log('test 2')}"
            ]
          },
          "metadata": {
            "tags": []
          }
        },
        {
          "output_type": "display_data",
          "data": {
            "text/plain": [
              "<IPython.core.display.Javascript object>"
            ],
            "application/javascript": [
              "window.vdomr_invokeFunction=google.colab.kernel.invokeFunction"
            ]
          },
          "metadata": {
            "tags": []
          }
        },
        {
          "output_type": "display_data",
          "data": {
            "text/plain": [
              "<IPython.core.display.Javascript object>"
            ],
            "application/javascript": [
              "{console.log('test 1'); var elmt=document.getElementById('224cbbcc-6fb9-4ccc-ab49-35bc7639bbbe'); if (elmt) elmt.innerHTML=atob('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'); console.log('test 2')}"
            ]
          },
          "metadata": {
            "tags": []
          }
        }
      ]
    },
    {
      "metadata": {
        "id": "xF79zMqVxObq",
        "colab_type": "code",
        "colab": {}
      },
      "cell_type": "code",
      "source": [
        ""
      ],
      "execution_count": 0,
      "outputs": []
    }
  ]
}