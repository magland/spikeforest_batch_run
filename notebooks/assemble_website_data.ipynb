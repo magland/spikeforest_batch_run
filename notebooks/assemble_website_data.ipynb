{
  "nbformat": 4,
  "nbformat_minor": 0,
  "metadata": {
    "colab": {
      "name": "assemble_website_data.ipynb",
      "version": "0.3.2",
      "provenance": [],
      "collapsed_sections": [],
      "include_colab_link": true
    },
    "kernelspec": {
      "display_name": "Python 3",
      "language": "python",
      "name": "python3"
    }
  },
  "cells": [
    {
      "cell_type": "markdown",
      "metadata": {
        "id": "view-in-github",
        "colab_type": "text"
      },
      "source": [
        "<a href=\"https://colab.research.google.com/github/magland/spikeforest_batch_run/blob/master/notebooks/assemble_website_data.ipynb\" target=\"_parent\"><img src=\"https://colab.research.google.com/assets/colab-badge.svg\" alt=\"Open In Colab\"/></a>"
      ]
    },
    {
      "metadata": {
        "colab_type": "text",
        "id": "NrO0ybyxN4bC"
      },
      "cell_type": "markdown",
      "source": [
        "## Assemble website data\n",
        "\n",
        "This notebook assembles the data for the website.\n",
        "\n",
        "\n",
        "This is the info to Liz on 11/16/18:\n",
        "\n",
        "\n",
        "Here's the data for the website:\n",
        "```\n",
        "kb.loadObject(\n",
        "    key=dict(\n",
        "        target='spikeforest_website_dev_12_13_2018',\n",
        "        name='studies'\n",
        "    )\n",
        ")\n",
        "\n",
        "kb.loadObject(\n",
        "    key=dict(\n",
        "        target='spikeforest_website_dev_12_13_2018',\n",
        "        name='recordings'\n",
        "    )\n",
        ")\n",
        "\n",
        "kb.loadObject(\n",
        "    key=dict(\n",
        "        target='spikeforest_website_dev_12_13_2018',\n",
        "        name='true_units'\n",
        "    )\n",
        ")\n",
        "\n",
        "kb.loadObject(\n",
        "    key=dict(\n",
        "        target='spikeforest_website_dev_12_13_2018',\n",
        "        name='sorters'\n",
        "    )\n",
        ")\n",
        "```\n"
      ]
    },
    {
      "metadata": {
        "colab_type": "code",
        "id": "xcRxwVZ63fYn",
        "colab": {}
      },
      "cell_type": "code",
      "source": [
        "# Only run this cell if you are running this on a hosted runtime that does not have these packages installed\n",
        "# Consider connecting to a local runtime\n",
        "%%capture\n",
        "!pip install spikeforest"
      ],
      "execution_count": 0,
      "outputs": []
    },
    {
      "metadata": {
        "colab_type": "code",
        "id": "jHr10qe23rjS",
        "outputId": "cc62d263-4508-4eb7-c145-2dff8dd7eb9c",
        "colab": {
          "base_uri": "https://localhost:8080/",
          "height": 50
        }
      },
      "cell_type": "code",
      "source": [
        "%load_ext autoreload\n",
        "%autoreload 2\n",
        "\n",
        "from kbucket import client as kb\n",
        "from pairio import client as pa\n",
        "import spikeforest as sf\n",
        "import spikeextractors as si\n",
        "import json\n",
        "import numpy as np"
      ],
      "execution_count": 1,
      "outputs": [
        {
          "output_type": "stream",
          "text": [
            "vdomr: unable to determine whether to use jp_proxy_widget or google colab\n",
            "You should set the environment variable VDOMR_MODE to JP_PROXY_WIDGET or COLAB\n"
          ],
          "name": "stdout"
        }
      ]
    },
    {
      "metadata": {
        "colab_type": "code",
        "id": "Rr17RFOw3uO-",
        "outputId": "765da848-c20e-4e29-f888-7ba8239afa03",
        "colab": {
          "base_uri": "https://localhost:8080/",
          "height": 50
        }
      },
      "cell_type": "code",
      "source": [
        "## Configure read/write access to kbucket\n",
        "sf.kbucketConfigRemote(name='spikeforest1-readwrite',ask_password=True)"
      ],
      "execution_count": 2,
      "outputs": [
        {
          "output_type": "stream",
          "text": [
            "Enter password: ··········\n",
            "Pairio user set to spikeforest. Test succeeded.\n"
          ],
          "name": "stdout"
        }
      ]
    },
    {
      "metadata": {
        "colab_type": "code",
        "id": "2ZYwytf73wn8",
        "colab": {}
      },
      "cell_type": "code",
      "source": [
        "recording_collection_names=[\n",
        "    'spikeforest_magland_synth_recordings',\n",
        "    'spikeforest_bionet8c_recordings',\n",
        "    'spikeforest_bionet32c_recordings',\n",
        "    'spikeforest_mearec_tetrode_recordings'\n",
        "]\n",
        "\n",
        "batch_names=[\n",
        "    'summarize_recordings_magland_synth', 'summarize_recordings_bionet8c', 'summarize_recordings_bionet32c', 'summarize_recordings_mearec_tetrode',\n",
        "    'ms4_magland_synth', 'irc_magland_synth', 'sc_magland_synth', #'ks_magland_synth',\n",
        "    'ms4_bionet8c', 'irc_bionet8c', 'sc_bionet8c',\n",
        "    'ms4_bionet32c', 'irc_bionet32c', 'sc_bionet32c',\n",
        "    'ms4_mearec_tetrode', 'irc_mearec_tetrode', #'ks_mearec_tetrode'\n",
        "]\n",
        "# 'ks_bionet', \n",
        "# , 'sc_mearec_tetrode'"
      ],
      "execution_count": 0,
      "outputs": []
    },
    {
      "metadata": {
        "id": "rxNW9AU6rohW",
        "colab_type": "code",
        "outputId": "01010699-fb36-4ac9-f835-0763f3ef400c",
        "colab": {
          "base_uri": "https://localhost:8080/",
          "height": 907
        }
      },
      "cell_type": "code",
      "source": [
        "## Load the SpikeForest data\n",
        "SF=sf.SFData()\n",
        "for rcname in recording_collection_names:\n",
        "  print(rcname)\n",
        "  SF.loadRecordings(key=dict(name=rcname))\n",
        "for bname in batch_names:\n",
        "  print(bname)\n",
        "  SF.loadProcessingBatch(batch_name=bname)"
      ],
      "execution_count": 33,
      "outputs": [
        {
          "output_type": "stream",
          "text": [
            "spikeforest_magland_synth_recordings\n",
            "Loading recordings: {\"name\": \"spikeforest_magland_synth_recordings\"}\n",
            "spikeforest_bionet8c_recordings\n",
            "Loading recordings: {\"name\": \"spikeforest_bionet8c_recordings\"}\n",
            "spikeforest_bionet32c_recordings\n",
            "Loading recordings: {\"name\": \"spikeforest_bionet32c_recordings\"}\n",
            "spikeforest_mearec_tetrode_recordings\n",
            "Loading recordings: {\"name\": \"spikeforest_mearec_tetrode_recordings\"}\n",
            "summarize_recordings_magland_synth\n",
            "Loading processing batch: {\"name\": \"batcho_batch_results\", \"batch_name\": \"summarize_recordings_magland_synth\"}\n",
            "Loaded 0 sorting results and 80 recording summary results\n",
            "summarize_recordings_bionet8c\n",
            "Loading processing batch: {\"name\": \"batcho_batch_results\", \"batch_name\": \"summarize_recordings_bionet8c\"}\n",
            "Loaded 0 sorting results and 36 recording summary results\n",
            "summarize_recordings_bionet32c\n",
            "Loading processing batch: {\"name\": \"batcho_batch_results\", \"batch_name\": \"summarize_recordings_bionet32c\"}\n",
            "Loaded 0 sorting results and 36 recording summary results\n",
            "summarize_recordings_mearec_tetrode\n",
            "Loading processing batch: {\"name\": \"batcho_batch_results\", \"batch_name\": \"summarize_recordings_mearec_tetrode\"}\n",
            "Loaded 0 sorting results and 40 recording summary results\n",
            "ms4_magland_synth\n",
            "Loading processing batch: {\"name\": \"batcho_batch_results\", \"batch_name\": \"ms4_magland_synth\"}\n",
            "Loaded 80 sorting results and 0 recording summary results\n",
            "irc_magland_synth\n",
            "Loading processing batch: {\"name\": \"batcho_batch_results\", \"batch_name\": \"irc_magland_synth\"}\n",
            "Loaded 80 sorting results and 0 recording summary results\n",
            "sc_magland_synth\n",
            "Loading processing batch: {\"name\": \"batcho_batch_results\", \"batch_name\": \"sc_magland_synth\"}\n",
            "Loaded 80 sorting results and 0 recording summary results\n",
            "ms4_bionet8c\n",
            "Loading processing batch: {\"name\": \"batcho_batch_results\", \"batch_name\": \"ms4_bionet8c\"}\n",
            "Loaded 36 sorting results and 0 recording summary results\n",
            "irc_bionet8c\n",
            "Loading processing batch: {\"name\": \"batcho_batch_results\", \"batch_name\": \"irc_bionet8c\"}\n",
            "Loaded 36 sorting results and 0 recording summary results\n",
            "sc_bionet8c\n",
            "Loading processing batch: {\"name\": \"batcho_batch_results\", \"batch_name\": \"sc_bionet8c\"}\n",
            "Loaded 36 sorting results and 0 recording summary results\n",
            "ms4_bionet32c\n",
            "Loading processing batch: {\"name\": \"batcho_batch_results\", \"batch_name\": \"ms4_bionet32c\"}\n",
            "Loaded 36 sorting results and 0 recording summary results\n",
            "irc_bionet32c\n",
            "Loading processing batch: {\"name\": \"batcho_batch_results\", \"batch_name\": \"irc_bionet32c\"}\n",
            "Loaded 36 sorting results and 0 recording summary results\n",
            "sc_bionet32c\n",
            "Loading processing batch: {\"name\": \"batcho_batch_results\", \"batch_name\": \"sc_bionet32c\"}\n",
            "Loaded 36 sorting results and 0 recording summary results\n",
            "ms4_mearec_tetrode\n",
            "Loading processing batch: {\"name\": \"batcho_batch_results\", \"batch_name\": \"ms4_mearec_tetrode\"}\n",
            "Loaded 40 sorting results and 0 recording summary results\n",
            "irc_mearec_tetrode\n",
            "Loading processing batch: {\"name\": \"batcho_batch_results\", \"batch_name\": \"irc_mearec_tetrode\"}\n",
            "Loaded 40 sorting results and 0 recording summary results\n"
          ],
          "name": "stdout"
        }
      ]
    },
    {
      "metadata": {
        "id": "SHUYOM7N2eL9",
        "colab_type": "code",
        "colab": {}
      },
      "cell_type": "code",
      "source": [
        "def min_max_range(a):\n",
        "  return [min(a),max(a)]\n",
        "\n",
        "def compute_recording_ranges(study):\n",
        "  rnames=study.recordingNames()\n",
        "  summary_objects=[study.recording(rname).getSummaryObject() for rname in rnames]\n",
        "  recording_dirnames=[study.recording(rname).directory() for rname in rnames]\n",
        "  \n",
        "  duration_sec_list=[float(obj['computed_info']['duration_sec']) for obj in summary_objects]\n",
        "  num_channels_list=[int(obj['computed_info']['num_channels']) for obj in summary_objects]\n",
        "  samplerate_hz_list=[int(obj['computed_info']['samplerate']) for obj in summary_objects]\n",
        "  num_true_units_list=[int(len(study.recording(rname).trueUnitsInfo(format='json'))) for rname in rnames]\n",
        "  file_size_bytes_list=[int(kb.getFileSize(dirname+'/raw.mda')) for dirname in recording_dirnames]\n",
        "  \n",
        "  recording_ranges=dict(\n",
        "      duration_sec=min_max_range(duration_sec_list),\n",
        "      num_channels=min_max_range(num_channels_list),\n",
        "      samplerate_hz=min_max_range(samplerate_hz_list),\n",
        "      file_size_bytes=min_max_range(file_size_bytes_list),\n",
        "      num_ground_truth_units=min_max_range(num_true_units_list)\n",
        "  )\n",
        "  \n",
        "  return recording_ranges"
      ],
      "execution_count": 0,
      "outputs": []
    },
    {
      "metadata": {
        "id": "kNBjRKl0sTmj",
        "colab_type": "code",
        "colab": {}
      },
      "cell_type": "code",
      "source": [
        "## Load the studies\n",
        "print('Loading studies')\n",
        "all_studies=[]\n",
        "studies_by_name=dict()\n",
        "for sname in SF.studyNames():\n",
        "  print(sname)\n",
        "  study=dict(name=sname)\n",
        "  study['sorters']=[] # initialize\n",
        "  study['num_recordings']=len(SF.study(sname).recordingNames())\n",
        "  study['recording_ranges']=compute_recording_ranges(SF.study(sname))\n",
        "  studies_by_name[sname]=study\n",
        "  all_studies.append(study)"
      ],
      "execution_count": 0,
      "outputs": []
    },
    {
      "metadata": {
        "id": "zHRiNGaCslyq",
        "colab_type": "code",
        "outputId": "72f614f5-924c-40ea-bfe9-ab8a7d0cd9d6",
        "colab": {
          "base_uri": "https://localhost:8080/",
          "height": 34
        }
      },
      "cell_type": "code",
      "source": [
        "## Load the recordings\n",
        "print('Loading recordings')\n",
        "all_recordings=[]\n",
        "for sname in SF.studyNames():\n",
        "  SS=SF.study(sname)\n",
        "  for rname in SS.recordingNames():\n",
        "    RR=SS.recording(rname)\n",
        "    recording=RR.getObject()\n",
        "    all_recordings.append(recording)"
      ],
      "execution_count": 36,
      "outputs": [
        {
          "output_type": "stream",
          "text": [
            "Loading recordings\n"
          ],
          "name": "stdout"
        }
      ]
    },
    {
      "metadata": {
        "id": "u5NXFMRStXmW",
        "colab_type": "code",
        "outputId": "1855866a-b9ac-4b86-8ad3-f4fe39a19de9",
        "colab": {
          "base_uri": "https://localhost:8080/",
          "height": 34
        }
      },
      "cell_type": "code",
      "source": [
        "## Load the units\n",
        "all_true_units=[]\n",
        "unit_lookup=dict()\n",
        "for sname in SF.studyNames():\n",
        "  SS=SF.study(sname)\n",
        "  for rname in SS.recordingNames():\n",
        "    RR=SS.recording(rname)\n",
        "    true_units_info=RR.trueUnitsInfo(format='json')\n",
        "    for unit in true_units_info:\n",
        "      unit['study']=sname\n",
        "      unit['recording']=rname\n",
        "      unit['sorting_results']=dict()\n",
        "      all_true_units.append(unit)\n",
        "      code=sname+'---'+rname+'---'+str(unit['unit_id'])\n",
        "      unit_lookup[code]=unit\n",
        "print('Found {} true units'.format(len(all_true_units)))"
      ],
      "execution_count": 37,
      "outputs": [
        {
          "output_type": "stream",
          "text": [
            "Found 17350 true units\n"
          ],
          "name": "stdout"
        }
      ]
    },
    {
      "metadata": {
        "id": "D70o3UnSuXsV",
        "colab_type": "code",
        "outputId": "f87fbdc3-f5c6-4a55-858a-68b06768bdfb",
        "colab": {
          "base_uri": "https://localhost:8080/",
          "height": 50
        }
      },
      "cell_type": "code",
      "source": [
        "## Load the sorting results\n",
        "print('Loading sorting results')\n",
        "count=0\n",
        "sorters_by_name=dict()\n",
        "num_problems=0\n",
        "for sname in SF.studyNames():\n",
        "  SS=SF.study(sname)\n",
        "  for rname in SS.recordingNames():\n",
        "    RR=SS.recording(rname)\n",
        "    for srname in RR.sortingResultNames():\n",
        "      SR=RR.sortingResult(srname)\n",
        "      result=SR.getObject()\n",
        "      if not SR.sorterName() in studies_by_name[sname]['sorters']:\n",
        "        studies_by_name[sname]['sorters'].append(SR.sorterName())\n",
        "      list=SR.comparisonWithTruth(format='json')\n",
        "      sorter=dict(\n",
        "          name=result['sorter_name'],\n",
        "          processor_name=result['sorting_processor_name'],\n",
        "          processor_version=result['sorting_processor_version'],\n",
        "          params=result['sorting_params']\n",
        "      )\n",
        "      sorters_by_name[SR.sorterName()]=sorter\n",
        "      for ii in list:\n",
        "        unit=list[ii]\n",
        "        if 'unit_id' in unit:\n",
        "          code=sname+'---'+rname+'---'+str(unit['unit_id'])\n",
        "          if code in unit_lookup:\n",
        "            unit_lookup[code]['sorting_results'][SR.sorterName()]=unit\n",
        "            count=count+1\n",
        "        else:\n",
        "          num_problems=num_problems+1\n",
        "          #print('Warning. Sorted unit does not have updated format: ',sname,rname,SR.sorterName())\n",
        "print('Loaded {} sorted units (num problems: {})'.format(count,num_problems))\n"
      ],
      "execution_count": 39,
      "outputs": [
        {
          "output_type": "stream",
          "text": [
            "Loading sorting results\n",
            "Loaded 51450 sorted units (num problems: 0)\n"
          ],
          "name": "stdout"
        }
      ]
    },
    {
      "metadata": {
        "id": "qEZ36Uimlkci",
        "colab_type": "code",
        "colab": {}
      },
      "cell_type": "code",
      "source": [
        "target='spikeforest_website_dev_12_14_2018'"
      ],
      "execution_count": 0,
      "outputs": []
    },
    {
      "metadata": {
        "id": "Zc7YqkZssRyG",
        "colab_type": "code",
        "outputId": "36238b03-129b-498b-eb8f-23dd9571fb3e",
        "colab": {
          "base_uri": "https://localhost:8080/",
          "height": 118
        }
      },
      "cell_type": "code",
      "source": [
        "all_sorters=[]\n",
        "for sname in sorters_by_name:\n",
        "  all_sorters.append(sorters_by_name[sname])\n",
        "print('Found {} sorters'.format(len(all_sorters)))\n",
        "\n",
        "print('Saving {} studies'.format(len(all_studies)))\n",
        "kb.saveObject(\n",
        "    key=dict(\n",
        "        target=target,\n",
        "        name='studies'\n",
        "    ),\n",
        "    object=dict(\n",
        "        studies=all_studies\n",
        "    )\n",
        ")\n",
        "    \n",
        "print('Saving {} recordings'.format(len(all_recordings)))\n",
        "kb.saveObject(\n",
        "    key=dict(\n",
        "        target=target,\n",
        "        name='recordings'\n",
        "    ),\n",
        "    object=dict(\n",
        "        recordings=all_recordings\n",
        "    )\n",
        ")\n",
        "\n",
        "\n",
        "print('Saving {} true units'.format(len(all_true_units)))\n",
        "kb.saveObject(\n",
        "    key=dict(\n",
        "        target=target,\n",
        "        name='true_units'\n",
        "    ),\n",
        "    object=dict(\n",
        "        true_units=all_true_units\n",
        "    )\n",
        ")\n",
        "\n",
        "print('Saving {} sorters'.format(len(all_sorters)))\n",
        "kb.saveObject(\n",
        "    key=dict(\n",
        "        target=target,\n",
        "        name='sorters'\n",
        "    ),\n",
        "    object=dict(\n",
        "        sorters=all_sorters\n",
        "    )\n",
        ")"
      ],
      "execution_count": 41,
      "outputs": [
        {
          "output_type": "stream",
          "text": [
            "Found 4 sorters\n",
            "Saving 18 studies\n",
            "Saving 192 recordings\n",
            "Already on server.\n",
            "Saving 17350 true units\n",
            "Saving 4 sorters\n"
          ],
          "name": "stdout"
        }
      ]
    },
    {
      "metadata": {
        "id": "lkC4VTYTxJ5z",
        "colab_type": "code",
        "outputId": "1813466a-4bb8-4b23-9325-1d4500c6fb29",
        "colab": {
          "base_uri": "https://localhost:8080/",
          "height": 1512
        }
      },
      "cell_type": "code",
      "source": [
        "print('Study:')\n",
        "obj=kb.loadObject(\n",
        "    key=dict(\n",
        "        target=target,\n",
        "        name='studies'\n",
        "    )\n",
        ")\n",
        "print(json.dumps(obj['studies'][0],indent=4))\n",
        "\n",
        "print('Recording:')\n",
        "obj=kb.loadObject(\n",
        "    key=dict(\n",
        "        target=target,\n",
        "        name='recordings'\n",
        "    )\n",
        ")\n",
        "print(json.dumps(obj['recordings'][0],indent=4))\n",
        "\n",
        "\n",
        "print('Unit:')\n",
        "obj=kb.loadObject(\n",
        "    key=dict(\n",
        "        target=target,\n",
        "        name='true_units'\n",
        "    )\n",
        ")\n",
        "print(json.dumps(obj['true_units'][0],indent=4))\n",
        "\n",
        "print('Sorter:')\n",
        "obj=kb.loadObject(\n",
        "    key=dict(\n",
        "        target=target,\n",
        "        name='sorters'\n",
        "    )\n",
        ")\n",
        "print(json.dumps(obj['sorters'][0],indent=4))"
      ],
      "execution_count": 42,
      "outputs": [
        {
          "output_type": "stream",
          "text": [
            "Study:\n",
            "{\n",
            "    \"name\": \"magland_synth_noise10_K10_C4\",\n",
            "    \"sorters\": [\n",
            "        \"MountainSort4-thr3\",\n",
            "        \"IronClust-tetrode\",\n",
            "        \"SpykingCircus\"\n",
            "    ],\n",
            "    \"num_recordings\": 10,\n",
            "    \"recording_ranges\": {\n",
            "        \"duration_sec\": [\n",
            "            600.0,\n",
            "            600.0\n",
            "        ],\n",
            "        \"num_channels\": [\n",
            "            4,\n",
            "            4\n",
            "        ],\n",
            "        \"samplerate_hz\": [\n",
            "            30000,\n",
            "            30000\n",
            "        ],\n",
            "        \"file_size_bytes\": [\n",
            "            288000020,\n",
            "            288000020\n",
            "        ],\n",
            "        \"num_ground_truth_units\": [\n",
            "            10,\n",
            "            10\n",
            "        ]\n",
            "    }\n",
            "}\n",
            "Recording:\n",
            "{\n",
            "    \"name\": \"001_synth\",\n",
            "    \"study\": \"magland_synth_noise10_K10_C4\",\n",
            "    \"directory\": \"kbucket://15734439d8cf/groundtruth/magland_synth/datasets_noise10_K10_C4/001_synth\",\n",
            "    \"description\": \"One of the recordings in the magland_synth_noise10_K10_C4 study\"\n",
            "}\n",
            "Unit:\n",
            "{\n",
            "    \"unit_id\": 1,\n",
            "    \"snr\": 25.396783859187707,\n",
            "    \"peak_channel\": 0,\n",
            "    \"num_events\": 1398,\n",
            "    \"firing_rate\": 2.33,\n",
            "    \"study\": \"magland_synth_noise10_K10_C4\",\n",
            "    \"recording\": \"001_synth\",\n",
            "    \"sorting_results\": {\n",
            "        \"MountainSort4-thr3\": {\n",
            "            \"unit_id\": 1,\n",
            "            \"accuracy\": \"1.00\",\n",
            "            \"best_unit\": 2,\n",
            "            \"matched_unit\": 2,\n",
            "            \"f_n\": \"0.00\",\n",
            "            \"f_p\": \"0.00\",\n",
            "            \"num_matches\": 1398\n",
            "        },\n",
            "        \"IronClust-tetrode\": {\n",
            "            \"unit_id\": 1,\n",
            "            \"accuracy\": \"1.00\",\n",
            "            \"best_unit\": 3,\n",
            "            \"matched_unit\": 3,\n",
            "            \"f_n\": \"0.00\",\n",
            "            \"f_p\": \"0.00\",\n",
            "            \"num_matches\": 1397\n",
            "        },\n",
            "        \"SpykingCircus\": {\n",
            "            \"unit_id\": 1,\n",
            "            \"accuracy\": \"1.00\",\n",
            "            \"best_unit\": 1,\n",
            "            \"matched_unit\": 1,\n",
            "            \"f_n\": \"0.00\",\n",
            "            \"f_p\": \"0.00\",\n",
            "            \"num_matches\": 1396\n",
            "        }\n",
            "    }\n",
            "}\n",
            "Sorter:\n",
            "{\n",
            "    \"name\": \"MountainSort4-thr3\",\n",
            "    \"processor_name\": \"MountainSort4\",\n",
            "    \"processor_version\": \"4.1.0\",\n",
            "    \"params\": {\n",
            "        \"detect_sign\": -1,\n",
            "        \"adjacency_radius\": 50,\n",
            "        \"detect_threshold\": 3\n",
            "    }\n",
            "}\n"
          ],
          "name": "stdout"
        }
      ]
    },
    {
      "metadata": {
        "id": "T_eSC6MnxR0E",
        "colab_type": "code",
        "outputId": "ed813c40-2fd9-4258-ed45-71ad42a66884",
        "colab": {
          "base_uri": "https://localhost:8080/",
          "height": 229
        }
      },
      "cell_type": "code",
      "source": [
        "print('studies: '+kb.findFile(key=dict(\n",
        "    target=target,\n",
        "    name='studies'\n",
        "),local=False,remote=True))\n",
        "\n",
        "print('recordings: '+kb.findFile(key=dict(\n",
        "    target=target,\n",
        "    name='recordings'\n",
        "),local=False,remote=True))\n",
        "\n",
        "print('units: '+kb.findFile(key=dict(\n",
        "    target=target,\n",
        "    name='true_units'\n",
        "),local=False,remote=True))\n",
        "\n",
        "print('sorters: '+kb.findFile(key=dict(\n",
        "    target=target,\n",
        "    name='sorters'\n",
        "),local=False,remote=True))"
      ],
      "execution_count": 44,
      "outputs": [
        {
          "output_type": "error",
          "ename": "TypeError",
          "evalue": "ignored",
          "traceback": [
            "\u001b[0;31m---------------------------------------------------------------------------\u001b[0m",
            "\u001b[0;31mTypeError\u001b[0m                                 Traceback (most recent call last)",
            "\u001b[0;32m<ipython-input-44-e175fafc28cf>\u001b[0m in \u001b[0;36m<module>\u001b[0;34m\u001b[0m\n\u001b[1;32m      2\u001b[0m     \u001b[0mtarget\u001b[0m\u001b[0;34m=\u001b[0m\u001b[0mtarget\u001b[0m\u001b[0;34m,\u001b[0m\u001b[0;34m\u001b[0m\u001b[0;34m\u001b[0m\u001b[0m\n\u001b[1;32m      3\u001b[0m     \u001b[0mname\u001b[0m\u001b[0;34m=\u001b[0m\u001b[0;34m'studies'\u001b[0m\u001b[0;34m\u001b[0m\u001b[0;34m\u001b[0m\u001b[0m\n\u001b[0;32m----> 4\u001b[0;31m ),local=False,remote=True))\n\u001b[0m\u001b[1;32m      5\u001b[0m \u001b[0;34m\u001b[0m\u001b[0m\n\u001b[1;32m      6\u001b[0m print('recordings: '+kb.findFile(key=dict(\n",
            "\u001b[0;31mTypeError\u001b[0m: must be str, not NoneType"
          ]
        }
      ]
    },
    {
      "metadata": {
        "colab_type": "code",
        "id": "J-sXHMOjE2yF",
        "colab": {}
      },
      "cell_type": "code",
      "source": [
        ""
      ],
      "execution_count": 0,
      "outputs": []
    }
  ]
}