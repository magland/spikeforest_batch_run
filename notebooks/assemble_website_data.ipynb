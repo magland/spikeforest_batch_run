{
  "nbformat": 4,
  "nbformat_minor": 0,
  "metadata": {
    "colab": {
      "name": "assemble_website_data.ipynb",
      "version": "0.3.2",
      "provenance": [],
      "collapsed_sections": [],
      "include_colab_link": true
    },
    "kernelspec": {
      "display_name": "Python 3",
      "language": "python",
      "name": "python3"
    }
  },
  "cells": [
    {
      "cell_type": "markdown",
      "metadata": {
        "id": "view-in-github",
        "colab_type": "text"
      },
      "source": [
        "<a href=\"https://colab.research.google.com/github/magland/spikeforest_batch_run/blob/master/notebooks/assemble_website_data.ipynb\" target=\"_parent\"><img src=\"https://colab.research.google.com/assets/colab-badge.svg\" alt=\"Open In Colab\"/></a>"
      ]
    },
    {
      "metadata": {
        "colab_type": "text",
        "id": "NrO0ybyxN4bC"
      },
      "cell_type": "markdown",
      "source": [
        "## Assemble website data\n",
        "\n",
        "This notebook assembles the data for the website.\n",
        "\n",
        "\n",
        "This is the info to Liz on 11/16/18:\n",
        "\n",
        "\n",
        "Here's the data for the website:\n",
        "```\n",
        "kb.loadObject(\n",
        "    key=dict(\n",
        "        target='spikeforest_website_dev',\n",
        "        name='studies'\n",
        "    )\n",
        ")\n",
        "\n",
        "kb.loadObject(\n",
        "    key=dict(\n",
        "        target='spikeforest_website_dev',\n",
        "        name='recordings'\n",
        "    )\n",
        ")\n",
        "\n",
        "kb.loadObject(\n",
        "    key=dict(\n",
        "        target='spikeforest_website_dev',\n",
        "        name='true_units'\n",
        "    )\n",
        ")\n",
        "\n",
        "kb.loadObject(\n",
        "    key=dict(\n",
        "        target='spikeforest_website_dev',\n",
        "        name='sorters'\n",
        "    )\n",
        ")\n",
        "```\n"
      ]
    },
    {
      "metadata": {
        "colab_type": "code",
        "id": "xcRxwVZ63fYn",
        "colab": {}
      },
      "cell_type": "code",
      "source": [
        "# Only run this cell if you are running this on a hosted runtime that does not have these packages installed\n",
        "# Consider connecting to a local runtime\n",
        "%%capture\n",
        "!pip install spikeforest"
      ],
      "execution_count": 0,
      "outputs": []
    },
    {
      "metadata": {
        "colab_type": "code",
        "id": "jHr10qe23rjS",
        "colab": {
          "base_uri": "https://localhost:8080/",
          "height": 34
        },
        "outputId": "3f77ae6e-efcd-4a57-c50f-7d3521052f5b"
      },
      "cell_type": "code",
      "source": [
        "from kbucket import client as kb\n",
        "import spikeforest as sf\n",
        "import spikeinterface as si\n",
        "import json\n",
        "import numpy as np"
      ],
      "execution_count": 1,
      "outputs": [
        {
          "output_type": "stream",
          "text": [
            "vdomr: using colab because of VDOMR_MODE environment variable\n"
          ],
          "name": "stdout"
        }
      ]
    },
    {
      "metadata": {
        "colab_type": "code",
        "id": "Rr17RFOw3uO-",
        "outputId": "04db326a-322e-4e17-ac94-445f2693ef50",
        "colab": {
          "base_uri": "https://localhost:8080/",
          "height": 52
        }
      },
      "cell_type": "code",
      "source": [
        "## Configure read/write access to kbucket\n",
        "sf.kbucketConfigRemote(name='spikeforest1-readwrite',ask_password=True)"
      ],
      "execution_count": 2,
      "outputs": [
        {
          "output_type": "stream",
          "text": [
            "Enter password: ··········\n",
            "Pairio user set to spikeforest. Test succeeded.\n"
          ],
          "name": "stdout"
        }
      ]
    },
    {
      "metadata": {
        "colab_type": "code",
        "id": "2ZYwytf73wn8",
        "colab": {}
      },
      "cell_type": "code",
      "source": [
        "recording_collection_names=[\n",
        "    'spikeforest_magland_synth_recordings',\n",
        "    'spikeforest_bionet_recordings',\n",
        "    'spikeforest_mearec_tetrode_recordings'\n",
        "]\n",
        "\n",
        "batch_names=[\n",
        "    'summarize_recordings_magland_synth','summarize_recordings_bionet','summarize_recordings_mearec_tetrode',\n",
        "    'ms4_magland_synth_dev4','irc_magland_synth_dev4','sc_magland_synth_dev4',\n",
        "    'ms4_bionet','irc_bionet','sc_bionet',\n",
        "    'ms4_mearec_tetrode','irc_mearec_tetrode','sc_mearec_tetrode'\n",
        "]"
      ],
      "execution_count": 0,
      "outputs": []
    },
    {
      "metadata": {
        "id": "rxNW9AU6rohW",
        "colab_type": "code",
        "outputId": "dbb3532e-0d0d-492b-9703-e2163fa175a7",
        "colab": {
          "base_uri": "https://localhost:8080/",
          "height": 496
        }
      },
      "cell_type": "code",
      "source": [
        "## Load the SpikeForest data\n",
        "SF=sf.SFData()\n",
        "for rcname in recording_collection_names:\n",
        "  print(rcname)\n",
        "  SF.loadRecordings(key=dict(name=rcname))\n",
        "for bname in batch_names:\n",
        "  print(bname)\n",
        "  SF.loadProcessingBatch(key=dict(batch_name=bname,name='job_results'))"
      ],
      "execution_count": 28,
      "outputs": [
        {
          "output_type": "stream",
          "text": [
            "spikeforest_magland_synth_recordings\n",
            "spikeforest_bionet_recordings\n",
            "spikeforest_mearec_tetrode_recordings\n",
            "summarize_recordings_magland_synth\n",
            "Loaded 0 sorting results and 80 recording summary results\n",
            "summarize_recordings_bionet\n",
            "Loaded 0 sorting results and 36 recording summary results\n",
            "summarize_recordings_mearec_tetrode\n",
            "Loaded 0 sorting results and 40 recording summary results\n",
            "ms4_magland_synth_dev4\n",
            "Loaded 80 sorting results and 0 recording summary results\n",
            "irc_magland_synth_dev4\n",
            "Loaded 80 sorting results and 0 recording summary results\n",
            "sc_magland_synth_dev4\n",
            "Loaded 80 sorting results and 0 recording summary results\n",
            "ms4_bionet\n",
            "Loaded 36 sorting results and 0 recording summary results\n",
            "irc_bionet\n",
            "Loaded 36 sorting results and 0 recording summary results\n",
            "sc_bionet\n",
            "Loaded 36 sorting results and 0 recording summary results\n",
            "ms4_mearec_tetrode\n",
            "Loaded 40 sorting results and 0 recording summary results\n",
            "irc_mearec_tetrode\n",
            "Loaded 40 sorting results and 0 recording summary results\n",
            "sc_mearec_tetrode\n",
            "Loaded 40 sorting results and 0 recording summary results\n"
          ],
          "name": "stdout"
        }
      ]
    },
    {
      "metadata": {
        "id": "SHUYOM7N2eL9",
        "colab_type": "code",
        "colab": {}
      },
      "cell_type": "code",
      "source": [
        "def min_max_range(a):\n",
        "  return [min(a),max(a)]\n",
        "\n",
        "def compute_recording_ranges(study):\n",
        "  rnames=study.recordingNames()\n",
        "  summary_objects=[study.recording(rname).getSummaryObject() for rname in rnames]\n",
        "  recording_dirnames=[study.recording(rname).directory() for rname in rnames]\n",
        "  \n",
        "  duration_sec_list=[float(obj['computed_info']['duration_sec']) for obj in summary_objects]\n",
        "  num_channels_list=[int(obj['computed_info']['num_channels']) for obj in summary_objects]\n",
        "  samplerate_hz_list=[int(obj['computed_info']['samplerate']) for obj in summary_objects]\n",
        "  num_true_units_list=[int(len(study.recording(rname).trueUnitsInfo(format='json'))) for rname in rnames]\n",
        "  file_size_bytes_list=[int(kb.getFileSize(dirname+'/raw.mda')) for dirname in recording_dirnames]\n",
        "  \n",
        "  recording_ranges=dict(\n",
        "      duration_sec=min_max_range(duration_sec_list),\n",
        "      num_channels=min_max_range(num_channels_list),\n",
        "      samplerate_hz=min_max_range(samplerate_hz_list),\n",
        "      file_size_bytes=min_max_range(file_size_bytes_list),\n",
        "      num_ground_truth_units=min_max_range(num_true_units_list)\n",
        "  )\n",
        "  \n",
        "  return recording_ranges"
      ],
      "execution_count": 0,
      "outputs": []
    },
    {
      "metadata": {
        "id": "kNBjRKl0sTmj",
        "colab_type": "code",
        "outputId": "2bc7cba8-0994-484d-b911-28e339dd12e8",
        "colab": {
          "base_uri": "https://localhost:8080/",
          "height": 301
        }
      },
      "cell_type": "code",
      "source": [
        "## Load the studies\n",
        "print('Loading studies')\n",
        "all_studies=[]\n",
        "studies_by_name=dict()\n",
        "for sname in SF.studyNames():\n",
        "  print(sname)\n",
        "  study=dict(name=sname)\n",
        "  study['sorters']=[] # initialize\n",
        "  study['num_recordings']=len(SF.study(sname).recordingNames())\n",
        "  study['recording_ranges']=compute_recording_ranges(SF.study(sname))\n",
        "  studies_by_name[sname]=study\n",
        "  all_studies.append(study)"
      ],
      "execution_count": 30,
      "outputs": [
        {
          "output_type": "stream",
          "text": [
            "Loading studies\n",
            "magland_synth_noise10_K10_C4\n",
            "magland_synth_noise10_K10_C8\n",
            "magland_synth_noise10_K20_C4\n",
            "magland_synth_noise10_K20_C8\n",
            "magland_synth_noise20_K10_C4\n",
            "magland_synth_noise20_K10_C8\n",
            "magland_synth_noise20_K20_C4\n",
            "magland_synth_noise20_K20_C8\n",
            "bionet_drift\n",
            "bionet_shuffle\n",
            "bionet_static\n",
            "mearec_tetrode_noise10_K10_C4\n",
            "mearec_tetrode_noise10_K20_C4\n",
            "mearec_tetrode_noise20_K10_C4\n",
            "mearec_tetrode_noise20_K20_C4\n"
          ],
          "name": "stdout"
        }
      ]
    },
    {
      "metadata": {
        "id": "zHRiNGaCslyq",
        "colab_type": "code",
        "outputId": "961fbf39-df33-44c7-c985-4c7143d07788",
        "colab": {
          "base_uri": "https://localhost:8080/",
          "height": 34
        }
      },
      "cell_type": "code",
      "source": [
        "## Load the recordings\n",
        "print('Loading recordings')\n",
        "all_recordings=[]\n",
        "for sname in SF.studyNames():\n",
        "  SS=SF.study(sname)\n",
        "  for rname in SS.recordingNames():\n",
        "    RR=SS.recording(rname)\n",
        "    recording=RR.getObject()\n",
        "    all_recordings.append(recording)"
      ],
      "execution_count": 31,
      "outputs": [
        {
          "output_type": "stream",
          "text": [
            "Loading recordings\n"
          ],
          "name": "stdout"
        }
      ]
    },
    {
      "metadata": {
        "id": "u5NXFMRStXmW",
        "colab_type": "code",
        "outputId": "5dbf0536-a64b-4ce3-9a2a-5f6c9c5295d8",
        "colab": {
          "base_uri": "https://localhost:8080/",
          "height": 34
        }
      },
      "cell_type": "code",
      "source": [
        "## Load the units\n",
        "all_true_units=[]\n",
        "unit_lookup=dict()\n",
        "for sname in SF.studyNames():\n",
        "  SS=SF.study(sname)\n",
        "  for rname in SS.recordingNames():\n",
        "    RR=SS.recording(rname)\n",
        "    true_units_info=RR.trueUnitsInfo(format='json')\n",
        "    for unit in true_units_info:\n",
        "      unit['study']=sname\n",
        "      unit['recording']=rname\n",
        "      unit['sorting_results']=dict()\n",
        "      all_true_units.append(unit)\n",
        "      code=sname+'---'+rname+'---'+str(unit['unit_id'])\n",
        "      unit_lookup[code]=unit\n",
        "print('Found {} true units'.format(len(all_true_units)))"
      ],
      "execution_count": 32,
      "outputs": [
        {
          "output_type": "stream",
          "text": [
            "Found 4921 true units\n"
          ],
          "name": "stdout"
        }
      ]
    },
    {
      "metadata": {
        "id": "D70o3UnSuXsV",
        "colab_type": "code",
        "outputId": "ff06c8d7-e317-492e-d652-c9770512984f",
        "colab": {
          "base_uri": "https://localhost:8080/",
          "height": 52
        }
      },
      "cell_type": "code",
      "source": [
        "## Load the sorting results\n",
        "print('Loading sorting results')\n",
        "count=0\n",
        "sorters_by_name=dict()\n",
        "for sname in SF.studyNames():\n",
        "  SS=SF.study(sname)\n",
        "  for rname in SS.recordingNames():\n",
        "    RR=SS.recording(rname)\n",
        "    for srname in RR.sortingResultNames():\n",
        "      SR=RR.sortingResult(srname)\n",
        "      result=SR.getObject()\n",
        "      if not SR.sorterName() in studies_by_name[sname]['sorters']:\n",
        "        studies_by_name[sname]['sorters'].append(SR.sorterName())\n",
        "      obj=SR.comparisonWithTruth(format='json')\n",
        "      sorter=dict(\n",
        "          name=result['sorter_name'],\n",
        "          processor_name=result['sorting_processor_name'],\n",
        "          processor_version=result['sorting_processor_version'],\n",
        "          params=result['sorting_params']\n",
        "      )\n",
        "      sorters_by_name[SR.sorterName()]=sorter\n",
        "      for unit_id in obj:\n",
        "        unit=obj[unit_id]\n",
        "        code=sname+'---'+rname+'---'+str(unit_id)\n",
        "        if code in unit_lookup:\n",
        "          unit_lookup[code]['sorting_results'][SR.sorterName()]=unit\n",
        "          count=count+1\n",
        "print('Loaded {} sorted units'.format(count))\n"
      ],
      "execution_count": 33,
      "outputs": [
        {
          "output_type": "stream",
          "text": [
            "Loading sorting results\n",
            "Loaded 6432 sorted units\n"
          ],
          "name": "stdout"
        }
      ]
    },
    {
      "metadata": {
        "id": "Zc7YqkZssRyG",
        "colab_type": "code",
        "outputId": "47f771a3-eb3a-4b5a-e565-e1f3e5d23c62",
        "colab": {
          "base_uri": "https://localhost:8080/",
          "height": 176
        }
      },
      "cell_type": "code",
      "source": [
        "target='spikeforest_website_dev'\n",
        "\n",
        "all_sorters=[]\n",
        "for sname in sorters_by_name:\n",
        "  all_sorters.append(sorters_by_name[sname])\n",
        "print('Found {} sorters'.format(len(all_sorters)))\n",
        "\n",
        "print('Saving {} studies'.format(len(all_studies)))\n",
        "kb.saveObject(\n",
        "    key=dict(\n",
        "        target=target,\n",
        "        name='studies'\n",
        "    ),\n",
        "    object=dict(\n",
        "        studies=all_studies\n",
        "    )\n",
        ")\n",
        "    \n",
        "print('Saving {} recordings'.format(len(all_recordings)))\n",
        "kb.saveObject(\n",
        "    key=dict(\n",
        "        target=target,\n",
        "        name='recordings'\n",
        "    ),\n",
        "    object=dict(\n",
        "        recordings=all_recordings\n",
        "    )\n",
        ")\n",
        "\n",
        "\n",
        "print('Saving {} true units'.format(len(all_true_units)))\n",
        "kb.saveObject(\n",
        "    key=dict(\n",
        "        target=target,\n",
        "        name='true_units'\n",
        "    ),\n",
        "    object=dict(\n",
        "        true_units=all_true_units\n",
        "    )\n",
        ")\n",
        "\n",
        "print('Saving {} sorters'.format(len(all_sorters)))\n",
        "kb.saveObject(\n",
        "    key=dict(\n",
        "        target=target,\n",
        "        name='sorters'\n",
        "    ),\n",
        "    object=dict(\n",
        "        sorters=all_sorters\n",
        "    )\n",
        ")"
      ],
      "execution_count": 34,
      "outputs": [
        {
          "output_type": "stream",
          "text": [
            "Found 4 sorters\n",
            "Saving 15 studies\n",
            "Already on server.\n",
            "Saving 156 recordings\n",
            "Already on server.\n",
            "Saving 4921 true units\n",
            "Already on server.\n",
            "Saving 4 sorters\n",
            "Already on server.\n"
          ],
          "name": "stdout"
        }
      ]
    },
    {
      "metadata": {
        "id": "lkC4VTYTxJ5z",
        "colab_type": "code",
        "outputId": "9d980160-4d34-40a3-fc55-7b0e68a5c72c",
        "colab": {
          "base_uri": "https://localhost:8080/",
          "height": 1598
        }
      },
      "cell_type": "code",
      "source": [
        "print('Study:')\n",
        "obj=kb.loadObject(\n",
        "    key=dict(\n",
        "        target='spikeforest_website_dev',\n",
        "        name='studies'\n",
        "    )\n",
        ")\n",
        "print(json.dumps(obj['studies'][0],indent=4))\n",
        "\n",
        "print('Recording:')\n",
        "obj=kb.loadObject(\n",
        "    key=dict(\n",
        "        target='spikeforest_website_dev',\n",
        "        name='recordings'\n",
        "    )\n",
        ")\n",
        "print(json.dumps(obj['recordings'][0],indent=4))\n",
        "\n",
        "\n",
        "print('Unit:')\n",
        "obj=kb.loadObject(\n",
        "    key=dict(\n",
        "        target='spikeforest_website_dev',\n",
        "        name='true_units'\n",
        "    )\n",
        ")\n",
        "print(json.dumps(obj['true_units'][0],indent=4))\n",
        "\n",
        "print('Sorter:')\n",
        "obj=kb.loadObject(\n",
        "    key=dict(\n",
        "        target='spikeforest_website_dev',\n",
        "        name='sorters'\n",
        "    )\n",
        ")\n",
        "print(json.dumps(obj['sorters'][0],indent=4))"
      ],
      "execution_count": 35,
      "outputs": [
        {
          "output_type": "stream",
          "text": [
            "Study:\n",
            "{\n",
            "    \"name\": \"magland_synth_noise10_K10_C4\",\n",
            "    \"sorters\": [\n",
            "        \"MountainSort4-thr3\",\n",
            "        \"IronClust-tetrode\",\n",
            "        \"SpykingCircus\"\n",
            "    ],\n",
            "    \"num_recordings\": 10,\n",
            "    \"recording_ranges\": {\n",
            "        \"duration_sec\": [\n",
            "            600.0,\n",
            "            600.0\n",
            "        ],\n",
            "        \"num_channels\": [\n",
            "            4,\n",
            "            4\n",
            "        ],\n",
            "        \"samplerate_hz\": [\n",
            "            30000,\n",
            "            30000\n",
            "        ],\n",
            "        \"file_size_bytes\": [\n",
            "            288000020,\n",
            "            288000020\n",
            "        ],\n",
            "        \"num_ground_truth_units\": [\n",
            "            10,\n",
            "            10\n",
            "        ]\n",
            "    }\n",
            "}\n",
            "Recording:\n",
            "{\n",
            "    \"name\": \"001_synth\",\n",
            "    \"study\": \"magland_synth_noise10_K10_C4\",\n",
            "    \"directory\": \"kbucket://15734439d8cf/groundtruth/magland_synth/datasets_noise10_K10_C4/001_synth\",\n",
            "    \"description\": \"One of the recordings in the magland_synth_noise10_K10_C4 study\"\n",
            "}\n",
            "Unit:\n",
            "{\n",
            "    \"unit_id\": 1,\n",
            "    \"snr\": 25.396783859187707,\n",
            "    \"peak_channel\": 0,\n",
            "    \"num_events\": 1398,\n",
            "    \"firing_rate\": 2.33,\n",
            "    \"study\": \"magland_synth_noise10_K10_C4\",\n",
            "    \"recording\": \"001_synth\",\n",
            "    \"sorting_results\": {\n",
            "        \"MountainSort4-thr3\": {\n",
            "            \"Unit ID\": 2,\n",
            "            \"Accuracy\": \"0.99\",\n",
            "            \"Best unit\": 6,\n",
            "            \"Matched unit\": 6,\n",
            "            \"f.n.\": \"0.00\",\n",
            "            \"f.p.\": \"0.01\",\n",
            "            \"# matches\": 1394\n",
            "        },\n",
            "        \"IronClust-tetrode\": {\n",
            "            \"Unit ID\": 2,\n",
            "            \"Accuracy\": \"0.98\",\n",
            "            \"Best unit\": 7,\n",
            "            \"Matched unit\": 7,\n",
            "            \"f.n.\": \"0.00\",\n",
            "            \"f.p.\": \"0.01\",\n",
            "            \"# matches\": 1381\n",
            "        },\n",
            "        \"SpykingCircus\": {\n",
            "            \"Unit ID\": 2,\n",
            "            \"Accuracy\": \"0.99\",\n",
            "            \"Best unit\": 8,\n",
            "            \"Matched unit\": 8,\n",
            "            \"f.n.\": \"0.00\",\n",
            "            \"f.p.\": \"0.01\",\n",
            "            \"# matches\": 1384\n",
            "        }\n",
            "    }\n",
            "}\n",
            "Sorter:\n",
            "{\n",
            "    \"name\": \"MountainSort4-thr3\",\n",
            "    \"processor_name\": \"MountainSort4\",\n",
            "    \"processor_version\": \"4.0.1\",\n",
            "    \"params\": {\n",
            "        \"detect_sign\": -1,\n",
            "        \"adjacency_radius\": 100,\n",
            "        \"detect_threshold\": 3\n",
            "    }\n",
            "}\n"
          ],
          "name": "stdout"
        }
      ]
    },
    {
      "metadata": {
        "id": "T_eSC6MnxR0E",
        "colab_type": "code",
        "outputId": "dfa8ee18-7072-4df0-f71e-2843648a4eb9",
        "colab": {
          "base_uri": "https://localhost:8080/",
          "height": 87
        }
      },
      "cell_type": "code",
      "source": [
        "print('studies: '+kb.findFile(key=dict(\n",
        "    target='spikeforest_website_dev',\n",
        "    name='studies'\n",
        "),local=False,remote=True))\n",
        "\n",
        "print('recordings: '+kb.findFile(key=dict(\n",
        "    target='spikeforest_website_dev',\n",
        "    name='recordings'\n",
        "),local=False,remote=True))\n",
        "\n",
        "print('units: '+kb.findFile(key=dict(\n",
        "    target='spikeforest_website_dev',\n",
        "    name='true_units'\n",
        "),local=False,remote=True))\n",
        "\n",
        "print('sorters: '+kb.findFile(key=dict(\n",
        "    target='spikeforest_website_dev',\n",
        "    name='sorters'\n",
        "),local=False,remote=True))"
      ],
      "execution_count": 36,
      "outputs": [
        {
          "output_type": "stream",
          "text": [
            "studies: http://132.249.245.245:24351/7317cea8265b/download/2/a7/2a76590617e03f7e736533e8006d3472fdc9f51c\n",
            "recordings: http://132.249.245.245:24351/7317cea8265b/download/f/37/f377f635b25dbc1b2a3bad6b9f98f3d3856e7545\n",
            "units: http://132.249.245.245:24351/7317cea8265b/download/6/71/671d35f0a36d0f9ab5c3005f04b06ca468aaaeca\n",
            "sorters: http://132.249.245.245:24351/7317cea8265b/download/b/9f/b9ffeb5d9730c9bf511a4fe069d6c3960d28e123\n"
          ],
          "name": "stdout"
        }
      ]
    },
    {
      "metadata": {
        "colab_type": "code",
        "id": "apVtFssa56Iv",
        "outputId": "06a5d3e3-65d8-4af7-a17f-70284b8c5c3f",
        "colab": {
          "base_uri": "https://localhost:8080/",
          "height": 887
        }
      },
      "cell_type": "code",
      "source": [
        "## This was the old method\n",
        "\n",
        "all_sorting_results=[]\n",
        "all_summarize_recording_results=[]\n",
        "for bname in batch_names:\n",
        "  print('Loading '+bname)\n",
        "  obj=kb.loadObject(key=dict(batch_name=bname,name='job_results'))\n",
        "  job_results=obj['job_results']\n",
        "  for res in job_results:\n",
        "    if res['job']['command']=='sort_recording':\n",
        "      all_sorting_results.append(res)\n",
        "    elif res['job']['command']=='summarize_recording':\n",
        "      if 'true_units_info' in res['result']:\n",
        "        all_summarize_recording_results.append(res)\n",
        "      else:\n",
        "        print('WARNING: no field, true_units_info, skipping.')\n",
        "        display(res)\n",
        "\n",
        "import json\n",
        "def load_json(fname):\n",
        "  fname=kb.realizeFile(fname)\n",
        "  with open(fname) as f:\n",
        "    return json.load(f)\n",
        "\n",
        "def use_study(name):\n",
        "  if name.startswith('magland'):\n",
        "    return True\n",
        "  if name.startswith('bionet'):\n",
        "    return True\n",
        "  return False\n",
        "\n",
        "## Load the studies\n",
        "print('Loading studies')\n",
        "all_studies=[]\n",
        "studies_by_name=dict()\n",
        "obj=kb.loadObject(key=dict(name='spikeforest_recordings'))\n",
        "studies=obj['studies']\n",
        "for study in studies:\n",
        "  study['sorters']=[] # initialize\n",
        "  studies_by_name[study['name']]=study\n",
        "  if use_study(study['name']):\n",
        "    all_studies.append(study)\n",
        "\n",
        "## Load the recordings\n",
        "print('Loading recordings')\n",
        "all_recordings=[]\n",
        "for res in all_summarize_recording_results:\n",
        "  recording=res['result']\n",
        "  study=recording['study']\n",
        "  if use_study(recording['study']):\n",
        "    all_recordings.append(recording)\n",
        "    \n",
        "## Load the units\n",
        "all_true_units=[]\n",
        "unit_lookup=dict()\n",
        "print('Loading summarize recording results')\n",
        "for res in all_summarize_recording_results:\n",
        "  study=res['job']['recording']['study']\n",
        "  recording=res['job']['recording']['name']\n",
        "  if use_study(study):\n",
        "    obj=load_json(res['result']['true_units_info'])\n",
        "    for unit in obj:\n",
        "      unit['study']=study\n",
        "      unit['recording']=recording\n",
        "      unit['sorting_results']=dict()\n",
        "      all_true_units.append(unit)\n",
        "      code=study+'---'+recording+'---'+str(unit['unit_id'])\n",
        "      unit_lookup[code]=unit\n",
        "  #res['result']['true_units_info_data']=obj\n",
        "print('Found {} true units'.format(len(all_true_units)))\n",
        "\n",
        "## Load the sorting results\n",
        "print('Loading sorting results')\n",
        "count=0\n",
        "sorters_by_name=dict()\n",
        "for res in all_sorting_results:\n",
        "  study=res['job']['recording']['study']\n",
        "  recording=res['job']['recording']['name']\n",
        "  sorter=res['job']['sorter']['name']\n",
        "  if not sorter in studies_by_name[study]['sorters']:\n",
        "    studies_by_name[study]['sorters'].append(sorter)\n",
        "  if use_study(study):\n",
        "    obj=load_json(res['result']['comparison_with_truth']['json'])\n",
        "    sorters_by_name[sorter]=res['job']['sorter']\n",
        "    for unit_id in obj:\n",
        "      unit=obj[unit_id]\n",
        "      code=study+'---'+recording+'---'+str(unit_id)\n",
        "      if code in unit_lookup:\n",
        "        unit_lookup[code]['sorting_results'][sorter]=unit\n",
        "        count=count+1\n",
        "print('Loaded {} sorted units'.format(count))\n",
        "\n",
        "all_sorters=[]\n",
        "for sname in sorters_by_name:\n",
        "  all_sorters.append(sorters_by_name[sname])\n",
        "print('Found {} sorters'.format(len(all_sorters)))\n",
        "\n",
        "print('Saving {} studies'.format(len(all_studies)))\n",
        "kb.saveObject(\n",
        "    key=dict(\n",
        "        target='spikeforest_website',\n",
        "        name='studies'\n",
        "    ),\n",
        "    object=dict(\n",
        "        studies=all_studies\n",
        "    )\n",
        ")\n",
        "    \n",
        "print('Saving {} recordings'.format(len(all_recordings)))\n",
        "kb.saveObject(\n",
        "    key=dict(\n",
        "        target='spikeforest_website',\n",
        "        name='recordings'\n",
        "    ),\n",
        "    object=dict(\n",
        "        recordings=all_recordings\n",
        "    )\n",
        ")\n",
        "\n",
        "\n",
        "print('Saving units')\n",
        "kb.saveObject(\n",
        "    key=dict(\n",
        "        target='spikeforest_website',\n",
        "        name='true_units'\n",
        "    ),\n",
        "    object=dict(\n",
        "        true_units=all_true_units\n",
        "    )\n",
        ")\n",
        "\n",
        "print('Saving sorters')\n",
        "kb.saveObject(\n",
        "    key=dict(\n",
        "        target='spikeforest_website',\n",
        "        name='sorters'\n",
        "    ),\n",
        "    object=dict(\n",
        "        sorters=all_sorters\n",
        "    )\n",
        ")\n",
        "\n",
        "  \n",
        "#print('Loading summarize recording results')\n",
        "#for res in all_summarize_recording_results:\n",
        "#  obj=load_json(res['result']['true_units_info'])\n",
        "#  res['result']['true_units_info_data']=obj"
      ],
      "execution_count": 0,
      "outputs": [
        {
          "output_type": "stream",
          "text": [
            "Loading studies\n",
            "Loading recordings\n",
            "Loading summarize recording results\n",
            "Found 26688 true units\n",
            "Loading sorting results\n",
            "Downloading file --- (0.0 MB): http://132.249.245.245:24351/7317cea8265b/download/a/65/a65d172d96d74c8b92e9b4125152eb0bee2296d2 -> /home/magland/kbucket_cache/a/65/a65d172d96d74c8b92e9b4125152eb0bee2296d2\n",
            "Downloading file --- (0.0 MB): http://132.249.245.245:24351/7317cea8265b/download/9/7f/97fe8157e6c38915aadf5b9013952a4b0191a366 -> /home/magland/kbucket_cache/9/7f/97fe8157e6c38915aadf5b9013952a4b0191a366\n",
            "Downloading file --- (0.0 MB): http://132.249.245.245:24351/7317cea8265b/download/f/37/f375280367ae2e171790c6be34fcdd0cf9a84e17 -> /home/magland/kbucket_cache/f/37/f375280367ae2e171790c6be34fcdd0cf9a84e17\n",
            "Downloading file --- (0.0 MB): http://132.249.245.245:24351/7317cea8265b/download/3/1a/31ad16e4f4ed9d0d1e14671ca67e38796d146216 -> /home/magland/kbucket_cache/3/1a/31ad16e4f4ed9d0d1e14671ca67e38796d146216\n",
            "Downloading file --- (0.0 MB): http://132.249.245.245:24351/7317cea8265b/download/5/29/529ed0ab48032a8c16777e8a50bf4f7c0f3f9ea8 -> /home/magland/kbucket_cache/5/29/529ed0ab48032a8c16777e8a50bf4f7c0f3f9ea8\n",
            "Downloading file --- (0.0 MB): http://132.249.245.245:24351/7317cea8265b/download/9/8f/98fc58d40dfed736293e61c8aae6e14c35f3c525 -> /home/magland/kbucket_cache/9/8f/98fc58d40dfed736293e61c8aae6e14c35f3c525\n",
            "Downloading file --- (0.0 MB): http://132.249.245.245:24351/7317cea8265b/download/e/99/e9979b460d686f5c3c5b2b9d339aad9af6f86f32 -> /home/magland/kbucket_cache/e/99/e9979b460d686f5c3c5b2b9d339aad9af6f86f32\n",
            "Downloading file --- (0.0 MB): http://132.249.245.245:24351/7317cea8265b/download/2/6f/26f4fe6cd0b8a73d6629e69216211ed362f0f3ee -> /home/magland/kbucket_cache/2/6f/26f4fe6cd0b8a73d6629e69216211ed362f0f3ee\n",
            "Downloading file --- (0.0 MB): http://132.249.245.245:24351/7317cea8265b/download/c/cc/ccc7cf51170d7f0aa77e146875d5298482f51796 -> /home/magland/kbucket_cache/c/cc/ccc7cf51170d7f0aa77e146875d5298482f51796\n",
            "Downloading file --- (0.0 MB): http://132.249.245.245:24351/7317cea8265b/download/c/e6/ce65dc11fad0f089e675c7ecc1594c7c9f5cf5ca -> /home/magland/kbucket_cache/c/e6/ce65dc11fad0f089e675c7ecc1594c7c9f5cf5ca\n",
            "Downloading file --- (0.0 MB): http://132.249.245.245:24351/7317cea8265b/download/a/60/a6057de35308751adeeff1655fc49f60865f2417 -> /home/magland/kbucket_cache/a/60/a6057de35308751adeeff1655fc49f60865f2417\n",
            "Downloading file --- (0.0 MB): http://132.249.245.245:24351/7317cea8265b/download/8/a9/8a9129c0370713d5d244c28a67bdea7bc8d11856 -> /home/magland/kbucket_cache/8/a9/8a9129c0370713d5d244c28a67bdea7bc8d11856\n",
            "Downloading file --- (0.0 MB): http://132.249.245.245:24351/7317cea8265b/download/d/6d/d6d94a9a6edb6650cbefe911d3ca76d1d53a6242 -> /home/magland/kbucket_cache/d/6d/d6d94a9a6edb6650cbefe911d3ca76d1d53a6242\n",
            "Downloading file --- (0.0 MB): http://132.249.245.245:24351/7317cea8265b/download/1/df/1df64200ffdd655c6cef5e7cad66ea627eb49b49 -> /home/magland/kbucket_cache/1/df/1df64200ffdd655c6cef5e7cad66ea627eb49b49\n",
            "Downloading file --- (0.0 MB): http://132.249.245.245:24351/7317cea8265b/download/3/67/367fe176857c6685333caae787ead276432ab953 -> /home/magland/kbucket_cache/3/67/367fe176857c6685333caae787ead276432ab953\n",
            "Downloading file --- (0.0 MB): http://132.249.245.245:24351/7317cea8265b/download/8/eb/8eb53443c370f693384245547154908092fd63fc -> /home/magland/kbucket_cache/8/eb/8eb53443c370f693384245547154908092fd63fc\n",
            "Downloading file --- (0.0 MB): http://132.249.245.245:24351/7317cea8265b/download/7/c2/7c2dfe92618918e39e3e29e03d29c35d6061691e -> /home/magland/kbucket_cache/7/c2/7c2dfe92618918e39e3e29e03d29c35d6061691e\n",
            "Downloading file --- (0.0 MB): http://132.249.245.245:24351/7317cea8265b/download/2/ac/2ac848c9b681cdd09307b0e9d6ab6e93faef2707 -> /home/magland/kbucket_cache/2/ac/2ac848c9b681cdd09307b0e9d6ab6e93faef2707\n",
            "Downloading file --- (0.0 MB): http://132.249.245.245:24351/7317cea8265b/download/3/a9/3a95e5726c85d59d2a5fec279b2423961f507447 -> /home/magland/kbucket_cache/3/a9/3a95e5726c85d59d2a5fec279b2423961f507447\n",
            "Downloading file --- (0.0 MB): http://132.249.245.245:24351/7317cea8265b/download/c/27/c279cad8ee4696f67f792b54ca2d691eae59620e -> /home/magland/kbucket_cache/c/27/c279cad8ee4696f67f792b54ca2d691eae59620e\n",
            "Downloading file --- (0.0 MB): http://132.249.245.245:24351/7317cea8265b/download/b/e3/be35a4298af948859c28edc02902ee2ac11ca151 -> /home/magland/kbucket_cache/b/e3/be35a4298af948859c28edc02902ee2ac11ca151\n",
            "Downloading file --- (0.0 MB): http://132.249.245.245:24351/7317cea8265b/download/f/68/f68d1cab85328230db09bf72b7ae32de1c4dfad5 -> /home/magland/kbucket_cache/f/68/f68d1cab85328230db09bf72b7ae32de1c4dfad5\n",
            "Downloading file --- (0.0 MB): http://132.249.245.245:24351/7317cea8265b/download/5/48/5484af2e73bbfc923d675568a6864236ff8b4147 -> /home/magland/kbucket_cache/5/48/5484af2e73bbfc923d675568a6864236ff8b4147\n",
            "Downloading file --- (0.0 MB): http://132.249.245.245:24351/7317cea8265b/download/f/1d/f1d1102214ad04693dd4271e606422cc15428455 -> /home/magland/kbucket_cache/f/1d/f1d1102214ad04693dd4271e606422cc15428455\n",
            "Downloading file --- (0.0 MB): http://132.249.245.245:24351/7317cea8265b/download/0/dd/0ddd49c0098eea7243a28c3f0cea1c45d1dac0a9 -> /home/magland/kbucket_cache/0/dd/0ddd49c0098eea7243a28c3f0cea1c45d1dac0a9\n",
            "Downloading file --- (0.0 MB): http://132.249.245.245:24351/7317cea8265b/download/5/27/5272273c5b91f04a77f99ed169788bc58c793072 -> /home/magland/kbucket_cache/5/27/5272273c5b91f04a77f99ed169788bc58c793072\n",
            "Downloading file --- (0.0 MB): http://132.249.245.245:24351/7317cea8265b/download/f/54/f54cc03b53ee87ec49c5af9b042c2ef6a56fa7cb -> /home/magland/kbucket_cache/f/54/f54cc03b53ee87ec49c5af9b042c2ef6a56fa7cb\n",
            "Downloading file --- (0.0 MB): http://132.249.245.245:24351/7317cea8265b/download/9/81/98135f2f2429a07e383f66f4f731e3a68d8924d7 -> /home/magland/kbucket_cache/9/81/98135f2f2429a07e383f66f4f731e3a68d8924d7\n",
            "Downloading file --- (0.0 MB): http://132.249.245.245:24351/7317cea8265b/download/2/86/2862185579d13dfcfab3210e9f941dcde5898749 -> /home/magland/kbucket_cache/2/86/2862185579d13dfcfab3210e9f941dcde5898749\n",
            "Downloading file --- (0.0 MB): http://132.249.245.245:24351/7317cea8265b/download/3/ab/3ab576a91577a706e5cf19b794123193f1ea515f -> /home/magland/kbucket_cache/3/ab/3ab576a91577a706e5cf19b794123193f1ea515f\n",
            "Downloading file --- (0.0 MB): http://132.249.245.245:24351/7317cea8265b/download/c/b4/cb4fa882d28dadd78f656334da5f85ec92be547c -> /home/magland/kbucket_cache/c/b4/cb4fa882d28dadd78f656334da5f85ec92be547c\n",
            "Downloading file --- (0.0 MB): http://132.249.245.245:24351/7317cea8265b/download/c/d7/cd746106f8c2719719a90f967ed1d69cf247d8a2 -> /home/magland/kbucket_cache/c/d7/cd746106f8c2719719a90f967ed1d69cf247d8a2\n",
            "Downloading file --- (0.0 MB): http://132.249.245.245:24351/7317cea8265b/download/7/2a/72a053e240a0429f3f9047ad87e4b05baebab824 -> /home/magland/kbucket_cache/7/2a/72a053e240a0429f3f9047ad87e4b05baebab824\n",
            "Downloading file --- (0.0 MB): http://132.249.245.245:24351/7317cea8265b/download/2/1b/21bccb40e388e9d49c6d95100c8951139cb5e4be -> /home/magland/kbucket_cache/2/1b/21bccb40e388e9d49c6d95100c8951139cb5e4be\n",
            "Downloading file --- (0.0 MB): http://132.249.245.245:24351/7317cea8265b/download/5/c9/5c9c5fbd5f5c48c2b4709214c8c71fc90a9ea6c2 -> /home/magland/kbucket_cache/5/c9/5c9c5fbd5f5c48c2b4709214c8c71fc90a9ea6c2\n",
            "Downloading file --- (0.0 MB): http://132.249.245.245:24351/7317cea8265b/download/f/79/f79ac6448c3fd3e6e9010fe61cbfdd5fb25bb01f -> /home/magland/kbucket_cache/f/79/f79ac6448c3fd3e6e9010fe61cbfdd5fb25bb01f\n",
            "Loaded 12615 sorted units\n",
            "Found 4 sorters\n",
            "Saving 11 studies\n",
            "Saving 116 recordings\n",
            "Already on server.\n",
            "Saving units\n",
            "Saving sorters\n",
            "Already on server.\n"
          ],
          "name": "stdout"
        }
      ]
    },
    {
      "metadata": {
        "colab_type": "code",
        "id": "J-sXHMOjE2yF",
        "colab": {}
      },
      "cell_type": "code",
      "source": [
        ""
      ],
      "execution_count": 0,
      "outputs": []
    }
  ]
}