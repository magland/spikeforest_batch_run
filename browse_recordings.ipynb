{
  "nbformat": 4,
  "nbformat_minor": 0,
  "metadata": {
    "colab": {
      "name": "browse_recordings.ipynb",
      "version": "0.3.2",
      "provenance": [],
      "toc_visible": true,
      "include_colab_link": true
    },
    "kernelspec": {
      "name": "python3",
      "display_name": "Python 3"
    }
  },
  "cells": [
    {
      "cell_type": "markdown",
      "metadata": {
        "id": "view-in-github",
        "colab_type": "text"
      },
      "source": [
        "<a href=\"https://colab.research.google.com/github/magland/spikeforest_batch_run/blob/master/browse_recordings.ipynb\" target=\"_parent\"><img src=\"https://colab.research.google.com/assets/colab-badge.svg\" alt=\"Open In Colab\"/></a>"
      ]
    },
    {
      "metadata": {
        "id": "hOKoCBylXY99",
        "colab_type": "text"
      },
      "cell_type": "markdown",
      "source": [
        "# Browse recordings\n",
        "\n",
        "This notebook allows you to browse the SpikeForest studies and recordings."
      ]
    },
    {
      "metadata": {
        "id": "UZZAEKHcXHE3",
        "colab_type": "code",
        "colab": {}
      },
      "cell_type": "code",
      "source": [
        "# Only run this cell if you are running this on a hosted runtime that does not have these packages installed\n",
        "# %%capture is used to suppress the output... this should take up to a minute to complete\n",
        "%%capture\n",
        "!pip install spikeforest"
      ],
      "execution_count": 0,
      "outputs": []
    },
    {
      "metadata": {
        "id": "fKfWo8xCXyoj",
        "colab_type": "code",
        "colab": {}
      },
      "cell_type": "code",
      "source": [
        "# Import the python packages -- autoreload is used for development purposes\n",
        "%load_ext autoreload\n",
        "%autoreload 2\n",
        "\n",
        "import spikeforest as sf\n",
        "import spikewidgets as sw\n",
        "import vdomr as vd\n",
        "import json"
      ],
      "execution_count": 0,
      "outputs": []
    },
    {
      "metadata": {
        "id": "nxqkURv1X1nd",
        "colab_type": "code",
        "colab": {}
      },
      "cell_type": "code",
      "source": [
        "## Configure readonly access to kbucket\n",
        "sf.kbucketConfigRemote(name='spikeforest1-readonly')"
      ],
      "execution_count": 0,
      "outputs": []
    },
    {
      "metadata": {
        "id": "Kky0a-QoX4wa",
        "colab_type": "code",
        "outputId": "e00c3caf-9852-415c-9755-2753c130a170",
        "colab": {
          "base_uri": "https://localhost:8080/",
          "height": 51
        }
      },
      "cell_type": "code",
      "source": [
        "SF=sf.SFData()\n",
        "SF.loadRecordings(key=dict(name='spikeforest_bionet_recordings'))\n",
        "SF.loadRecordings(key=dict(name='spikeforest_magland_synth_recordings'))\n",
        "SF.loadProcessingBatch(key=dict(batch_name='summarize_recordings_bionet',name='job_results'))\n",
        "SF.loadProcessingBatch(key=dict(batch_name='summarize_recordings_magland_synth',name='job_results'))"
      ],
      "execution_count": 3,
      "outputs": [
        {
          "output_type": "stream",
          "text": [
            "Loaded 0 sorting results and 36 recording summary results\n",
            "Loaded 0 sorting results and 80 recording summary results\n"
          ],
          "name": "stdout"
        }
      ]
    },
    {
      "metadata": {
        "id": "-SnZ1KX4YwtN",
        "colab_type": "code",
        "colab": {}
      },
      "cell_type": "code",
      "source": [
        "from PIL import Image\n",
        "from matplotlib import pyplot as plt\n",
        "import base64\n",
        "\n",
        "class SelectBox(vd.Component):\n",
        "    def __init__(self,options=[]):\n",
        "        vd.Component.__init__(self)\n",
        "        self._on_change_handlers=[]\n",
        "        self._value=None\n",
        "        self.setOptions(options)\n",
        "        \n",
        "    def setOptions(self,options):\n",
        "        self._options=options\n",
        "        if self._value not in options:\n",
        "          self._value=options[0] if options else None\n",
        "        self.refresh()\n",
        "        \n",
        "    def value(self):\n",
        "        return self._value\n",
        "    \n",
        "    def setValue(self,value):\n",
        "        self._value=value\n",
        "        self.refresh()\n",
        "        \n",
        "    def onChange(self,handler):\n",
        "        self._on_change_handlers.append(handler)\n",
        "        \n",
        "    def _on_change(self,value):\n",
        "        self._value=value\n",
        "        for handler in self._on_change_handlers:\n",
        "            handler(value=value)\n",
        "        \n",
        "    def render(self):\n",
        "        opts=[]\n",
        "        for option in self._options:\n",
        "            if option==self._value:\n",
        "              opts.append(vd.option(option,selected='selected'))\n",
        "            else:\n",
        "              opts.append(vd.option(option))\n",
        "        X=vd.select(opts,onchange=self._on_change)\n",
        "        return X\n",
        "      \n",
        "class ImageView(vd.Component):\n",
        "  def __init__(self):\n",
        "    vd.Component.__init__(self)\n",
        "    self._url=''\n",
        "  def setUrl(self,url):\n",
        "    self._url=url\n",
        "    self.refresh()\n",
        "  def render(self):\n",
        "    return vd.img(src=self._url)\n",
        "      \n",
        "class RecordingControlWidget(vd.Component):\n",
        "  def __init__(self,sfdata,recording):\n",
        "    vd.Component.__init__(self)\n",
        "    vd.devel.loadBootstrap()\n",
        "    self._SF=sfdata\n",
        "    self._recording=recording\n",
        "    R=self._recording\n",
        "    \n",
        "    self._plot_select_box=SelectBox()\n",
        "    self._image_view=ImageView()\n",
        "    \n",
        "    options=[]\n",
        "    options=options+['electrode geometry','timeseries']\n",
        "    options=options+['pregenerated: '+str for str in R.plotNames()]\n",
        "    self._plot_select_box.setOptions(options)\n",
        "    \n",
        "    self._plot_select_box.onChange(self._on_change)\n",
        "    \n",
        "    self._update_image()\n",
        "    \n",
        "  def _get_url_for_image_file(self,path,format='png'):\n",
        "    encoded=base64.b64encode(open(path, \"rb\").read()).decode()\n",
        "    url='data:image/{};base64,{}'.format(format,encoded)\n",
        "    return url\n",
        "    \n",
        "  def _get_url_for_plot(self):\n",
        "    tmp_fname='test.png'\n",
        "    plt.savefig(tmp_fname)\n",
        "    plt.close()\n",
        "    return self._get_url_for_image_file(tmp_fname)\n",
        "    \n",
        "  def _update_image(self):\n",
        "    R=self._recording\n",
        "    val=self._plot_select_box.value()\n",
        "    if val=='timeseries':\n",
        "      RX=R.recordingExtractor()\n",
        "      RX=sw.lazyfilters.bandpass_filter(RX)\n",
        "      sw.TimeseriesWidget(recording=RX).plot()\n",
        "      url=self._get_url_for_plot()\n",
        "      self._image_view.setUrl(url)\n",
        "    elif val=='electrode geometry':\n",
        "      RX=R.recordingExtractor()\n",
        "      sw.ElectrodeGeometryWidget(recording=RX).plot(width=1,height=1)\n",
        "      url=self._get_url_for_plot()\n",
        "      self._image_view.setUrl(url)\n",
        "    elif val in ['pregenerated: '+str for str in R.plotNames()]:\n",
        "      fname=R.plot(val[len('pregenerated: '):],format='path')\n",
        "      url=self._get_url_for_image_file(fname,format='jpg')\n",
        "      self._image_view.setUrl(url)\n",
        "      \n",
        "    #self._image_view.setUrl('https://css-tricks.com/wp-content/themes/CSS-Tricks-16/ads/wufoo/wufoo-clocks.png')\n",
        "\n",
        "  def _on_change(self,value):\n",
        "    self._update_image()\n",
        "    #self.refresh()\n",
        "  #def showSelectedView(self):\n",
        "  #  \n",
        "  #  else:\n",
        "  #    raise Exception('Unexpected option: ',val)\n",
        "  def render(self):\n",
        "    R=self._recording\n",
        "    info_header=vd.div(\n",
        "        vd.table(\n",
        "            vd.tr(\n",
        "                vd.th('Study'),vd.th('Recording'),vd.th('Directory')\n",
        "            ),\n",
        "            vd.tr(\n",
        "                vd.td(R.study().name()),vd.td(R.name()),vd.td(R.directory())\n",
        "            ),\n",
        "            class_='table',\n",
        "        )\n",
        "    )\n",
        "    body=vd.div(\n",
        "        vd.table(\n",
        "            vd.tr(\n",
        "                vd.td('Select a plot: '),\n",
        "                vd.td(self._plot_select_box)\n",
        "            )\n",
        "        )\n",
        "    )\n",
        "    ret=vd.div(info_header,body,vd.div(self._image_view))\n",
        "    return ret"
      ],
      "execution_count": 0,
      "outputs": []
    },
    {
      "metadata": {
        "id": "wtCBaIduX_IU",
        "colab_type": "code",
        "outputId": "481f8b73-1832-425f-f58d-131e150690bd",
        "colab": {
          "base_uri": "https://localhost:8080/",
          "height": 150
        }
      },
      "cell_type": "code",
      "source": [
        "display(vd.h1('Select a recording'))\n",
        "X=sf.SFSelectWidget(sfdata=SF,mode='recording')\n",
        "display(X)"
      ],
      "execution_count": 124,
      "outputs": [
        {
          "output_type": "display_data",
          "data": {
            "text/plain": [
              "<vdomr.vdom.VDOM at 0x7f97a9d4f898>"
            ],
            "text/html": [
              "<h1>Select a recording</h1>"
            ]
          },
          "metadata": {
            "tags": []
          }
        },
        {
          "output_type": "display_data",
          "data": {
            "text/plain": [
              "<IPython.core.display.Javascript object>"
            ],
            "application/javascript": [
              "document.getElementById('6f2bffd1-442e-44f4-80c4-3ef9cba4b8db').innerHTML=atob('PHNlbGVjdCBvbmNoYW5nZT0iZ29vZ2xlLmNvbGFiLmtlcm5lbC5pbnZva2VGdW5jdGlvbigmI3gyNztvbmNoYW5nZWNhbGxiYWNrLTdmYzY0MjNmLTg3ZDMtNDg4Ni1hZGRmLWRmZmQyZjlhZDAwMyYjeDI3OywgW10sIHt2YWx1ZTp0aGlzLnZhbHVlfSkiPjwvc2VsZWN0Pg=='); console.log('test1');"
            ]
          },
          "metadata": {
            "tags": []
          }
        },
        {
          "output_type": "display_data",
          "data": {
            "text/plain": [
              "<IPython.core.display.Javascript object>"
            ],
            "application/javascript": [
              "document.getElementById('00216d45-252f-4312-abe5-1c6cf2ceceee').innerHTML=atob('PHNlbGVjdCBvbmNoYW5nZT0iZ29vZ2xlLmNvbGFiLmtlcm5lbC5pbnZva2VGdW5jdGlvbigmI3gyNztvbmNoYW5nZWNhbGxiYWNrLWZkMDU5MzM2LTFjMDEtNDgxNS1iZjM2LWRlNGNlZmM0NTQ3MiYjeDI3OywgW10sIHt2YWx1ZTp0aGlzLnZhbHVlfSkiPjwvc2VsZWN0Pg=='); console.log('test1');"
            ]
          },
          "metadata": {
            "tags": []
          }
        },
        {
          "output_type": "display_data",
          "data": {
            "text/plain": [
              "<IPython.core.display.Javascript object>"
            ],
            "application/javascript": [
              "document.getElementById('60bc127e-8964-4165-9680-409d25ac51aa').innerHTML=atob('PHNlbGVjdCBvbmNoYW5nZT0iZ29vZ2xlLmNvbGFiLmtlcm5lbC5pbnZva2VGdW5jdGlvbigmI3gyNztvbmNoYW5nZWNhbGxiYWNrLTg2MzJlNDkwLTQwOGQtNDViYS04ZGQ5LWFmMmY3ODc1ZWY5NyYjeDI3OywgW10sIHt2YWx1ZTp0aGlzLnZhbHVlfSkiPjwvc2VsZWN0Pg=='); console.log('test1');"
            ]
          },
          "metadata": {
            "tags": []
          }
        },
        {
          "output_type": "display_data",
          "data": {
            "text/plain": [
              "<IPython.core.display.Javascript object>"
            ],
            "application/javascript": [
              "document.getElementById('6f2bffd1-442e-44f4-80c4-3ef9cba4b8db').innerHTML=atob('PHNlbGVjdCBvbmNoYW5nZT0iZ29vZ2xlLmNvbGFiLmtlcm5lbC5pbnZva2VGdW5jdGlvbigmI3gyNztvbmNoYW5nZWNhbGxiYWNrLWE0NGJjMTgwLWQ3YWYtNDNiYi04YWY5LTdkYzBmNjQyMDYyOSYjeDI3OywgW10sIHt2YWx1ZTp0aGlzLnZhbHVlfSkiPjxvcHRpb24gc2VsZWN0ZWQ9InNlbGVjdGVkIj5iaW9uZXRfZHJpZnQ8L29wdGlvbj48b3B0aW9uPmJpb25ldF9zaHVmZmxlPC9vcHRpb24+PG9wdGlvbj5iaW9uZXRfc3RhdGljPC9vcHRpb24+PG9wdGlvbj5tYWdsYW5kX3N5bnRoX25vaXNlMTBfSzEwX0M0PC9vcHRpb24+PG9wdGlvbj5tYWdsYW5kX3N5bnRoX25vaXNlMTBfSzEwX0M4PC9vcHRpb24+PG9wdGlvbj5tYWdsYW5kX3N5bnRoX25vaXNlMTBfSzIwX0M0PC9vcHRpb24+PG9wdGlvbj5tYWdsYW5kX3N5bnRoX25vaXNlMTBfSzIwX0M4PC9vcHRpb24+PG9wdGlvbj5tYWdsYW5kX3N5bnRoX25vaXNlMjBfSzEwX0M0PC9vcHRpb24+PG9wdGlvbj5tYWdsYW5kX3N5bnRoX25vaXNlMjBfSzEwX0M4PC9vcHRpb24+PG9wdGlvbj5tYWdsYW5kX3N5bnRoX25vaXNlMjBfSzIwX0M0PC9vcHRpb24+PG9wdGlvbj5tYWdsYW5kX3N5bnRoX25vaXNlMjBfSzIwX0M4PC9vcHRpb24+PC9zZWxlY3Q+'); console.log('test1');"
            ]
          },
          "metadata": {
            "tags": []
          }
        },
        {
          "output_type": "display_data",
          "data": {
            "text/plain": [
              "<IPython.core.display.Javascript object>"
            ],
            "application/javascript": [
              "document.getElementById('00216d45-252f-4312-abe5-1c6cf2ceceee').innerHTML=atob('PHNlbGVjdCBvbmNoYW5nZT0iZ29vZ2xlLmNvbGFiLmtlcm5lbC5pbnZva2VGdW5jdGlvbigmI3gyNztvbmNoYW5nZWNhbGxiYWNrLTQzMjRiN2NjLTk0ODUtNDRjOS05N2Y0LWQ4OTdmMWRiMTE1ZSYjeDI3OywgW10sIHt2YWx1ZTp0aGlzLnZhbHVlfSkiPjxvcHRpb24gc2VsZWN0ZWQ9InNlbGVjdGVkIj5kcmlmdF84eF9BXzJBPC9vcHRpb24+PG9wdGlvbj5kcmlmdF84eF9BXzJCPC9vcHRpb24+PG9wdGlvbj5kcmlmdF84eF9BXzRBPC9vcHRpb24+PG9wdGlvbj5kcmlmdF84eF9BXzRCPC9vcHRpb24+PG9wdGlvbj5kcmlmdF84eF9CXzJBPC9vcHRpb24+PG9wdGlvbj5kcmlmdF84eF9CXzJCPC9vcHRpb24+PG9wdGlvbj5kcmlmdF84eF9CXzRBPC9vcHRpb24+PG9wdGlvbj5kcmlmdF84eF9CXzRCPC9vcHRpb24+PG9wdGlvbj5kcmlmdF84eF9DXzJBPC9vcHRpb24+PG9wdGlvbj5kcmlmdF84eF9DXzJCPC9vcHRpb24+PG9wdGlvbj5kcmlmdF84eF9DXzRBPC9vcHRpb24+PG9wdGlvbj5kcmlmdF84eF9DXzRCPC9vcHRpb24+PC9zZWxlY3Q+'); console.log('test1');"
            ]
          },
          "metadata": {
            "tags": []
          }
        },
        {
          "output_type": "display_data",
          "data": {
            "text/plain": [
              "<IPython.core.display.Javascript object>"
            ],
            "application/javascript": [
              "document.getElementById('60bc127e-8964-4165-9680-409d25ac51aa').innerHTML=atob('PHNlbGVjdCBvbmNoYW5nZT0iZ29vZ2xlLmNvbGFiLmtlcm5lbC5pbnZva2VGdW5jdGlvbigmI3gyNztvbmNoYW5nZWNhbGxiYWNrLThkNDk3MmVlLThiYWEtNDY0MC1hNTc4LWE0OTkwYTcxMTZjOSYjeDI3OywgW10sIHt2YWx1ZTp0aGlzLnZhbHVlfSkiPjwvc2VsZWN0Pg=='); console.log('test1');"
            ]
          },
          "metadata": {
            "tags": []
          }
        },
        {
          "output_type": "display_data",
          "data": {
            "text/plain": [
              "<spikeforest.sfselectwidget.SFSelectWidget at 0x7f97a9d4f978>"
            ],
            "text/html": [
              "<div id=cc483013-f00e-4c10-bf77-d4066080ac6b><div><hr></hr><table><tr><td>Study **: </td><td><div id=6f2bffd1-442e-44f4-80c4-3ef9cba4b8db><select onchange=\"google.colab.kernel.invokeFunction(&#x27;onchangecallback-18e7555d-472b-452b-8019-72b674727b5f&#x27;, [], {value:this.value})\"><option selected=\"selected\">bionet_drift</option><option>bionet_shuffle</option><option>bionet_static</option><option>magland_synth_noise10_K10_C4</option><option>magland_synth_noise10_K10_C8</option><option>magland_synth_noise10_K20_C4</option><option>magland_synth_noise10_K20_C8</option><option>magland_synth_noise20_K10_C4</option><option>magland_synth_noise20_K10_C8</option><option>magland_synth_noise20_K20_C4</option><option>magland_synth_noise20_K20_C8</option></select></div></td></tr><tr><td>Recording: </td><td><div id=00216d45-252f-4312-abe5-1c6cf2ceceee><select onchange=\"google.colab.kernel.invokeFunction(&#x27;onchangecallback-8fd1d923-d012-426a-b031-855ee378aaba&#x27;, [], {value:this.value})\"><option selected=\"selected\">drift_8x_A_2A</option><option>drift_8x_A_2B</option><option>drift_8x_A_4A</option><option>drift_8x_A_4B</option><option>drift_8x_B_2A</option><option>drift_8x_B_2B</option><option>drift_8x_B_4A</option><option>drift_8x_B_4B</option><option>drift_8x_C_2A</option><option>drift_8x_C_2B</option><option>drift_8x_C_4A</option><option>drift_8x_C_4B</option></select></div></td></tr></table><hr></hr></div></div>"
            ]
          },
          "metadata": {
            "tags": []
          }
        }
      ]
    },
    {
      "metadata": {
        "id": "Do3-JNfVYFwn",
        "colab_type": "code",
        "colab": {}
      },
      "cell_type": "code",
      "source": [
        "C=RecordingControlWidget(sfdata=SF,recording=X.recording())\n",
        "display(C)"
      ],
      "execution_count": 0,
      "outputs": []
    }
  ]
}